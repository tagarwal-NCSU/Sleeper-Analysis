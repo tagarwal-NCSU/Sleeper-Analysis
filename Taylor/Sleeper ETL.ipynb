{
 "cells": [
  {
   "cell_type": "code",
   "execution_count": 11,
   "metadata": {},
   "outputs": [],
   "source": [
    "import requests\n",
    "import pandas as pd\n",
    "\n",
    "league_id = 781936337963036672\n",
    "\n",
    "URL = \"https://api.sleeper.app/v1/players/nfl\"\n",
    "response = requests.get(URL)\n",
    "player_dictionary = response.json()"
   ]
  },
  {
   "cell_type": "code",
   "execution_count": 18,
   "metadata": {},
   "outputs": [
    {
     "name": "stdout",
     "output_type": "stream",
     "text": [
      "https://api.sleeper.app/v1/league/781936337963036672/matchups/1\n"
     ]
    },
    {
     "data": {
      "text/plain": [
       "[]"
      ]
     },
     "execution_count": 18,
     "metadata": {},
     "output_type": "execute_result"
    }
   ],
   "source": [
    "# Get Matchups\n",
    "week = 1\n",
    "URL = f\"https://api.sleeper.app/v1/league/{league_id}/matchups/{week}\"\n",
    "print(URL)\n",
    "response = requests.get(URL)\n",
    "matchup = response.json()\n",
    "matchup"
   ]
  },
  {
   "cell_type": "code",
   "execution_count": null,
   "metadata": {},
   "outputs": [],
   "source": [
    "# #get league rosters\n",
    "# URL = league_URL + 'rosters'\n",
    "# response = requests.get(URL)\n",
    "# roster = response.json()\n",
    "# roster\n",
    "\n",
    "# #get users from the league\n",
    "# URL = 'https://api.sleeper.app/v1/league/781936337963036672/users'\n",
    "# response = requests.get(URL)\n",
    "# users = response.json()\n",
    "# users = pd.DataFrame(users)\n",
    "\n",
    "# #merge DF's using user/owner ids\n",
    "# rosterFull = users.merge(roster, how=\"inner\", left_on=\"user_id\", right_on = \"owner_id\")\n",
    "# rosterFull = rosterFull[[\"owner_id\", \"user_id\", \"players\", \"display_name\"]]\n",
    "\n",
    "# #get players in sleeper's database\n",
    "# URL = 'https://api.sleeper.app/v1/players/nfl'\n",
    "# response = requests.get(URL)\n",
    "# players = response.json()\n",
    "# players = pd.DataFrame(players)"
   ]
  }
 ],
 "metadata": {
  "kernelspec": {
   "display_name": "Python 3",
   "language": "python",
   "name": "python3"
  },
  "language_info": {
   "codemirror_mode": {
    "name": "ipython",
    "version": 3
   },
   "file_extension": ".py",
   "mimetype": "text/x-python",
   "name": "python",
   "nbconvert_exporter": "python",
   "pygments_lexer": "ipython3",
   "version": "3.8.5"
  }
 },
 "nbformat": 4,
 "nbformat_minor": 4
}
