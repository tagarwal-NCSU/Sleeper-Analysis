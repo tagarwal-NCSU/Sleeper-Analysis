{
 "cells": [
  {
   "cell_type": "code",
   "execution_count": 1,
   "metadata": {},
   "outputs": [],
   "source": [
    "import plotly.express as px\n",
    "import requests\n",
    "import pandas as pd\n",
    "import numpy as np"
   ]
  },
  {
   "cell_type": "code",
   "execution_count": 3,
   "metadata": {},
   "outputs": [
    {
     "data": {
      "text/html": [
       "<div>\n",
       "<style scoped>\n",
       "    .dataframe tbody tr th:only-of-type {\n",
       "        vertical-align: middle;\n",
       "    }\n",
       "\n",
       "    .dataframe tbody tr th {\n",
       "        vertical-align: top;\n",
       "    }\n",
       "\n",
       "    .dataframe thead th {\n",
       "        text-align: right;\n",
       "    }\n",
       "</style>\n",
       "<table border=\"1\" class=\"dataframe\">\n",
       "  <thead>\n",
       "    <tr style=\"text-align: right;\">\n",
       "      <th></th>\n",
       "      <th>Owner</th>\n",
       "      <th>Week</th>\n",
       "      <th>Player</th>\n",
       "      <th>player_id</th>\n",
       "      <th>age</th>\n",
       "      <th>position</th>\n",
       "      <th>gp</th>\n",
       "      <th>off_snp</th>\n",
       "      <th>tm_off_snp</th>\n",
       "      <th>pts_ppr</th>\n",
       "      <th>...</th>\n",
       "      <th>pass_td</th>\n",
       "      <th>sacks</th>\n",
       "      <th>fum_rec</th>\n",
       "      <th>int</th>\n",
       "      <th>def_td</th>\n",
       "      <th>yds_allow</th>\n",
       "      <th>pts_allow</th>\n",
       "      <th>blk_kick</th>\n",
       "      <th>fum</th>\n",
       "      <th>fum_lost</th>\n",
       "    </tr>\n",
       "  </thead>\n",
       "  <tbody>\n",
       "    <tr>\n",
       "      <th>0</th>\n",
       "      <td>keaton22</td>\n",
       "      <td>1</td>\n",
       "      <td>Cole Beasley</td>\n",
       "      <td>1144</td>\n",
       "      <td>32.0</td>\n",
       "      <td>WR</td>\n",
       "      <td>1.0</td>\n",
       "      <td>77.0</td>\n",
       "      <td>85.0</td>\n",
       "      <td>14.00</td>\n",
       "      <td>...</td>\n",
       "      <td>NaN</td>\n",
       "      <td>NaN</td>\n",
       "      <td>NaN</td>\n",
       "      <td>NaN</td>\n",
       "      <td>NaN</td>\n",
       "      <td>NaN</td>\n",
       "      <td>NaN</td>\n",
       "      <td>NaN</td>\n",
       "      <td>NaN</td>\n",
       "      <td>NaN</td>\n",
       "    </tr>\n",
       "    <tr>\n",
       "      <th>1</th>\n",
       "      <td>keaton22</td>\n",
       "      <td>1</td>\n",
       "      <td>Keenan Allen</td>\n",
       "      <td>1479</td>\n",
       "      <td>29.0</td>\n",
       "      <td>WR</td>\n",
       "      <td>1.0</td>\n",
       "      <td>67.0</td>\n",
       "      <td>81.0</td>\n",
       "      <td>18.00</td>\n",
       "      <td>...</td>\n",
       "      <td>NaN</td>\n",
       "      <td>NaN</td>\n",
       "      <td>NaN</td>\n",
       "      <td>NaN</td>\n",
       "      <td>NaN</td>\n",
       "      <td>NaN</td>\n",
       "      <td>NaN</td>\n",
       "      <td>NaN</td>\n",
       "      <td>1.0</td>\n",
       "      <td>NaN</td>\n",
       "    </tr>\n",
       "    <tr>\n",
       "      <th>2</th>\n",
       "      <td>keaton22</td>\n",
       "      <td>1</td>\n",
       "      <td>Devonta Freeman</td>\n",
       "      <td>2168</td>\n",
       "      <td>29.0</td>\n",
       "      <td>RB</td>\n",
       "      <td>NaN</td>\n",
       "      <td>NaN</td>\n",
       "      <td>NaN</td>\n",
       "      <td>NaN</td>\n",
       "      <td>...</td>\n",
       "      <td>NaN</td>\n",
       "      <td>NaN</td>\n",
       "      <td>NaN</td>\n",
       "      <td>NaN</td>\n",
       "      <td>NaN</td>\n",
       "      <td>NaN</td>\n",
       "      <td>NaN</td>\n",
       "      <td>NaN</td>\n",
       "      <td>NaN</td>\n",
       "      <td>NaN</td>\n",
       "    </tr>\n",
       "    <tr>\n",
       "      <th>3</th>\n",
       "      <td>keaton22</td>\n",
       "      <td>1</td>\n",
       "      <td>Melvin Gordon</td>\n",
       "      <td>2320</td>\n",
       "      <td>28.0</td>\n",
       "      <td>RB</td>\n",
       "      <td>1.0</td>\n",
       "      <td>33.0</td>\n",
       "      <td>66.0</td>\n",
       "      <td>20.80</td>\n",
       "      <td>...</td>\n",
       "      <td>NaN</td>\n",
       "      <td>NaN</td>\n",
       "      <td>NaN</td>\n",
       "      <td>NaN</td>\n",
       "      <td>NaN</td>\n",
       "      <td>NaN</td>\n",
       "      <td>NaN</td>\n",
       "      <td>NaN</td>\n",
       "      <td>NaN</td>\n",
       "      <td>NaN</td>\n",
       "    </tr>\n",
       "    <tr>\n",
       "      <th>4</th>\n",
       "      <td>keaton22</td>\n",
       "      <td>1</td>\n",
       "      <td>Dak Prescott</td>\n",
       "      <td>3294</td>\n",
       "      <td>28.0</td>\n",
       "      <td>QB</td>\n",
       "      <td>1.0</td>\n",
       "      <td>83.0</td>\n",
       "      <td>83.0</td>\n",
       "      <td>27.42</td>\n",
       "      <td>...</td>\n",
       "      <td>3.0</td>\n",
       "      <td>NaN</td>\n",
       "      <td>NaN</td>\n",
       "      <td>NaN</td>\n",
       "      <td>NaN</td>\n",
       "      <td>NaN</td>\n",
       "      <td>NaN</td>\n",
       "      <td>NaN</td>\n",
       "      <td>1.0</td>\n",
       "      <td>NaN</td>\n",
       "    </tr>\n",
       "    <tr>\n",
       "      <th>...</th>\n",
       "      <td>...</td>\n",
       "      <td>...</td>\n",
       "      <td>...</td>\n",
       "      <td>...</td>\n",
       "      <td>...</td>\n",
       "      <td>...</td>\n",
       "      <td>...</td>\n",
       "      <td>...</td>\n",
       "      <td>...</td>\n",
       "      <td>...</td>\n",
       "      <td>...</td>\n",
       "      <td>...</td>\n",
       "      <td>...</td>\n",
       "      <td>...</td>\n",
       "      <td>...</td>\n",
       "      <td>...</td>\n",
       "      <td>...</td>\n",
       "      <td>...</td>\n",
       "      <td>...</td>\n",
       "      <td>...</td>\n",
       "      <td>...</td>\n",
       "    </tr>\n",
       "    <tr>\n",
       "      <th>3275</th>\n",
       "      <td>KingDarsh</td>\n",
       "      <td>Season</td>\n",
       "      <td>Brandon Aiyuk</td>\n",
       "      <td>6803</td>\n",
       "      <td>23.0</td>\n",
       "      <td>WR</td>\n",
       "      <td>17.0</td>\n",
       "      <td>841.0</td>\n",
       "      <td>1021.0</td>\n",
       "      <td>168.30</td>\n",
       "      <td>...</td>\n",
       "      <td>NaN</td>\n",
       "      <td>NaN</td>\n",
       "      <td>NaN</td>\n",
       "      <td>NaN</td>\n",
       "      <td>NaN</td>\n",
       "      <td>NaN</td>\n",
       "      <td>NaN</td>\n",
       "      <td>NaN</td>\n",
       "      <td>2.0</td>\n",
       "      <td>1.0</td>\n",
       "    </tr>\n",
       "    <tr>\n",
       "      <th>3276</th>\n",
       "      <td>KingDarsh</td>\n",
       "      <td>Season</td>\n",
       "      <td>James Robinson</td>\n",
       "      <td>6955</td>\n",
       "      <td>23.0</td>\n",
       "      <td>RB</td>\n",
       "      <td>14.0</td>\n",
       "      <td>530.0</td>\n",
       "      <td>909.0</td>\n",
       "      <td>169.90</td>\n",
       "      <td>...</td>\n",
       "      <td>NaN</td>\n",
       "      <td>NaN</td>\n",
       "      <td>NaN</td>\n",
       "      <td>NaN</td>\n",
       "      <td>NaN</td>\n",
       "      <td>NaN</td>\n",
       "      <td>NaN</td>\n",
       "      <td>NaN</td>\n",
       "      <td>4.0</td>\n",
       "      <td>2.0</td>\n",
       "    </tr>\n",
       "    <tr>\n",
       "      <th>3277</th>\n",
       "      <td>KingDarsh</td>\n",
       "      <td>Season</td>\n",
       "      <td>Najee Harris</td>\n",
       "      <td>7528</td>\n",
       "      <td>23.0</td>\n",
       "      <td>RB</td>\n",
       "      <td>17.0</td>\n",
       "      <td>940.0</td>\n",
       "      <td>1097.0</td>\n",
       "      <td>300.70</td>\n",
       "      <td>...</td>\n",
       "      <td>NaN</td>\n",
       "      <td>NaN</td>\n",
       "      <td>NaN</td>\n",
       "      <td>NaN</td>\n",
       "      <td>NaN</td>\n",
       "      <td>NaN</td>\n",
       "      <td>NaN</td>\n",
       "      <td>NaN</td>\n",
       "      <td>NaN</td>\n",
       "      <td>NaN</td>\n",
       "    </tr>\n",
       "    <tr>\n",
       "      <th>3278</th>\n",
       "      <td>KingDarsh</td>\n",
       "      <td>Season</td>\n",
       "      <td>Buffalo Bills</td>\n",
       "      <td>BUF</td>\n",
       "      <td>NaN</td>\n",
       "      <td>DEF</td>\n",
       "      <td>17.0</td>\n",
       "      <td>NaN</td>\n",
       "      <td>NaN</td>\n",
       "      <td>157.00</td>\n",
       "      <td>...</td>\n",
       "      <td>NaN</td>\n",
       "      <td>NaN</td>\n",
       "      <td>8.0</td>\n",
       "      <td>19.0</td>\n",
       "      <td>1.0</td>\n",
       "      <td>4637.0</td>\n",
       "      <td>287.0</td>\n",
       "      <td>2.0</td>\n",
       "      <td>NaN</td>\n",
       "      <td>NaN</td>\n",
       "    </tr>\n",
       "    <tr>\n",
       "      <th>3279</th>\n",
       "      <td>KingDarsh</td>\n",
       "      <td>Season</td>\n",
       "      <td>Carolina Panthers</td>\n",
       "      <td>CAR</td>\n",
       "      <td>NaN</td>\n",
       "      <td>DEF</td>\n",
       "      <td>17.0</td>\n",
       "      <td>NaN</td>\n",
       "      <td>NaN</td>\n",
       "      <td>99.00</td>\n",
       "      <td>...</td>\n",
       "      <td>NaN</td>\n",
       "      <td>NaN</td>\n",
       "      <td>7.0</td>\n",
       "      <td>9.0</td>\n",
       "      <td>NaN</td>\n",
       "      <td>5201.0</td>\n",
       "      <td>390.0</td>\n",
       "      <td>1.0</td>\n",
       "      <td>NaN</td>\n",
       "      <td>NaN</td>\n",
       "    </tr>\n",
       "  </tbody>\n",
       "</table>\n",
       "<p>3280 rows × 40 columns</p>\n",
       "</div>"
      ],
      "text/plain": [
       "          Owner    Week             Player player_id   age position    gp  \\\n",
       "0      keaton22       1       Cole Beasley      1144  32.0       WR   1.0   \n",
       "1      keaton22       1       Keenan Allen      1479  29.0       WR   1.0   \n",
       "2      keaton22       1    Devonta Freeman      2168  29.0       RB   NaN   \n",
       "3      keaton22       1      Melvin Gordon      2320  28.0       RB   1.0   \n",
       "4      keaton22       1       Dak Prescott      3294  28.0       QB   1.0   \n",
       "...         ...     ...                ...       ...   ...      ...   ...   \n",
       "3275  KingDarsh  Season      Brandon Aiyuk      6803  23.0       WR  17.0   \n",
       "3276  KingDarsh  Season     James Robinson      6955  23.0       RB  14.0   \n",
       "3277  KingDarsh  Season       Najee Harris      7528  23.0       RB  17.0   \n",
       "3278  KingDarsh  Season      Buffalo Bills       BUF   NaN      DEF  17.0   \n",
       "3279  KingDarsh  Season  Carolina Panthers       CAR   NaN      DEF  17.0   \n",
       "\n",
       "      off_snp  tm_off_snp  pts_ppr  ...  pass_td  sacks  fum_rec   int  \\\n",
       "0        77.0        85.0    14.00  ...      NaN    NaN      NaN   NaN   \n",
       "1        67.0        81.0    18.00  ...      NaN    NaN      NaN   NaN   \n",
       "2         NaN         NaN      NaN  ...      NaN    NaN      NaN   NaN   \n",
       "3        33.0        66.0    20.80  ...      NaN    NaN      NaN   NaN   \n",
       "4        83.0        83.0    27.42  ...      3.0    NaN      NaN   NaN   \n",
       "...       ...         ...      ...  ...      ...    ...      ...   ...   \n",
       "3275    841.0      1021.0   168.30  ...      NaN    NaN      NaN   NaN   \n",
       "3276    530.0       909.0   169.90  ...      NaN    NaN      NaN   NaN   \n",
       "3277    940.0      1097.0   300.70  ...      NaN    NaN      NaN   NaN   \n",
       "3278      NaN         NaN   157.00  ...      NaN    NaN      8.0  19.0   \n",
       "3279      NaN         NaN    99.00  ...      NaN    NaN      7.0   9.0   \n",
       "\n",
       "      def_td  yds_allow  pts_allow  blk_kick  fum  fum_lost  \n",
       "0        NaN        NaN        NaN       NaN  NaN       NaN  \n",
       "1        NaN        NaN        NaN       NaN  1.0       NaN  \n",
       "2        NaN        NaN        NaN       NaN  NaN       NaN  \n",
       "3        NaN        NaN        NaN       NaN  NaN       NaN  \n",
       "4        NaN        NaN        NaN       NaN  1.0       NaN  \n",
       "...      ...        ...        ...       ...  ...       ...  \n",
       "3275     NaN        NaN        NaN       NaN  2.0       1.0  \n",
       "3276     NaN        NaN        NaN       NaN  4.0       2.0  \n",
       "3277     NaN        NaN        NaN       NaN  NaN       NaN  \n",
       "3278     1.0     4637.0      287.0       2.0  NaN       NaN  \n",
       "3279     NaN     5201.0      390.0       1.0  NaN       NaN  \n",
       "\n",
       "[3280 rows x 40 columns]"
      ]
     },
     "execution_count": 3,
     "metadata": {},
     "output_type": "execute_result"
    }
   ],
   "source": [
    "stats = pd.read_excel(\"SleeperData.xlsx\")\n",
    "stats"
   ]
  },
  {
   "cell_type": "markdown",
   "metadata": {},
   "source": [
    "# Avg Age by Position"
   ]
  },
  {
   "cell_type": "code",
   "execution_count": 40,
   "metadata": {},
   "outputs": [
    {
     "data": {
      "application/vnd.plotly.v1+json": {
       "config": {
        "plotlyServerURL": "https://plot.ly"
       },
       "data": [
        {
         "alignmentgroup": "True",
         "hovertemplate": "position=DEF<br>Owner=%{x}<br>age=%{y}<extra></extra>",
         "legendgroup": "DEF",
         "marker": {
          "color": "#636efa",
          "pattern": {
           "shape": ""
          }
         },
         "name": "DEF",
         "offsetgroup": "DEF",
         "orientation": "v",
         "showlegend": true,
         "textposition": "auto",
         "type": "bar",
         "x": [
          "Conner123",
          "KingDarsh",
          "Placejt",
          "adambloom",
          "chapelf",
          "ikei",
          "jfortkort5",
          "johale",
          "keaton22",
          "mullismc",
          "sammeroney",
          "vunosh"
         ],
         "xaxis": "x",
         "y": [
          null,
          null,
          null,
          null,
          null,
          null,
          null,
          null,
          null,
          null,
          null,
          null
         ],
         "yaxis": "y"
        },
        {
         "alignmentgroup": "True",
         "hovertemplate": "position=K<br>Owner=%{x}<br>age=%{y}<extra></extra>",
         "legendgroup": "K",
         "marker": {
          "color": "#EF553B",
          "pattern": {
           "shape": ""
          }
         },
         "name": "K",
         "offsetgroup": "K",
         "orientation": "v",
         "showlegend": true,
         "textposition": "auto",
         "type": "bar",
         "x": [
          "Conner123",
          "KingDarsh",
          "Placejt",
          "adambloom",
          "chapelf",
          "ikei",
          "jfortkort5",
          "johale",
          "keaton22",
          "mullismc",
          "sammeroney",
          "vunosh"
         ],
         "xaxis": "x",
         "y": [
          32,
          34,
          32.5,
          26,
          27,
          30,
          22,
          26,
          27,
          37,
          35,
          24
         ],
         "yaxis": "y"
        },
        {
         "alignmentgroup": "True",
         "hovertemplate": "position=QB<br>Owner=%{x}<br>age=%{y}<extra></extra>",
         "legendgroup": "QB",
         "marker": {
          "color": "#00cc96",
          "pattern": {
           "shape": ""
          }
         },
         "name": "QB",
         "offsetgroup": "QB",
         "orientation": "v",
         "showlegend": true,
         "textposition": "auto",
         "type": "bar",
         "x": [
          "Conner123",
          "KingDarsh",
          "Placejt",
          "adambloom",
          "chapelf",
          "ikei",
          "jfortkort5",
          "johale",
          "keaton22",
          "mullismc",
          "sammeroney",
          "vunosh"
         ],
         "xaxis": "x",
         "y": [
          44,
          23,
          24,
          28.5,
          28.5,
          33,
          28,
          25,
          28,
          30,
          35.5,
          22
         ],
         "yaxis": "y"
        },
        {
         "alignmentgroup": "True",
         "hovertemplate": "position=RB<br>Owner=%{x}<br>age=%{y}<extra></extra>",
         "legendgroup": "RB",
         "marker": {
          "color": "#ab63fa",
          "pattern": {
           "shape": ""
          }
         },
         "name": "RB",
         "offsetgroup": "RB",
         "orientation": "v",
         "showlegend": true,
         "textposition": "auto",
         "type": "bar",
         "x": [
          "Conner123",
          "KingDarsh",
          "Placejt",
          "adambloom",
          "chapelf",
          "ikei",
          "jfortkort5",
          "johale",
          "keaton22",
          "mullismc",
          "sammeroney",
          "vunosh"
         ],
         "xaxis": "x",
         "y": [
          24.4,
          26.5,
          26,
          24.166666666666668,
          25.2,
          26,
          26,
          25.2,
          27.571428571428573,
          23.75,
          27,
          24.333333333333332
         ],
         "yaxis": "y"
        },
        {
         "alignmentgroup": "True",
         "hovertemplate": "position=TE<br>Owner=%{x}<br>age=%{y}<extra></extra>",
         "legendgroup": "TE",
         "marker": {
          "color": "#FFA15A",
          "pattern": {
           "shape": ""
          }
         },
         "name": "TE",
         "offsetgroup": "TE",
         "orientation": "v",
         "showlegend": true,
         "textposition": "auto",
         "type": "bar",
         "x": [
          "Conner123",
          "KingDarsh",
          "Placejt",
          "adambloom",
          "chapelf",
          "ikei",
          "jfortkort5",
          "johale",
          "keaton22",
          "mullismc",
          "sammeroney",
          "vunosh"
         ],
         "xaxis": "x",
         "y": [
          27.333333333333332,
          28.666666666666668,
          25.5,
          25.5,
          25,
          25,
          27,
          27.5,
          26.5,
          27.666666666666668,
          26.5,
          29.5
         ],
         "yaxis": "y"
        },
        {
         "alignmentgroup": "True",
         "hovertemplate": "position=WR<br>Owner=%{x}<br>age=%{y}<extra></extra>",
         "legendgroup": "WR",
         "marker": {
          "color": "#19d3f3",
          "pattern": {
           "shape": ""
          }
         },
         "name": "WR",
         "offsetgroup": "WR",
         "orientation": "v",
         "showlegend": true,
         "textposition": "auto",
         "type": "bar",
         "x": [
          "Conner123",
          "KingDarsh",
          "Placejt",
          "adambloom",
          "chapelf",
          "ikei",
          "jfortkort5",
          "johale",
          "keaton22",
          "mullismc",
          "sammeroney",
          "vunosh"
         ],
         "xaxis": "x",
         "y": [
          24.75,
          24.8,
          27.125,
          26.333333333333332,
          27,
          24.666666666666668,
          26,
          26.8,
          28.2,
          27,
          25.8,
          27
         ],
         "yaxis": "y"
        }
       ],
       "layout": {
        "barmode": "group",
        "legend": {
         "title": {
          "text": "position"
         },
         "tracegroupgap": 0
        },
        "margin": {
         "t": 60
        },
        "template": {
         "data": {
          "bar": [
           {
            "error_x": {
             "color": "#2a3f5f"
            },
            "error_y": {
             "color": "#2a3f5f"
            },
            "marker": {
             "line": {
              "color": "#E5ECF6",
              "width": 0.5
             },
             "pattern": {
              "fillmode": "overlay",
              "size": 10,
              "solidity": 0.2
             }
            },
            "type": "bar"
           }
          ],
          "barpolar": [
           {
            "marker": {
             "line": {
              "color": "#E5ECF6",
              "width": 0.5
             },
             "pattern": {
              "fillmode": "overlay",
              "size": 10,
              "solidity": 0.2
             }
            },
            "type": "barpolar"
           }
          ],
          "carpet": [
           {
            "aaxis": {
             "endlinecolor": "#2a3f5f",
             "gridcolor": "white",
             "linecolor": "white",
             "minorgridcolor": "white",
             "startlinecolor": "#2a3f5f"
            },
            "baxis": {
             "endlinecolor": "#2a3f5f",
             "gridcolor": "white",
             "linecolor": "white",
             "minorgridcolor": "white",
             "startlinecolor": "#2a3f5f"
            },
            "type": "carpet"
           }
          ],
          "choropleth": [
           {
            "colorbar": {
             "outlinewidth": 0,
             "ticks": ""
            },
            "type": "choropleth"
           }
          ],
          "contour": [
           {
            "colorbar": {
             "outlinewidth": 0,
             "ticks": ""
            },
            "colorscale": [
             [
              0,
              "#0d0887"
             ],
             [
              0.1111111111111111,
              "#46039f"
             ],
             [
              0.2222222222222222,
              "#7201a8"
             ],
             [
              0.3333333333333333,
              "#9c179e"
             ],
             [
              0.4444444444444444,
              "#bd3786"
             ],
             [
              0.5555555555555556,
              "#d8576b"
             ],
             [
              0.6666666666666666,
              "#ed7953"
             ],
             [
              0.7777777777777778,
              "#fb9f3a"
             ],
             [
              0.8888888888888888,
              "#fdca26"
             ],
             [
              1,
              "#f0f921"
             ]
            ],
            "type": "contour"
           }
          ],
          "contourcarpet": [
           {
            "colorbar": {
             "outlinewidth": 0,
             "ticks": ""
            },
            "type": "contourcarpet"
           }
          ],
          "heatmap": [
           {
            "colorbar": {
             "outlinewidth": 0,
             "ticks": ""
            },
            "colorscale": [
             [
              0,
              "#0d0887"
             ],
             [
              0.1111111111111111,
              "#46039f"
             ],
             [
              0.2222222222222222,
              "#7201a8"
             ],
             [
              0.3333333333333333,
              "#9c179e"
             ],
             [
              0.4444444444444444,
              "#bd3786"
             ],
             [
              0.5555555555555556,
              "#d8576b"
             ],
             [
              0.6666666666666666,
              "#ed7953"
             ],
             [
              0.7777777777777778,
              "#fb9f3a"
             ],
             [
              0.8888888888888888,
              "#fdca26"
             ],
             [
              1,
              "#f0f921"
             ]
            ],
            "type": "heatmap"
           }
          ],
          "heatmapgl": [
           {
            "colorbar": {
             "outlinewidth": 0,
             "ticks": ""
            },
            "colorscale": [
             [
              0,
              "#0d0887"
             ],
             [
              0.1111111111111111,
              "#46039f"
             ],
             [
              0.2222222222222222,
              "#7201a8"
             ],
             [
              0.3333333333333333,
              "#9c179e"
             ],
             [
              0.4444444444444444,
              "#bd3786"
             ],
             [
              0.5555555555555556,
              "#d8576b"
             ],
             [
              0.6666666666666666,
              "#ed7953"
             ],
             [
              0.7777777777777778,
              "#fb9f3a"
             ],
             [
              0.8888888888888888,
              "#fdca26"
             ],
             [
              1,
              "#f0f921"
             ]
            ],
            "type": "heatmapgl"
           }
          ],
          "histogram": [
           {
            "marker": {
             "pattern": {
              "fillmode": "overlay",
              "size": 10,
              "solidity": 0.2
             }
            },
            "type": "histogram"
           }
          ],
          "histogram2d": [
           {
            "colorbar": {
             "outlinewidth": 0,
             "ticks": ""
            },
            "colorscale": [
             [
              0,
              "#0d0887"
             ],
             [
              0.1111111111111111,
              "#46039f"
             ],
             [
              0.2222222222222222,
              "#7201a8"
             ],
             [
              0.3333333333333333,
              "#9c179e"
             ],
             [
              0.4444444444444444,
              "#bd3786"
             ],
             [
              0.5555555555555556,
              "#d8576b"
             ],
             [
              0.6666666666666666,
              "#ed7953"
             ],
             [
              0.7777777777777778,
              "#fb9f3a"
             ],
             [
              0.8888888888888888,
              "#fdca26"
             ],
             [
              1,
              "#f0f921"
             ]
            ],
            "type": "histogram2d"
           }
          ],
          "histogram2dcontour": [
           {
            "colorbar": {
             "outlinewidth": 0,
             "ticks": ""
            },
            "colorscale": [
             [
              0,
              "#0d0887"
             ],
             [
              0.1111111111111111,
              "#46039f"
             ],
             [
              0.2222222222222222,
              "#7201a8"
             ],
             [
              0.3333333333333333,
              "#9c179e"
             ],
             [
              0.4444444444444444,
              "#bd3786"
             ],
             [
              0.5555555555555556,
              "#d8576b"
             ],
             [
              0.6666666666666666,
              "#ed7953"
             ],
             [
              0.7777777777777778,
              "#fb9f3a"
             ],
             [
              0.8888888888888888,
              "#fdca26"
             ],
             [
              1,
              "#f0f921"
             ]
            ],
            "type": "histogram2dcontour"
           }
          ],
          "mesh3d": [
           {
            "colorbar": {
             "outlinewidth": 0,
             "ticks": ""
            },
            "type": "mesh3d"
           }
          ],
          "parcoords": [
           {
            "line": {
             "colorbar": {
              "outlinewidth": 0,
              "ticks": ""
             }
            },
            "type": "parcoords"
           }
          ],
          "pie": [
           {
            "automargin": true,
            "type": "pie"
           }
          ],
          "scatter": [
           {
            "marker": {
             "colorbar": {
              "outlinewidth": 0,
              "ticks": ""
             }
            },
            "type": "scatter"
           }
          ],
          "scatter3d": [
           {
            "line": {
             "colorbar": {
              "outlinewidth": 0,
              "ticks": ""
             }
            },
            "marker": {
             "colorbar": {
              "outlinewidth": 0,
              "ticks": ""
             }
            },
            "type": "scatter3d"
           }
          ],
          "scattercarpet": [
           {
            "marker": {
             "colorbar": {
              "outlinewidth": 0,
              "ticks": ""
             }
            },
            "type": "scattercarpet"
           }
          ],
          "scattergeo": [
           {
            "marker": {
             "colorbar": {
              "outlinewidth": 0,
              "ticks": ""
             }
            },
            "type": "scattergeo"
           }
          ],
          "scattergl": [
           {
            "marker": {
             "colorbar": {
              "outlinewidth": 0,
              "ticks": ""
             }
            },
            "type": "scattergl"
           }
          ],
          "scattermapbox": [
           {
            "marker": {
             "colorbar": {
              "outlinewidth": 0,
              "ticks": ""
             }
            },
            "type": "scattermapbox"
           }
          ],
          "scatterpolar": [
           {
            "marker": {
             "colorbar": {
              "outlinewidth": 0,
              "ticks": ""
             }
            },
            "type": "scatterpolar"
           }
          ],
          "scatterpolargl": [
           {
            "marker": {
             "colorbar": {
              "outlinewidth": 0,
              "ticks": ""
             }
            },
            "type": "scatterpolargl"
           }
          ],
          "scatterternary": [
           {
            "marker": {
             "colorbar": {
              "outlinewidth": 0,
              "ticks": ""
             }
            },
            "type": "scatterternary"
           }
          ],
          "surface": [
           {
            "colorbar": {
             "outlinewidth": 0,
             "ticks": ""
            },
            "colorscale": [
             [
              0,
              "#0d0887"
             ],
             [
              0.1111111111111111,
              "#46039f"
             ],
             [
              0.2222222222222222,
              "#7201a8"
             ],
             [
              0.3333333333333333,
              "#9c179e"
             ],
             [
              0.4444444444444444,
              "#bd3786"
             ],
             [
              0.5555555555555556,
              "#d8576b"
             ],
             [
              0.6666666666666666,
              "#ed7953"
             ],
             [
              0.7777777777777778,
              "#fb9f3a"
             ],
             [
              0.8888888888888888,
              "#fdca26"
             ],
             [
              1,
              "#f0f921"
             ]
            ],
            "type": "surface"
           }
          ],
          "table": [
           {
            "cells": {
             "fill": {
              "color": "#EBF0F8"
             },
             "line": {
              "color": "white"
             }
            },
            "header": {
             "fill": {
              "color": "#C8D4E3"
             },
             "line": {
              "color": "white"
             }
            },
            "type": "table"
           }
          ]
         },
         "layout": {
          "annotationdefaults": {
           "arrowcolor": "#2a3f5f",
           "arrowhead": 0,
           "arrowwidth": 1
          },
          "autotypenumbers": "strict",
          "coloraxis": {
           "colorbar": {
            "outlinewidth": 0,
            "ticks": ""
           }
          },
          "colorscale": {
           "diverging": [
            [
             0,
             "#8e0152"
            ],
            [
             0.1,
             "#c51b7d"
            ],
            [
             0.2,
             "#de77ae"
            ],
            [
             0.3,
             "#f1b6da"
            ],
            [
             0.4,
             "#fde0ef"
            ],
            [
             0.5,
             "#f7f7f7"
            ],
            [
             0.6,
             "#e6f5d0"
            ],
            [
             0.7,
             "#b8e186"
            ],
            [
             0.8,
             "#7fbc41"
            ],
            [
             0.9,
             "#4d9221"
            ],
            [
             1,
             "#276419"
            ]
           ],
           "sequential": [
            [
             0,
             "#0d0887"
            ],
            [
             0.1111111111111111,
             "#46039f"
            ],
            [
             0.2222222222222222,
             "#7201a8"
            ],
            [
             0.3333333333333333,
             "#9c179e"
            ],
            [
             0.4444444444444444,
             "#bd3786"
            ],
            [
             0.5555555555555556,
             "#d8576b"
            ],
            [
             0.6666666666666666,
             "#ed7953"
            ],
            [
             0.7777777777777778,
             "#fb9f3a"
            ],
            [
             0.8888888888888888,
             "#fdca26"
            ],
            [
             1,
             "#f0f921"
            ]
           ],
           "sequentialminus": [
            [
             0,
             "#0d0887"
            ],
            [
             0.1111111111111111,
             "#46039f"
            ],
            [
             0.2222222222222222,
             "#7201a8"
            ],
            [
             0.3333333333333333,
             "#9c179e"
            ],
            [
             0.4444444444444444,
             "#bd3786"
            ],
            [
             0.5555555555555556,
             "#d8576b"
            ],
            [
             0.6666666666666666,
             "#ed7953"
            ],
            [
             0.7777777777777778,
             "#fb9f3a"
            ],
            [
             0.8888888888888888,
             "#fdca26"
            ],
            [
             1,
             "#f0f921"
            ]
           ]
          },
          "colorway": [
           "#636efa",
           "#EF553B",
           "#00cc96",
           "#ab63fa",
           "#FFA15A",
           "#19d3f3",
           "#FF6692",
           "#B6E880",
           "#FF97FF",
           "#FECB52"
          ],
          "font": {
           "color": "#2a3f5f"
          },
          "geo": {
           "bgcolor": "white",
           "lakecolor": "white",
           "landcolor": "#E5ECF6",
           "showlakes": true,
           "showland": true,
           "subunitcolor": "white"
          },
          "hoverlabel": {
           "align": "left"
          },
          "hovermode": "closest",
          "mapbox": {
           "style": "light"
          },
          "paper_bgcolor": "white",
          "plot_bgcolor": "#E5ECF6",
          "polar": {
           "angularaxis": {
            "gridcolor": "white",
            "linecolor": "white",
            "ticks": ""
           },
           "bgcolor": "#E5ECF6",
           "radialaxis": {
            "gridcolor": "white",
            "linecolor": "white",
            "ticks": ""
           }
          },
          "scene": {
           "xaxis": {
            "backgroundcolor": "#E5ECF6",
            "gridcolor": "white",
            "gridwidth": 2,
            "linecolor": "white",
            "showbackground": true,
            "ticks": "",
            "zerolinecolor": "white"
           },
           "yaxis": {
            "backgroundcolor": "#E5ECF6",
            "gridcolor": "white",
            "gridwidth": 2,
            "linecolor": "white",
            "showbackground": true,
            "ticks": "",
            "zerolinecolor": "white"
           },
           "zaxis": {
            "backgroundcolor": "#E5ECF6",
            "gridcolor": "white",
            "gridwidth": 2,
            "linecolor": "white",
            "showbackground": true,
            "ticks": "",
            "zerolinecolor": "white"
           }
          },
          "shapedefaults": {
           "line": {
            "color": "#2a3f5f"
           }
          },
          "ternary": {
           "aaxis": {
            "gridcolor": "white",
            "linecolor": "white",
            "ticks": ""
           },
           "baxis": {
            "gridcolor": "white",
            "linecolor": "white",
            "ticks": ""
           },
           "bgcolor": "#E5ECF6",
           "caxis": {
            "gridcolor": "white",
            "linecolor": "white",
            "ticks": ""
           }
          },
          "title": {
           "x": 0.05
          },
          "xaxis": {
           "automargin": true,
           "gridcolor": "white",
           "linecolor": "white",
           "ticks": "",
           "title": {
            "standoff": 15
           },
           "zerolinecolor": "white",
           "zerolinewidth": 2
          },
          "yaxis": {
           "automargin": true,
           "gridcolor": "white",
           "linecolor": "white",
           "ticks": "",
           "title": {
            "standoff": 15
           },
           "zerolinecolor": "white",
           "zerolinewidth": 2
          }
         }
        },
        "xaxis": {
         "anchor": "y",
         "categoryorder": "total ascending",
         "domain": [
          0,
          1
         ],
         "title": {
          "text": "Owner"
         }
        },
        "yaxis": {
         "anchor": "x",
         "domain": [
          0,
          1
         ],
         "title": {
          "text": "age"
         }
        }
       }
      },
      "text/html": [
       "<div>                            <div id=\"9607c912-5a8b-4531-8f87-9105b26c585a\" class=\"plotly-graph-div\" style=\"height:525px; width:100%;\"></div>            <script type=\"text/javascript\">                require([\"plotly\"], function(Plotly) {                    window.PLOTLYENV=window.PLOTLYENV || {};                                    if (document.getElementById(\"9607c912-5a8b-4531-8f87-9105b26c585a\")) {                    Plotly.newPlot(                        \"9607c912-5a8b-4531-8f87-9105b26c585a\",                        [{\"alignmentgroup\":\"True\",\"hovertemplate\":\"position=DEF<br>Owner=%{x}<br>age=%{y}<extra></extra>\",\"legendgroup\":\"DEF\",\"marker\":{\"color\":\"#636efa\",\"pattern\":{\"shape\":\"\"}},\"name\":\"DEF\",\"offsetgroup\":\"DEF\",\"orientation\":\"v\",\"showlegend\":true,\"textposition\":\"auto\",\"type\":\"bar\",\"x\":[\"Conner123\",\"KingDarsh\",\"Placejt\",\"adambloom\",\"chapelf\",\"ikei\",\"jfortkort5\",\"johale\",\"keaton22\",\"mullismc\",\"sammeroney\",\"vunosh\"],\"xaxis\":\"x\",\"y\":[null,null,null,null,null,null,null,null,null,null,null,null],\"yaxis\":\"y\"},{\"alignmentgroup\":\"True\",\"hovertemplate\":\"position=K<br>Owner=%{x}<br>age=%{y}<extra></extra>\",\"legendgroup\":\"K\",\"marker\":{\"color\":\"#EF553B\",\"pattern\":{\"shape\":\"\"}},\"name\":\"K\",\"offsetgroup\":\"K\",\"orientation\":\"v\",\"showlegend\":true,\"textposition\":\"auto\",\"type\":\"bar\",\"x\":[\"Conner123\",\"KingDarsh\",\"Placejt\",\"adambloom\",\"chapelf\",\"ikei\",\"jfortkort5\",\"johale\",\"keaton22\",\"mullismc\",\"sammeroney\",\"vunosh\"],\"xaxis\":\"x\",\"y\":[32.0,34.0,32.5,26.0,27.0,30.0,22.0,26.0,27.0,37.0,35.0,24.0],\"yaxis\":\"y\"},{\"alignmentgroup\":\"True\",\"hovertemplate\":\"position=QB<br>Owner=%{x}<br>age=%{y}<extra></extra>\",\"legendgroup\":\"QB\",\"marker\":{\"color\":\"#00cc96\",\"pattern\":{\"shape\":\"\"}},\"name\":\"QB\",\"offsetgroup\":\"QB\",\"orientation\":\"v\",\"showlegend\":true,\"textposition\":\"auto\",\"type\":\"bar\",\"x\":[\"Conner123\",\"KingDarsh\",\"Placejt\",\"adambloom\",\"chapelf\",\"ikei\",\"jfortkort5\",\"johale\",\"keaton22\",\"mullismc\",\"sammeroney\",\"vunosh\"],\"xaxis\":\"x\",\"y\":[44.0,23.0,24.0,28.5,28.5,33.0,28.0,25.0,28.0,30.0,35.5,22.0],\"yaxis\":\"y\"},{\"alignmentgroup\":\"True\",\"hovertemplate\":\"position=RB<br>Owner=%{x}<br>age=%{y}<extra></extra>\",\"legendgroup\":\"RB\",\"marker\":{\"color\":\"#ab63fa\",\"pattern\":{\"shape\":\"\"}},\"name\":\"RB\",\"offsetgroup\":\"RB\",\"orientation\":\"v\",\"showlegend\":true,\"textposition\":\"auto\",\"type\":\"bar\",\"x\":[\"Conner123\",\"KingDarsh\",\"Placejt\",\"adambloom\",\"chapelf\",\"ikei\",\"jfortkort5\",\"johale\",\"keaton22\",\"mullismc\",\"sammeroney\",\"vunosh\"],\"xaxis\":\"x\",\"y\":[24.4,26.5,26.0,24.166666666666668,25.2,26.0,26.0,25.2,27.571428571428573,23.75,27.0,24.333333333333332],\"yaxis\":\"y\"},{\"alignmentgroup\":\"True\",\"hovertemplate\":\"position=TE<br>Owner=%{x}<br>age=%{y}<extra></extra>\",\"legendgroup\":\"TE\",\"marker\":{\"color\":\"#FFA15A\",\"pattern\":{\"shape\":\"\"}},\"name\":\"TE\",\"offsetgroup\":\"TE\",\"orientation\":\"v\",\"showlegend\":true,\"textposition\":\"auto\",\"type\":\"bar\",\"x\":[\"Conner123\",\"KingDarsh\",\"Placejt\",\"adambloom\",\"chapelf\",\"ikei\",\"jfortkort5\",\"johale\",\"keaton22\",\"mullismc\",\"sammeroney\",\"vunosh\"],\"xaxis\":\"x\",\"y\":[27.333333333333332,28.666666666666668,25.5,25.5,25.0,25.0,27.0,27.5,26.5,27.666666666666668,26.5,29.5],\"yaxis\":\"y\"},{\"alignmentgroup\":\"True\",\"hovertemplate\":\"position=WR<br>Owner=%{x}<br>age=%{y}<extra></extra>\",\"legendgroup\":\"WR\",\"marker\":{\"color\":\"#19d3f3\",\"pattern\":{\"shape\":\"\"}},\"name\":\"WR\",\"offsetgroup\":\"WR\",\"orientation\":\"v\",\"showlegend\":true,\"textposition\":\"auto\",\"type\":\"bar\",\"x\":[\"Conner123\",\"KingDarsh\",\"Placejt\",\"adambloom\",\"chapelf\",\"ikei\",\"jfortkort5\",\"johale\",\"keaton22\",\"mullismc\",\"sammeroney\",\"vunosh\"],\"xaxis\":\"x\",\"y\":[24.75,24.8,27.125,26.333333333333332,27.0,24.666666666666668,26.0,26.8,28.2,27.0,25.8,27.0],\"yaxis\":\"y\"}],                        {\"barmode\":\"group\",\"legend\":{\"title\":{\"text\":\"position\"},\"tracegroupgap\":0},\"margin\":{\"t\":60},\"template\":{\"data\":{\"bar\":[{\"error_x\":{\"color\":\"#2a3f5f\"},\"error_y\":{\"color\":\"#2a3f5f\"},\"marker\":{\"line\":{\"color\":\"#E5ECF6\",\"width\":0.5},\"pattern\":{\"fillmode\":\"overlay\",\"size\":10,\"solidity\":0.2}},\"type\":\"bar\"}],\"barpolar\":[{\"marker\":{\"line\":{\"color\":\"#E5ECF6\",\"width\":0.5},\"pattern\":{\"fillmode\":\"overlay\",\"size\":10,\"solidity\":0.2}},\"type\":\"barpolar\"}],\"carpet\":[{\"aaxis\":{\"endlinecolor\":\"#2a3f5f\",\"gridcolor\":\"white\",\"linecolor\":\"white\",\"minorgridcolor\":\"white\",\"startlinecolor\":\"#2a3f5f\"},\"baxis\":{\"endlinecolor\":\"#2a3f5f\",\"gridcolor\":\"white\",\"linecolor\":\"white\",\"minorgridcolor\":\"white\",\"startlinecolor\":\"#2a3f5f\"},\"type\":\"carpet\"}],\"choropleth\":[{\"colorbar\":{\"outlinewidth\":0,\"ticks\":\"\"},\"type\":\"choropleth\"}],\"contour\":[{\"colorbar\":{\"outlinewidth\":0,\"ticks\":\"\"},\"colorscale\":[[0.0,\"#0d0887\"],[0.1111111111111111,\"#46039f\"],[0.2222222222222222,\"#7201a8\"],[0.3333333333333333,\"#9c179e\"],[0.4444444444444444,\"#bd3786\"],[0.5555555555555556,\"#d8576b\"],[0.6666666666666666,\"#ed7953\"],[0.7777777777777778,\"#fb9f3a\"],[0.8888888888888888,\"#fdca26\"],[1.0,\"#f0f921\"]],\"type\":\"contour\"}],\"contourcarpet\":[{\"colorbar\":{\"outlinewidth\":0,\"ticks\":\"\"},\"type\":\"contourcarpet\"}],\"heatmap\":[{\"colorbar\":{\"outlinewidth\":0,\"ticks\":\"\"},\"colorscale\":[[0.0,\"#0d0887\"],[0.1111111111111111,\"#46039f\"],[0.2222222222222222,\"#7201a8\"],[0.3333333333333333,\"#9c179e\"],[0.4444444444444444,\"#bd3786\"],[0.5555555555555556,\"#d8576b\"],[0.6666666666666666,\"#ed7953\"],[0.7777777777777778,\"#fb9f3a\"],[0.8888888888888888,\"#fdca26\"],[1.0,\"#f0f921\"]],\"type\":\"heatmap\"}],\"heatmapgl\":[{\"colorbar\":{\"outlinewidth\":0,\"ticks\":\"\"},\"colorscale\":[[0.0,\"#0d0887\"],[0.1111111111111111,\"#46039f\"],[0.2222222222222222,\"#7201a8\"],[0.3333333333333333,\"#9c179e\"],[0.4444444444444444,\"#bd3786\"],[0.5555555555555556,\"#d8576b\"],[0.6666666666666666,\"#ed7953\"],[0.7777777777777778,\"#fb9f3a\"],[0.8888888888888888,\"#fdca26\"],[1.0,\"#f0f921\"]],\"type\":\"heatmapgl\"}],\"histogram\":[{\"marker\":{\"pattern\":{\"fillmode\":\"overlay\",\"size\":10,\"solidity\":0.2}},\"type\":\"histogram\"}],\"histogram2d\":[{\"colorbar\":{\"outlinewidth\":0,\"ticks\":\"\"},\"colorscale\":[[0.0,\"#0d0887\"],[0.1111111111111111,\"#46039f\"],[0.2222222222222222,\"#7201a8\"],[0.3333333333333333,\"#9c179e\"],[0.4444444444444444,\"#bd3786\"],[0.5555555555555556,\"#d8576b\"],[0.6666666666666666,\"#ed7953\"],[0.7777777777777778,\"#fb9f3a\"],[0.8888888888888888,\"#fdca26\"],[1.0,\"#f0f921\"]],\"type\":\"histogram2d\"}],\"histogram2dcontour\":[{\"colorbar\":{\"outlinewidth\":0,\"ticks\":\"\"},\"colorscale\":[[0.0,\"#0d0887\"],[0.1111111111111111,\"#46039f\"],[0.2222222222222222,\"#7201a8\"],[0.3333333333333333,\"#9c179e\"],[0.4444444444444444,\"#bd3786\"],[0.5555555555555556,\"#d8576b\"],[0.6666666666666666,\"#ed7953\"],[0.7777777777777778,\"#fb9f3a\"],[0.8888888888888888,\"#fdca26\"],[1.0,\"#f0f921\"]],\"type\":\"histogram2dcontour\"}],\"mesh3d\":[{\"colorbar\":{\"outlinewidth\":0,\"ticks\":\"\"},\"type\":\"mesh3d\"}],\"parcoords\":[{\"line\":{\"colorbar\":{\"outlinewidth\":0,\"ticks\":\"\"}},\"type\":\"parcoords\"}],\"pie\":[{\"automargin\":true,\"type\":\"pie\"}],\"scatter\":[{\"marker\":{\"colorbar\":{\"outlinewidth\":0,\"ticks\":\"\"}},\"type\":\"scatter\"}],\"scatter3d\":[{\"line\":{\"colorbar\":{\"outlinewidth\":0,\"ticks\":\"\"}},\"marker\":{\"colorbar\":{\"outlinewidth\":0,\"ticks\":\"\"}},\"type\":\"scatter3d\"}],\"scattercarpet\":[{\"marker\":{\"colorbar\":{\"outlinewidth\":0,\"ticks\":\"\"}},\"type\":\"scattercarpet\"}],\"scattergeo\":[{\"marker\":{\"colorbar\":{\"outlinewidth\":0,\"ticks\":\"\"}},\"type\":\"scattergeo\"}],\"scattergl\":[{\"marker\":{\"colorbar\":{\"outlinewidth\":0,\"ticks\":\"\"}},\"type\":\"scattergl\"}],\"scattermapbox\":[{\"marker\":{\"colorbar\":{\"outlinewidth\":0,\"ticks\":\"\"}},\"type\":\"scattermapbox\"}],\"scatterpolar\":[{\"marker\":{\"colorbar\":{\"outlinewidth\":0,\"ticks\":\"\"}},\"type\":\"scatterpolar\"}],\"scatterpolargl\":[{\"marker\":{\"colorbar\":{\"outlinewidth\":0,\"ticks\":\"\"}},\"type\":\"scatterpolargl\"}],\"scatterternary\":[{\"marker\":{\"colorbar\":{\"outlinewidth\":0,\"ticks\":\"\"}},\"type\":\"scatterternary\"}],\"surface\":[{\"colorbar\":{\"outlinewidth\":0,\"ticks\":\"\"},\"colorscale\":[[0.0,\"#0d0887\"],[0.1111111111111111,\"#46039f\"],[0.2222222222222222,\"#7201a8\"],[0.3333333333333333,\"#9c179e\"],[0.4444444444444444,\"#bd3786\"],[0.5555555555555556,\"#d8576b\"],[0.6666666666666666,\"#ed7953\"],[0.7777777777777778,\"#fb9f3a\"],[0.8888888888888888,\"#fdca26\"],[1.0,\"#f0f921\"]],\"type\":\"surface\"}],\"table\":[{\"cells\":{\"fill\":{\"color\":\"#EBF0F8\"},\"line\":{\"color\":\"white\"}},\"header\":{\"fill\":{\"color\":\"#C8D4E3\"},\"line\":{\"color\":\"white\"}},\"type\":\"table\"}]},\"layout\":{\"annotationdefaults\":{\"arrowcolor\":\"#2a3f5f\",\"arrowhead\":0,\"arrowwidth\":1},\"autotypenumbers\":\"strict\",\"coloraxis\":{\"colorbar\":{\"outlinewidth\":0,\"ticks\":\"\"}},\"colorscale\":{\"diverging\":[[0,\"#8e0152\"],[0.1,\"#c51b7d\"],[0.2,\"#de77ae\"],[0.3,\"#f1b6da\"],[0.4,\"#fde0ef\"],[0.5,\"#f7f7f7\"],[0.6,\"#e6f5d0\"],[0.7,\"#b8e186\"],[0.8,\"#7fbc41\"],[0.9,\"#4d9221\"],[1,\"#276419\"]],\"sequential\":[[0.0,\"#0d0887\"],[0.1111111111111111,\"#46039f\"],[0.2222222222222222,\"#7201a8\"],[0.3333333333333333,\"#9c179e\"],[0.4444444444444444,\"#bd3786\"],[0.5555555555555556,\"#d8576b\"],[0.6666666666666666,\"#ed7953\"],[0.7777777777777778,\"#fb9f3a\"],[0.8888888888888888,\"#fdca26\"],[1.0,\"#f0f921\"]],\"sequentialminus\":[[0.0,\"#0d0887\"],[0.1111111111111111,\"#46039f\"],[0.2222222222222222,\"#7201a8\"],[0.3333333333333333,\"#9c179e\"],[0.4444444444444444,\"#bd3786\"],[0.5555555555555556,\"#d8576b\"],[0.6666666666666666,\"#ed7953\"],[0.7777777777777778,\"#fb9f3a\"],[0.8888888888888888,\"#fdca26\"],[1.0,\"#f0f921\"]]},\"colorway\":[\"#636efa\",\"#EF553B\",\"#00cc96\",\"#ab63fa\",\"#FFA15A\",\"#19d3f3\",\"#FF6692\",\"#B6E880\",\"#FF97FF\",\"#FECB52\"],\"font\":{\"color\":\"#2a3f5f\"},\"geo\":{\"bgcolor\":\"white\",\"lakecolor\":\"white\",\"landcolor\":\"#E5ECF6\",\"showlakes\":true,\"showland\":true,\"subunitcolor\":\"white\"},\"hoverlabel\":{\"align\":\"left\"},\"hovermode\":\"closest\",\"mapbox\":{\"style\":\"light\"},\"paper_bgcolor\":\"white\",\"plot_bgcolor\":\"#E5ECF6\",\"polar\":{\"angularaxis\":{\"gridcolor\":\"white\",\"linecolor\":\"white\",\"ticks\":\"\"},\"bgcolor\":\"#E5ECF6\",\"radialaxis\":{\"gridcolor\":\"white\",\"linecolor\":\"white\",\"ticks\":\"\"}},\"scene\":{\"xaxis\":{\"backgroundcolor\":\"#E5ECF6\",\"gridcolor\":\"white\",\"gridwidth\":2,\"linecolor\":\"white\",\"showbackground\":true,\"ticks\":\"\",\"zerolinecolor\":\"white\"},\"yaxis\":{\"backgroundcolor\":\"#E5ECF6\",\"gridcolor\":\"white\",\"gridwidth\":2,\"linecolor\":\"white\",\"showbackground\":true,\"ticks\":\"\",\"zerolinecolor\":\"white\"},\"zaxis\":{\"backgroundcolor\":\"#E5ECF6\",\"gridcolor\":\"white\",\"gridwidth\":2,\"linecolor\":\"white\",\"showbackground\":true,\"ticks\":\"\",\"zerolinecolor\":\"white\"}},\"shapedefaults\":{\"line\":{\"color\":\"#2a3f5f\"}},\"ternary\":{\"aaxis\":{\"gridcolor\":\"white\",\"linecolor\":\"white\",\"ticks\":\"\"},\"baxis\":{\"gridcolor\":\"white\",\"linecolor\":\"white\",\"ticks\":\"\"},\"bgcolor\":\"#E5ECF6\",\"caxis\":{\"gridcolor\":\"white\",\"linecolor\":\"white\",\"ticks\":\"\"}},\"title\":{\"x\":0.05},\"xaxis\":{\"automargin\":true,\"gridcolor\":\"white\",\"linecolor\":\"white\",\"ticks\":\"\",\"title\":{\"standoff\":15},\"zerolinecolor\":\"white\",\"zerolinewidth\":2},\"yaxis\":{\"automargin\":true,\"gridcolor\":\"white\",\"linecolor\":\"white\",\"ticks\":\"\",\"title\":{\"standoff\":15},\"zerolinecolor\":\"white\",\"zerolinewidth\":2}}},\"xaxis\":{\"anchor\":\"y\",\"categoryorder\":\"total ascending\",\"domain\":[0.0,1.0],\"title\":{\"text\":\"Owner\"}},\"yaxis\":{\"anchor\":\"x\",\"domain\":[0.0,1.0],\"title\":{\"text\":\"age\"}}},                        {\"responsive\": true}                    ).then(function(){\n",
       "                            \n",
       "var gd = document.getElementById('9607c912-5a8b-4531-8f87-9105b26c585a');\n",
       "var x = new MutationObserver(function (mutations, observer) {{\n",
       "        var display = window.getComputedStyle(gd).display;\n",
       "        if (!display || display === 'none') {{\n",
       "            console.log([gd, 'removed!']);\n",
       "            Plotly.purge(gd);\n",
       "            observer.disconnect();\n",
       "        }}\n",
       "}});\n",
       "\n",
       "// Listen for the removal of the full notebook cells\n",
       "var notebookContainer = gd.closest('#notebook-container');\n",
       "if (notebookContainer) {{\n",
       "    x.observe(notebookContainer, {childList: true});\n",
       "}}\n",
       "\n",
       "// Listen for the clearing of the current output cell\n",
       "var outputEl = gd.closest('.output');\n",
       "if (outputEl) {{\n",
       "    x.observe(outputEl, {childList: true});\n",
       "}}\n",
       "\n",
       "                        })                };                });            </script>        </div>"
      ]
     },
     "metadata": {},
     "output_type": "display_data"
    }
   ],
   "source": [
    "age2 = stats[stats[\"Week\"] == \"Season\"][[\"Owner\", \"age\", \"position\", \"Week\"]]\n",
    "age2 = age2.groupby([\"Owner\", \"position\"]).agg({\"age\":np.mean})\n",
    "age2 = age2.reset_index()\n",
    "fig = px.bar(age2, y = \"age\", x = \"Owner\", color = \"position\", barmode = \"group\")\n",
    "fig.update_layout(xaxis={'categoryorder':'total ascending'})\n",
    "fig.show()"
   ]
  },
  {
   "cell_type": "markdown",
   "metadata": {},
   "source": [
    "# Avg Team Age"
   ]
  },
  {
   "cell_type": "code",
   "execution_count": 39,
   "metadata": {},
   "outputs": [
    {
     "data": {
      "application/vnd.plotly.v1+json": {
       "config": {
        "plotlyServerURL": "https://plot.ly"
       },
       "data": [
        {
         "alignmentgroup": "True",
         "hovertemplate": "age=%{x}<br>Owner=%{y}<extra></extra>",
         "legendgroup": "",
         "marker": {
          "color": "#636efa",
          "pattern": {
           "shape": ""
          }
         },
         "name": "",
         "offsetgroup": "",
         "orientation": "h",
         "showlegend": false,
         "textposition": "auto",
         "type": "bar",
         "x": [
          27.071428571428573,
          26.642857142857142,
          27.055555555555557,
          25.705882352941178,
          26.466666666666665,
          25.875,
          26.058823529411764,
          26.066666666666666,
          27.625,
          27.133333333333333,
          28.2,
          25.4
         ],
         "xaxis": "x",
         "y": [
          "Conner123",
          "KingDarsh",
          "Placejt",
          "adambloom",
          "chapelf",
          "ikei",
          "jfortkort5",
          "johale",
          "keaton22",
          "mullismc",
          "sammeroney",
          "vunosh"
         ],
         "yaxis": "y"
        }
       ],
       "layout": {
        "barmode": "relative",
        "legend": {
         "tracegroupgap": 0
        },
        "margin": {
         "t": 60
        },
        "shapes": [
         {
          "type": "line",
          "x0": 26.59893048128342,
          "x1": 26.59893048128342,
          "xref": "x",
          "y0": 0,
          "y1": 1,
          "yref": "y domain"
         }
        ],
        "template": {
         "data": {
          "bar": [
           {
            "error_x": {
             "color": "#2a3f5f"
            },
            "error_y": {
             "color": "#2a3f5f"
            },
            "marker": {
             "line": {
              "color": "#E5ECF6",
              "width": 0.5
             },
             "pattern": {
              "fillmode": "overlay",
              "size": 10,
              "solidity": 0.2
             }
            },
            "type": "bar"
           }
          ],
          "barpolar": [
           {
            "marker": {
             "line": {
              "color": "#E5ECF6",
              "width": 0.5
             },
             "pattern": {
              "fillmode": "overlay",
              "size": 10,
              "solidity": 0.2
             }
            },
            "type": "barpolar"
           }
          ],
          "carpet": [
           {
            "aaxis": {
             "endlinecolor": "#2a3f5f",
             "gridcolor": "white",
             "linecolor": "white",
             "minorgridcolor": "white",
             "startlinecolor": "#2a3f5f"
            },
            "baxis": {
             "endlinecolor": "#2a3f5f",
             "gridcolor": "white",
             "linecolor": "white",
             "minorgridcolor": "white",
             "startlinecolor": "#2a3f5f"
            },
            "type": "carpet"
           }
          ],
          "choropleth": [
           {
            "colorbar": {
             "outlinewidth": 0,
             "ticks": ""
            },
            "type": "choropleth"
           }
          ],
          "contour": [
           {
            "colorbar": {
             "outlinewidth": 0,
             "ticks": ""
            },
            "colorscale": [
             [
              0,
              "#0d0887"
             ],
             [
              0.1111111111111111,
              "#46039f"
             ],
             [
              0.2222222222222222,
              "#7201a8"
             ],
             [
              0.3333333333333333,
              "#9c179e"
             ],
             [
              0.4444444444444444,
              "#bd3786"
             ],
             [
              0.5555555555555556,
              "#d8576b"
             ],
             [
              0.6666666666666666,
              "#ed7953"
             ],
             [
              0.7777777777777778,
              "#fb9f3a"
             ],
             [
              0.8888888888888888,
              "#fdca26"
             ],
             [
              1,
              "#f0f921"
             ]
            ],
            "type": "contour"
           }
          ],
          "contourcarpet": [
           {
            "colorbar": {
             "outlinewidth": 0,
             "ticks": ""
            },
            "type": "contourcarpet"
           }
          ],
          "heatmap": [
           {
            "colorbar": {
             "outlinewidth": 0,
             "ticks": ""
            },
            "colorscale": [
             [
              0,
              "#0d0887"
             ],
             [
              0.1111111111111111,
              "#46039f"
             ],
             [
              0.2222222222222222,
              "#7201a8"
             ],
             [
              0.3333333333333333,
              "#9c179e"
             ],
             [
              0.4444444444444444,
              "#bd3786"
             ],
             [
              0.5555555555555556,
              "#d8576b"
             ],
             [
              0.6666666666666666,
              "#ed7953"
             ],
             [
              0.7777777777777778,
              "#fb9f3a"
             ],
             [
              0.8888888888888888,
              "#fdca26"
             ],
             [
              1,
              "#f0f921"
             ]
            ],
            "type": "heatmap"
           }
          ],
          "heatmapgl": [
           {
            "colorbar": {
             "outlinewidth": 0,
             "ticks": ""
            },
            "colorscale": [
             [
              0,
              "#0d0887"
             ],
             [
              0.1111111111111111,
              "#46039f"
             ],
             [
              0.2222222222222222,
              "#7201a8"
             ],
             [
              0.3333333333333333,
              "#9c179e"
             ],
             [
              0.4444444444444444,
              "#bd3786"
             ],
             [
              0.5555555555555556,
              "#d8576b"
             ],
             [
              0.6666666666666666,
              "#ed7953"
             ],
             [
              0.7777777777777778,
              "#fb9f3a"
             ],
             [
              0.8888888888888888,
              "#fdca26"
             ],
             [
              1,
              "#f0f921"
             ]
            ],
            "type": "heatmapgl"
           }
          ],
          "histogram": [
           {
            "marker": {
             "pattern": {
              "fillmode": "overlay",
              "size": 10,
              "solidity": 0.2
             }
            },
            "type": "histogram"
           }
          ],
          "histogram2d": [
           {
            "colorbar": {
             "outlinewidth": 0,
             "ticks": ""
            },
            "colorscale": [
             [
              0,
              "#0d0887"
             ],
             [
              0.1111111111111111,
              "#46039f"
             ],
             [
              0.2222222222222222,
              "#7201a8"
             ],
             [
              0.3333333333333333,
              "#9c179e"
             ],
             [
              0.4444444444444444,
              "#bd3786"
             ],
             [
              0.5555555555555556,
              "#d8576b"
             ],
             [
              0.6666666666666666,
              "#ed7953"
             ],
             [
              0.7777777777777778,
              "#fb9f3a"
             ],
             [
              0.8888888888888888,
              "#fdca26"
             ],
             [
              1,
              "#f0f921"
             ]
            ],
            "type": "histogram2d"
           }
          ],
          "histogram2dcontour": [
           {
            "colorbar": {
             "outlinewidth": 0,
             "ticks": ""
            },
            "colorscale": [
             [
              0,
              "#0d0887"
             ],
             [
              0.1111111111111111,
              "#46039f"
             ],
             [
              0.2222222222222222,
              "#7201a8"
             ],
             [
              0.3333333333333333,
              "#9c179e"
             ],
             [
              0.4444444444444444,
              "#bd3786"
             ],
             [
              0.5555555555555556,
              "#d8576b"
             ],
             [
              0.6666666666666666,
              "#ed7953"
             ],
             [
              0.7777777777777778,
              "#fb9f3a"
             ],
             [
              0.8888888888888888,
              "#fdca26"
             ],
             [
              1,
              "#f0f921"
             ]
            ],
            "type": "histogram2dcontour"
           }
          ],
          "mesh3d": [
           {
            "colorbar": {
             "outlinewidth": 0,
             "ticks": ""
            },
            "type": "mesh3d"
           }
          ],
          "parcoords": [
           {
            "line": {
             "colorbar": {
              "outlinewidth": 0,
              "ticks": ""
             }
            },
            "type": "parcoords"
           }
          ],
          "pie": [
           {
            "automargin": true,
            "type": "pie"
           }
          ],
          "scatter": [
           {
            "marker": {
             "colorbar": {
              "outlinewidth": 0,
              "ticks": ""
             }
            },
            "type": "scatter"
           }
          ],
          "scatter3d": [
           {
            "line": {
             "colorbar": {
              "outlinewidth": 0,
              "ticks": ""
             }
            },
            "marker": {
             "colorbar": {
              "outlinewidth": 0,
              "ticks": ""
             }
            },
            "type": "scatter3d"
           }
          ],
          "scattercarpet": [
           {
            "marker": {
             "colorbar": {
              "outlinewidth": 0,
              "ticks": ""
             }
            },
            "type": "scattercarpet"
           }
          ],
          "scattergeo": [
           {
            "marker": {
             "colorbar": {
              "outlinewidth": 0,
              "ticks": ""
             }
            },
            "type": "scattergeo"
           }
          ],
          "scattergl": [
           {
            "marker": {
             "colorbar": {
              "outlinewidth": 0,
              "ticks": ""
             }
            },
            "type": "scattergl"
           }
          ],
          "scattermapbox": [
           {
            "marker": {
             "colorbar": {
              "outlinewidth": 0,
              "ticks": ""
             }
            },
            "type": "scattermapbox"
           }
          ],
          "scatterpolar": [
           {
            "marker": {
             "colorbar": {
              "outlinewidth": 0,
              "ticks": ""
             }
            },
            "type": "scatterpolar"
           }
          ],
          "scatterpolargl": [
           {
            "marker": {
             "colorbar": {
              "outlinewidth": 0,
              "ticks": ""
             }
            },
            "type": "scatterpolargl"
           }
          ],
          "scatterternary": [
           {
            "marker": {
             "colorbar": {
              "outlinewidth": 0,
              "ticks": ""
             }
            },
            "type": "scatterternary"
           }
          ],
          "surface": [
           {
            "colorbar": {
             "outlinewidth": 0,
             "ticks": ""
            },
            "colorscale": [
             [
              0,
              "#0d0887"
             ],
             [
              0.1111111111111111,
              "#46039f"
             ],
             [
              0.2222222222222222,
              "#7201a8"
             ],
             [
              0.3333333333333333,
              "#9c179e"
             ],
             [
              0.4444444444444444,
              "#bd3786"
             ],
             [
              0.5555555555555556,
              "#d8576b"
             ],
             [
              0.6666666666666666,
              "#ed7953"
             ],
             [
              0.7777777777777778,
              "#fb9f3a"
             ],
             [
              0.8888888888888888,
              "#fdca26"
             ],
             [
              1,
              "#f0f921"
             ]
            ],
            "type": "surface"
           }
          ],
          "table": [
           {
            "cells": {
             "fill": {
              "color": "#EBF0F8"
             },
             "line": {
              "color": "white"
             }
            },
            "header": {
             "fill": {
              "color": "#C8D4E3"
             },
             "line": {
              "color": "white"
             }
            },
            "type": "table"
           }
          ]
         },
         "layout": {
          "annotationdefaults": {
           "arrowcolor": "#2a3f5f",
           "arrowhead": 0,
           "arrowwidth": 1
          },
          "autotypenumbers": "strict",
          "coloraxis": {
           "colorbar": {
            "outlinewidth": 0,
            "ticks": ""
           }
          },
          "colorscale": {
           "diverging": [
            [
             0,
             "#8e0152"
            ],
            [
             0.1,
             "#c51b7d"
            ],
            [
             0.2,
             "#de77ae"
            ],
            [
             0.3,
             "#f1b6da"
            ],
            [
             0.4,
             "#fde0ef"
            ],
            [
             0.5,
             "#f7f7f7"
            ],
            [
             0.6,
             "#e6f5d0"
            ],
            [
             0.7,
             "#b8e186"
            ],
            [
             0.8,
             "#7fbc41"
            ],
            [
             0.9,
             "#4d9221"
            ],
            [
             1,
             "#276419"
            ]
           ],
           "sequential": [
            [
             0,
             "#0d0887"
            ],
            [
             0.1111111111111111,
             "#46039f"
            ],
            [
             0.2222222222222222,
             "#7201a8"
            ],
            [
             0.3333333333333333,
             "#9c179e"
            ],
            [
             0.4444444444444444,
             "#bd3786"
            ],
            [
             0.5555555555555556,
             "#d8576b"
            ],
            [
             0.6666666666666666,
             "#ed7953"
            ],
            [
             0.7777777777777778,
             "#fb9f3a"
            ],
            [
             0.8888888888888888,
             "#fdca26"
            ],
            [
             1,
             "#f0f921"
            ]
           ],
           "sequentialminus": [
            [
             0,
             "#0d0887"
            ],
            [
             0.1111111111111111,
             "#46039f"
            ],
            [
             0.2222222222222222,
             "#7201a8"
            ],
            [
             0.3333333333333333,
             "#9c179e"
            ],
            [
             0.4444444444444444,
             "#bd3786"
            ],
            [
             0.5555555555555556,
             "#d8576b"
            ],
            [
             0.6666666666666666,
             "#ed7953"
            ],
            [
             0.7777777777777778,
             "#fb9f3a"
            ],
            [
             0.8888888888888888,
             "#fdca26"
            ],
            [
             1,
             "#f0f921"
            ]
           ]
          },
          "colorway": [
           "#636efa",
           "#EF553B",
           "#00cc96",
           "#ab63fa",
           "#FFA15A",
           "#19d3f3",
           "#FF6692",
           "#B6E880",
           "#FF97FF",
           "#FECB52"
          ],
          "font": {
           "color": "#2a3f5f"
          },
          "geo": {
           "bgcolor": "white",
           "lakecolor": "white",
           "landcolor": "#E5ECF6",
           "showlakes": true,
           "showland": true,
           "subunitcolor": "white"
          },
          "hoverlabel": {
           "align": "left"
          },
          "hovermode": "closest",
          "mapbox": {
           "style": "light"
          },
          "paper_bgcolor": "white",
          "plot_bgcolor": "#E5ECF6",
          "polar": {
           "angularaxis": {
            "gridcolor": "white",
            "linecolor": "white",
            "ticks": ""
           },
           "bgcolor": "#E5ECF6",
           "radialaxis": {
            "gridcolor": "white",
            "linecolor": "white",
            "ticks": ""
           }
          },
          "scene": {
           "xaxis": {
            "backgroundcolor": "#E5ECF6",
            "gridcolor": "white",
            "gridwidth": 2,
            "linecolor": "white",
            "showbackground": true,
            "ticks": "",
            "zerolinecolor": "white"
           },
           "yaxis": {
            "backgroundcolor": "#E5ECF6",
            "gridcolor": "white",
            "gridwidth": 2,
            "linecolor": "white",
            "showbackground": true,
            "ticks": "",
            "zerolinecolor": "white"
           },
           "zaxis": {
            "backgroundcolor": "#E5ECF6",
            "gridcolor": "white",
            "gridwidth": 2,
            "linecolor": "white",
            "showbackground": true,
            "ticks": "",
            "zerolinecolor": "white"
           }
          },
          "shapedefaults": {
           "line": {
            "color": "#2a3f5f"
           }
          },
          "ternary": {
           "aaxis": {
            "gridcolor": "white",
            "linecolor": "white",
            "ticks": ""
           },
           "baxis": {
            "gridcolor": "white",
            "linecolor": "white",
            "ticks": ""
           },
           "bgcolor": "#E5ECF6",
           "caxis": {
            "gridcolor": "white",
            "linecolor": "white",
            "ticks": ""
           }
          },
          "title": {
           "x": 0.05
          },
          "xaxis": {
           "automargin": true,
           "gridcolor": "white",
           "linecolor": "white",
           "ticks": "",
           "title": {
            "standoff": 15
           },
           "zerolinecolor": "white",
           "zerolinewidth": 2
          },
          "yaxis": {
           "automargin": true,
           "gridcolor": "white",
           "linecolor": "white",
           "ticks": "",
           "title": {
            "standoff": 15
           },
           "zerolinecolor": "white",
           "zerolinewidth": 2
          }
         }
        },
        "xaxis": {
         "anchor": "y",
         "domain": [
          0,
          1
         ],
         "range": [
          18,
          30
         ],
         "title": {
          "text": "age"
         }
        },
        "yaxis": {
         "anchor": "x",
         "categoryorder": "total ascending",
         "domain": [
          0,
          1
         ],
         "title": {
          "text": "Owner"
         }
        }
       }
      },
      "text/html": [
       "<div>                            <div id=\"734af281-597e-4a36-b2fe-98efc22520fd\" class=\"plotly-graph-div\" style=\"height:525px; width:100%;\"></div>            <script type=\"text/javascript\">                require([\"plotly\"], function(Plotly) {                    window.PLOTLYENV=window.PLOTLYENV || {};                                    if (document.getElementById(\"734af281-597e-4a36-b2fe-98efc22520fd\")) {                    Plotly.newPlot(                        \"734af281-597e-4a36-b2fe-98efc22520fd\",                        [{\"alignmentgroup\":\"True\",\"hovertemplate\":\"age=%{x}<br>Owner=%{y}<extra></extra>\",\"legendgroup\":\"\",\"marker\":{\"color\":\"#636efa\",\"pattern\":{\"shape\":\"\"}},\"name\":\"\",\"offsetgroup\":\"\",\"orientation\":\"h\",\"showlegend\":false,\"textposition\":\"auto\",\"type\":\"bar\",\"x\":[27.071428571428573,26.642857142857142,27.055555555555557,25.705882352941178,26.466666666666665,25.875,26.058823529411764,26.066666666666666,27.625,27.133333333333333,28.2,25.4],\"xaxis\":\"x\",\"y\":[\"Conner123\",\"KingDarsh\",\"Placejt\",\"adambloom\",\"chapelf\",\"ikei\",\"jfortkort5\",\"johale\",\"keaton22\",\"mullismc\",\"sammeroney\",\"vunosh\"],\"yaxis\":\"y\"}],                        {\"barmode\":\"relative\",\"legend\":{\"tracegroupgap\":0},\"margin\":{\"t\":60},\"shapes\":[{\"type\":\"line\",\"x0\":26.59893048128342,\"x1\":26.59893048128342,\"xref\":\"x\",\"y0\":0,\"y1\":1,\"yref\":\"y domain\"}],\"template\":{\"data\":{\"bar\":[{\"error_x\":{\"color\":\"#2a3f5f\"},\"error_y\":{\"color\":\"#2a3f5f\"},\"marker\":{\"line\":{\"color\":\"#E5ECF6\",\"width\":0.5},\"pattern\":{\"fillmode\":\"overlay\",\"size\":10,\"solidity\":0.2}},\"type\":\"bar\"}],\"barpolar\":[{\"marker\":{\"line\":{\"color\":\"#E5ECF6\",\"width\":0.5},\"pattern\":{\"fillmode\":\"overlay\",\"size\":10,\"solidity\":0.2}},\"type\":\"barpolar\"}],\"carpet\":[{\"aaxis\":{\"endlinecolor\":\"#2a3f5f\",\"gridcolor\":\"white\",\"linecolor\":\"white\",\"minorgridcolor\":\"white\",\"startlinecolor\":\"#2a3f5f\"},\"baxis\":{\"endlinecolor\":\"#2a3f5f\",\"gridcolor\":\"white\",\"linecolor\":\"white\",\"minorgridcolor\":\"white\",\"startlinecolor\":\"#2a3f5f\"},\"type\":\"carpet\"}],\"choropleth\":[{\"colorbar\":{\"outlinewidth\":0,\"ticks\":\"\"},\"type\":\"choropleth\"}],\"contour\":[{\"colorbar\":{\"outlinewidth\":0,\"ticks\":\"\"},\"colorscale\":[[0.0,\"#0d0887\"],[0.1111111111111111,\"#46039f\"],[0.2222222222222222,\"#7201a8\"],[0.3333333333333333,\"#9c179e\"],[0.4444444444444444,\"#bd3786\"],[0.5555555555555556,\"#d8576b\"],[0.6666666666666666,\"#ed7953\"],[0.7777777777777778,\"#fb9f3a\"],[0.8888888888888888,\"#fdca26\"],[1.0,\"#f0f921\"]],\"type\":\"contour\"}],\"contourcarpet\":[{\"colorbar\":{\"outlinewidth\":0,\"ticks\":\"\"},\"type\":\"contourcarpet\"}],\"heatmap\":[{\"colorbar\":{\"outlinewidth\":0,\"ticks\":\"\"},\"colorscale\":[[0.0,\"#0d0887\"],[0.1111111111111111,\"#46039f\"],[0.2222222222222222,\"#7201a8\"],[0.3333333333333333,\"#9c179e\"],[0.4444444444444444,\"#bd3786\"],[0.5555555555555556,\"#d8576b\"],[0.6666666666666666,\"#ed7953\"],[0.7777777777777778,\"#fb9f3a\"],[0.8888888888888888,\"#fdca26\"],[1.0,\"#f0f921\"]],\"type\":\"heatmap\"}],\"heatmapgl\":[{\"colorbar\":{\"outlinewidth\":0,\"ticks\":\"\"},\"colorscale\":[[0.0,\"#0d0887\"],[0.1111111111111111,\"#46039f\"],[0.2222222222222222,\"#7201a8\"],[0.3333333333333333,\"#9c179e\"],[0.4444444444444444,\"#bd3786\"],[0.5555555555555556,\"#d8576b\"],[0.6666666666666666,\"#ed7953\"],[0.7777777777777778,\"#fb9f3a\"],[0.8888888888888888,\"#fdca26\"],[1.0,\"#f0f921\"]],\"type\":\"heatmapgl\"}],\"histogram\":[{\"marker\":{\"pattern\":{\"fillmode\":\"overlay\",\"size\":10,\"solidity\":0.2}},\"type\":\"histogram\"}],\"histogram2d\":[{\"colorbar\":{\"outlinewidth\":0,\"ticks\":\"\"},\"colorscale\":[[0.0,\"#0d0887\"],[0.1111111111111111,\"#46039f\"],[0.2222222222222222,\"#7201a8\"],[0.3333333333333333,\"#9c179e\"],[0.4444444444444444,\"#bd3786\"],[0.5555555555555556,\"#d8576b\"],[0.6666666666666666,\"#ed7953\"],[0.7777777777777778,\"#fb9f3a\"],[0.8888888888888888,\"#fdca26\"],[1.0,\"#f0f921\"]],\"type\":\"histogram2d\"}],\"histogram2dcontour\":[{\"colorbar\":{\"outlinewidth\":0,\"ticks\":\"\"},\"colorscale\":[[0.0,\"#0d0887\"],[0.1111111111111111,\"#46039f\"],[0.2222222222222222,\"#7201a8\"],[0.3333333333333333,\"#9c179e\"],[0.4444444444444444,\"#bd3786\"],[0.5555555555555556,\"#d8576b\"],[0.6666666666666666,\"#ed7953\"],[0.7777777777777778,\"#fb9f3a\"],[0.8888888888888888,\"#fdca26\"],[1.0,\"#f0f921\"]],\"type\":\"histogram2dcontour\"}],\"mesh3d\":[{\"colorbar\":{\"outlinewidth\":0,\"ticks\":\"\"},\"type\":\"mesh3d\"}],\"parcoords\":[{\"line\":{\"colorbar\":{\"outlinewidth\":0,\"ticks\":\"\"}},\"type\":\"parcoords\"}],\"pie\":[{\"automargin\":true,\"type\":\"pie\"}],\"scatter\":[{\"marker\":{\"colorbar\":{\"outlinewidth\":0,\"ticks\":\"\"}},\"type\":\"scatter\"}],\"scatter3d\":[{\"line\":{\"colorbar\":{\"outlinewidth\":0,\"ticks\":\"\"}},\"marker\":{\"colorbar\":{\"outlinewidth\":0,\"ticks\":\"\"}},\"type\":\"scatter3d\"}],\"scattercarpet\":[{\"marker\":{\"colorbar\":{\"outlinewidth\":0,\"ticks\":\"\"}},\"type\":\"scattercarpet\"}],\"scattergeo\":[{\"marker\":{\"colorbar\":{\"outlinewidth\":0,\"ticks\":\"\"}},\"type\":\"scattergeo\"}],\"scattergl\":[{\"marker\":{\"colorbar\":{\"outlinewidth\":0,\"ticks\":\"\"}},\"type\":\"scattergl\"}],\"scattermapbox\":[{\"marker\":{\"colorbar\":{\"outlinewidth\":0,\"ticks\":\"\"}},\"type\":\"scattermapbox\"}],\"scatterpolar\":[{\"marker\":{\"colorbar\":{\"outlinewidth\":0,\"ticks\":\"\"}},\"type\":\"scatterpolar\"}],\"scatterpolargl\":[{\"marker\":{\"colorbar\":{\"outlinewidth\":0,\"ticks\":\"\"}},\"type\":\"scatterpolargl\"}],\"scatterternary\":[{\"marker\":{\"colorbar\":{\"outlinewidth\":0,\"ticks\":\"\"}},\"type\":\"scatterternary\"}],\"surface\":[{\"colorbar\":{\"outlinewidth\":0,\"ticks\":\"\"},\"colorscale\":[[0.0,\"#0d0887\"],[0.1111111111111111,\"#46039f\"],[0.2222222222222222,\"#7201a8\"],[0.3333333333333333,\"#9c179e\"],[0.4444444444444444,\"#bd3786\"],[0.5555555555555556,\"#d8576b\"],[0.6666666666666666,\"#ed7953\"],[0.7777777777777778,\"#fb9f3a\"],[0.8888888888888888,\"#fdca26\"],[1.0,\"#f0f921\"]],\"type\":\"surface\"}],\"table\":[{\"cells\":{\"fill\":{\"color\":\"#EBF0F8\"},\"line\":{\"color\":\"white\"}},\"header\":{\"fill\":{\"color\":\"#C8D4E3\"},\"line\":{\"color\":\"white\"}},\"type\":\"table\"}]},\"layout\":{\"annotationdefaults\":{\"arrowcolor\":\"#2a3f5f\",\"arrowhead\":0,\"arrowwidth\":1},\"autotypenumbers\":\"strict\",\"coloraxis\":{\"colorbar\":{\"outlinewidth\":0,\"ticks\":\"\"}},\"colorscale\":{\"diverging\":[[0,\"#8e0152\"],[0.1,\"#c51b7d\"],[0.2,\"#de77ae\"],[0.3,\"#f1b6da\"],[0.4,\"#fde0ef\"],[0.5,\"#f7f7f7\"],[0.6,\"#e6f5d0\"],[0.7,\"#b8e186\"],[0.8,\"#7fbc41\"],[0.9,\"#4d9221\"],[1,\"#276419\"]],\"sequential\":[[0.0,\"#0d0887\"],[0.1111111111111111,\"#46039f\"],[0.2222222222222222,\"#7201a8\"],[0.3333333333333333,\"#9c179e\"],[0.4444444444444444,\"#bd3786\"],[0.5555555555555556,\"#d8576b\"],[0.6666666666666666,\"#ed7953\"],[0.7777777777777778,\"#fb9f3a\"],[0.8888888888888888,\"#fdca26\"],[1.0,\"#f0f921\"]],\"sequentialminus\":[[0.0,\"#0d0887\"],[0.1111111111111111,\"#46039f\"],[0.2222222222222222,\"#7201a8\"],[0.3333333333333333,\"#9c179e\"],[0.4444444444444444,\"#bd3786\"],[0.5555555555555556,\"#d8576b\"],[0.6666666666666666,\"#ed7953\"],[0.7777777777777778,\"#fb9f3a\"],[0.8888888888888888,\"#fdca26\"],[1.0,\"#f0f921\"]]},\"colorway\":[\"#636efa\",\"#EF553B\",\"#00cc96\",\"#ab63fa\",\"#FFA15A\",\"#19d3f3\",\"#FF6692\",\"#B6E880\",\"#FF97FF\",\"#FECB52\"],\"font\":{\"color\":\"#2a3f5f\"},\"geo\":{\"bgcolor\":\"white\",\"lakecolor\":\"white\",\"landcolor\":\"#E5ECF6\",\"showlakes\":true,\"showland\":true,\"subunitcolor\":\"white\"},\"hoverlabel\":{\"align\":\"left\"},\"hovermode\":\"closest\",\"mapbox\":{\"style\":\"light\"},\"paper_bgcolor\":\"white\",\"plot_bgcolor\":\"#E5ECF6\",\"polar\":{\"angularaxis\":{\"gridcolor\":\"white\",\"linecolor\":\"white\",\"ticks\":\"\"},\"bgcolor\":\"#E5ECF6\",\"radialaxis\":{\"gridcolor\":\"white\",\"linecolor\":\"white\",\"ticks\":\"\"}},\"scene\":{\"xaxis\":{\"backgroundcolor\":\"#E5ECF6\",\"gridcolor\":\"white\",\"gridwidth\":2,\"linecolor\":\"white\",\"showbackground\":true,\"ticks\":\"\",\"zerolinecolor\":\"white\"},\"yaxis\":{\"backgroundcolor\":\"#E5ECF6\",\"gridcolor\":\"white\",\"gridwidth\":2,\"linecolor\":\"white\",\"showbackground\":true,\"ticks\":\"\",\"zerolinecolor\":\"white\"},\"zaxis\":{\"backgroundcolor\":\"#E5ECF6\",\"gridcolor\":\"white\",\"gridwidth\":2,\"linecolor\":\"white\",\"showbackground\":true,\"ticks\":\"\",\"zerolinecolor\":\"white\"}},\"shapedefaults\":{\"line\":{\"color\":\"#2a3f5f\"}},\"ternary\":{\"aaxis\":{\"gridcolor\":\"white\",\"linecolor\":\"white\",\"ticks\":\"\"},\"baxis\":{\"gridcolor\":\"white\",\"linecolor\":\"white\",\"ticks\":\"\"},\"bgcolor\":\"#E5ECF6\",\"caxis\":{\"gridcolor\":\"white\",\"linecolor\":\"white\",\"ticks\":\"\"}},\"title\":{\"x\":0.05},\"xaxis\":{\"automargin\":true,\"gridcolor\":\"white\",\"linecolor\":\"white\",\"ticks\":\"\",\"title\":{\"standoff\":15},\"zerolinecolor\":\"white\",\"zerolinewidth\":2},\"yaxis\":{\"automargin\":true,\"gridcolor\":\"white\",\"linecolor\":\"white\",\"ticks\":\"\",\"title\":{\"standoff\":15},\"zerolinecolor\":\"white\",\"zerolinewidth\":2}}},\"xaxis\":{\"anchor\":\"y\",\"domain\":[0.0,1.0],\"range\":[18,30],\"title\":{\"text\":\"age\"}},\"yaxis\":{\"anchor\":\"x\",\"categoryorder\":\"total ascending\",\"domain\":[0.0,1.0],\"title\":{\"text\":\"Owner\"}}},                        {\"responsive\": true}                    ).then(function(){\n",
       "                            \n",
       "var gd = document.getElementById('734af281-597e-4a36-b2fe-98efc22520fd');\n",
       "var x = new MutationObserver(function (mutations, observer) {{\n",
       "        var display = window.getComputedStyle(gd).display;\n",
       "        if (!display || display === 'none') {{\n",
       "            console.log([gd, 'removed!']);\n",
       "            Plotly.purge(gd);\n",
       "            observer.disconnect();\n",
       "        }}\n",
       "}});\n",
       "\n",
       "// Listen for the removal of the full notebook cells\n",
       "var notebookContainer = gd.closest('#notebook-container');\n",
       "if (notebookContainer) {{\n",
       "    x.observe(notebookContainer, {childList: true});\n",
       "}}\n",
       "\n",
       "// Listen for the clearing of the current output cell\n",
       "var outputEl = gd.closest('.output');\n",
       "if (outputEl) {{\n",
       "    x.observe(outputEl, {childList: true});\n",
       "}}\n",
       "\n",
       "                        })                };                });            </script>        </div>"
      ]
     },
     "metadata": {},
     "output_type": "display_data"
    }
   ],
   "source": [
    "avg_age = stats[stats[\"Week\"] == \"Season\"].age.mean()\n",
    "age = pd.DataFrame(stats[stats[\"Week\"] == \"Season\"].groupby(\"Owner\").agg({\"age\": np.mean}))\n",
    "fig = px.bar(age, x = \"age\")\n",
    "fig.add_vline(x=avg_age)\n",
    "fig.update_layout(yaxis={'categoryorder':'total ascending'})\n",
    "fig.update_xaxes(range = [18,30])\n",
    "fig.show()"
   ]
  },
  {
   "cell_type": "code",
   "execution_count": 5,
   "metadata": {},
   "outputs": [
    {
     "ename": "KeyError",
     "evalue": "'Week'",
     "output_type": "error",
     "traceback": [
      "\u001b[1;31m---------------------------------------------------------------------------\u001b[0m",
      "\u001b[1;31mKeyError\u001b[0m                                  Traceback (most recent call last)",
      "\u001b[1;32m~\\anaconda3\\lib\\site-packages\\pandas\\core\\indexes\\base.py\u001b[0m in \u001b[0;36mget_loc\u001b[1;34m(self, key, method, tolerance)\u001b[0m\n\u001b[0;32m   2894\u001b[0m             \u001b[1;32mtry\u001b[0m\u001b[1;33m:\u001b[0m\u001b[1;33m\u001b[0m\u001b[1;33m\u001b[0m\u001b[0m\n\u001b[1;32m-> 2895\u001b[1;33m                 \u001b[1;32mreturn\u001b[0m \u001b[0mself\u001b[0m\u001b[1;33m.\u001b[0m\u001b[0m_engine\u001b[0m\u001b[1;33m.\u001b[0m\u001b[0mget_loc\u001b[0m\u001b[1;33m(\u001b[0m\u001b[0mcasted_key\u001b[0m\u001b[1;33m)\u001b[0m\u001b[1;33m\u001b[0m\u001b[1;33m\u001b[0m\u001b[0m\n\u001b[0m\u001b[0;32m   2896\u001b[0m             \u001b[1;32mexcept\u001b[0m \u001b[0mKeyError\u001b[0m \u001b[1;32mas\u001b[0m \u001b[0merr\u001b[0m\u001b[1;33m:\u001b[0m\u001b[1;33m\u001b[0m\u001b[1;33m\u001b[0m\u001b[0m\n",
      "\u001b[1;32mpandas\\_libs\\index.pyx\u001b[0m in \u001b[0;36mpandas._libs.index.IndexEngine.get_loc\u001b[1;34m()\u001b[0m\n",
      "\u001b[1;32mpandas\\_libs\\index.pyx\u001b[0m in \u001b[0;36mpandas._libs.index.IndexEngine.get_loc\u001b[1;34m()\u001b[0m\n",
      "\u001b[1;32mpandas\\_libs\\hashtable_class_helper.pxi\u001b[0m in \u001b[0;36mpandas._libs.hashtable.PyObjectHashTable.get_item\u001b[1;34m()\u001b[0m\n",
      "\u001b[1;32mpandas\\_libs\\hashtable_class_helper.pxi\u001b[0m in \u001b[0;36mpandas._libs.hashtable.PyObjectHashTable.get_item\u001b[1;34m()\u001b[0m\n",
      "\u001b[1;31mKeyError\u001b[0m: 'Week'",
      "\nThe above exception was the direct cause of the following exception:\n",
      "\u001b[1;31mKeyError\u001b[0m                                  Traceback (most recent call last)",
      "\u001b[1;32m<ipython-input-5-e5ba2a57b2d4>\u001b[0m in \u001b[0;36m<module>\u001b[1;34m\u001b[0m\n\u001b[1;32m----> 1\u001b[1;33m \u001b[0mage2\u001b[0m\u001b[1;33m[\u001b[0m\u001b[1;34m'avg'\u001b[0m\u001b[1;33m]\u001b[0m \u001b[1;33m=\u001b[0m \u001b[0mage2\u001b[0m\u001b[1;33m[\u001b[0m\u001b[0mage2\u001b[0m\u001b[1;33m[\u001b[0m\u001b[1;34m\"Week\"\u001b[0m\u001b[1;33m]\u001b[0m \u001b[1;33m==\u001b[0m \u001b[1;34m\"Season\"\u001b[0m\u001b[1;33m]\u001b[0m\u001b[1;33m.\u001b[0m\u001b[0mgroupby\u001b[0m\u001b[1;33m(\u001b[0m\u001b[1;34m\"Owner\"\u001b[0m\u001b[1;33m)\u001b[0m\u001b[1;33m.\u001b[0m\u001b[0magg\u001b[0m\u001b[1;33m(\u001b[0m\u001b[1;33m{\u001b[0m\u001b[1;34m\"age\"\u001b[0m \u001b[1;33m:\u001b[0m \u001b[0mnp\u001b[0m\u001b[1;33m.\u001b[0m\u001b[0mmean\u001b[0m\u001b[1;33m}\u001b[0m\u001b[1;33m)\u001b[0m\u001b[1;33m\u001b[0m\u001b[1;33m\u001b[0m\u001b[0m\n\u001b[0m",
      "\u001b[1;32m~\\anaconda3\\lib\\site-packages\\pandas\\core\\frame.py\u001b[0m in \u001b[0;36m__getitem__\u001b[1;34m(self, key)\u001b[0m\n\u001b[0;32m   2900\u001b[0m             \u001b[1;32mif\u001b[0m \u001b[0mself\u001b[0m\u001b[1;33m.\u001b[0m\u001b[0mcolumns\u001b[0m\u001b[1;33m.\u001b[0m\u001b[0mnlevels\u001b[0m \u001b[1;33m>\u001b[0m \u001b[1;36m1\u001b[0m\u001b[1;33m:\u001b[0m\u001b[1;33m\u001b[0m\u001b[1;33m\u001b[0m\u001b[0m\n\u001b[0;32m   2901\u001b[0m                 \u001b[1;32mreturn\u001b[0m \u001b[0mself\u001b[0m\u001b[1;33m.\u001b[0m\u001b[0m_getitem_multilevel\u001b[0m\u001b[1;33m(\u001b[0m\u001b[0mkey\u001b[0m\u001b[1;33m)\u001b[0m\u001b[1;33m\u001b[0m\u001b[1;33m\u001b[0m\u001b[0m\n\u001b[1;32m-> 2902\u001b[1;33m             \u001b[0mindexer\u001b[0m \u001b[1;33m=\u001b[0m \u001b[0mself\u001b[0m\u001b[1;33m.\u001b[0m\u001b[0mcolumns\u001b[0m\u001b[1;33m.\u001b[0m\u001b[0mget_loc\u001b[0m\u001b[1;33m(\u001b[0m\u001b[0mkey\u001b[0m\u001b[1;33m)\u001b[0m\u001b[1;33m\u001b[0m\u001b[1;33m\u001b[0m\u001b[0m\n\u001b[0m\u001b[0;32m   2903\u001b[0m             \u001b[1;32mif\u001b[0m \u001b[0mis_integer\u001b[0m\u001b[1;33m(\u001b[0m\u001b[0mindexer\u001b[0m\u001b[1;33m)\u001b[0m\u001b[1;33m:\u001b[0m\u001b[1;33m\u001b[0m\u001b[1;33m\u001b[0m\u001b[0m\n\u001b[0;32m   2904\u001b[0m                 \u001b[0mindexer\u001b[0m \u001b[1;33m=\u001b[0m \u001b[1;33m[\u001b[0m\u001b[0mindexer\u001b[0m\u001b[1;33m]\u001b[0m\u001b[1;33m\u001b[0m\u001b[1;33m\u001b[0m\u001b[0m\n",
      "\u001b[1;32m~\\anaconda3\\lib\\site-packages\\pandas\\core\\indexes\\base.py\u001b[0m in \u001b[0;36mget_loc\u001b[1;34m(self, key, method, tolerance)\u001b[0m\n\u001b[0;32m   2895\u001b[0m                 \u001b[1;32mreturn\u001b[0m \u001b[0mself\u001b[0m\u001b[1;33m.\u001b[0m\u001b[0m_engine\u001b[0m\u001b[1;33m.\u001b[0m\u001b[0mget_loc\u001b[0m\u001b[1;33m(\u001b[0m\u001b[0mcasted_key\u001b[0m\u001b[1;33m)\u001b[0m\u001b[1;33m\u001b[0m\u001b[1;33m\u001b[0m\u001b[0m\n\u001b[0;32m   2896\u001b[0m             \u001b[1;32mexcept\u001b[0m \u001b[0mKeyError\u001b[0m \u001b[1;32mas\u001b[0m \u001b[0merr\u001b[0m\u001b[1;33m:\u001b[0m\u001b[1;33m\u001b[0m\u001b[1;33m\u001b[0m\u001b[0m\n\u001b[1;32m-> 2897\u001b[1;33m                 \u001b[1;32mraise\u001b[0m \u001b[0mKeyError\u001b[0m\u001b[1;33m(\u001b[0m\u001b[0mkey\u001b[0m\u001b[1;33m)\u001b[0m \u001b[1;32mfrom\u001b[0m \u001b[0merr\u001b[0m\u001b[1;33m\u001b[0m\u001b[1;33m\u001b[0m\u001b[0m\n\u001b[0m\u001b[0;32m   2898\u001b[0m \u001b[1;33m\u001b[0m\u001b[0m\n\u001b[0;32m   2899\u001b[0m         \u001b[1;32mif\u001b[0m \u001b[0mtolerance\u001b[0m \u001b[1;32mis\u001b[0m \u001b[1;32mnot\u001b[0m \u001b[1;32mNone\u001b[0m\u001b[1;33m:\u001b[0m\u001b[1;33m\u001b[0m\u001b[1;33m\u001b[0m\u001b[0m\n",
      "\u001b[1;31mKeyError\u001b[0m: 'Week'"
     ]
    }
   ],
   "source": [
    "age2['avg'] = age2[age2[\"Week\"] == \"Season\"].groupby(\"Owner\").agg({\"age\" : np.mean})\n"
   ]
  },
  {
   "cell_type": "code",
   "execution_count": 6,
   "metadata": {},
   "outputs": [
    {
     "data": {
      "text/html": [
       "<div>\n",
       "<style scoped>\n",
       "    .dataframe tbody tr th:only-of-type {\n",
       "        vertical-align: middle;\n",
       "    }\n",
       "\n",
       "    .dataframe tbody tr th {\n",
       "        vertical-align: top;\n",
       "    }\n",
       "\n",
       "    .dataframe thead th {\n",
       "        text-align: right;\n",
       "    }\n",
       "</style>\n",
       "<table border=\"1\" class=\"dataframe\">\n",
       "  <thead>\n",
       "    <tr style=\"text-align: right;\">\n",
       "      <th></th>\n",
       "      <th>age</th>\n",
       "    </tr>\n",
       "    <tr>\n",
       "      <th>Owner</th>\n",
       "      <th></th>\n",
       "    </tr>\n",
       "  </thead>\n",
       "  <tbody>\n",
       "    <tr>\n",
       "      <th>Conner123</th>\n",
       "      <td>27.071429</td>\n",
       "    </tr>\n",
       "    <tr>\n",
       "      <th>KingDarsh</th>\n",
       "      <td>26.642857</td>\n",
       "    </tr>\n",
       "    <tr>\n",
       "      <th>Placejt</th>\n",
       "      <td>27.055556</td>\n",
       "    </tr>\n",
       "    <tr>\n",
       "      <th>adambloom</th>\n",
       "      <td>25.705882</td>\n",
       "    </tr>\n",
       "    <tr>\n",
       "      <th>chapelf</th>\n",
       "      <td>26.466667</td>\n",
       "    </tr>\n",
       "    <tr>\n",
       "      <th>ikei</th>\n",
       "      <td>25.875000</td>\n",
       "    </tr>\n",
       "    <tr>\n",
       "      <th>jfortkort5</th>\n",
       "      <td>26.058824</td>\n",
       "    </tr>\n",
       "    <tr>\n",
       "      <th>johale</th>\n",
       "      <td>26.066667</td>\n",
       "    </tr>\n",
       "    <tr>\n",
       "      <th>keaton22</th>\n",
       "      <td>27.625000</td>\n",
       "    </tr>\n",
       "    <tr>\n",
       "      <th>mullismc</th>\n",
       "      <td>27.133333</td>\n",
       "    </tr>\n",
       "    <tr>\n",
       "      <th>sammeroney</th>\n",
       "      <td>28.200000</td>\n",
       "    </tr>\n",
       "    <tr>\n",
       "      <th>vunosh</th>\n",
       "      <td>25.400000</td>\n",
       "    </tr>\n",
       "  </tbody>\n",
       "</table>\n",
       "</div>"
      ],
      "text/plain": [
       "                  age\n",
       "Owner                \n",
       "Conner123   27.071429\n",
       "KingDarsh   26.642857\n",
       "Placejt     27.055556\n",
       "adambloom   25.705882\n",
       "chapelf     26.466667\n",
       "ikei        25.875000\n",
       "jfortkort5  26.058824\n",
       "johale      26.066667\n",
       "keaton22    27.625000\n",
       "mullismc    27.133333\n",
       "sammeroney  28.200000\n",
       "vunosh      25.400000"
      ]
     },
     "execution_count": 6,
     "metadata": {},
     "output_type": "execute_result"
    }
   ],
   "source": [
    "age = pd.DataFrame(stats[stats[\"Week\"] == \"Season\"].groupby(\"Owner\").agg({\"age\": np.mean}))\n",
    "age"
   ]
  },
  {
   "cell_type": "code",
   "execution_count": 7,
   "metadata": {},
   "outputs": [
    {
     "data": {
      "text/plain": [
       "['age']"
      ]
     },
     "execution_count": 7,
     "metadata": {},
     "output_type": "execute_result"
    }
   ],
   "source": [
    "list(age2.columns)"
   ]
  },
  {
   "cell_type": "code",
   "execution_count": 14,
   "metadata": {},
   "outputs": [
    {
     "data": {
      "text/html": [
       "<div>\n",
       "<style scoped>\n",
       "    .dataframe tbody tr th:only-of-type {\n",
       "        vertical-align: middle;\n",
       "    }\n",
       "\n",
       "    .dataframe tbody tr th {\n",
       "        vertical-align: top;\n",
       "    }\n",
       "\n",
       "    .dataframe thead th {\n",
       "        text-align: right;\n",
       "    }\n",
       "</style>\n",
       "<table border=\"1\" class=\"dataframe\">\n",
       "  <thead>\n",
       "    <tr style=\"text-align: right;\">\n",
       "      <th></th>\n",
       "      <th>age</th>\n",
       "    </tr>\n",
       "  </thead>\n",
       "  <tbody>\n",
       "    <tr>\n",
       "      <th>0</th>\n",
       "      <td>26.59893</td>\n",
       "    </tr>\n",
       "  </tbody>\n",
       "</table>\n",
       "</div>"
      ],
      "text/plain": [
       "        age\n",
       "0  26.59893"
      ]
     },
     "execution_count": 14,
     "metadata": {},
     "output_type": "execute_result"
    }
   ],
   "source": [
    "age"
   ]
  },
  {
   "cell_type": "code",
   "execution_count": 73,
   "metadata": {},
   "outputs": [
    {
     "ename": "TypeError",
     "evalue": "Data frame index is a pandas MultiIndex. pandas MultiIndex is not supported by plotly express at the moment.",
     "output_type": "error",
     "traceback": [
      "\u001b[1;31m---------------------------------------------------------------------------\u001b[0m",
      "\u001b[1;31mTypeError\u001b[0m                                 Traceback (most recent call last)",
      "\u001b[1;32m<ipython-input-73-3aad62773cd1>\u001b[0m in \u001b[0;36m<module>\u001b[1;34m\u001b[0m\n\u001b[1;32m----> 1\u001b[1;33m \u001b[0mfig\u001b[0m \u001b[1;33m=\u001b[0m \u001b[0mpx\u001b[0m\u001b[1;33m.\u001b[0m\u001b[0mbar\u001b[0m\u001b[1;33m(\u001b[0m\u001b[0mage2\u001b[0m\u001b[1;33m)\u001b[0m\u001b[1;33m\u001b[0m\u001b[1;33m\u001b[0m\u001b[0m\n\u001b[0m",
      "\u001b[1;32mC:\\ProgramData\\Anaconda3\\lib\\site-packages\\plotly\\express\\_chart_types.py\u001b[0m in \u001b[0;36mbar\u001b[1;34m(data_frame, x, y, color, pattern_shape, facet_row, facet_col, facet_col_wrap, facet_row_spacing, facet_col_spacing, hover_name, hover_data, custom_data, text, base, error_x, error_x_minus, error_y, error_y_minus, animation_frame, animation_group, category_orders, labels, color_discrete_sequence, color_discrete_map, color_continuous_scale, pattern_shape_sequence, pattern_shape_map, range_color, color_continuous_midpoint, opacity, orientation, barmode, log_x, log_y, range_x, range_y, text_auto, title, template, width, height)\u001b[0m\n\u001b[0;32m    366\u001b[0m     \u001b[0mmark\u001b[0m\u001b[1;33m.\u001b[0m\u001b[1;33m\u001b[0m\u001b[1;33m\u001b[0m\u001b[0m\n\u001b[0;32m    367\u001b[0m     \"\"\"\n\u001b[1;32m--> 368\u001b[1;33m     return make_figure(\n\u001b[0m\u001b[0;32m    369\u001b[0m         \u001b[0margs\u001b[0m\u001b[1;33m=\u001b[0m\u001b[0mlocals\u001b[0m\u001b[1;33m(\u001b[0m\u001b[1;33m)\u001b[0m\u001b[1;33m,\u001b[0m\u001b[1;33m\u001b[0m\u001b[1;33m\u001b[0m\u001b[0m\n\u001b[0;32m    370\u001b[0m         \u001b[0mconstructor\u001b[0m\u001b[1;33m=\u001b[0m\u001b[0mgo\u001b[0m\u001b[1;33m.\u001b[0m\u001b[0mBar\u001b[0m\u001b[1;33m,\u001b[0m\u001b[1;33m\u001b[0m\u001b[1;33m\u001b[0m\u001b[0m\n",
      "\u001b[1;32mC:\\ProgramData\\Anaconda3\\lib\\site-packages\\plotly\\express\\_core.py\u001b[0m in \u001b[0;36mmake_figure\u001b[1;34m(args, constructor, trace_patch, layout_patch)\u001b[0m\n\u001b[0;32m   1943\u001b[0m     \u001b[0mapply_default_cascade\u001b[0m\u001b[1;33m(\u001b[0m\u001b[0margs\u001b[0m\u001b[1;33m)\u001b[0m\u001b[1;33m\u001b[0m\u001b[1;33m\u001b[0m\u001b[0m\n\u001b[0;32m   1944\u001b[0m \u001b[1;33m\u001b[0m\u001b[0m\n\u001b[1;32m-> 1945\u001b[1;33m     \u001b[0margs\u001b[0m \u001b[1;33m=\u001b[0m \u001b[0mbuild_dataframe\u001b[0m\u001b[1;33m(\u001b[0m\u001b[0margs\u001b[0m\u001b[1;33m,\u001b[0m \u001b[0mconstructor\u001b[0m\u001b[1;33m)\u001b[0m\u001b[1;33m\u001b[0m\u001b[1;33m\u001b[0m\u001b[0m\n\u001b[0m\u001b[0;32m   1946\u001b[0m     \u001b[1;32mif\u001b[0m \u001b[0mconstructor\u001b[0m \u001b[1;32min\u001b[0m \u001b[1;33m[\u001b[0m\u001b[0mgo\u001b[0m\u001b[1;33m.\u001b[0m\u001b[0mTreemap\u001b[0m\u001b[1;33m,\u001b[0m \u001b[0mgo\u001b[0m\u001b[1;33m.\u001b[0m\u001b[0mSunburst\u001b[0m\u001b[1;33m,\u001b[0m \u001b[0mgo\u001b[0m\u001b[1;33m.\u001b[0m\u001b[0mIcicle\u001b[0m\u001b[1;33m]\u001b[0m \u001b[1;32mand\u001b[0m \u001b[0margs\u001b[0m\u001b[1;33m[\u001b[0m\u001b[1;34m\"path\"\u001b[0m\u001b[1;33m]\u001b[0m \u001b[1;32mis\u001b[0m \u001b[1;32mnot\u001b[0m \u001b[1;32mNone\u001b[0m\u001b[1;33m:\u001b[0m\u001b[1;33m\u001b[0m\u001b[1;33m\u001b[0m\u001b[0m\n\u001b[0;32m   1947\u001b[0m         \u001b[0margs\u001b[0m \u001b[1;33m=\u001b[0m \u001b[0mprocess_dataframe_hierarchy\u001b[0m\u001b[1;33m(\u001b[0m\u001b[0margs\u001b[0m\u001b[1;33m)\u001b[0m\u001b[1;33m\u001b[0m\u001b[1;33m\u001b[0m\u001b[0m\n",
      "\u001b[1;32mC:\\ProgramData\\Anaconda3\\lib\\site-packages\\plotly\\express\\_core.py\u001b[0m in \u001b[0;36mbuild_dataframe\u001b[1;34m(args, constructor)\u001b[0m\n\u001b[0;32m   1386\u001b[0m             \u001b[1;32mif\u001b[0m \u001b[0mdf_provided\u001b[0m\u001b[1;33m:\u001b[0m\u001b[1;33m\u001b[0m\u001b[1;33m\u001b[0m\u001b[0m\n\u001b[0;32m   1387\u001b[0m                 \u001b[1;32mif\u001b[0m \u001b[0misinstance\u001b[0m\u001b[1;33m(\u001b[0m\u001b[0mdf_input\u001b[0m\u001b[1;33m.\u001b[0m\u001b[0mindex\u001b[0m\u001b[1;33m,\u001b[0m \u001b[0mpd\u001b[0m\u001b[1;33m.\u001b[0m\u001b[0mMultiIndex\u001b[0m\u001b[1;33m)\u001b[0m\u001b[1;33m:\u001b[0m\u001b[1;33m\u001b[0m\u001b[1;33m\u001b[0m\u001b[0m\n\u001b[1;32m-> 1388\u001b[1;33m                     raise TypeError(\n\u001b[0m\u001b[0;32m   1389\u001b[0m                         \u001b[1;34m\"Data frame index is a pandas MultiIndex. \"\u001b[0m\u001b[1;33m\u001b[0m\u001b[1;33m\u001b[0m\u001b[0m\n\u001b[0;32m   1390\u001b[0m                         \u001b[1;34m\"pandas MultiIndex is not supported by plotly express \"\u001b[0m\u001b[1;33m\u001b[0m\u001b[1;33m\u001b[0m\u001b[0m\n",
      "\u001b[1;31mTypeError\u001b[0m: Data frame index is a pandas MultiIndex. pandas MultiIndex is not supported by plotly express at the moment."
     ]
    }
   ],
   "source": [
    "fig = px.bar(age2)"
   ]
  },
  {
   "cell_type": "code",
   "execution_count": 38,
   "metadata": {},
   "outputs": [
    {
     "data": {
      "text/html": [
       "<div>\n",
       "<style scoped>\n",
       "    .dataframe tbody tr th:only-of-type {\n",
       "        vertical-align: middle;\n",
       "    }\n",
       "\n",
       "    .dataframe tbody tr th {\n",
       "        vertical-align: top;\n",
       "    }\n",
       "\n",
       "    .dataframe thead th {\n",
       "        text-align: right;\n",
       "    }\n",
       "</style>\n",
       "<table border=\"1\" class=\"dataframe\">\n",
       "  <thead>\n",
       "    <tr style=\"text-align: right;\">\n",
       "      <th></th>\n",
       "      <th>pts_half_ppr</th>\n",
       "    </tr>\n",
       "    <tr>\n",
       "      <th>Owner</th>\n",
       "      <th></th>\n",
       "    </tr>\n",
       "  </thead>\n",
       "  <tbody>\n",
       "    <tr>\n",
       "      <th>Conner123</th>\n",
       "      <td>135.352222</td>\n",
       "    </tr>\n",
       "    <tr>\n",
       "      <th>KingDarsh</th>\n",
       "      <td>151.372500</td>\n",
       "    </tr>\n",
       "    <tr>\n",
       "      <th>Placejt</th>\n",
       "      <td>143.808421</td>\n",
       "    </tr>\n",
       "    <tr>\n",
       "      <th>adambloom</th>\n",
       "      <td>152.684444</td>\n",
       "    </tr>\n",
       "    <tr>\n",
       "      <th>chapelf</th>\n",
       "      <td>151.240000</td>\n",
       "    </tr>\n",
       "    <tr>\n",
       "      <th>ikei</th>\n",
       "      <td>122.590588</td>\n",
       "    </tr>\n",
       "    <tr>\n",
       "      <th>jfortkort5</th>\n",
       "      <td>160.248889</td>\n",
       "    </tr>\n",
       "    <tr>\n",
       "      <th>johale</th>\n",
       "      <td>168.041250</td>\n",
       "    </tr>\n",
       "    <tr>\n",
       "      <th>keaton22</th>\n",
       "      <td>156.954118</td>\n",
       "    </tr>\n",
       "    <tr>\n",
       "      <th>mullismc</th>\n",
       "      <td>158.709412</td>\n",
       "    </tr>\n",
       "    <tr>\n",
       "      <th>sammeroney</th>\n",
       "      <td>163.971250</td>\n",
       "    </tr>\n",
       "    <tr>\n",
       "      <th>vunosh</th>\n",
       "      <td>127.016250</td>\n",
       "    </tr>\n",
       "  </tbody>\n",
       "</table>\n",
       "</div>"
      ],
      "text/plain": [
       "            pts_half_ppr\n",
       "Owner                   \n",
       "Conner123     135.352222\n",
       "KingDarsh     151.372500\n",
       "Placejt       143.808421\n",
       "adambloom     152.684444\n",
       "chapelf       151.240000\n",
       "ikei          122.590588\n",
       "jfortkort5    160.248889\n",
       "johale        168.041250\n",
       "keaton22      156.954118\n",
       "mullismc      158.709412\n",
       "sammeroney    163.971250\n",
       "vunosh        127.016250"
      ]
     },
     "execution_count": 38,
     "metadata": {},
     "output_type": "execute_result"
    }
   ],
   "source": [
    "pts = pd.DataFrame(stats[stats[\"Week\"] == \"Season\"].groupby(\"Owner\").agg({\"pts_half_ppr\": np.mean}))\n",
    "pts"
   ]
  },
  {
   "cell_type": "code",
   "execution_count": 78,
   "metadata": {},
   "outputs": [
    {
     "data": {
      "application/vnd.plotly.v1+json": {
       "config": {
        "plotlyServerURL": "https://plot.ly"
       },
       "data": [
        {
         "alignmentgroup": "True",
         "hovertemplate": "pts_half_ppr=%{marker.color}<br>Owner=%{y}<extra></extra>",
         "legendgroup": "",
         "marker": {
          "color": [
           135.35222222222217,
           151.3725,
           143.80842105263153,
           152.68444444444447,
           151.24,
           122.59058823529412,
           160.24888888888887,
           168.04124999999996,
           156.95411764705884,
           158.70941176470592,
           163.97125,
           127.01625000000001
          ],
          "coloraxis": "coloraxis",
          "pattern": {
           "shape": ""
          }
         },
         "name": "",
         "offsetgroup": "",
         "orientation": "h",
         "showlegend": false,
         "textposition": "auto",
         "type": "bar",
         "x": [
          135.35222222222217,
          151.3725,
          143.80842105263153,
          152.68444444444447,
          151.24,
          122.59058823529412,
          160.24888888888887,
          168.04124999999996,
          156.95411764705884,
          158.70941176470592,
          163.97125,
          127.01625000000001
         ],
         "xaxis": "x",
         "y": [
          "Conner123",
          "KingDarsh",
          "Placejt",
          "adambloom",
          "chapelf",
          "ikei",
          "jfortkort5",
          "johale",
          "keaton22",
          "mullismc",
          "sammeroney",
          "vunosh"
         ],
         "yaxis": "y"
        }
       ],
       "layout": {
        "barmode": "relative",
        "coloraxis": {
         "colorbar": {
          "title": {
           "text": "pts_half_ppr"
          }
         },
         "colorscale": [
          [
           0,
           "#0d0887"
          ],
          [
           0.1111111111111111,
           "#46039f"
          ],
          [
           0.2222222222222222,
           "#7201a8"
          ],
          [
           0.3333333333333333,
           "#9c179e"
          ],
          [
           0.4444444444444444,
           "#bd3786"
          ],
          [
           0.5555555555555556,
           "#d8576b"
          ],
          [
           0.6666666666666666,
           "#ed7953"
          ],
          [
           0.7777777777777778,
           "#fb9f3a"
          ],
          [
           0.8888888888888888,
           "#fdca26"
          ],
          [
           1,
           "#f0f921"
          ]
         ]
        },
        "legend": {
         "tracegroupgap": 0
        },
        "margin": {
         "t": 60
        },
        "template": {
         "data": {
          "bar": [
           {
            "error_x": {
             "color": "#2a3f5f"
            },
            "error_y": {
             "color": "#2a3f5f"
            },
            "marker": {
             "line": {
              "color": "#E5ECF6",
              "width": 0.5
             },
             "pattern": {
              "fillmode": "overlay",
              "size": 10,
              "solidity": 0.2
             }
            },
            "type": "bar"
           }
          ],
          "barpolar": [
           {
            "marker": {
             "line": {
              "color": "#E5ECF6",
              "width": 0.5
             },
             "pattern": {
              "fillmode": "overlay",
              "size": 10,
              "solidity": 0.2
             }
            },
            "type": "barpolar"
           }
          ],
          "carpet": [
           {
            "aaxis": {
             "endlinecolor": "#2a3f5f",
             "gridcolor": "white",
             "linecolor": "white",
             "minorgridcolor": "white",
             "startlinecolor": "#2a3f5f"
            },
            "baxis": {
             "endlinecolor": "#2a3f5f",
             "gridcolor": "white",
             "linecolor": "white",
             "minorgridcolor": "white",
             "startlinecolor": "#2a3f5f"
            },
            "type": "carpet"
           }
          ],
          "choropleth": [
           {
            "colorbar": {
             "outlinewidth": 0,
             "ticks": ""
            },
            "type": "choropleth"
           }
          ],
          "contour": [
           {
            "colorbar": {
             "outlinewidth": 0,
             "ticks": ""
            },
            "colorscale": [
             [
              0,
              "#0d0887"
             ],
             [
              0.1111111111111111,
              "#46039f"
             ],
             [
              0.2222222222222222,
              "#7201a8"
             ],
             [
              0.3333333333333333,
              "#9c179e"
             ],
             [
              0.4444444444444444,
              "#bd3786"
             ],
             [
              0.5555555555555556,
              "#d8576b"
             ],
             [
              0.6666666666666666,
              "#ed7953"
             ],
             [
              0.7777777777777778,
              "#fb9f3a"
             ],
             [
              0.8888888888888888,
              "#fdca26"
             ],
             [
              1,
              "#f0f921"
             ]
            ],
            "type": "contour"
           }
          ],
          "contourcarpet": [
           {
            "colorbar": {
             "outlinewidth": 0,
             "ticks": ""
            },
            "type": "contourcarpet"
           }
          ],
          "heatmap": [
           {
            "colorbar": {
             "outlinewidth": 0,
             "ticks": ""
            },
            "colorscale": [
             [
              0,
              "#0d0887"
             ],
             [
              0.1111111111111111,
              "#46039f"
             ],
             [
              0.2222222222222222,
              "#7201a8"
             ],
             [
              0.3333333333333333,
              "#9c179e"
             ],
             [
              0.4444444444444444,
              "#bd3786"
             ],
             [
              0.5555555555555556,
              "#d8576b"
             ],
             [
              0.6666666666666666,
              "#ed7953"
             ],
             [
              0.7777777777777778,
              "#fb9f3a"
             ],
             [
              0.8888888888888888,
              "#fdca26"
             ],
             [
              1,
              "#f0f921"
             ]
            ],
            "type": "heatmap"
           }
          ],
          "heatmapgl": [
           {
            "colorbar": {
             "outlinewidth": 0,
             "ticks": ""
            },
            "colorscale": [
             [
              0,
              "#0d0887"
             ],
             [
              0.1111111111111111,
              "#46039f"
             ],
             [
              0.2222222222222222,
              "#7201a8"
             ],
             [
              0.3333333333333333,
              "#9c179e"
             ],
             [
              0.4444444444444444,
              "#bd3786"
             ],
             [
              0.5555555555555556,
              "#d8576b"
             ],
             [
              0.6666666666666666,
              "#ed7953"
             ],
             [
              0.7777777777777778,
              "#fb9f3a"
             ],
             [
              0.8888888888888888,
              "#fdca26"
             ],
             [
              1,
              "#f0f921"
             ]
            ],
            "type": "heatmapgl"
           }
          ],
          "histogram": [
           {
            "marker": {
             "pattern": {
              "fillmode": "overlay",
              "size": 10,
              "solidity": 0.2
             }
            },
            "type": "histogram"
           }
          ],
          "histogram2d": [
           {
            "colorbar": {
             "outlinewidth": 0,
             "ticks": ""
            },
            "colorscale": [
             [
              0,
              "#0d0887"
             ],
             [
              0.1111111111111111,
              "#46039f"
             ],
             [
              0.2222222222222222,
              "#7201a8"
             ],
             [
              0.3333333333333333,
              "#9c179e"
             ],
             [
              0.4444444444444444,
              "#bd3786"
             ],
             [
              0.5555555555555556,
              "#d8576b"
             ],
             [
              0.6666666666666666,
              "#ed7953"
             ],
             [
              0.7777777777777778,
              "#fb9f3a"
             ],
             [
              0.8888888888888888,
              "#fdca26"
             ],
             [
              1,
              "#f0f921"
             ]
            ],
            "type": "histogram2d"
           }
          ],
          "histogram2dcontour": [
           {
            "colorbar": {
             "outlinewidth": 0,
             "ticks": ""
            },
            "colorscale": [
             [
              0,
              "#0d0887"
             ],
             [
              0.1111111111111111,
              "#46039f"
             ],
             [
              0.2222222222222222,
              "#7201a8"
             ],
             [
              0.3333333333333333,
              "#9c179e"
             ],
             [
              0.4444444444444444,
              "#bd3786"
             ],
             [
              0.5555555555555556,
              "#d8576b"
             ],
             [
              0.6666666666666666,
              "#ed7953"
             ],
             [
              0.7777777777777778,
              "#fb9f3a"
             ],
             [
              0.8888888888888888,
              "#fdca26"
             ],
             [
              1,
              "#f0f921"
             ]
            ],
            "type": "histogram2dcontour"
           }
          ],
          "mesh3d": [
           {
            "colorbar": {
             "outlinewidth": 0,
             "ticks": ""
            },
            "type": "mesh3d"
           }
          ],
          "parcoords": [
           {
            "line": {
             "colorbar": {
              "outlinewidth": 0,
              "ticks": ""
             }
            },
            "type": "parcoords"
           }
          ],
          "pie": [
           {
            "automargin": true,
            "type": "pie"
           }
          ],
          "scatter": [
           {
            "marker": {
             "colorbar": {
              "outlinewidth": 0,
              "ticks": ""
             }
            },
            "type": "scatter"
           }
          ],
          "scatter3d": [
           {
            "line": {
             "colorbar": {
              "outlinewidth": 0,
              "ticks": ""
             }
            },
            "marker": {
             "colorbar": {
              "outlinewidth": 0,
              "ticks": ""
             }
            },
            "type": "scatter3d"
           }
          ],
          "scattercarpet": [
           {
            "marker": {
             "colorbar": {
              "outlinewidth": 0,
              "ticks": ""
             }
            },
            "type": "scattercarpet"
           }
          ],
          "scattergeo": [
           {
            "marker": {
             "colorbar": {
              "outlinewidth": 0,
              "ticks": ""
             }
            },
            "type": "scattergeo"
           }
          ],
          "scattergl": [
           {
            "marker": {
             "colorbar": {
              "outlinewidth": 0,
              "ticks": ""
             }
            },
            "type": "scattergl"
           }
          ],
          "scattermapbox": [
           {
            "marker": {
             "colorbar": {
              "outlinewidth": 0,
              "ticks": ""
             }
            },
            "type": "scattermapbox"
           }
          ],
          "scatterpolar": [
           {
            "marker": {
             "colorbar": {
              "outlinewidth": 0,
              "ticks": ""
             }
            },
            "type": "scatterpolar"
           }
          ],
          "scatterpolargl": [
           {
            "marker": {
             "colorbar": {
              "outlinewidth": 0,
              "ticks": ""
             }
            },
            "type": "scatterpolargl"
           }
          ],
          "scatterternary": [
           {
            "marker": {
             "colorbar": {
              "outlinewidth": 0,
              "ticks": ""
             }
            },
            "type": "scatterternary"
           }
          ],
          "surface": [
           {
            "colorbar": {
             "outlinewidth": 0,
             "ticks": ""
            },
            "colorscale": [
             [
              0,
              "#0d0887"
             ],
             [
              0.1111111111111111,
              "#46039f"
             ],
             [
              0.2222222222222222,
              "#7201a8"
             ],
             [
              0.3333333333333333,
              "#9c179e"
             ],
             [
              0.4444444444444444,
              "#bd3786"
             ],
             [
              0.5555555555555556,
              "#d8576b"
             ],
             [
              0.6666666666666666,
              "#ed7953"
             ],
             [
              0.7777777777777778,
              "#fb9f3a"
             ],
             [
              0.8888888888888888,
              "#fdca26"
             ],
             [
              1,
              "#f0f921"
             ]
            ],
            "type": "surface"
           }
          ],
          "table": [
           {
            "cells": {
             "fill": {
              "color": "#EBF0F8"
             },
             "line": {
              "color": "white"
             }
            },
            "header": {
             "fill": {
              "color": "#C8D4E3"
             },
             "line": {
              "color": "white"
             }
            },
            "type": "table"
           }
          ]
         },
         "layout": {
          "annotationdefaults": {
           "arrowcolor": "#2a3f5f",
           "arrowhead": 0,
           "arrowwidth": 1
          },
          "autotypenumbers": "strict",
          "coloraxis": {
           "colorbar": {
            "outlinewidth": 0,
            "ticks": ""
           }
          },
          "colorscale": {
           "diverging": [
            [
             0,
             "#8e0152"
            ],
            [
             0.1,
             "#c51b7d"
            ],
            [
             0.2,
             "#de77ae"
            ],
            [
             0.3,
             "#f1b6da"
            ],
            [
             0.4,
             "#fde0ef"
            ],
            [
             0.5,
             "#f7f7f7"
            ],
            [
             0.6,
             "#e6f5d0"
            ],
            [
             0.7,
             "#b8e186"
            ],
            [
             0.8,
             "#7fbc41"
            ],
            [
             0.9,
             "#4d9221"
            ],
            [
             1,
             "#276419"
            ]
           ],
           "sequential": [
            [
             0,
             "#0d0887"
            ],
            [
             0.1111111111111111,
             "#46039f"
            ],
            [
             0.2222222222222222,
             "#7201a8"
            ],
            [
             0.3333333333333333,
             "#9c179e"
            ],
            [
             0.4444444444444444,
             "#bd3786"
            ],
            [
             0.5555555555555556,
             "#d8576b"
            ],
            [
             0.6666666666666666,
             "#ed7953"
            ],
            [
             0.7777777777777778,
             "#fb9f3a"
            ],
            [
             0.8888888888888888,
             "#fdca26"
            ],
            [
             1,
             "#f0f921"
            ]
           ],
           "sequentialminus": [
            [
             0,
             "#0d0887"
            ],
            [
             0.1111111111111111,
             "#46039f"
            ],
            [
             0.2222222222222222,
             "#7201a8"
            ],
            [
             0.3333333333333333,
             "#9c179e"
            ],
            [
             0.4444444444444444,
             "#bd3786"
            ],
            [
             0.5555555555555556,
             "#d8576b"
            ],
            [
             0.6666666666666666,
             "#ed7953"
            ],
            [
             0.7777777777777778,
             "#fb9f3a"
            ],
            [
             0.8888888888888888,
             "#fdca26"
            ],
            [
             1,
             "#f0f921"
            ]
           ]
          },
          "colorway": [
           "#636efa",
           "#EF553B",
           "#00cc96",
           "#ab63fa",
           "#FFA15A",
           "#19d3f3",
           "#FF6692",
           "#B6E880",
           "#FF97FF",
           "#FECB52"
          ],
          "font": {
           "color": "#2a3f5f"
          },
          "geo": {
           "bgcolor": "white",
           "lakecolor": "white",
           "landcolor": "#E5ECF6",
           "showlakes": true,
           "showland": true,
           "subunitcolor": "white"
          },
          "hoverlabel": {
           "align": "left"
          },
          "hovermode": "closest",
          "mapbox": {
           "style": "light"
          },
          "paper_bgcolor": "white",
          "plot_bgcolor": "#E5ECF6",
          "polar": {
           "angularaxis": {
            "gridcolor": "white",
            "linecolor": "white",
            "ticks": ""
           },
           "bgcolor": "#E5ECF6",
           "radialaxis": {
            "gridcolor": "white",
            "linecolor": "white",
            "ticks": ""
           }
          },
          "scene": {
           "xaxis": {
            "backgroundcolor": "#E5ECF6",
            "gridcolor": "white",
            "gridwidth": 2,
            "linecolor": "white",
            "showbackground": true,
            "ticks": "",
            "zerolinecolor": "white"
           },
           "yaxis": {
            "backgroundcolor": "#E5ECF6",
            "gridcolor": "white",
            "gridwidth": 2,
            "linecolor": "white",
            "showbackground": true,
            "ticks": "",
            "zerolinecolor": "white"
           },
           "zaxis": {
            "backgroundcolor": "#E5ECF6",
            "gridcolor": "white",
            "gridwidth": 2,
            "linecolor": "white",
            "showbackground": true,
            "ticks": "",
            "zerolinecolor": "white"
           }
          },
          "shapedefaults": {
           "line": {
            "color": "#2a3f5f"
           }
          },
          "ternary": {
           "aaxis": {
            "gridcolor": "white",
            "linecolor": "white",
            "ticks": ""
           },
           "baxis": {
            "gridcolor": "white",
            "linecolor": "white",
            "ticks": ""
           },
           "bgcolor": "#E5ECF6",
           "caxis": {
            "gridcolor": "white",
            "linecolor": "white",
            "ticks": ""
           }
          },
          "title": {
           "x": 0.05
          },
          "xaxis": {
           "automargin": true,
           "gridcolor": "white",
           "linecolor": "white",
           "ticks": "",
           "title": {
            "standoff": 15
           },
           "zerolinecolor": "white",
           "zerolinewidth": 2
          },
          "yaxis": {
           "automargin": true,
           "gridcolor": "white",
           "linecolor": "white",
           "ticks": "",
           "title": {
            "standoff": 15
           },
           "zerolinecolor": "white",
           "zerolinewidth": 2
          }
         }
        },
        "xaxis": {
         "anchor": "y",
         "domain": [
          0,
          1
         ],
         "title": {
          "text": "pts_half_ppr"
         }
        },
        "yaxis": {
         "anchor": "x",
         "domain": [
          0,
          1
         ],
         "title": {
          "text": "Owner"
         }
        }
       }
      },
      "text/html": [
       "<div>                            <div id=\"2f5818fc-53c1-4a60-87ac-10de44ad6870\" class=\"plotly-graph-div\" style=\"height:525px; width:100%;\"></div>            <script type=\"text/javascript\">                require([\"plotly\"], function(Plotly) {                    window.PLOTLYENV=window.PLOTLYENV || {};                                    if (document.getElementById(\"2f5818fc-53c1-4a60-87ac-10de44ad6870\")) {                    Plotly.newPlot(                        \"2f5818fc-53c1-4a60-87ac-10de44ad6870\",                        [{\"alignmentgroup\":\"True\",\"hovertemplate\":\"pts_half_ppr=%{marker.color}<br>Owner=%{y}<extra></extra>\",\"legendgroup\":\"\",\"marker\":{\"color\":[135.35222222222217,151.3725,143.80842105263153,152.68444444444447,151.24,122.59058823529412,160.24888888888887,168.04124999999996,156.95411764705884,158.70941176470592,163.97125,127.01625000000001],\"coloraxis\":\"coloraxis\",\"pattern\":{\"shape\":\"\"}},\"name\":\"\",\"offsetgroup\":\"\",\"orientation\":\"h\",\"showlegend\":false,\"textposition\":\"auto\",\"x\":[135.35222222222217,151.3725,143.80842105263153,152.68444444444447,151.24,122.59058823529412,160.24888888888887,168.04124999999996,156.95411764705884,158.70941176470592,163.97125,127.01625000000001],\"xaxis\":\"x\",\"y\":[\"Conner123\",\"KingDarsh\",\"Placejt\",\"adambloom\",\"chapelf\",\"ikei\",\"jfortkort5\",\"johale\",\"keaton22\",\"mullismc\",\"sammeroney\",\"vunosh\"],\"yaxis\":\"y\",\"type\":\"bar\"}],                        {\"template\":{\"data\":{\"bar\":[{\"error_x\":{\"color\":\"#2a3f5f\"},\"error_y\":{\"color\":\"#2a3f5f\"},\"marker\":{\"line\":{\"color\":\"#E5ECF6\",\"width\":0.5},\"pattern\":{\"fillmode\":\"overlay\",\"size\":10,\"solidity\":0.2}},\"type\":\"bar\"}],\"barpolar\":[{\"marker\":{\"line\":{\"color\":\"#E5ECF6\",\"width\":0.5},\"pattern\":{\"fillmode\":\"overlay\",\"size\":10,\"solidity\":0.2}},\"type\":\"barpolar\"}],\"carpet\":[{\"aaxis\":{\"endlinecolor\":\"#2a3f5f\",\"gridcolor\":\"white\",\"linecolor\":\"white\",\"minorgridcolor\":\"white\",\"startlinecolor\":\"#2a3f5f\"},\"baxis\":{\"endlinecolor\":\"#2a3f5f\",\"gridcolor\":\"white\",\"linecolor\":\"white\",\"minorgridcolor\":\"white\",\"startlinecolor\":\"#2a3f5f\"},\"type\":\"carpet\"}],\"choropleth\":[{\"colorbar\":{\"outlinewidth\":0,\"ticks\":\"\"},\"type\":\"choropleth\"}],\"contour\":[{\"colorbar\":{\"outlinewidth\":0,\"ticks\":\"\"},\"colorscale\":[[0.0,\"#0d0887\"],[0.1111111111111111,\"#46039f\"],[0.2222222222222222,\"#7201a8\"],[0.3333333333333333,\"#9c179e\"],[0.4444444444444444,\"#bd3786\"],[0.5555555555555556,\"#d8576b\"],[0.6666666666666666,\"#ed7953\"],[0.7777777777777778,\"#fb9f3a\"],[0.8888888888888888,\"#fdca26\"],[1.0,\"#f0f921\"]],\"type\":\"contour\"}],\"contourcarpet\":[{\"colorbar\":{\"outlinewidth\":0,\"ticks\":\"\"},\"type\":\"contourcarpet\"}],\"heatmap\":[{\"colorbar\":{\"outlinewidth\":0,\"ticks\":\"\"},\"colorscale\":[[0.0,\"#0d0887\"],[0.1111111111111111,\"#46039f\"],[0.2222222222222222,\"#7201a8\"],[0.3333333333333333,\"#9c179e\"],[0.4444444444444444,\"#bd3786\"],[0.5555555555555556,\"#d8576b\"],[0.6666666666666666,\"#ed7953\"],[0.7777777777777778,\"#fb9f3a\"],[0.8888888888888888,\"#fdca26\"],[1.0,\"#f0f921\"]],\"type\":\"heatmap\"}],\"heatmapgl\":[{\"colorbar\":{\"outlinewidth\":0,\"ticks\":\"\"},\"colorscale\":[[0.0,\"#0d0887\"],[0.1111111111111111,\"#46039f\"],[0.2222222222222222,\"#7201a8\"],[0.3333333333333333,\"#9c179e\"],[0.4444444444444444,\"#bd3786\"],[0.5555555555555556,\"#d8576b\"],[0.6666666666666666,\"#ed7953\"],[0.7777777777777778,\"#fb9f3a\"],[0.8888888888888888,\"#fdca26\"],[1.0,\"#f0f921\"]],\"type\":\"heatmapgl\"}],\"histogram\":[{\"marker\":{\"pattern\":{\"fillmode\":\"overlay\",\"size\":10,\"solidity\":0.2}},\"type\":\"histogram\"}],\"histogram2d\":[{\"colorbar\":{\"outlinewidth\":0,\"ticks\":\"\"},\"colorscale\":[[0.0,\"#0d0887\"],[0.1111111111111111,\"#46039f\"],[0.2222222222222222,\"#7201a8\"],[0.3333333333333333,\"#9c179e\"],[0.4444444444444444,\"#bd3786\"],[0.5555555555555556,\"#d8576b\"],[0.6666666666666666,\"#ed7953\"],[0.7777777777777778,\"#fb9f3a\"],[0.8888888888888888,\"#fdca26\"],[1.0,\"#f0f921\"]],\"type\":\"histogram2d\"}],\"histogram2dcontour\":[{\"colorbar\":{\"outlinewidth\":0,\"ticks\":\"\"},\"colorscale\":[[0.0,\"#0d0887\"],[0.1111111111111111,\"#46039f\"],[0.2222222222222222,\"#7201a8\"],[0.3333333333333333,\"#9c179e\"],[0.4444444444444444,\"#bd3786\"],[0.5555555555555556,\"#d8576b\"],[0.6666666666666666,\"#ed7953\"],[0.7777777777777778,\"#fb9f3a\"],[0.8888888888888888,\"#fdca26\"],[1.0,\"#f0f921\"]],\"type\":\"histogram2dcontour\"}],\"mesh3d\":[{\"colorbar\":{\"outlinewidth\":0,\"ticks\":\"\"},\"type\":\"mesh3d\"}],\"parcoords\":[{\"line\":{\"colorbar\":{\"outlinewidth\":0,\"ticks\":\"\"}},\"type\":\"parcoords\"}],\"pie\":[{\"automargin\":true,\"type\":\"pie\"}],\"scatter\":[{\"marker\":{\"colorbar\":{\"outlinewidth\":0,\"ticks\":\"\"}},\"type\":\"scatter\"}],\"scatter3d\":[{\"line\":{\"colorbar\":{\"outlinewidth\":0,\"ticks\":\"\"}},\"marker\":{\"colorbar\":{\"outlinewidth\":0,\"ticks\":\"\"}},\"type\":\"scatter3d\"}],\"scattercarpet\":[{\"marker\":{\"colorbar\":{\"outlinewidth\":0,\"ticks\":\"\"}},\"type\":\"scattercarpet\"}],\"scattergeo\":[{\"marker\":{\"colorbar\":{\"outlinewidth\":0,\"ticks\":\"\"}},\"type\":\"scattergeo\"}],\"scattergl\":[{\"marker\":{\"colorbar\":{\"outlinewidth\":0,\"ticks\":\"\"}},\"type\":\"scattergl\"}],\"scattermapbox\":[{\"marker\":{\"colorbar\":{\"outlinewidth\":0,\"ticks\":\"\"}},\"type\":\"scattermapbox\"}],\"scatterpolar\":[{\"marker\":{\"colorbar\":{\"outlinewidth\":0,\"ticks\":\"\"}},\"type\":\"scatterpolar\"}],\"scatterpolargl\":[{\"marker\":{\"colorbar\":{\"outlinewidth\":0,\"ticks\":\"\"}},\"type\":\"scatterpolargl\"}],\"scatterternary\":[{\"marker\":{\"colorbar\":{\"outlinewidth\":0,\"ticks\":\"\"}},\"type\":\"scatterternary\"}],\"surface\":[{\"colorbar\":{\"outlinewidth\":0,\"ticks\":\"\"},\"colorscale\":[[0.0,\"#0d0887\"],[0.1111111111111111,\"#46039f\"],[0.2222222222222222,\"#7201a8\"],[0.3333333333333333,\"#9c179e\"],[0.4444444444444444,\"#bd3786\"],[0.5555555555555556,\"#d8576b\"],[0.6666666666666666,\"#ed7953\"],[0.7777777777777778,\"#fb9f3a\"],[0.8888888888888888,\"#fdca26\"],[1.0,\"#f0f921\"]],\"type\":\"surface\"}],\"table\":[{\"cells\":{\"fill\":{\"color\":\"#EBF0F8\"},\"line\":{\"color\":\"white\"}},\"header\":{\"fill\":{\"color\":\"#C8D4E3\"},\"line\":{\"color\":\"white\"}},\"type\":\"table\"}]},\"layout\":{\"annotationdefaults\":{\"arrowcolor\":\"#2a3f5f\",\"arrowhead\":0,\"arrowwidth\":1},\"autotypenumbers\":\"strict\",\"coloraxis\":{\"colorbar\":{\"outlinewidth\":0,\"ticks\":\"\"}},\"colorscale\":{\"diverging\":[[0,\"#8e0152\"],[0.1,\"#c51b7d\"],[0.2,\"#de77ae\"],[0.3,\"#f1b6da\"],[0.4,\"#fde0ef\"],[0.5,\"#f7f7f7\"],[0.6,\"#e6f5d0\"],[0.7,\"#b8e186\"],[0.8,\"#7fbc41\"],[0.9,\"#4d9221\"],[1,\"#276419\"]],\"sequential\":[[0.0,\"#0d0887\"],[0.1111111111111111,\"#46039f\"],[0.2222222222222222,\"#7201a8\"],[0.3333333333333333,\"#9c179e\"],[0.4444444444444444,\"#bd3786\"],[0.5555555555555556,\"#d8576b\"],[0.6666666666666666,\"#ed7953\"],[0.7777777777777778,\"#fb9f3a\"],[0.8888888888888888,\"#fdca26\"],[1.0,\"#f0f921\"]],\"sequentialminus\":[[0.0,\"#0d0887\"],[0.1111111111111111,\"#46039f\"],[0.2222222222222222,\"#7201a8\"],[0.3333333333333333,\"#9c179e\"],[0.4444444444444444,\"#bd3786\"],[0.5555555555555556,\"#d8576b\"],[0.6666666666666666,\"#ed7953\"],[0.7777777777777778,\"#fb9f3a\"],[0.8888888888888888,\"#fdca26\"],[1.0,\"#f0f921\"]]},\"colorway\":[\"#636efa\",\"#EF553B\",\"#00cc96\",\"#ab63fa\",\"#FFA15A\",\"#19d3f3\",\"#FF6692\",\"#B6E880\",\"#FF97FF\",\"#FECB52\"],\"font\":{\"color\":\"#2a3f5f\"},\"geo\":{\"bgcolor\":\"white\",\"lakecolor\":\"white\",\"landcolor\":\"#E5ECF6\",\"showlakes\":true,\"showland\":true,\"subunitcolor\":\"white\"},\"hoverlabel\":{\"align\":\"left\"},\"hovermode\":\"closest\",\"mapbox\":{\"style\":\"light\"},\"paper_bgcolor\":\"white\",\"plot_bgcolor\":\"#E5ECF6\",\"polar\":{\"angularaxis\":{\"gridcolor\":\"white\",\"linecolor\":\"white\",\"ticks\":\"\"},\"bgcolor\":\"#E5ECF6\",\"radialaxis\":{\"gridcolor\":\"white\",\"linecolor\":\"white\",\"ticks\":\"\"}},\"scene\":{\"xaxis\":{\"backgroundcolor\":\"#E5ECF6\",\"gridcolor\":\"white\",\"gridwidth\":2,\"linecolor\":\"white\",\"showbackground\":true,\"ticks\":\"\",\"zerolinecolor\":\"white\"},\"yaxis\":{\"backgroundcolor\":\"#E5ECF6\",\"gridcolor\":\"white\",\"gridwidth\":2,\"linecolor\":\"white\",\"showbackground\":true,\"ticks\":\"\",\"zerolinecolor\":\"white\"},\"zaxis\":{\"backgroundcolor\":\"#E5ECF6\",\"gridcolor\":\"white\",\"gridwidth\":2,\"linecolor\":\"white\",\"showbackground\":true,\"ticks\":\"\",\"zerolinecolor\":\"white\"}},\"shapedefaults\":{\"line\":{\"color\":\"#2a3f5f\"}},\"ternary\":{\"aaxis\":{\"gridcolor\":\"white\",\"linecolor\":\"white\",\"ticks\":\"\"},\"baxis\":{\"gridcolor\":\"white\",\"linecolor\":\"white\",\"ticks\":\"\"},\"bgcolor\":\"#E5ECF6\",\"caxis\":{\"gridcolor\":\"white\",\"linecolor\":\"white\",\"ticks\":\"\"}},\"title\":{\"x\":0.05},\"xaxis\":{\"automargin\":true,\"gridcolor\":\"white\",\"linecolor\":\"white\",\"ticks\":\"\",\"title\":{\"standoff\":15},\"zerolinecolor\":\"white\",\"zerolinewidth\":2},\"yaxis\":{\"automargin\":true,\"gridcolor\":\"white\",\"linecolor\":\"white\",\"ticks\":\"\",\"title\":{\"standoff\":15},\"zerolinecolor\":\"white\",\"zerolinewidth\":2}}},\"xaxis\":{\"anchor\":\"y\",\"domain\":[0.0,1.0],\"title\":{\"text\":\"pts_half_ppr\"}},\"yaxis\":{\"anchor\":\"x\",\"domain\":[0.0,1.0],\"title\":{\"text\":\"Owner\"}},\"coloraxis\":{\"colorbar\":{\"title\":{\"text\":\"pts_half_ppr\"}},\"colorscale\":[[0.0,\"#0d0887\"],[0.1111111111111111,\"#46039f\"],[0.2222222222222222,\"#7201a8\"],[0.3333333333333333,\"#9c179e\"],[0.4444444444444444,\"#bd3786\"],[0.5555555555555556,\"#d8576b\"],[0.6666666666666666,\"#ed7953\"],[0.7777777777777778,\"#fb9f3a\"],[0.8888888888888888,\"#fdca26\"],[1.0,\"#f0f921\"]]},\"legend\":{\"tracegroupgap\":0},\"margin\":{\"t\":60},\"barmode\":\"relative\"},                        {\"responsive\": true}                    ).then(function(){\n",
       "                            \n",
       "var gd = document.getElementById('2f5818fc-53c1-4a60-87ac-10de44ad6870');\n",
       "var x = new MutationObserver(function (mutations, observer) {{\n",
       "        var display = window.getComputedStyle(gd).display;\n",
       "        if (!display || display === 'none') {{\n",
       "            console.log([gd, 'removed!']);\n",
       "            Plotly.purge(gd);\n",
       "            observer.disconnect();\n",
       "        }}\n",
       "}});\n",
       "\n",
       "// Listen for the removal of the full notebook cells\n",
       "var notebookContainer = gd.closest('#notebook-container');\n",
       "if (notebookContainer) {{\n",
       "    x.observe(notebookContainer, {childList: true});\n",
       "}}\n",
       "\n",
       "// Listen for the clearing of the current output cell\n",
       "var outputEl = gd.closest('.output');\n",
       "if (outputEl) {{\n",
       "    x.observe(outputEl, {childList: true});\n",
       "}}\n",
       "\n",
       "                        })                };                });            </script>        </div>"
      ]
     },
     "metadata": {},
     "output_type": "display_data"
    }
   ],
   "source": [
    "fig = px.bar(pts, x = \"pts_half_ppr\", color = \"pts_half_ppr\")\n",
    "fig.show()"
   ]
  },
  {
   "cell_type": "code",
   "execution_count": 26,
   "metadata": {},
   "outputs": [
    {
     "data": {
      "text/html": [
       "<div>\n",
       "<style scoped>\n",
       "    .dataframe tbody tr th:only-of-type {\n",
       "        vertical-align: middle;\n",
       "    }\n",
       "\n",
       "    .dataframe tbody tr th {\n",
       "        vertical-align: top;\n",
       "    }\n",
       "\n",
       "    .dataframe thead th {\n",
       "        text-align: right;\n",
       "    }\n",
       "</style>\n",
       "<table border=\"1\" class=\"dataframe\">\n",
       "  <thead>\n",
       "    <tr style=\"text-align: right;\">\n",
       "      <th></th>\n",
       "      <th>Owner</th>\n",
       "      <th>Week</th>\n",
       "      <th>Player</th>\n",
       "      <th>player_id</th>\n",
       "      <th>age</th>\n",
       "      <th>position</th>\n",
       "      <th>gp</th>\n",
       "      <th>off_snp</th>\n",
       "      <th>tm_off_snp</th>\n",
       "      <th>pts_ppr</th>\n",
       "      <th>...</th>\n",
       "      <th>pass_td</th>\n",
       "      <th>sacks</th>\n",
       "      <th>fum_rec</th>\n",
       "      <th>int</th>\n",
       "      <th>def_td</th>\n",
       "      <th>yds_allow</th>\n",
       "      <th>pts_allow</th>\n",
       "      <th>blk_kick</th>\n",
       "      <th>fum</th>\n",
       "      <th>fum_lost</th>\n",
       "    </tr>\n",
       "  </thead>\n",
       "  <tbody>\n",
       "    <tr>\n",
       "      <th>172</th>\n",
       "      <td>ikei</td>\n",
       "      <td>1</td>\n",
       "      <td>Kirk Cousins</td>\n",
       "      <td>1166</td>\n",
       "      <td>33.0</td>\n",
       "      <td>QB</td>\n",
       "      <td>1.0</td>\n",
       "      <td>83.0</td>\n",
       "      <td>83.0</td>\n",
       "      <td>22.04</td>\n",
       "      <td>...</td>\n",
       "      <td>2.0</td>\n",
       "      <td>NaN</td>\n",
       "      <td>NaN</td>\n",
       "      <td>NaN</td>\n",
       "      <td>NaN</td>\n",
       "      <td>NaN</td>\n",
       "      <td>NaN</td>\n",
       "      <td>NaN</td>\n",
       "      <td>NaN</td>\n",
       "      <td>NaN</td>\n",
       "    </tr>\n",
       "    <tr>\n",
       "      <th>173</th>\n",
       "      <td>ikei</td>\n",
       "      <td>1</td>\n",
       "      <td>Jason Myers</td>\n",
       "      <td>2747</td>\n",
       "      <td>30.0</td>\n",
       "      <td>K</td>\n",
       "      <td>1.0</td>\n",
       "      <td>NaN</td>\n",
       "      <td>54.0</td>\n",
       "      <td>4.00</td>\n",
       "      <td>...</td>\n",
       "      <td>NaN</td>\n",
       "      <td>NaN</td>\n",
       "      <td>NaN</td>\n",
       "      <td>NaN</td>\n",
       "      <td>NaN</td>\n",
       "      <td>NaN</td>\n",
       "      <td>NaN</td>\n",
       "      <td>NaN</td>\n",
       "      <td>NaN</td>\n",
       "      <td>NaN</td>\n",
       "    </tr>\n",
       "    <tr>\n",
       "      <th>174</th>\n",
       "      <td>ikei</td>\n",
       "      <td>1</td>\n",
       "      <td>Sterling Shepard</td>\n",
       "      <td>3200</td>\n",
       "      <td>28.0</td>\n",
       "      <td>WR</td>\n",
       "      <td>1.0</td>\n",
       "      <td>58.0</td>\n",
       "      <td>61.0</td>\n",
       "      <td>24.30</td>\n",
       "      <td>...</td>\n",
       "      <td>NaN</td>\n",
       "      <td>NaN</td>\n",
       "      <td>NaN</td>\n",
       "      <td>NaN</td>\n",
       "      <td>NaN</td>\n",
       "      <td>NaN</td>\n",
       "      <td>NaN</td>\n",
       "      <td>NaN</td>\n",
       "      <td>NaN</td>\n",
       "      <td>NaN</td>\n",
       "    </tr>\n",
       "    <tr>\n",
       "      <th>175</th>\n",
       "      <td>ikei</td>\n",
       "      <td>1</td>\n",
       "      <td>Devontae Booker</td>\n",
       "      <td>3209</td>\n",
       "      <td>29.0</td>\n",
       "      <td>RB</td>\n",
       "      <td>1.0</td>\n",
       "      <td>24.0</td>\n",
       "      <td>61.0</td>\n",
       "      <td>2.30</td>\n",
       "      <td>...</td>\n",
       "      <td>NaN</td>\n",
       "      <td>NaN</td>\n",
       "      <td>NaN</td>\n",
       "      <td>NaN</td>\n",
       "      <td>NaN</td>\n",
       "      <td>NaN</td>\n",
       "      <td>NaN</td>\n",
       "      <td>NaN</td>\n",
       "      <td>NaN</td>\n",
       "      <td>NaN</td>\n",
       "    </tr>\n",
       "    <tr>\n",
       "      <th>176</th>\n",
       "      <td>ikei</td>\n",
       "      <td>1</td>\n",
       "      <td>Saquon Barkley</td>\n",
       "      <td>4866</td>\n",
       "      <td>24.0</td>\n",
       "      <td>RB</td>\n",
       "      <td>1.0</td>\n",
       "      <td>29.0</td>\n",
       "      <td>61.0</td>\n",
       "      <td>3.70</td>\n",
       "      <td>...</td>\n",
       "      <td>NaN</td>\n",
       "      <td>NaN</td>\n",
       "      <td>NaN</td>\n",
       "      <td>NaN</td>\n",
       "      <td>NaN</td>\n",
       "      <td>NaN</td>\n",
       "      <td>NaN</td>\n",
       "      <td>NaN</td>\n",
       "      <td>NaN</td>\n",
       "      <td>NaN</td>\n",
       "    </tr>\n",
       "    <tr>\n",
       "      <th>...</th>\n",
       "      <td>...</td>\n",
       "      <td>...</td>\n",
       "      <td>...</td>\n",
       "      <td>...</td>\n",
       "      <td>...</td>\n",
       "      <td>...</td>\n",
       "      <td>...</td>\n",
       "      <td>...</td>\n",
       "      <td>...</td>\n",
       "      <td>...</td>\n",
       "      <td>...</td>\n",
       "      <td>...</td>\n",
       "      <td>...</td>\n",
       "      <td>...</td>\n",
       "      <td>...</td>\n",
       "      <td>...</td>\n",
       "      <td>...</td>\n",
       "      <td>...</td>\n",
       "      <td>...</td>\n",
       "      <td>...</td>\n",
       "      <td>...</td>\n",
       "    </tr>\n",
       "    <tr>\n",
       "      <th>3054</th>\n",
       "      <td>ikei</td>\n",
       "      <td>15</td>\n",
       "      <td>Jalen Guyton</td>\n",
       "      <td>6421</td>\n",
       "      <td>24.0</td>\n",
       "      <td>WR</td>\n",
       "      <td>1.0</td>\n",
       "      <td>28.0</td>\n",
       "      <td>80.0</td>\n",
       "      <td>9.00</td>\n",
       "      <td>...</td>\n",
       "      <td>NaN</td>\n",
       "      <td>NaN</td>\n",
       "      <td>NaN</td>\n",
       "      <td>NaN</td>\n",
       "      <td>NaN</td>\n",
       "      <td>NaN</td>\n",
       "      <td>NaN</td>\n",
       "      <td>NaN</td>\n",
       "      <td>NaN</td>\n",
       "      <td>NaN</td>\n",
       "    </tr>\n",
       "    <tr>\n",
       "      <th>3055</th>\n",
       "      <td>ikei</td>\n",
       "      <td>15</td>\n",
       "      <td>Jerry Jeudy</td>\n",
       "      <td>6783</td>\n",
       "      <td>22.0</td>\n",
       "      <td>WR</td>\n",
       "      <td>1.0</td>\n",
       "      <td>52.0</td>\n",
       "      <td>75.0</td>\n",
       "      <td>NaN</td>\n",
       "      <td>...</td>\n",
       "      <td>NaN</td>\n",
       "      <td>NaN</td>\n",
       "      <td>NaN</td>\n",
       "      <td>NaN</td>\n",
       "      <td>NaN</td>\n",
       "      <td>NaN</td>\n",
       "      <td>NaN</td>\n",
       "      <td>NaN</td>\n",
       "      <td>NaN</td>\n",
       "      <td>NaN</td>\n",
       "    </tr>\n",
       "    <tr>\n",
       "      <th>3056</th>\n",
       "      <td>ikei</td>\n",
       "      <td>15</td>\n",
       "      <td>Laviska Shenault</td>\n",
       "      <td>6814</td>\n",
       "      <td>23.0</td>\n",
       "      <td>WR</td>\n",
       "      <td>1.0</td>\n",
       "      <td>47.0</td>\n",
       "      <td>70.0</td>\n",
       "      <td>8.90</td>\n",
       "      <td>...</td>\n",
       "      <td>NaN</td>\n",
       "      <td>NaN</td>\n",
       "      <td>NaN</td>\n",
       "      <td>NaN</td>\n",
       "      <td>NaN</td>\n",
       "      <td>NaN</td>\n",
       "      <td>NaN</td>\n",
       "      <td>NaN</td>\n",
       "      <td>NaN</td>\n",
       "      <td>NaN</td>\n",
       "    </tr>\n",
       "    <tr>\n",
       "      <th>3057</th>\n",
       "      <td>ikei</td>\n",
       "      <td>15</td>\n",
       "      <td>K.J. Osborn</td>\n",
       "      <td>7066</td>\n",
       "      <td>24.0</td>\n",
       "      <td>WR</td>\n",
       "      <td>1.0</td>\n",
       "      <td>56.0</td>\n",
       "      <td>64.0</td>\n",
       "      <td>5.10</td>\n",
       "      <td>...</td>\n",
       "      <td>NaN</td>\n",
       "      <td>NaN</td>\n",
       "      <td>NaN</td>\n",
       "      <td>NaN</td>\n",
       "      <td>NaN</td>\n",
       "      <td>NaN</td>\n",
       "      <td>NaN</td>\n",
       "      <td>NaN</td>\n",
       "      <td>NaN</td>\n",
       "      <td>NaN</td>\n",
       "    </tr>\n",
       "    <tr>\n",
       "      <th>3058</th>\n",
       "      <td>ikei</td>\n",
       "      <td>15</td>\n",
       "      <td>Minnesota Vikings</td>\n",
       "      <td>MIN</td>\n",
       "      <td>NaN</td>\n",
       "      <td>DEF</td>\n",
       "      <td>1.0</td>\n",
       "      <td>NaN</td>\n",
       "      <td>NaN</td>\n",
       "      <td>17.00</td>\n",
       "      <td>...</td>\n",
       "      <td>NaN</td>\n",
       "      <td>NaN</td>\n",
       "      <td>2.0</td>\n",
       "      <td>NaN</td>\n",
       "      <td>NaN</td>\n",
       "      <td>370.0</td>\n",
       "      <td>9.0</td>\n",
       "      <td>1.0</td>\n",
       "      <td>NaN</td>\n",
       "      <td>NaN</td>\n",
       "    </tr>\n",
       "  </tbody>\n",
       "</table>\n",
       "<p>255 rows × 40 columns</p>\n",
       "</div>"
      ],
      "text/plain": [
       "     Owner Week             Player player_id   age position   gp  off_snp  \\\n",
       "172   ikei    1       Kirk Cousins      1166  33.0       QB  1.0     83.0   \n",
       "173   ikei    1        Jason Myers      2747  30.0        K  1.0      NaN   \n",
       "174   ikei    1   Sterling Shepard      3200  28.0       WR  1.0     58.0   \n",
       "175   ikei    1    Devontae Booker      3209  29.0       RB  1.0     24.0   \n",
       "176   ikei    1     Saquon Barkley      4866  24.0       RB  1.0     29.0   \n",
       "...    ...  ...                ...       ...   ...      ...  ...      ...   \n",
       "3054  ikei   15       Jalen Guyton      6421  24.0       WR  1.0     28.0   \n",
       "3055  ikei   15        Jerry Jeudy      6783  22.0       WR  1.0     52.0   \n",
       "3056  ikei   15   Laviska Shenault      6814  23.0       WR  1.0     47.0   \n",
       "3057  ikei   15        K.J. Osborn      7066  24.0       WR  1.0     56.0   \n",
       "3058  ikei   15  Minnesota Vikings       MIN   NaN      DEF  1.0      NaN   \n",
       "\n",
       "      tm_off_snp  pts_ppr  ...  pass_td  sacks  fum_rec  int  def_td  \\\n",
       "172         83.0    22.04  ...      2.0    NaN      NaN  NaN     NaN   \n",
       "173         54.0     4.00  ...      NaN    NaN      NaN  NaN     NaN   \n",
       "174         61.0    24.30  ...      NaN    NaN      NaN  NaN     NaN   \n",
       "175         61.0     2.30  ...      NaN    NaN      NaN  NaN     NaN   \n",
       "176         61.0     3.70  ...      NaN    NaN      NaN  NaN     NaN   \n",
       "...          ...      ...  ...      ...    ...      ...  ...     ...   \n",
       "3054        80.0     9.00  ...      NaN    NaN      NaN  NaN     NaN   \n",
       "3055        75.0      NaN  ...      NaN    NaN      NaN  NaN     NaN   \n",
       "3056        70.0     8.90  ...      NaN    NaN      NaN  NaN     NaN   \n",
       "3057        64.0     5.10  ...      NaN    NaN      NaN  NaN     NaN   \n",
       "3058         NaN    17.00  ...      NaN    NaN      2.0  NaN     NaN   \n",
       "\n",
       "      yds_allow  pts_allow  blk_kick  fum  fum_lost  \n",
       "172         NaN        NaN       NaN  NaN       NaN  \n",
       "173         NaN        NaN       NaN  NaN       NaN  \n",
       "174         NaN        NaN       NaN  NaN       NaN  \n",
       "175         NaN        NaN       NaN  NaN       NaN  \n",
       "176         NaN        NaN       NaN  NaN       NaN  \n",
       "...         ...        ...       ...  ...       ...  \n",
       "3054        NaN        NaN       NaN  NaN       NaN  \n",
       "3055        NaN        NaN       NaN  NaN       NaN  \n",
       "3056        NaN        NaN       NaN  NaN       NaN  \n",
       "3057        NaN        NaN       NaN  NaN       NaN  \n",
       "3058      370.0        9.0       1.0  NaN       NaN  \n",
       "\n",
       "[255 rows x 40 columns]"
      ]
     },
     "execution_count": 26,
     "metadata": {},
     "output_type": "execute_result"
    }
   ],
   "source": [
    "username = \"ikei\"\n",
    "users_stats = stats[stats[\"Owner\"] == username]\n",
    "users_wkly_stats = users_stats[users_stats[\"Week\"] != \"Season\"]\n",
    "users_wkly_stats"
   ]
  },
  {
   "cell_type": "code",
   "execution_count": 27,
   "metadata": {},
   "outputs": [
    {
     "data": {
      "application/vnd.plotly.v1+json": {
       "config": {
        "plotlyServerURL": "https://plot.ly"
       },
       "data": [
        {
         "alignmentgroup": "True",
         "hovertemplate": "position=QB<br>Week=%{x}<br>pts_half_ppr=%{y}<extra></extra>",
         "legendgroup": "QB",
         "marker": {
          "color": "#636efa",
          "pattern": {
           "shape": ""
          }
         },
         "name": "QB",
         "offsetgroup": "QB",
         "orientation": "v",
         "showlegend": true,
         "textposition": "auto",
         "type": "bar",
         "x": [
          1,
          2,
          3,
          4,
          5,
          6,
          7,
          8,
          9,
          10,
          11,
          12,
          13,
          14,
          15
         ],
         "xaxis": "x",
         "y": [
          22.04,
          24.26,
          24.12,
          11.12,
          14.4,
          27.52,
          null,
          12.16,
          21.58,
          16.46,
          24.24,
          16.52,
          19.2,
          16.04,
          10.48
         ],
         "yaxis": "y"
        },
        {
         "alignmentgroup": "True",
         "hovertemplate": "position=K<br>Week=%{x}<br>pts_half_ppr=%{y}<extra></extra>",
         "legendgroup": "K",
         "marker": {
          "color": "#EF553B",
          "pattern": {
           "shape": ""
          }
         },
         "name": "K",
         "offsetgroup": "K",
         "orientation": "v",
         "showlegend": true,
         "textposition": "auto",
         "type": "bar",
         "x": [
          1,
          2,
          3,
          4,
          5,
          6,
          7,
          8,
          9,
          10,
          11,
          12,
          13,
          14,
          15
         ],
         "xaxis": "x",
         "y": [
          4,
          5,
          6,
          4,
          4,
          10,
          4,
          7,
          null,
          null,
          7,
          1,
          3,
          5,
          4
         ],
         "yaxis": "y"
        },
        {
         "alignmentgroup": "True",
         "hovertemplate": "position=WR<br>Week=%{x}<br>pts_half_ppr=%{y}<extra></extra>",
         "legendgroup": "WR",
         "marker": {
          "color": "#00cc96",
          "pattern": {
           "shape": ""
          }
         },
         "name": "WR",
         "offsetgroup": "WR",
         "orientation": "v",
         "showlegend": true,
         "textposition": "auto",
         "type": "bar",
         "x": [
          1,
          1,
          1,
          1,
          1,
          1,
          1,
          1,
          1,
          2,
          2,
          2,
          2,
          2,
          2,
          2,
          2,
          2,
          3,
          3,
          3,
          3,
          3,
          3,
          3,
          3,
          3,
          4,
          4,
          4,
          4,
          4,
          4,
          4,
          4,
          4,
          5,
          5,
          5,
          5,
          5,
          5,
          5,
          5,
          5,
          6,
          6,
          6,
          6,
          6,
          6,
          6,
          6,
          6,
          7,
          7,
          7,
          7,
          7,
          7,
          7,
          7,
          7,
          8,
          8,
          8,
          8,
          8,
          8,
          8,
          8,
          8,
          9,
          9,
          9,
          9,
          9,
          9,
          9,
          9,
          9,
          10,
          10,
          10,
          10,
          10,
          10,
          10,
          10,
          10,
          11,
          11,
          11,
          11,
          11,
          11,
          11,
          11,
          11,
          12,
          12,
          12,
          12,
          12,
          12,
          12,
          12,
          12,
          13,
          13,
          13,
          13,
          13,
          13,
          13,
          13,
          13,
          14,
          14,
          14,
          14,
          14,
          14,
          14,
          14,
          14,
          15,
          15,
          15,
          15,
          15,
          15,
          15,
          15,
          15
         ],
         "xaxis": "x",
         "y": [
          20.8,
          3.2,
          null,
          12.9,
          12.1,
          6.4,
          10.2,
          9.4,
          11.1,
          13,
          null,
          5.3,
          5.8,
          15,
          3.2,
          null,
          0.7,
          17.6,
          2.6,
          13.4,
          null,
          0.3,
          null,
          -0.7,
          null,
          6.8,
          3.6,
          null,
          null,
          null,
          null,
          19.7,
          3.4,
          null,
          14,
          5.1,
          null,
          null,
          null,
          5.3,
          14.2,
          4.5,
          null,
          6.3,
          2.9,
          12.6,
          null,
          null,
          12.6,
          14.1,
          2,
          null,
          8.4,
          16.8,
          null,
          null,
          14.7,
          23.3,
          null,
          null,
          null,
          null,
          null,
          4.5,
          null,
          null,
          26.5,
          12.8,
          2.3,
          5.9,
          3.1,
          2,
          null,
          2.9,
          9.9,
          6.7,
          9.2,
          2.4,
          9.9,
          4,
          2.5,
          null,
          4.6,
          null,
          2.8,
          8.8,
          null,
          7.1,
          3.6,
          null,
          null,
          20.3,
          7.4,
          7.3,
          19.6,
          2.5,
          null,
          4.5,
          2.4,
          null,
          7,
          15.2,
          null,
          14,
          3.3,
          3.5,
          5.8,
          1,
          null,
          null,
          15.5,
          null,
          26.5,
          16.9,
          9.7,
          4.6,
          12.7,
          3.7,
          3.5,
          8.4,
          null,
          12.8,
          16.2,
          7.2,
          5.4,
          15.8,
          2.5,
          18.3,
          19.1,
          null,
          7.3,
          8,
          null,
          6.9,
          3.6
         ],
         "yaxis": "y"
        },
        {
         "alignmentgroup": "True",
         "hovertemplate": "position=RB<br>Week=%{x}<br>pts_half_ppr=%{y}<extra></extra>",
         "legendgroup": "RB",
         "marker": {
          "color": "#ab63fa",
          "pattern": {
           "shape": ""
          }
         },
         "name": "RB",
         "offsetgroup": "RB",
         "orientation": "v",
         "showlegend": true,
         "textposition": "auto",
         "type": "bar",
         "x": [
          1,
          1,
          1,
          1,
          2,
          2,
          2,
          2,
          3,
          3,
          3,
          3,
          4,
          4,
          4,
          4,
          5,
          5,
          5,
          5,
          6,
          6,
          6,
          6,
          7,
          7,
          7,
          7,
          8,
          8,
          8,
          8,
          9,
          9,
          9,
          9,
          10,
          10,
          10,
          10,
          11,
          11,
          11,
          11,
          12,
          12,
          12,
          12,
          13,
          13,
          13,
          13,
          14,
          14,
          14,
          14,
          15,
          15,
          15,
          15
         ],
         "xaxis": "x",
         "y": [
          1.8,
          3.2,
          null,
          15.2,
          1.6,
          7.9,
          null,
          15.7,
          null,
          18.4,
          null,
          null,
          1.7,
          26.1,
          null,
          14.1,
          19.3,
          0.9,
          null,
          16.4,
          8.9,
          null,
          null,
          23.7,
          13.6,
          null,
          null,
          7.9,
          15,
          null,
          7.3,
          21.8,
          13.7,
          null,
          null,
          7.3,
          null,
          null,
          11.6,
          6.1,
          2.5,
          8.6,
          0.1,
          null,
          3.2,
          7.3,
          1.1,
          15.3,
          7.4,
          10.4,
          2.6,
          null,
          10.4,
          17,
          -0.5,
          null,
          9.2,
          6.4,
          -0.9,
          3.7
         ],
         "yaxis": "y"
        },
        {
         "alignmentgroup": "True",
         "hovertemplate": "position=TE<br>Week=%{x}<br>pts_half_ppr=%{y}<extra></extra>",
         "legendgroup": "TE",
         "marker": {
          "color": "#FFA15A",
          "pattern": {
           "shape": ""
          }
         },
         "name": "TE",
         "offsetgroup": "TE",
         "orientation": "v",
         "showlegend": true,
         "textposition": "auto",
         "type": "bar",
         "x": [
          1,
          2,
          3,
          4,
          5,
          6,
          7,
          8,
          9,
          10,
          11,
          12,
          13,
          14,
          15
         ],
         "xaxis": "x",
         "y": [
          6.1,
          9.7,
          12.9,
          18.2,
          19.2,
          6,
          null,
          null,
          null,
          2.2,
          11,
          16.7,
          2.4,
          15.5,
          5.8
         ],
         "yaxis": "y"
        },
        {
         "alignmentgroup": "True",
         "hovertemplate": "position=DEF<br>Week=%{x}<br>pts_half_ppr=%{y}<extra></extra>",
         "legendgroup": "DEF",
         "marker": {
          "color": "#19d3f3",
          "pattern": {
           "shape": ""
          }
         },
         "name": "DEF",
         "offsetgroup": "DEF",
         "orientation": "v",
         "showlegend": true,
         "textposition": "auto",
         "type": "bar",
         "x": [
          1,
          2,
          3,
          4,
          5,
          6,
          7,
          8,
          9,
          10,
          11,
          12,
          13,
          14,
          15
         ],
         "xaxis": "x",
         "y": [
          5,
          13,
          2,
          3,
          9,
          11,
          null,
          9,
          12,
          4,
          2,
          9,
          8,
          7,
          17
         ],
         "yaxis": "y"
        }
       ],
       "layout": {
        "barmode": "group",
        "legend": {
         "title": {
          "text": "position"
         },
         "tracegroupgap": 0
        },
        "margin": {
         "t": 60
        },
        "template": {
         "data": {
          "bar": [
           {
            "error_x": {
             "color": "#2a3f5f"
            },
            "error_y": {
             "color": "#2a3f5f"
            },
            "marker": {
             "line": {
              "color": "#E5ECF6",
              "width": 0.5
             },
             "pattern": {
              "fillmode": "overlay",
              "size": 10,
              "solidity": 0.2
             }
            },
            "type": "bar"
           }
          ],
          "barpolar": [
           {
            "marker": {
             "line": {
              "color": "#E5ECF6",
              "width": 0.5
             },
             "pattern": {
              "fillmode": "overlay",
              "size": 10,
              "solidity": 0.2
             }
            },
            "type": "barpolar"
           }
          ],
          "carpet": [
           {
            "aaxis": {
             "endlinecolor": "#2a3f5f",
             "gridcolor": "white",
             "linecolor": "white",
             "minorgridcolor": "white",
             "startlinecolor": "#2a3f5f"
            },
            "baxis": {
             "endlinecolor": "#2a3f5f",
             "gridcolor": "white",
             "linecolor": "white",
             "minorgridcolor": "white",
             "startlinecolor": "#2a3f5f"
            },
            "type": "carpet"
           }
          ],
          "choropleth": [
           {
            "colorbar": {
             "outlinewidth": 0,
             "ticks": ""
            },
            "type": "choropleth"
           }
          ],
          "contour": [
           {
            "colorbar": {
             "outlinewidth": 0,
             "ticks": ""
            },
            "colorscale": [
             [
              0,
              "#0d0887"
             ],
             [
              0.1111111111111111,
              "#46039f"
             ],
             [
              0.2222222222222222,
              "#7201a8"
             ],
             [
              0.3333333333333333,
              "#9c179e"
             ],
             [
              0.4444444444444444,
              "#bd3786"
             ],
             [
              0.5555555555555556,
              "#d8576b"
             ],
             [
              0.6666666666666666,
              "#ed7953"
             ],
             [
              0.7777777777777778,
              "#fb9f3a"
             ],
             [
              0.8888888888888888,
              "#fdca26"
             ],
             [
              1,
              "#f0f921"
             ]
            ],
            "type": "contour"
           }
          ],
          "contourcarpet": [
           {
            "colorbar": {
             "outlinewidth": 0,
             "ticks": ""
            },
            "type": "contourcarpet"
           }
          ],
          "heatmap": [
           {
            "colorbar": {
             "outlinewidth": 0,
             "ticks": ""
            },
            "colorscale": [
             [
              0,
              "#0d0887"
             ],
             [
              0.1111111111111111,
              "#46039f"
             ],
             [
              0.2222222222222222,
              "#7201a8"
             ],
             [
              0.3333333333333333,
              "#9c179e"
             ],
             [
              0.4444444444444444,
              "#bd3786"
             ],
             [
              0.5555555555555556,
              "#d8576b"
             ],
             [
              0.6666666666666666,
              "#ed7953"
             ],
             [
              0.7777777777777778,
              "#fb9f3a"
             ],
             [
              0.8888888888888888,
              "#fdca26"
             ],
             [
              1,
              "#f0f921"
             ]
            ],
            "type": "heatmap"
           }
          ],
          "heatmapgl": [
           {
            "colorbar": {
             "outlinewidth": 0,
             "ticks": ""
            },
            "colorscale": [
             [
              0,
              "#0d0887"
             ],
             [
              0.1111111111111111,
              "#46039f"
             ],
             [
              0.2222222222222222,
              "#7201a8"
             ],
             [
              0.3333333333333333,
              "#9c179e"
             ],
             [
              0.4444444444444444,
              "#bd3786"
             ],
             [
              0.5555555555555556,
              "#d8576b"
             ],
             [
              0.6666666666666666,
              "#ed7953"
             ],
             [
              0.7777777777777778,
              "#fb9f3a"
             ],
             [
              0.8888888888888888,
              "#fdca26"
             ],
             [
              1,
              "#f0f921"
             ]
            ],
            "type": "heatmapgl"
           }
          ],
          "histogram": [
           {
            "marker": {
             "pattern": {
              "fillmode": "overlay",
              "size": 10,
              "solidity": 0.2
             }
            },
            "type": "histogram"
           }
          ],
          "histogram2d": [
           {
            "colorbar": {
             "outlinewidth": 0,
             "ticks": ""
            },
            "colorscale": [
             [
              0,
              "#0d0887"
             ],
             [
              0.1111111111111111,
              "#46039f"
             ],
             [
              0.2222222222222222,
              "#7201a8"
             ],
             [
              0.3333333333333333,
              "#9c179e"
             ],
             [
              0.4444444444444444,
              "#bd3786"
             ],
             [
              0.5555555555555556,
              "#d8576b"
             ],
             [
              0.6666666666666666,
              "#ed7953"
             ],
             [
              0.7777777777777778,
              "#fb9f3a"
             ],
             [
              0.8888888888888888,
              "#fdca26"
             ],
             [
              1,
              "#f0f921"
             ]
            ],
            "type": "histogram2d"
           }
          ],
          "histogram2dcontour": [
           {
            "colorbar": {
             "outlinewidth": 0,
             "ticks": ""
            },
            "colorscale": [
             [
              0,
              "#0d0887"
             ],
             [
              0.1111111111111111,
              "#46039f"
             ],
             [
              0.2222222222222222,
              "#7201a8"
             ],
             [
              0.3333333333333333,
              "#9c179e"
             ],
             [
              0.4444444444444444,
              "#bd3786"
             ],
             [
              0.5555555555555556,
              "#d8576b"
             ],
             [
              0.6666666666666666,
              "#ed7953"
             ],
             [
              0.7777777777777778,
              "#fb9f3a"
             ],
             [
              0.8888888888888888,
              "#fdca26"
             ],
             [
              1,
              "#f0f921"
             ]
            ],
            "type": "histogram2dcontour"
           }
          ],
          "mesh3d": [
           {
            "colorbar": {
             "outlinewidth": 0,
             "ticks": ""
            },
            "type": "mesh3d"
           }
          ],
          "parcoords": [
           {
            "line": {
             "colorbar": {
              "outlinewidth": 0,
              "ticks": ""
             }
            },
            "type": "parcoords"
           }
          ],
          "pie": [
           {
            "automargin": true,
            "type": "pie"
           }
          ],
          "scatter": [
           {
            "marker": {
             "colorbar": {
              "outlinewidth": 0,
              "ticks": ""
             }
            },
            "type": "scatter"
           }
          ],
          "scatter3d": [
           {
            "line": {
             "colorbar": {
              "outlinewidth": 0,
              "ticks": ""
             }
            },
            "marker": {
             "colorbar": {
              "outlinewidth": 0,
              "ticks": ""
             }
            },
            "type": "scatter3d"
           }
          ],
          "scattercarpet": [
           {
            "marker": {
             "colorbar": {
              "outlinewidth": 0,
              "ticks": ""
             }
            },
            "type": "scattercarpet"
           }
          ],
          "scattergeo": [
           {
            "marker": {
             "colorbar": {
              "outlinewidth": 0,
              "ticks": ""
             }
            },
            "type": "scattergeo"
           }
          ],
          "scattergl": [
           {
            "marker": {
             "colorbar": {
              "outlinewidth": 0,
              "ticks": ""
             }
            },
            "type": "scattergl"
           }
          ],
          "scattermapbox": [
           {
            "marker": {
             "colorbar": {
              "outlinewidth": 0,
              "ticks": ""
             }
            },
            "type": "scattermapbox"
           }
          ],
          "scatterpolar": [
           {
            "marker": {
             "colorbar": {
              "outlinewidth": 0,
              "ticks": ""
             }
            },
            "type": "scatterpolar"
           }
          ],
          "scatterpolargl": [
           {
            "marker": {
             "colorbar": {
              "outlinewidth": 0,
              "ticks": ""
             }
            },
            "type": "scatterpolargl"
           }
          ],
          "scatterternary": [
           {
            "marker": {
             "colorbar": {
              "outlinewidth": 0,
              "ticks": ""
             }
            },
            "type": "scatterternary"
           }
          ],
          "surface": [
           {
            "colorbar": {
             "outlinewidth": 0,
             "ticks": ""
            },
            "colorscale": [
             [
              0,
              "#0d0887"
             ],
             [
              0.1111111111111111,
              "#46039f"
             ],
             [
              0.2222222222222222,
              "#7201a8"
             ],
             [
              0.3333333333333333,
              "#9c179e"
             ],
             [
              0.4444444444444444,
              "#bd3786"
             ],
             [
              0.5555555555555556,
              "#d8576b"
             ],
             [
              0.6666666666666666,
              "#ed7953"
             ],
             [
              0.7777777777777778,
              "#fb9f3a"
             ],
             [
              0.8888888888888888,
              "#fdca26"
             ],
             [
              1,
              "#f0f921"
             ]
            ],
            "type": "surface"
           }
          ],
          "table": [
           {
            "cells": {
             "fill": {
              "color": "#EBF0F8"
             },
             "line": {
              "color": "white"
             }
            },
            "header": {
             "fill": {
              "color": "#C8D4E3"
             },
             "line": {
              "color": "white"
             }
            },
            "type": "table"
           }
          ]
         },
         "layout": {
          "annotationdefaults": {
           "arrowcolor": "#2a3f5f",
           "arrowhead": 0,
           "arrowwidth": 1
          },
          "autotypenumbers": "strict",
          "coloraxis": {
           "colorbar": {
            "outlinewidth": 0,
            "ticks": ""
           }
          },
          "colorscale": {
           "diverging": [
            [
             0,
             "#8e0152"
            ],
            [
             0.1,
             "#c51b7d"
            ],
            [
             0.2,
             "#de77ae"
            ],
            [
             0.3,
             "#f1b6da"
            ],
            [
             0.4,
             "#fde0ef"
            ],
            [
             0.5,
             "#f7f7f7"
            ],
            [
             0.6,
             "#e6f5d0"
            ],
            [
             0.7,
             "#b8e186"
            ],
            [
             0.8,
             "#7fbc41"
            ],
            [
             0.9,
             "#4d9221"
            ],
            [
             1,
             "#276419"
            ]
           ],
           "sequential": [
            [
             0,
             "#0d0887"
            ],
            [
             0.1111111111111111,
             "#46039f"
            ],
            [
             0.2222222222222222,
             "#7201a8"
            ],
            [
             0.3333333333333333,
             "#9c179e"
            ],
            [
             0.4444444444444444,
             "#bd3786"
            ],
            [
             0.5555555555555556,
             "#d8576b"
            ],
            [
             0.6666666666666666,
             "#ed7953"
            ],
            [
             0.7777777777777778,
             "#fb9f3a"
            ],
            [
             0.8888888888888888,
             "#fdca26"
            ],
            [
             1,
             "#f0f921"
            ]
           ],
           "sequentialminus": [
            [
             0,
             "#0d0887"
            ],
            [
             0.1111111111111111,
             "#46039f"
            ],
            [
             0.2222222222222222,
             "#7201a8"
            ],
            [
             0.3333333333333333,
             "#9c179e"
            ],
            [
             0.4444444444444444,
             "#bd3786"
            ],
            [
             0.5555555555555556,
             "#d8576b"
            ],
            [
             0.6666666666666666,
             "#ed7953"
            ],
            [
             0.7777777777777778,
             "#fb9f3a"
            ],
            [
             0.8888888888888888,
             "#fdca26"
            ],
            [
             1,
             "#f0f921"
            ]
           ]
          },
          "colorway": [
           "#636efa",
           "#EF553B",
           "#00cc96",
           "#ab63fa",
           "#FFA15A",
           "#19d3f3",
           "#FF6692",
           "#B6E880",
           "#FF97FF",
           "#FECB52"
          ],
          "font": {
           "color": "#2a3f5f"
          },
          "geo": {
           "bgcolor": "white",
           "lakecolor": "white",
           "landcolor": "#E5ECF6",
           "showlakes": true,
           "showland": true,
           "subunitcolor": "white"
          },
          "hoverlabel": {
           "align": "left"
          },
          "hovermode": "closest",
          "mapbox": {
           "style": "light"
          },
          "paper_bgcolor": "white",
          "plot_bgcolor": "#E5ECF6",
          "polar": {
           "angularaxis": {
            "gridcolor": "white",
            "linecolor": "white",
            "ticks": ""
           },
           "bgcolor": "#E5ECF6",
           "radialaxis": {
            "gridcolor": "white",
            "linecolor": "white",
            "ticks": ""
           }
          },
          "scene": {
           "xaxis": {
            "backgroundcolor": "#E5ECF6",
            "gridcolor": "white",
            "gridwidth": 2,
            "linecolor": "white",
            "showbackground": true,
            "ticks": "",
            "zerolinecolor": "white"
           },
           "yaxis": {
            "backgroundcolor": "#E5ECF6",
            "gridcolor": "white",
            "gridwidth": 2,
            "linecolor": "white",
            "showbackground": true,
            "ticks": "",
            "zerolinecolor": "white"
           },
           "zaxis": {
            "backgroundcolor": "#E5ECF6",
            "gridcolor": "white",
            "gridwidth": 2,
            "linecolor": "white",
            "showbackground": true,
            "ticks": "",
            "zerolinecolor": "white"
           }
          },
          "shapedefaults": {
           "line": {
            "color": "#2a3f5f"
           }
          },
          "ternary": {
           "aaxis": {
            "gridcolor": "white",
            "linecolor": "white",
            "ticks": ""
           },
           "baxis": {
            "gridcolor": "white",
            "linecolor": "white",
            "ticks": ""
           },
           "bgcolor": "#E5ECF6",
           "caxis": {
            "gridcolor": "white",
            "linecolor": "white",
            "ticks": ""
           }
          },
          "title": {
           "x": 0.05
          },
          "xaxis": {
           "automargin": true,
           "gridcolor": "white",
           "linecolor": "white",
           "ticks": "",
           "title": {
            "standoff": 15
           },
           "zerolinecolor": "white",
           "zerolinewidth": 2
          },
          "yaxis": {
           "automargin": true,
           "gridcolor": "white",
           "linecolor": "white",
           "ticks": "",
           "title": {
            "standoff": 15
           },
           "zerolinecolor": "white",
           "zerolinewidth": 2
          }
         }
        },
        "xaxis": {
         "anchor": "y",
         "domain": [
          0,
          1
         ],
         "title": {
          "text": "Week"
         }
        },
        "yaxis": {
         "anchor": "x",
         "domain": [
          0,
          1
         ],
         "title": {
          "text": "pts_half_ppr"
         }
        }
       }
      },
      "text/html": [
       "<div>                            <div id=\"e3f4c039-13e1-4826-8be7-654abc5a8571\" class=\"plotly-graph-div\" style=\"height:525px; width:100%;\"></div>            <script type=\"text/javascript\">                require([\"plotly\"], function(Plotly) {                    window.PLOTLYENV=window.PLOTLYENV || {};                                    if (document.getElementById(\"e3f4c039-13e1-4826-8be7-654abc5a8571\")) {                    Plotly.newPlot(                        \"e3f4c039-13e1-4826-8be7-654abc5a8571\",                        [{\"alignmentgroup\":\"True\",\"hovertemplate\":\"position=QB<br>Week=%{x}<br>pts_half_ppr=%{y}<extra></extra>\",\"legendgroup\":\"QB\",\"marker\":{\"color\":\"#636efa\",\"pattern\":{\"shape\":\"\"}},\"name\":\"QB\",\"offsetgroup\":\"QB\",\"orientation\":\"v\",\"showlegend\":true,\"textposition\":\"auto\",\"type\":\"bar\",\"x\":[1,2,3,4,5,6,7,8,9,10,11,12,13,14,15],\"xaxis\":\"x\",\"y\":[22.04,24.26,24.12,11.12,14.4,27.52,null,12.16,21.58,16.46,24.24,16.52,19.2,16.04,10.48],\"yaxis\":\"y\"},{\"alignmentgroup\":\"True\",\"hovertemplate\":\"position=K<br>Week=%{x}<br>pts_half_ppr=%{y}<extra></extra>\",\"legendgroup\":\"K\",\"marker\":{\"color\":\"#EF553B\",\"pattern\":{\"shape\":\"\"}},\"name\":\"K\",\"offsetgroup\":\"K\",\"orientation\":\"v\",\"showlegend\":true,\"textposition\":\"auto\",\"type\":\"bar\",\"x\":[1,2,3,4,5,6,7,8,9,10,11,12,13,14,15],\"xaxis\":\"x\",\"y\":[4.0,5.0,6.0,4.0,4.0,10.0,4.0,7.0,null,null,7.0,1.0,3.0,5.0,4.0],\"yaxis\":\"y\"},{\"alignmentgroup\":\"True\",\"hovertemplate\":\"position=WR<br>Week=%{x}<br>pts_half_ppr=%{y}<extra></extra>\",\"legendgroup\":\"WR\",\"marker\":{\"color\":\"#00cc96\",\"pattern\":{\"shape\":\"\"}},\"name\":\"WR\",\"offsetgroup\":\"WR\",\"orientation\":\"v\",\"showlegend\":true,\"textposition\":\"auto\",\"type\":\"bar\",\"x\":[1,1,1,1,1,1,1,1,1,2,2,2,2,2,2,2,2,2,3,3,3,3,3,3,3,3,3,4,4,4,4,4,4,4,4,4,5,5,5,5,5,5,5,5,5,6,6,6,6,6,6,6,6,6,7,7,7,7,7,7,7,7,7,8,8,8,8,8,8,8,8,8,9,9,9,9,9,9,9,9,9,10,10,10,10,10,10,10,10,10,11,11,11,11,11,11,11,11,11,12,12,12,12,12,12,12,12,12,13,13,13,13,13,13,13,13,13,14,14,14,14,14,14,14,14,14,15,15,15,15,15,15,15,15,15],\"xaxis\":\"x\",\"y\":[20.8,3.2,null,12.9,12.1,6.4,10.2,9.4,11.1,13.0,null,5.3,5.8,15.0,3.2,null,0.7,17.6,2.6,13.4,null,0.3,null,-0.7,null,6.8,3.6,null,null,null,null,19.7,3.4,null,14.0,5.1,null,null,null,5.3,14.2,4.5,null,6.3,2.9,12.6,null,null,12.6,14.1,2.0,null,8.4,16.8,null,null,14.7,23.3,null,null,null,null,null,4.5,null,null,26.5,12.8,2.3,5.9,3.1,2.0,null,2.9,9.9,6.7,9.2,2.4,9.9,4.0,2.5,null,4.6,null,2.8,8.8,null,7.1,3.6,null,null,20.3,7.4,7.3,19.6,2.5,null,4.5,2.4,null,7.0,15.2,null,14.0,3.3,3.5,5.8,1.0,null,null,15.5,null,26.5,16.9,9.7,4.6,12.7,3.7,3.5,8.4,null,12.8,16.2,7.2,5.4,15.8,2.5,18.3,19.1,null,7.3,8.0,null,6.9,3.6],\"yaxis\":\"y\"},{\"alignmentgroup\":\"True\",\"hovertemplate\":\"position=RB<br>Week=%{x}<br>pts_half_ppr=%{y}<extra></extra>\",\"legendgroup\":\"RB\",\"marker\":{\"color\":\"#ab63fa\",\"pattern\":{\"shape\":\"\"}},\"name\":\"RB\",\"offsetgroup\":\"RB\",\"orientation\":\"v\",\"showlegend\":true,\"textposition\":\"auto\",\"type\":\"bar\",\"x\":[1,1,1,1,2,2,2,2,3,3,3,3,4,4,4,4,5,5,5,5,6,6,6,6,7,7,7,7,8,8,8,8,9,9,9,9,10,10,10,10,11,11,11,11,12,12,12,12,13,13,13,13,14,14,14,14,15,15,15,15],\"xaxis\":\"x\",\"y\":[1.8,3.2,null,15.2,1.6,7.9,null,15.7,null,18.4,null,null,1.7,26.1,null,14.1,19.3,0.9,null,16.4,8.9,null,null,23.7,13.6,null,null,7.9,15.0,null,7.3,21.8,13.7,null,null,7.3,null,null,11.6,6.1,2.5,8.6,0.1,null,3.2,7.3,1.1,15.3,7.4,10.4,2.6,null,10.4,17.0,-0.5,null,9.2,6.4,-0.9,3.7],\"yaxis\":\"y\"},{\"alignmentgroup\":\"True\",\"hovertemplate\":\"position=TE<br>Week=%{x}<br>pts_half_ppr=%{y}<extra></extra>\",\"legendgroup\":\"TE\",\"marker\":{\"color\":\"#FFA15A\",\"pattern\":{\"shape\":\"\"}},\"name\":\"TE\",\"offsetgroup\":\"TE\",\"orientation\":\"v\",\"showlegend\":true,\"textposition\":\"auto\",\"type\":\"bar\",\"x\":[1,2,3,4,5,6,7,8,9,10,11,12,13,14,15],\"xaxis\":\"x\",\"y\":[6.1,9.7,12.9,18.2,19.2,6.0,null,null,null,2.2,11.0,16.7,2.4,15.5,5.8],\"yaxis\":\"y\"},{\"alignmentgroup\":\"True\",\"hovertemplate\":\"position=DEF<br>Week=%{x}<br>pts_half_ppr=%{y}<extra></extra>\",\"legendgroup\":\"DEF\",\"marker\":{\"color\":\"#19d3f3\",\"pattern\":{\"shape\":\"\"}},\"name\":\"DEF\",\"offsetgroup\":\"DEF\",\"orientation\":\"v\",\"showlegend\":true,\"textposition\":\"auto\",\"type\":\"bar\",\"x\":[1,2,3,4,5,6,7,8,9,10,11,12,13,14,15],\"xaxis\":\"x\",\"y\":[5.0,13.0,2.0,3.0,9.0,11.0,null,9.0,12.0,4.0,2.0,9.0,8.0,7.0,17.0],\"yaxis\":\"y\"}],                        {\"barmode\":\"group\",\"legend\":{\"title\":{\"text\":\"position\"},\"tracegroupgap\":0},\"margin\":{\"t\":60},\"template\":{\"data\":{\"bar\":[{\"error_x\":{\"color\":\"#2a3f5f\"},\"error_y\":{\"color\":\"#2a3f5f\"},\"marker\":{\"line\":{\"color\":\"#E5ECF6\",\"width\":0.5},\"pattern\":{\"fillmode\":\"overlay\",\"size\":10,\"solidity\":0.2}},\"type\":\"bar\"}],\"barpolar\":[{\"marker\":{\"line\":{\"color\":\"#E5ECF6\",\"width\":0.5},\"pattern\":{\"fillmode\":\"overlay\",\"size\":10,\"solidity\":0.2}},\"type\":\"barpolar\"}],\"carpet\":[{\"aaxis\":{\"endlinecolor\":\"#2a3f5f\",\"gridcolor\":\"white\",\"linecolor\":\"white\",\"minorgridcolor\":\"white\",\"startlinecolor\":\"#2a3f5f\"},\"baxis\":{\"endlinecolor\":\"#2a3f5f\",\"gridcolor\":\"white\",\"linecolor\":\"white\",\"minorgridcolor\":\"white\",\"startlinecolor\":\"#2a3f5f\"},\"type\":\"carpet\"}],\"choropleth\":[{\"colorbar\":{\"outlinewidth\":0,\"ticks\":\"\"},\"type\":\"choropleth\"}],\"contour\":[{\"colorbar\":{\"outlinewidth\":0,\"ticks\":\"\"},\"colorscale\":[[0.0,\"#0d0887\"],[0.1111111111111111,\"#46039f\"],[0.2222222222222222,\"#7201a8\"],[0.3333333333333333,\"#9c179e\"],[0.4444444444444444,\"#bd3786\"],[0.5555555555555556,\"#d8576b\"],[0.6666666666666666,\"#ed7953\"],[0.7777777777777778,\"#fb9f3a\"],[0.8888888888888888,\"#fdca26\"],[1.0,\"#f0f921\"]],\"type\":\"contour\"}],\"contourcarpet\":[{\"colorbar\":{\"outlinewidth\":0,\"ticks\":\"\"},\"type\":\"contourcarpet\"}],\"heatmap\":[{\"colorbar\":{\"outlinewidth\":0,\"ticks\":\"\"},\"colorscale\":[[0.0,\"#0d0887\"],[0.1111111111111111,\"#46039f\"],[0.2222222222222222,\"#7201a8\"],[0.3333333333333333,\"#9c179e\"],[0.4444444444444444,\"#bd3786\"],[0.5555555555555556,\"#d8576b\"],[0.6666666666666666,\"#ed7953\"],[0.7777777777777778,\"#fb9f3a\"],[0.8888888888888888,\"#fdca26\"],[1.0,\"#f0f921\"]],\"type\":\"heatmap\"}],\"heatmapgl\":[{\"colorbar\":{\"outlinewidth\":0,\"ticks\":\"\"},\"colorscale\":[[0.0,\"#0d0887\"],[0.1111111111111111,\"#46039f\"],[0.2222222222222222,\"#7201a8\"],[0.3333333333333333,\"#9c179e\"],[0.4444444444444444,\"#bd3786\"],[0.5555555555555556,\"#d8576b\"],[0.6666666666666666,\"#ed7953\"],[0.7777777777777778,\"#fb9f3a\"],[0.8888888888888888,\"#fdca26\"],[1.0,\"#f0f921\"]],\"type\":\"heatmapgl\"}],\"histogram\":[{\"marker\":{\"pattern\":{\"fillmode\":\"overlay\",\"size\":10,\"solidity\":0.2}},\"type\":\"histogram\"}],\"histogram2d\":[{\"colorbar\":{\"outlinewidth\":0,\"ticks\":\"\"},\"colorscale\":[[0.0,\"#0d0887\"],[0.1111111111111111,\"#46039f\"],[0.2222222222222222,\"#7201a8\"],[0.3333333333333333,\"#9c179e\"],[0.4444444444444444,\"#bd3786\"],[0.5555555555555556,\"#d8576b\"],[0.6666666666666666,\"#ed7953\"],[0.7777777777777778,\"#fb9f3a\"],[0.8888888888888888,\"#fdca26\"],[1.0,\"#f0f921\"]],\"type\":\"histogram2d\"}],\"histogram2dcontour\":[{\"colorbar\":{\"outlinewidth\":0,\"ticks\":\"\"},\"colorscale\":[[0.0,\"#0d0887\"],[0.1111111111111111,\"#46039f\"],[0.2222222222222222,\"#7201a8\"],[0.3333333333333333,\"#9c179e\"],[0.4444444444444444,\"#bd3786\"],[0.5555555555555556,\"#d8576b\"],[0.6666666666666666,\"#ed7953\"],[0.7777777777777778,\"#fb9f3a\"],[0.8888888888888888,\"#fdca26\"],[1.0,\"#f0f921\"]],\"type\":\"histogram2dcontour\"}],\"mesh3d\":[{\"colorbar\":{\"outlinewidth\":0,\"ticks\":\"\"},\"type\":\"mesh3d\"}],\"parcoords\":[{\"line\":{\"colorbar\":{\"outlinewidth\":0,\"ticks\":\"\"}},\"type\":\"parcoords\"}],\"pie\":[{\"automargin\":true,\"type\":\"pie\"}],\"scatter\":[{\"marker\":{\"colorbar\":{\"outlinewidth\":0,\"ticks\":\"\"}},\"type\":\"scatter\"}],\"scatter3d\":[{\"line\":{\"colorbar\":{\"outlinewidth\":0,\"ticks\":\"\"}},\"marker\":{\"colorbar\":{\"outlinewidth\":0,\"ticks\":\"\"}},\"type\":\"scatter3d\"}],\"scattercarpet\":[{\"marker\":{\"colorbar\":{\"outlinewidth\":0,\"ticks\":\"\"}},\"type\":\"scattercarpet\"}],\"scattergeo\":[{\"marker\":{\"colorbar\":{\"outlinewidth\":0,\"ticks\":\"\"}},\"type\":\"scattergeo\"}],\"scattergl\":[{\"marker\":{\"colorbar\":{\"outlinewidth\":0,\"ticks\":\"\"}},\"type\":\"scattergl\"}],\"scattermapbox\":[{\"marker\":{\"colorbar\":{\"outlinewidth\":0,\"ticks\":\"\"}},\"type\":\"scattermapbox\"}],\"scatterpolar\":[{\"marker\":{\"colorbar\":{\"outlinewidth\":0,\"ticks\":\"\"}},\"type\":\"scatterpolar\"}],\"scatterpolargl\":[{\"marker\":{\"colorbar\":{\"outlinewidth\":0,\"ticks\":\"\"}},\"type\":\"scatterpolargl\"}],\"scatterternary\":[{\"marker\":{\"colorbar\":{\"outlinewidth\":0,\"ticks\":\"\"}},\"type\":\"scatterternary\"}],\"surface\":[{\"colorbar\":{\"outlinewidth\":0,\"ticks\":\"\"},\"colorscale\":[[0.0,\"#0d0887\"],[0.1111111111111111,\"#46039f\"],[0.2222222222222222,\"#7201a8\"],[0.3333333333333333,\"#9c179e\"],[0.4444444444444444,\"#bd3786\"],[0.5555555555555556,\"#d8576b\"],[0.6666666666666666,\"#ed7953\"],[0.7777777777777778,\"#fb9f3a\"],[0.8888888888888888,\"#fdca26\"],[1.0,\"#f0f921\"]],\"type\":\"surface\"}],\"table\":[{\"cells\":{\"fill\":{\"color\":\"#EBF0F8\"},\"line\":{\"color\":\"white\"}},\"header\":{\"fill\":{\"color\":\"#C8D4E3\"},\"line\":{\"color\":\"white\"}},\"type\":\"table\"}]},\"layout\":{\"annotationdefaults\":{\"arrowcolor\":\"#2a3f5f\",\"arrowhead\":0,\"arrowwidth\":1},\"autotypenumbers\":\"strict\",\"coloraxis\":{\"colorbar\":{\"outlinewidth\":0,\"ticks\":\"\"}},\"colorscale\":{\"diverging\":[[0,\"#8e0152\"],[0.1,\"#c51b7d\"],[0.2,\"#de77ae\"],[0.3,\"#f1b6da\"],[0.4,\"#fde0ef\"],[0.5,\"#f7f7f7\"],[0.6,\"#e6f5d0\"],[0.7,\"#b8e186\"],[0.8,\"#7fbc41\"],[0.9,\"#4d9221\"],[1,\"#276419\"]],\"sequential\":[[0.0,\"#0d0887\"],[0.1111111111111111,\"#46039f\"],[0.2222222222222222,\"#7201a8\"],[0.3333333333333333,\"#9c179e\"],[0.4444444444444444,\"#bd3786\"],[0.5555555555555556,\"#d8576b\"],[0.6666666666666666,\"#ed7953\"],[0.7777777777777778,\"#fb9f3a\"],[0.8888888888888888,\"#fdca26\"],[1.0,\"#f0f921\"]],\"sequentialminus\":[[0.0,\"#0d0887\"],[0.1111111111111111,\"#46039f\"],[0.2222222222222222,\"#7201a8\"],[0.3333333333333333,\"#9c179e\"],[0.4444444444444444,\"#bd3786\"],[0.5555555555555556,\"#d8576b\"],[0.6666666666666666,\"#ed7953\"],[0.7777777777777778,\"#fb9f3a\"],[0.8888888888888888,\"#fdca26\"],[1.0,\"#f0f921\"]]},\"colorway\":[\"#636efa\",\"#EF553B\",\"#00cc96\",\"#ab63fa\",\"#FFA15A\",\"#19d3f3\",\"#FF6692\",\"#B6E880\",\"#FF97FF\",\"#FECB52\"],\"font\":{\"color\":\"#2a3f5f\"},\"geo\":{\"bgcolor\":\"white\",\"lakecolor\":\"white\",\"landcolor\":\"#E5ECF6\",\"showlakes\":true,\"showland\":true,\"subunitcolor\":\"white\"},\"hoverlabel\":{\"align\":\"left\"},\"hovermode\":\"closest\",\"mapbox\":{\"style\":\"light\"},\"paper_bgcolor\":\"white\",\"plot_bgcolor\":\"#E5ECF6\",\"polar\":{\"angularaxis\":{\"gridcolor\":\"white\",\"linecolor\":\"white\",\"ticks\":\"\"},\"bgcolor\":\"#E5ECF6\",\"radialaxis\":{\"gridcolor\":\"white\",\"linecolor\":\"white\",\"ticks\":\"\"}},\"scene\":{\"xaxis\":{\"backgroundcolor\":\"#E5ECF6\",\"gridcolor\":\"white\",\"gridwidth\":2,\"linecolor\":\"white\",\"showbackground\":true,\"ticks\":\"\",\"zerolinecolor\":\"white\"},\"yaxis\":{\"backgroundcolor\":\"#E5ECF6\",\"gridcolor\":\"white\",\"gridwidth\":2,\"linecolor\":\"white\",\"showbackground\":true,\"ticks\":\"\",\"zerolinecolor\":\"white\"},\"zaxis\":{\"backgroundcolor\":\"#E5ECF6\",\"gridcolor\":\"white\",\"gridwidth\":2,\"linecolor\":\"white\",\"showbackground\":true,\"ticks\":\"\",\"zerolinecolor\":\"white\"}},\"shapedefaults\":{\"line\":{\"color\":\"#2a3f5f\"}},\"ternary\":{\"aaxis\":{\"gridcolor\":\"white\",\"linecolor\":\"white\",\"ticks\":\"\"},\"baxis\":{\"gridcolor\":\"white\",\"linecolor\":\"white\",\"ticks\":\"\"},\"bgcolor\":\"#E5ECF6\",\"caxis\":{\"gridcolor\":\"white\",\"linecolor\":\"white\",\"ticks\":\"\"}},\"title\":{\"x\":0.05},\"xaxis\":{\"automargin\":true,\"gridcolor\":\"white\",\"linecolor\":\"white\",\"ticks\":\"\",\"title\":{\"standoff\":15},\"zerolinecolor\":\"white\",\"zerolinewidth\":2},\"yaxis\":{\"automargin\":true,\"gridcolor\":\"white\",\"linecolor\":\"white\",\"ticks\":\"\",\"title\":{\"standoff\":15},\"zerolinecolor\":\"white\",\"zerolinewidth\":2}}},\"xaxis\":{\"anchor\":\"y\",\"domain\":[0.0,1.0],\"title\":{\"text\":\"Week\"}},\"yaxis\":{\"anchor\":\"x\",\"domain\":[0.0,1.0],\"title\":{\"text\":\"pts_half_ppr\"}}},                        {\"responsive\": true}                    ).then(function(){\n",
       "                            \n",
       "var gd = document.getElementById('e3f4c039-13e1-4826-8be7-654abc5a8571');\n",
       "var x = new MutationObserver(function (mutations, observer) {{\n",
       "        var display = window.getComputedStyle(gd).display;\n",
       "        if (!display || display === 'none') {{\n",
       "            console.log([gd, 'removed!']);\n",
       "            Plotly.purge(gd);\n",
       "            observer.disconnect();\n",
       "        }}\n",
       "}});\n",
       "\n",
       "// Listen for the removal of the full notebook cells\n",
       "var notebookContainer = gd.closest('#notebook-container');\n",
       "if (notebookContainer) {{\n",
       "    x.observe(notebookContainer, {childList: true});\n",
       "}}\n",
       "\n",
       "// Listen for the clearing of the current output cell\n",
       "var outputEl = gd.closest('.output');\n",
       "if (outputEl) {{\n",
       "    x.observe(outputEl, {childList: true});\n",
       "}}\n",
       "\n",
       "                        })                };                });            </script>        </div>"
      ]
     },
     "metadata": {},
     "output_type": "display_data"
    }
   ],
   "source": [
    "fig = px.bar(users_wkly_stats, x = \"Week\", y = \"pts_half_ppr\", color = \"position\", barmode = \"group\")\n",
    "fig.show()"
   ]
  },
  {
   "cell_type": "code",
   "execution_count": 61,
   "metadata": {
    "scrolled": false
   },
   "outputs": [
    {
     "data": {
      "application/vnd.plotly.v1+json": {
       "config": {
        "plotlyServerURL": "https://plot.ly"
       },
       "data": [
        {
         "hovertemplate": "Player=Kirk Cousins<br>Week=%{x}<br>pts_half_ppr=%{y}<extra></extra>",
         "legendgroup": "",
         "line": {
          "color": "#636efa",
          "dash": "solid"
         },
         "marker": {
          "symbol": "circle"
         },
         "mode": "lines",
         "name": "",
         "orientation": "v",
         "showlegend": false,
         "type": "scatter",
         "x": [
          1,
          2,
          3,
          4,
          5,
          6,
          7,
          8,
          9,
          10,
          11,
          12,
          13,
          14,
          15
         ],
         "xaxis": "x17",
         "y": [
          22.04,
          24.26,
          24.12,
          11.12,
          14.4,
          27.52,
          null,
          12.16,
          21.58,
          16.46,
          24.24,
          16.52,
          19.2,
          16.04,
          10.48
         ],
         "yaxis": "y17"
        },
        {
         "hovertemplate": "Player=Jason Myers<br>Week=%{x}<br>pts_half_ppr=%{y}<extra></extra>",
         "legendgroup": "",
         "line": {
          "color": "#636efa",
          "dash": "solid"
         },
         "marker": {
          "symbol": "circle"
         },
         "mode": "lines",
         "name": "",
         "orientation": "v",
         "showlegend": false,
         "type": "scatter",
         "x": [
          1,
          2,
          3,
          4,
          5,
          6,
          7,
          8,
          9,
          10,
          11,
          12,
          13,
          14,
          15
         ],
         "xaxis": "x18",
         "y": [
          4,
          5,
          6,
          4,
          4,
          10,
          4,
          7,
          null,
          null,
          7,
          1,
          3,
          5,
          4
         ],
         "yaxis": "y18"
        },
        {
         "hovertemplate": "Player=Sterling Shepard<br>Week=%{x}<br>pts_half_ppr=%{y}<extra></extra>",
         "legendgroup": "",
         "line": {
          "color": "#636efa",
          "dash": "solid"
         },
         "marker": {
          "symbol": "circle"
         },
         "mode": "lines",
         "name": "",
         "orientation": "v",
         "showlegend": false,
         "type": "scatter",
         "x": [
          1,
          2,
          3,
          4,
          5,
          6,
          7,
          8,
          9,
          10,
          11,
          12,
          13,
          14,
          15
         ],
         "xaxis": "x19",
         "y": [
          20.8,
          13,
          2.6,
          null,
          null,
          12.6,
          null,
          4.5,
          null,
          null,
          null,
          null,
          null,
          3.7,
          2.5
         ],
         "yaxis": "y19"
        },
        {
         "hovertemplate": "Player=Devontae Booker<br>Week=%{x}<br>pts_half_ppr=%{y}<extra></extra>",
         "legendgroup": "",
         "line": {
          "color": "#636efa",
          "dash": "solid"
         },
         "marker": {
          "symbol": "circle"
         },
         "mode": "lines",
         "name": "",
         "orientation": "v",
         "showlegend": false,
         "type": "scatter",
         "x": [
          1,
          2,
          3,
          4,
          5,
          6,
          7,
          8,
          9,
          10,
          11,
          12,
          13,
          14,
          15
         ],
         "xaxis": "x20",
         "y": [
          1.8,
          1.6,
          null,
          1.7,
          19.3,
          8.9,
          13.6,
          15,
          13.7,
          null,
          2.5,
          3.2,
          7.4,
          10.4,
          9.2
         ],
         "yaxis": "y20"
        },
        {
         "hovertemplate": "Player=Saquon Barkley<br>Week=%{x}<br>pts_half_ppr=%{y}<extra></extra>",
         "legendgroup": "",
         "line": {
          "color": "#636efa",
          "dash": "solid"
         },
         "marker": {
          "symbol": "circle"
         },
         "mode": "lines",
         "name": "",
         "orientation": "v",
         "showlegend": false,
         "type": "scatter",
         "x": [
          1,
          2,
          3,
          4,
          5,
          6,
          7,
          8,
          9,
          10,
          11,
          12,
          13,
          14,
          15
         ],
         "xaxis": "x13",
         "y": [
          3.2,
          7.9,
          18.4,
          26.1,
          0.9,
          null,
          null,
          null,
          null,
          null,
          8.6,
          7.3,
          10.4,
          17,
          6.4
         ],
         "yaxis": "y13"
        },
        {
         "hovertemplate": "Player=Marquez Valdes-Scantling<br>Week=%{x}<br>pts_half_ppr=%{y}<extra></extra>",
         "legendgroup": "",
         "line": {
          "color": "#636efa",
          "dash": "solid"
         },
         "marker": {
          "symbol": "circle"
         },
         "mode": "lines",
         "name": "",
         "orientation": "v",
         "showlegend": false,
         "type": "scatter",
         "x": [
          1,
          2,
          3,
          4,
          5,
          6,
          7,
          8,
          9,
          10,
          11,
          12,
          13,
          14,
          15
         ],
         "xaxis": "x14",
         "y": [
          3.2,
          null,
          13.4,
          null,
          null,
          null,
          null,
          null,
          2.9,
          4.6,
          20.3,
          7,
          null,
          3.5,
          18.3
         ],
         "yaxis": "y14"
        },
        {
         "hovertemplate": "Player=Russell Gage<br>Week=%{x}<br>pts_half_ppr=%{y}<extra></extra>",
         "legendgroup": "",
         "line": {
          "color": "#636efa",
          "dash": "solid"
         },
         "marker": {
          "symbol": "circle"
         },
         "mode": "lines",
         "name": "",
         "orientation": "v",
         "showlegend": false,
         "type": "scatter",
         "x": [
          1,
          2,
          3,
          4,
          5,
          6,
          7,
          8,
          9,
          10,
          11,
          12,
          13,
          14,
          15
         ],
         "xaxis": "x15",
         "y": [
          null,
          5.3,
          null,
          null,
          null,
          null,
          14.7,
          null,
          9.9,
          null,
          7.4,
          15.2,
          15.5,
          8.4,
          19.1
         ],
         "yaxis": "y15"
        },
        {
         "hovertemplate": "Player=Godwin Igwebuike<br>Week=%{x}<br>pts_half_ppr=%{y}<extra></extra>",
         "legendgroup": "",
         "line": {
          "color": "#636efa",
          "dash": "solid"
         },
         "marker": {
          "symbol": "circle"
         },
         "mode": "lines",
         "name": "",
         "orientation": "v",
         "showlegend": false,
         "type": "scatter",
         "x": [
          1,
          2,
          3,
          4,
          5,
          6,
          7,
          8,
          9,
          10,
          11,
          12,
          13,
          14,
          15
         ],
         "xaxis": "x16",
         "y": [
          null,
          null,
          null,
          null,
          null,
          null,
          null,
          7.3,
          null,
          11.6,
          0.1,
          1.1,
          2.6,
          -0.5,
          -0.9
         ],
         "yaxis": "y16"
        },
        {
         "hovertemplate": "Player=A.J. Brown<br>Week=%{x}<br>pts_half_ppr=%{y}<extra></extra>",
         "legendgroup": "",
         "line": {
          "color": "#636efa",
          "dash": "solid"
         },
         "marker": {
          "symbol": "circle"
         },
         "mode": "lines",
         "name": "",
         "orientation": "v",
         "showlegend": false,
         "type": "scatter",
         "x": [
          1,
          2,
          3,
          4,
          5,
          6,
          7,
          8,
          9,
          10,
          11,
          12,
          13,
          14,
          15
         ],
         "xaxis": "x9",
         "y": [
          12.9,
          5.8,
          0.3,
          null,
          5.3,
          12.6,
          23.3,
          26.5,
          6.7,
          2.8,
          7.3,
          null,
          null,
          null,
          null
         ],
         "yaxis": "y9"
        },
        {
         "hovertemplate": "Player=Dawson Knox<br>Week=%{x}<br>pts_half_ppr=%{y}<extra></extra>",
         "legendgroup": "",
         "line": {
          "color": "#636efa",
          "dash": "solid"
         },
         "marker": {
          "symbol": "circle"
         },
         "mode": "lines",
         "name": "",
         "orientation": "v",
         "showlegend": false,
         "type": "scatter",
         "x": [
          1,
          2,
          3,
          4,
          5,
          6,
          7,
          8,
          9,
          10,
          11,
          12,
          13,
          14,
          15
         ],
         "xaxis": "x10",
         "y": [
          6.1,
          9.7,
          12.9,
          18.2,
          19.2,
          6,
          null,
          null,
          null,
          2.2,
          11,
          16.7,
          2.4,
          15.5,
          5.8
         ],
         "yaxis": "y10"
        },
        {
         "hovertemplate": "Player=Darrell Henderson<br>Week=%{x}<br>pts_half_ppr=%{y}<extra></extra>",
         "legendgroup": "",
         "line": {
          "color": "#636efa",
          "dash": "solid"
         },
         "marker": {
          "symbol": "circle"
         },
         "mode": "lines",
         "name": "",
         "orientation": "v",
         "showlegend": false,
         "type": "scatter",
         "x": [
          1,
          2,
          3,
          4,
          5,
          6,
          7,
          8,
          9,
          10,
          11,
          12,
          13,
          14,
          15
         ],
         "xaxis": "x11",
         "y": [
          15.2,
          15.7,
          null,
          14.1,
          16.4,
          23.7,
          7.9,
          21.8,
          7.3,
          6.1,
          null,
          15.3,
          null,
          null,
          3.7
         ],
         "yaxis": "y11"
        },
        {
         "hovertemplate": "Player=Diontae Johnson<br>Week=%{x}<br>pts_half_ppr=%{y}<extra></extra>",
         "legendgroup": "",
         "line": {
          "color": "#636efa",
          "dash": "solid"
         },
         "marker": {
          "symbol": "circle"
         },
         "mode": "lines",
         "name": "",
         "orientation": "v",
         "showlegend": false,
         "type": "scatter",
         "x": [
          1,
          2,
          3,
          4,
          5,
          6,
          7,
          8,
          9,
          10,
          11,
          12,
          13,
          14,
          15
         ],
         "xaxis": "x12",
         "y": [
          12.1,
          15,
          null,
          19.7,
          14.2,
          14.1,
          null,
          12.8,
          9.2,
          8.8,
          19.6,
          14,
          26.5,
          12.8,
          7.3
         ],
         "yaxis": "y12"
        },
        {
         "hovertemplate": "Player=Jalen Guyton<br>Week=%{x}<br>pts_half_ppr=%{y}<extra></extra>",
         "legendgroup": "",
         "line": {
          "color": "#636efa",
          "dash": "solid"
         },
         "marker": {
          "symbol": "circle"
         },
         "mode": "lines",
         "name": "",
         "orientation": "v",
         "showlegend": false,
         "type": "scatter",
         "x": [
          1,
          2,
          3,
          4,
          5,
          6,
          7,
          8,
          9,
          10,
          11,
          12,
          13,
          14,
          15
         ],
         "xaxis": "x5",
         "y": [
          6.4,
          3.2,
          -0.7,
          3.4,
          4.5,
          2,
          null,
          2.3,
          2.4,
          null,
          2.5,
          3.3,
          16.9,
          16.2,
          8
         ],
         "yaxis": "y5"
        },
        {
         "hovertemplate": "Player=Jerry Jeudy<br>Week=%{x}<br>pts_half_ppr=%{y}<extra></extra>",
         "legendgroup": "",
         "line": {
          "color": "#636efa",
          "dash": "solid"
         },
         "marker": {
          "symbol": "circle"
         },
         "mode": "lines",
         "name": "",
         "orientation": "v",
         "showlegend": false,
         "type": "scatter",
         "x": [
          1,
          2,
          3,
          4,
          5,
          6,
          7,
          8,
          9,
          10,
          11,
          12,
          13,
          14,
          15
         ],
         "xaxis": "x6",
         "y": [
          10.2,
          null,
          null,
          null,
          null,
          null,
          null,
          5.9,
          9.9,
          7.1,
          null,
          3.5,
          9.7,
          7.2,
          null
         ],
         "yaxis": "y6"
        },
        {
         "hovertemplate": "Player=Laviska Shenault<br>Week=%{x}<br>pts_half_ppr=%{y}<extra></extra>",
         "legendgroup": "",
         "line": {
          "color": "#636efa",
          "dash": "solid"
         },
         "marker": {
          "symbol": "circle"
         },
         "mode": "lines",
         "name": "",
         "orientation": "v",
         "showlegend": false,
         "type": "scatter",
         "x": [
          1,
          2,
          3,
          4,
          5,
          6,
          7,
          8,
          9,
          10,
          11,
          12,
          13,
          14,
          15
         ],
         "xaxis": "x7",
         "y": [
          9.4,
          0.7,
          6.8,
          14,
          6.3,
          8.4,
          null,
          3.1,
          4,
          3.6,
          4.5,
          5.8,
          4.6,
          5.4,
          6.9
         ],
         "yaxis": "y7"
        },
        {
         "hovertemplate": "Player=K.J. Osborn<br>Week=%{x}<br>pts_half_ppr=%{y}<extra></extra>",
         "legendgroup": "",
         "line": {
          "color": "#636efa",
          "dash": "solid"
         },
         "marker": {
          "symbol": "circle"
         },
         "mode": "lines",
         "name": "",
         "orientation": "v",
         "showlegend": false,
         "type": "scatter",
         "x": [
          1,
          2,
          3,
          4,
          5,
          6,
          7,
          8,
          9,
          10,
          11,
          12,
          13,
          14,
          15
         ],
         "xaxis": "x8",
         "y": [
          11.1,
          17.6,
          3.6,
          5.1,
          2.9,
          16.8,
          null,
          2,
          2.5,
          null,
          2.4,
          1,
          12.7,
          15.8,
          3.6
         ],
         "yaxis": "y8"
        },
        {
         "hovertemplate": "Player=Minnesota Vikings<br>Week=%{x}<br>pts_half_ppr=%{y}<extra></extra>",
         "legendgroup": "",
         "line": {
          "color": "#636efa",
          "dash": "solid"
         },
         "marker": {
          "symbol": "circle"
         },
         "mode": "lines",
         "name": "",
         "orientation": "v",
         "showlegend": false,
         "type": "scatter",
         "x": [
          1,
          2,
          3,
          4,
          5,
          6,
          7,
          8,
          9,
          10,
          11,
          12,
          13,
          14,
          15
         ],
         "xaxis": "x",
         "y": [
          5,
          13,
          2,
          3,
          9,
          11,
          null,
          9,
          12,
          4,
          2,
          9,
          8,
          7,
          17
         ],
         "yaxis": "y"
        }
       ],
       "layout": {
        "annotations": [
         {
          "font": {},
          "showarrow": false,
          "text": "Player=Minnesota Vikings",
          "x": 0.1175,
          "xanchor": "center",
          "xref": "paper",
          "y": 0.144,
          "yanchor": "bottom",
          "yref": "paper"
         },
         {
          "font": {},
          "showarrow": false,
          "text": "Player=Jalen Guyton",
          "x": 0.1175,
          "xanchor": "center",
          "xref": "paper",
          "y": 0.358,
          "yanchor": "bottom",
          "yref": "paper"
         },
         {
          "font": {},
          "showarrow": false,
          "text": "Player=Jerry Jeudy",
          "x": 0.3725,
          "xanchor": "center",
          "xref": "paper",
          "y": 0.358,
          "yanchor": "bottom",
          "yref": "paper"
         },
         {
          "font": {},
          "showarrow": false,
          "text": "Player=Laviska Shenault",
          "x": 0.6275,
          "xanchor": "center",
          "xref": "paper",
          "y": 0.358,
          "yanchor": "bottom",
          "yref": "paper"
         },
         {
          "font": {},
          "showarrow": false,
          "text": "Player=K.J. Osborn",
          "x": 0.8824999999999998,
          "xanchor": "center",
          "xref": "paper",
          "y": 0.358,
          "yanchor": "bottom",
          "yref": "paper"
         },
         {
          "font": {},
          "showarrow": false,
          "text": "Player=A.J. Brown",
          "x": 0.1175,
          "xanchor": "center",
          "xref": "paper",
          "y": 0.572,
          "yanchor": "bottom",
          "yref": "paper"
         },
         {
          "font": {},
          "showarrow": false,
          "text": "Player=Dawson Knox",
          "x": 0.3725,
          "xanchor": "center",
          "xref": "paper",
          "y": 0.572,
          "yanchor": "bottom",
          "yref": "paper"
         },
         {
          "font": {},
          "showarrow": false,
          "text": "Player=Darrell Henderson",
          "x": 0.6275,
          "xanchor": "center",
          "xref": "paper",
          "y": 0.572,
          "yanchor": "bottom",
          "yref": "paper"
         },
         {
          "font": {},
          "showarrow": false,
          "text": "Player=Diontae Johnson",
          "x": 0.8824999999999998,
          "xanchor": "center",
          "xref": "paper",
          "y": 0.572,
          "yanchor": "bottom",
          "yref": "paper"
         },
         {
          "font": {},
          "showarrow": false,
          "text": "Player=Saquon Barkley",
          "x": 0.1175,
          "xanchor": "center",
          "xref": "paper",
          "y": 0.7859999999999999,
          "yanchor": "bottom",
          "yref": "paper"
         },
         {
          "font": {},
          "showarrow": false,
          "text": "Player=Marquez Valdes-Scantling",
          "x": 0.3725,
          "xanchor": "center",
          "xref": "paper",
          "y": 0.7859999999999999,
          "yanchor": "bottom",
          "yref": "paper"
         },
         {
          "font": {},
          "showarrow": false,
          "text": "Player=Russell Gage",
          "x": 0.6275,
          "xanchor": "center",
          "xref": "paper",
          "y": 0.7859999999999999,
          "yanchor": "bottom",
          "yref": "paper"
         },
         {
          "font": {},
          "showarrow": false,
          "text": "Player=Godwin Igwebuike",
          "x": 0.8824999999999998,
          "xanchor": "center",
          "xref": "paper",
          "y": 0.7859999999999999,
          "yanchor": "bottom",
          "yref": "paper"
         },
         {
          "font": {},
          "showarrow": false,
          "text": "Player=Kirk Cousins",
          "x": 0.1175,
          "xanchor": "center",
          "xref": "paper",
          "y": 1,
          "yanchor": "bottom",
          "yref": "paper"
         },
         {
          "font": {},
          "showarrow": false,
          "text": "Player=Jason Myers",
          "x": 0.3725,
          "xanchor": "center",
          "xref": "paper",
          "y": 1,
          "yanchor": "bottom",
          "yref": "paper"
         },
         {
          "font": {},
          "showarrow": false,
          "text": "Player=Sterling Shepard",
          "x": 0.6275,
          "xanchor": "center",
          "xref": "paper",
          "y": 1,
          "yanchor": "bottom",
          "yref": "paper"
         },
         {
          "font": {},
          "showarrow": false,
          "text": "Player=Devontae Booker",
          "x": 0.8824999999999998,
          "xanchor": "center",
          "xref": "paper",
          "y": 1,
          "yanchor": "bottom",
          "yref": "paper"
         }
        ],
        "height": 800,
        "legend": {
         "tracegroupgap": 0
        },
        "margin": {
         "t": 60
        },
        "template": {
         "data": {
          "bar": [
           {
            "error_x": {
             "color": "#2a3f5f"
            },
            "error_y": {
             "color": "#2a3f5f"
            },
            "marker": {
             "line": {
              "color": "#E5ECF6",
              "width": 0.5
             },
             "pattern": {
              "fillmode": "overlay",
              "size": 10,
              "solidity": 0.2
             }
            },
            "type": "bar"
           }
          ],
          "barpolar": [
           {
            "marker": {
             "line": {
              "color": "#E5ECF6",
              "width": 0.5
             },
             "pattern": {
              "fillmode": "overlay",
              "size": 10,
              "solidity": 0.2
             }
            },
            "type": "barpolar"
           }
          ],
          "carpet": [
           {
            "aaxis": {
             "endlinecolor": "#2a3f5f",
             "gridcolor": "white",
             "linecolor": "white",
             "minorgridcolor": "white",
             "startlinecolor": "#2a3f5f"
            },
            "baxis": {
             "endlinecolor": "#2a3f5f",
             "gridcolor": "white",
             "linecolor": "white",
             "minorgridcolor": "white",
             "startlinecolor": "#2a3f5f"
            },
            "type": "carpet"
           }
          ],
          "choropleth": [
           {
            "colorbar": {
             "outlinewidth": 0,
             "ticks": ""
            },
            "type": "choropleth"
           }
          ],
          "contour": [
           {
            "colorbar": {
             "outlinewidth": 0,
             "ticks": ""
            },
            "colorscale": [
             [
              0,
              "#0d0887"
             ],
             [
              0.1111111111111111,
              "#46039f"
             ],
             [
              0.2222222222222222,
              "#7201a8"
             ],
             [
              0.3333333333333333,
              "#9c179e"
             ],
             [
              0.4444444444444444,
              "#bd3786"
             ],
             [
              0.5555555555555556,
              "#d8576b"
             ],
             [
              0.6666666666666666,
              "#ed7953"
             ],
             [
              0.7777777777777778,
              "#fb9f3a"
             ],
             [
              0.8888888888888888,
              "#fdca26"
             ],
             [
              1,
              "#f0f921"
             ]
            ],
            "type": "contour"
           }
          ],
          "contourcarpet": [
           {
            "colorbar": {
             "outlinewidth": 0,
             "ticks": ""
            },
            "type": "contourcarpet"
           }
          ],
          "heatmap": [
           {
            "colorbar": {
             "outlinewidth": 0,
             "ticks": ""
            },
            "colorscale": [
             [
              0,
              "#0d0887"
             ],
             [
              0.1111111111111111,
              "#46039f"
             ],
             [
              0.2222222222222222,
              "#7201a8"
             ],
             [
              0.3333333333333333,
              "#9c179e"
             ],
             [
              0.4444444444444444,
              "#bd3786"
             ],
             [
              0.5555555555555556,
              "#d8576b"
             ],
             [
              0.6666666666666666,
              "#ed7953"
             ],
             [
              0.7777777777777778,
              "#fb9f3a"
             ],
             [
              0.8888888888888888,
              "#fdca26"
             ],
             [
              1,
              "#f0f921"
             ]
            ],
            "type": "heatmap"
           }
          ],
          "heatmapgl": [
           {
            "colorbar": {
             "outlinewidth": 0,
             "ticks": ""
            },
            "colorscale": [
             [
              0,
              "#0d0887"
             ],
             [
              0.1111111111111111,
              "#46039f"
             ],
             [
              0.2222222222222222,
              "#7201a8"
             ],
             [
              0.3333333333333333,
              "#9c179e"
             ],
             [
              0.4444444444444444,
              "#bd3786"
             ],
             [
              0.5555555555555556,
              "#d8576b"
             ],
             [
              0.6666666666666666,
              "#ed7953"
             ],
             [
              0.7777777777777778,
              "#fb9f3a"
             ],
             [
              0.8888888888888888,
              "#fdca26"
             ],
             [
              1,
              "#f0f921"
             ]
            ],
            "type": "heatmapgl"
           }
          ],
          "histogram": [
           {
            "marker": {
             "pattern": {
              "fillmode": "overlay",
              "size": 10,
              "solidity": 0.2
             }
            },
            "type": "histogram"
           }
          ],
          "histogram2d": [
           {
            "colorbar": {
             "outlinewidth": 0,
             "ticks": ""
            },
            "colorscale": [
             [
              0,
              "#0d0887"
             ],
             [
              0.1111111111111111,
              "#46039f"
             ],
             [
              0.2222222222222222,
              "#7201a8"
             ],
             [
              0.3333333333333333,
              "#9c179e"
             ],
             [
              0.4444444444444444,
              "#bd3786"
             ],
             [
              0.5555555555555556,
              "#d8576b"
             ],
             [
              0.6666666666666666,
              "#ed7953"
             ],
             [
              0.7777777777777778,
              "#fb9f3a"
             ],
             [
              0.8888888888888888,
              "#fdca26"
             ],
             [
              1,
              "#f0f921"
             ]
            ],
            "type": "histogram2d"
           }
          ],
          "histogram2dcontour": [
           {
            "colorbar": {
             "outlinewidth": 0,
             "ticks": ""
            },
            "colorscale": [
             [
              0,
              "#0d0887"
             ],
             [
              0.1111111111111111,
              "#46039f"
             ],
             [
              0.2222222222222222,
              "#7201a8"
             ],
             [
              0.3333333333333333,
              "#9c179e"
             ],
             [
              0.4444444444444444,
              "#bd3786"
             ],
             [
              0.5555555555555556,
              "#d8576b"
             ],
             [
              0.6666666666666666,
              "#ed7953"
             ],
             [
              0.7777777777777778,
              "#fb9f3a"
             ],
             [
              0.8888888888888888,
              "#fdca26"
             ],
             [
              1,
              "#f0f921"
             ]
            ],
            "type": "histogram2dcontour"
           }
          ],
          "mesh3d": [
           {
            "colorbar": {
             "outlinewidth": 0,
             "ticks": ""
            },
            "type": "mesh3d"
           }
          ],
          "parcoords": [
           {
            "line": {
             "colorbar": {
              "outlinewidth": 0,
              "ticks": ""
             }
            },
            "type": "parcoords"
           }
          ],
          "pie": [
           {
            "automargin": true,
            "type": "pie"
           }
          ],
          "scatter": [
           {
            "marker": {
             "colorbar": {
              "outlinewidth": 0,
              "ticks": ""
             }
            },
            "type": "scatter"
           }
          ],
          "scatter3d": [
           {
            "line": {
             "colorbar": {
              "outlinewidth": 0,
              "ticks": ""
             }
            },
            "marker": {
             "colorbar": {
              "outlinewidth": 0,
              "ticks": ""
             }
            },
            "type": "scatter3d"
           }
          ],
          "scattercarpet": [
           {
            "marker": {
             "colorbar": {
              "outlinewidth": 0,
              "ticks": ""
             }
            },
            "type": "scattercarpet"
           }
          ],
          "scattergeo": [
           {
            "marker": {
             "colorbar": {
              "outlinewidth": 0,
              "ticks": ""
             }
            },
            "type": "scattergeo"
           }
          ],
          "scattergl": [
           {
            "marker": {
             "colorbar": {
              "outlinewidth": 0,
              "ticks": ""
             }
            },
            "type": "scattergl"
           }
          ],
          "scattermapbox": [
           {
            "marker": {
             "colorbar": {
              "outlinewidth": 0,
              "ticks": ""
             }
            },
            "type": "scattermapbox"
           }
          ],
          "scatterpolar": [
           {
            "marker": {
             "colorbar": {
              "outlinewidth": 0,
              "ticks": ""
             }
            },
            "type": "scatterpolar"
           }
          ],
          "scatterpolargl": [
           {
            "marker": {
             "colorbar": {
              "outlinewidth": 0,
              "ticks": ""
             }
            },
            "type": "scatterpolargl"
           }
          ],
          "scatterternary": [
           {
            "marker": {
             "colorbar": {
              "outlinewidth": 0,
              "ticks": ""
             }
            },
            "type": "scatterternary"
           }
          ],
          "surface": [
           {
            "colorbar": {
             "outlinewidth": 0,
             "ticks": ""
            },
            "colorscale": [
             [
              0,
              "#0d0887"
             ],
             [
              0.1111111111111111,
              "#46039f"
             ],
             [
              0.2222222222222222,
              "#7201a8"
             ],
             [
              0.3333333333333333,
              "#9c179e"
             ],
             [
              0.4444444444444444,
              "#bd3786"
             ],
             [
              0.5555555555555556,
              "#d8576b"
             ],
             [
              0.6666666666666666,
              "#ed7953"
             ],
             [
              0.7777777777777778,
              "#fb9f3a"
             ],
             [
              0.8888888888888888,
              "#fdca26"
             ],
             [
              1,
              "#f0f921"
             ]
            ],
            "type": "surface"
           }
          ],
          "table": [
           {
            "cells": {
             "fill": {
              "color": "#EBF0F8"
             },
             "line": {
              "color": "white"
             }
            },
            "header": {
             "fill": {
              "color": "#C8D4E3"
             },
             "line": {
              "color": "white"
             }
            },
            "type": "table"
           }
          ]
         },
         "layout": {
          "annotationdefaults": {
           "arrowcolor": "#2a3f5f",
           "arrowhead": 0,
           "arrowwidth": 1
          },
          "autotypenumbers": "strict",
          "coloraxis": {
           "colorbar": {
            "outlinewidth": 0,
            "ticks": ""
           }
          },
          "colorscale": {
           "diverging": [
            [
             0,
             "#8e0152"
            ],
            [
             0.1,
             "#c51b7d"
            ],
            [
             0.2,
             "#de77ae"
            ],
            [
             0.3,
             "#f1b6da"
            ],
            [
             0.4,
             "#fde0ef"
            ],
            [
             0.5,
             "#f7f7f7"
            ],
            [
             0.6,
             "#e6f5d0"
            ],
            [
             0.7,
             "#b8e186"
            ],
            [
             0.8,
             "#7fbc41"
            ],
            [
             0.9,
             "#4d9221"
            ],
            [
             1,
             "#276419"
            ]
           ],
           "sequential": [
            [
             0,
             "#0d0887"
            ],
            [
             0.1111111111111111,
             "#46039f"
            ],
            [
             0.2222222222222222,
             "#7201a8"
            ],
            [
             0.3333333333333333,
             "#9c179e"
            ],
            [
             0.4444444444444444,
             "#bd3786"
            ],
            [
             0.5555555555555556,
             "#d8576b"
            ],
            [
             0.6666666666666666,
             "#ed7953"
            ],
            [
             0.7777777777777778,
             "#fb9f3a"
            ],
            [
             0.8888888888888888,
             "#fdca26"
            ],
            [
             1,
             "#f0f921"
            ]
           ],
           "sequentialminus": [
            [
             0,
             "#0d0887"
            ],
            [
             0.1111111111111111,
             "#46039f"
            ],
            [
             0.2222222222222222,
             "#7201a8"
            ],
            [
             0.3333333333333333,
             "#9c179e"
            ],
            [
             0.4444444444444444,
             "#bd3786"
            ],
            [
             0.5555555555555556,
             "#d8576b"
            ],
            [
             0.6666666666666666,
             "#ed7953"
            ],
            [
             0.7777777777777778,
             "#fb9f3a"
            ],
            [
             0.8888888888888888,
             "#fdca26"
            ],
            [
             1,
             "#f0f921"
            ]
           ]
          },
          "colorway": [
           "#636efa",
           "#EF553B",
           "#00cc96",
           "#ab63fa",
           "#FFA15A",
           "#19d3f3",
           "#FF6692",
           "#B6E880",
           "#FF97FF",
           "#FECB52"
          ],
          "font": {
           "color": "#2a3f5f"
          },
          "geo": {
           "bgcolor": "white",
           "lakecolor": "white",
           "landcolor": "#E5ECF6",
           "showlakes": true,
           "showland": true,
           "subunitcolor": "white"
          },
          "hoverlabel": {
           "align": "left"
          },
          "hovermode": "closest",
          "mapbox": {
           "style": "light"
          },
          "paper_bgcolor": "white",
          "plot_bgcolor": "#E5ECF6",
          "polar": {
           "angularaxis": {
            "gridcolor": "white",
            "linecolor": "white",
            "ticks": ""
           },
           "bgcolor": "#E5ECF6",
           "radialaxis": {
            "gridcolor": "white",
            "linecolor": "white",
            "ticks": ""
           }
          },
          "scene": {
           "xaxis": {
            "backgroundcolor": "#E5ECF6",
            "gridcolor": "white",
            "gridwidth": 2,
            "linecolor": "white",
            "showbackground": true,
            "ticks": "",
            "zerolinecolor": "white"
           },
           "yaxis": {
            "backgroundcolor": "#E5ECF6",
            "gridcolor": "white",
            "gridwidth": 2,
            "linecolor": "white",
            "showbackground": true,
            "ticks": "",
            "zerolinecolor": "white"
           },
           "zaxis": {
            "backgroundcolor": "#E5ECF6",
            "gridcolor": "white",
            "gridwidth": 2,
            "linecolor": "white",
            "showbackground": true,
            "ticks": "",
            "zerolinecolor": "white"
           }
          },
          "shapedefaults": {
           "line": {
            "color": "#2a3f5f"
           }
          },
          "ternary": {
           "aaxis": {
            "gridcolor": "white",
            "linecolor": "white",
            "ticks": ""
           },
           "baxis": {
            "gridcolor": "white",
            "linecolor": "white",
            "ticks": ""
           },
           "bgcolor": "#E5ECF6",
           "caxis": {
            "gridcolor": "white",
            "linecolor": "white",
            "ticks": ""
           }
          },
          "title": {
           "x": 0.05
          },
          "xaxis": {
           "automargin": true,
           "gridcolor": "white",
           "linecolor": "white",
           "ticks": "",
           "title": {
            "standoff": 15
           },
           "zerolinecolor": "white",
           "zerolinewidth": 2
          },
          "yaxis": {
           "automargin": true,
           "gridcolor": "white",
           "linecolor": "white",
           "ticks": "",
           "title": {
            "standoff": 15
           },
           "zerolinecolor": "white",
           "zerolinewidth": 2
          }
         }
        },
        "width": 1000,
        "xaxis": {
         "anchor": "y",
         "domain": [
          0,
          0.235
         ],
         "title": {
          "text": "Week"
         }
        },
        "xaxis10": {
         "anchor": "y10",
         "domain": [
          0.255,
          0.49
         ],
         "matches": "x",
         "showticklabels": false
        },
        "xaxis11": {
         "anchor": "y11",
         "domain": [
          0.51,
          0.745
         ],
         "matches": "x",
         "showticklabels": false
        },
        "xaxis12": {
         "anchor": "y12",
         "domain": [
          0.7649999999999999,
          0.9999999999999999
         ],
         "matches": "x",
         "showticklabels": false
        },
        "xaxis13": {
         "anchor": "y13",
         "domain": [
          0,
          0.235
         ],
         "matches": "x",
         "showticklabels": false
        },
        "xaxis14": {
         "anchor": "y14",
         "domain": [
          0.255,
          0.49
         ],
         "matches": "x",
         "showticklabels": false
        },
        "xaxis15": {
         "anchor": "y15",
         "domain": [
          0.51,
          0.745
         ],
         "matches": "x",
         "showticklabels": false
        },
        "xaxis16": {
         "anchor": "y16",
         "domain": [
          0.7649999999999999,
          0.9999999999999999
         ],
         "matches": "x",
         "showticklabels": false
        },
        "xaxis17": {
         "anchor": "y17",
         "domain": [
          0,
          0.235
         ],
         "matches": "x",
         "showticklabels": false
        },
        "xaxis18": {
         "anchor": "y18",
         "domain": [
          0.255,
          0.49
         ],
         "matches": "x",
         "showticklabels": false
        },
        "xaxis19": {
         "anchor": "y19",
         "domain": [
          0.51,
          0.745
         ],
         "matches": "x",
         "showticklabels": false
        },
        "xaxis2": {
         "anchor": "y2",
         "domain": [
          0.255,
          0.49
         ],
         "matches": "x",
         "title": {
          "text": "Week"
         }
        },
        "xaxis20": {
         "anchor": "y20",
         "domain": [
          0.7649999999999999,
          0.9999999999999999
         ],
         "matches": "x",
         "showticklabels": false
        },
        "xaxis3": {
         "anchor": "y3",
         "domain": [
          0.51,
          0.745
         ],
         "matches": "x",
         "title": {
          "text": "Week"
         }
        },
        "xaxis4": {
         "anchor": "y4",
         "domain": [
          0.7649999999999999,
          0.9999999999999999
         ],
         "matches": "x",
         "title": {
          "text": "Week"
         }
        },
        "xaxis5": {
         "anchor": "y5",
         "domain": [
          0,
          0.235
         ],
         "matches": "x",
         "showticklabels": false
        },
        "xaxis6": {
         "anchor": "y6",
         "domain": [
          0.255,
          0.49
         ],
         "matches": "x",
         "showticklabels": false
        },
        "xaxis7": {
         "anchor": "y7",
         "domain": [
          0.51,
          0.745
         ],
         "matches": "x",
         "showticklabels": false
        },
        "xaxis8": {
         "anchor": "y8",
         "domain": [
          0.7649999999999999,
          0.9999999999999999
         ],
         "matches": "x",
         "showticklabels": false
        },
        "xaxis9": {
         "anchor": "y9",
         "domain": [
          0,
          0.235
         ],
         "matches": "x",
         "showticklabels": false
        },
        "yaxis": {
         "anchor": "x",
         "domain": [
          0,
          0.144
         ],
         "title": {
          "text": "pts_half_ppr"
         }
        },
        "yaxis10": {
         "anchor": "x10",
         "domain": [
          0.428,
          0.572
         ],
         "matches": "y",
         "showticklabels": false
        },
        "yaxis11": {
         "anchor": "x11",
         "domain": [
          0.428,
          0.572
         ],
         "matches": "y",
         "showticklabels": false
        },
        "yaxis12": {
         "anchor": "x12",
         "domain": [
          0.428,
          0.572
         ],
         "matches": "y",
         "showticklabels": false
        },
        "yaxis13": {
         "anchor": "x13",
         "domain": [
          0.6419999999999999,
          0.7859999999999999
         ],
         "matches": "y",
         "title": {
          "text": "pts_half_ppr"
         }
        },
        "yaxis14": {
         "anchor": "x14",
         "domain": [
          0.6419999999999999,
          0.7859999999999999
         ],
         "matches": "y",
         "showticklabels": false
        },
        "yaxis15": {
         "anchor": "x15",
         "domain": [
          0.6419999999999999,
          0.7859999999999999
         ],
         "matches": "y",
         "showticklabels": false
        },
        "yaxis16": {
         "anchor": "x16",
         "domain": [
          0.6419999999999999,
          0.7859999999999999
         ],
         "matches": "y",
         "showticklabels": false
        },
        "yaxis17": {
         "anchor": "x17",
         "domain": [
          0.856,
          1
         ],
         "matches": "y",
         "title": {
          "text": "pts_half_ppr"
         }
        },
        "yaxis18": {
         "anchor": "x18",
         "domain": [
          0.856,
          1
         ],
         "matches": "y",
         "showticklabels": false
        },
        "yaxis19": {
         "anchor": "x19",
         "domain": [
          0.856,
          1
         ],
         "matches": "y",
         "showticklabels": false
        },
        "yaxis2": {
         "anchor": "x2",
         "domain": [
          0,
          0.144
         ],
         "matches": "y",
         "showticklabels": false
        },
        "yaxis20": {
         "anchor": "x20",
         "domain": [
          0.856,
          1
         ],
         "matches": "y",
         "showticklabels": false
        },
        "yaxis3": {
         "anchor": "x3",
         "domain": [
          0,
          0.144
         ],
         "matches": "y",
         "showticklabels": false
        },
        "yaxis4": {
         "anchor": "x4",
         "domain": [
          0,
          0.144
         ],
         "matches": "y",
         "showticklabels": false
        },
        "yaxis5": {
         "anchor": "x5",
         "domain": [
          0.214,
          0.358
         ],
         "matches": "y",
         "title": {
          "text": "pts_half_ppr"
         }
        },
        "yaxis6": {
         "anchor": "x6",
         "domain": [
          0.214,
          0.358
         ],
         "matches": "y",
         "showticklabels": false
        },
        "yaxis7": {
         "anchor": "x7",
         "domain": [
          0.214,
          0.358
         ],
         "matches": "y",
         "showticklabels": false
        },
        "yaxis8": {
         "anchor": "x8",
         "domain": [
          0.214,
          0.358
         ],
         "matches": "y",
         "showticklabels": false
        },
        "yaxis9": {
         "anchor": "x9",
         "domain": [
          0.428,
          0.572
         ],
         "matches": "y",
         "title": {
          "text": "pts_half_ppr"
         }
        }
       }
      },
      "text/html": [
       "<div>                            <div id=\"454fb4d8-c431-4381-b401-64f9df8a398c\" class=\"plotly-graph-div\" style=\"height:800px; width:1000px;\"></div>            <script type=\"text/javascript\">                require([\"plotly\"], function(Plotly) {                    window.PLOTLYENV=window.PLOTLYENV || {};                                    if (document.getElementById(\"454fb4d8-c431-4381-b401-64f9df8a398c\")) {                    Plotly.newPlot(                        \"454fb4d8-c431-4381-b401-64f9df8a398c\",                        [{\"hovertemplate\":\"Player=Kirk Cousins<br>Week=%{x}<br>pts_half_ppr=%{y}<extra></extra>\",\"legendgroup\":\"\",\"line\":{\"color\":\"#636efa\",\"dash\":\"solid\"},\"marker\":{\"symbol\":\"circle\"},\"mode\":\"lines\",\"name\":\"\",\"orientation\":\"v\",\"showlegend\":false,\"type\":\"scatter\",\"x\":[1,2,3,4,5,6,7,8,9,10,11,12,13,14,15],\"xaxis\":\"x17\",\"y\":[22.04,24.26,24.12,11.12,14.4,27.52,null,12.16,21.58,16.46,24.24,16.52,19.2,16.04,10.48],\"yaxis\":\"y17\"},{\"hovertemplate\":\"Player=Jason Myers<br>Week=%{x}<br>pts_half_ppr=%{y}<extra></extra>\",\"legendgroup\":\"\",\"line\":{\"color\":\"#636efa\",\"dash\":\"solid\"},\"marker\":{\"symbol\":\"circle\"},\"mode\":\"lines\",\"name\":\"\",\"orientation\":\"v\",\"showlegend\":false,\"type\":\"scatter\",\"x\":[1,2,3,4,5,6,7,8,9,10,11,12,13,14,15],\"xaxis\":\"x18\",\"y\":[4.0,5.0,6.0,4.0,4.0,10.0,4.0,7.0,null,null,7.0,1.0,3.0,5.0,4.0],\"yaxis\":\"y18\"},{\"hovertemplate\":\"Player=Sterling Shepard<br>Week=%{x}<br>pts_half_ppr=%{y}<extra></extra>\",\"legendgroup\":\"\",\"line\":{\"color\":\"#636efa\",\"dash\":\"solid\"},\"marker\":{\"symbol\":\"circle\"},\"mode\":\"lines\",\"name\":\"\",\"orientation\":\"v\",\"showlegend\":false,\"type\":\"scatter\",\"x\":[1,2,3,4,5,6,7,8,9,10,11,12,13,14,15],\"xaxis\":\"x19\",\"y\":[20.8,13.0,2.6,null,null,12.6,null,4.5,null,null,null,null,null,3.7,2.5],\"yaxis\":\"y19\"},{\"hovertemplate\":\"Player=Devontae Booker<br>Week=%{x}<br>pts_half_ppr=%{y}<extra></extra>\",\"legendgroup\":\"\",\"line\":{\"color\":\"#636efa\",\"dash\":\"solid\"},\"marker\":{\"symbol\":\"circle\"},\"mode\":\"lines\",\"name\":\"\",\"orientation\":\"v\",\"showlegend\":false,\"type\":\"scatter\",\"x\":[1,2,3,4,5,6,7,8,9,10,11,12,13,14,15],\"xaxis\":\"x20\",\"y\":[1.8,1.6,null,1.7,19.3,8.9,13.6,15.0,13.7,null,2.5,3.2,7.4,10.4,9.2],\"yaxis\":\"y20\"},{\"hovertemplate\":\"Player=Saquon Barkley<br>Week=%{x}<br>pts_half_ppr=%{y}<extra></extra>\",\"legendgroup\":\"\",\"line\":{\"color\":\"#636efa\",\"dash\":\"solid\"},\"marker\":{\"symbol\":\"circle\"},\"mode\":\"lines\",\"name\":\"\",\"orientation\":\"v\",\"showlegend\":false,\"type\":\"scatter\",\"x\":[1,2,3,4,5,6,7,8,9,10,11,12,13,14,15],\"xaxis\":\"x13\",\"y\":[3.2,7.9,18.4,26.1,0.9,null,null,null,null,null,8.6,7.3,10.4,17.0,6.4],\"yaxis\":\"y13\"},{\"hovertemplate\":\"Player=Marquez Valdes-Scantling<br>Week=%{x}<br>pts_half_ppr=%{y}<extra></extra>\",\"legendgroup\":\"\",\"line\":{\"color\":\"#636efa\",\"dash\":\"solid\"},\"marker\":{\"symbol\":\"circle\"},\"mode\":\"lines\",\"name\":\"\",\"orientation\":\"v\",\"showlegend\":false,\"type\":\"scatter\",\"x\":[1,2,3,4,5,6,7,8,9,10,11,12,13,14,15],\"xaxis\":\"x14\",\"y\":[3.2,null,13.4,null,null,null,null,null,2.9,4.6,20.3,7.0,null,3.5,18.3],\"yaxis\":\"y14\"},{\"hovertemplate\":\"Player=Russell Gage<br>Week=%{x}<br>pts_half_ppr=%{y}<extra></extra>\",\"legendgroup\":\"\",\"line\":{\"color\":\"#636efa\",\"dash\":\"solid\"},\"marker\":{\"symbol\":\"circle\"},\"mode\":\"lines\",\"name\":\"\",\"orientation\":\"v\",\"showlegend\":false,\"type\":\"scatter\",\"x\":[1,2,3,4,5,6,7,8,9,10,11,12,13,14,15],\"xaxis\":\"x15\",\"y\":[null,5.3,null,null,null,null,14.7,null,9.9,null,7.4,15.2,15.5,8.4,19.1],\"yaxis\":\"y15\"},{\"hovertemplate\":\"Player=Godwin Igwebuike<br>Week=%{x}<br>pts_half_ppr=%{y}<extra></extra>\",\"legendgroup\":\"\",\"line\":{\"color\":\"#636efa\",\"dash\":\"solid\"},\"marker\":{\"symbol\":\"circle\"},\"mode\":\"lines\",\"name\":\"\",\"orientation\":\"v\",\"showlegend\":false,\"type\":\"scatter\",\"x\":[1,2,3,4,5,6,7,8,9,10,11,12,13,14,15],\"xaxis\":\"x16\",\"y\":[null,null,null,null,null,null,null,7.3,null,11.6,0.1,1.1,2.6,-0.5,-0.9],\"yaxis\":\"y16\"},{\"hovertemplate\":\"Player=A.J. Brown<br>Week=%{x}<br>pts_half_ppr=%{y}<extra></extra>\",\"legendgroup\":\"\",\"line\":{\"color\":\"#636efa\",\"dash\":\"solid\"},\"marker\":{\"symbol\":\"circle\"},\"mode\":\"lines\",\"name\":\"\",\"orientation\":\"v\",\"showlegend\":false,\"type\":\"scatter\",\"x\":[1,2,3,4,5,6,7,8,9,10,11,12,13,14,15],\"xaxis\":\"x9\",\"y\":[12.9,5.8,0.3,null,5.3,12.6,23.3,26.5,6.7,2.8,7.3,null,null,null,null],\"yaxis\":\"y9\"},{\"hovertemplate\":\"Player=Dawson Knox<br>Week=%{x}<br>pts_half_ppr=%{y}<extra></extra>\",\"legendgroup\":\"\",\"line\":{\"color\":\"#636efa\",\"dash\":\"solid\"},\"marker\":{\"symbol\":\"circle\"},\"mode\":\"lines\",\"name\":\"\",\"orientation\":\"v\",\"showlegend\":false,\"type\":\"scatter\",\"x\":[1,2,3,4,5,6,7,8,9,10,11,12,13,14,15],\"xaxis\":\"x10\",\"y\":[6.1,9.7,12.9,18.2,19.2,6.0,null,null,null,2.2,11.0,16.7,2.4,15.5,5.8],\"yaxis\":\"y10\"},{\"hovertemplate\":\"Player=Darrell Henderson<br>Week=%{x}<br>pts_half_ppr=%{y}<extra></extra>\",\"legendgroup\":\"\",\"line\":{\"color\":\"#636efa\",\"dash\":\"solid\"},\"marker\":{\"symbol\":\"circle\"},\"mode\":\"lines\",\"name\":\"\",\"orientation\":\"v\",\"showlegend\":false,\"type\":\"scatter\",\"x\":[1,2,3,4,5,6,7,8,9,10,11,12,13,14,15],\"xaxis\":\"x11\",\"y\":[15.2,15.7,null,14.1,16.4,23.7,7.9,21.8,7.3,6.1,null,15.3,null,null,3.7],\"yaxis\":\"y11\"},{\"hovertemplate\":\"Player=Diontae Johnson<br>Week=%{x}<br>pts_half_ppr=%{y}<extra></extra>\",\"legendgroup\":\"\",\"line\":{\"color\":\"#636efa\",\"dash\":\"solid\"},\"marker\":{\"symbol\":\"circle\"},\"mode\":\"lines\",\"name\":\"\",\"orientation\":\"v\",\"showlegend\":false,\"type\":\"scatter\",\"x\":[1,2,3,4,5,6,7,8,9,10,11,12,13,14,15],\"xaxis\":\"x12\",\"y\":[12.1,15.0,null,19.7,14.2,14.1,null,12.8,9.2,8.8,19.6,14.0,26.5,12.8,7.3],\"yaxis\":\"y12\"},{\"hovertemplate\":\"Player=Jalen Guyton<br>Week=%{x}<br>pts_half_ppr=%{y}<extra></extra>\",\"legendgroup\":\"\",\"line\":{\"color\":\"#636efa\",\"dash\":\"solid\"},\"marker\":{\"symbol\":\"circle\"},\"mode\":\"lines\",\"name\":\"\",\"orientation\":\"v\",\"showlegend\":false,\"type\":\"scatter\",\"x\":[1,2,3,4,5,6,7,8,9,10,11,12,13,14,15],\"xaxis\":\"x5\",\"y\":[6.4,3.2,-0.7,3.4,4.5,2.0,null,2.3,2.4,null,2.5,3.3,16.9,16.2,8.0],\"yaxis\":\"y5\"},{\"hovertemplate\":\"Player=Jerry Jeudy<br>Week=%{x}<br>pts_half_ppr=%{y}<extra></extra>\",\"legendgroup\":\"\",\"line\":{\"color\":\"#636efa\",\"dash\":\"solid\"},\"marker\":{\"symbol\":\"circle\"},\"mode\":\"lines\",\"name\":\"\",\"orientation\":\"v\",\"showlegend\":false,\"type\":\"scatter\",\"x\":[1,2,3,4,5,6,7,8,9,10,11,12,13,14,15],\"xaxis\":\"x6\",\"y\":[10.2,null,null,null,null,null,null,5.9,9.9,7.1,null,3.5,9.7,7.2,null],\"yaxis\":\"y6\"},{\"hovertemplate\":\"Player=Laviska Shenault<br>Week=%{x}<br>pts_half_ppr=%{y}<extra></extra>\",\"legendgroup\":\"\",\"line\":{\"color\":\"#636efa\",\"dash\":\"solid\"},\"marker\":{\"symbol\":\"circle\"},\"mode\":\"lines\",\"name\":\"\",\"orientation\":\"v\",\"showlegend\":false,\"type\":\"scatter\",\"x\":[1,2,3,4,5,6,7,8,9,10,11,12,13,14,15],\"xaxis\":\"x7\",\"y\":[9.4,0.7,6.8,14.0,6.3,8.4,null,3.1,4.0,3.6,4.5,5.8,4.6,5.4,6.9],\"yaxis\":\"y7\"},{\"hovertemplate\":\"Player=K.J. Osborn<br>Week=%{x}<br>pts_half_ppr=%{y}<extra></extra>\",\"legendgroup\":\"\",\"line\":{\"color\":\"#636efa\",\"dash\":\"solid\"},\"marker\":{\"symbol\":\"circle\"},\"mode\":\"lines\",\"name\":\"\",\"orientation\":\"v\",\"showlegend\":false,\"type\":\"scatter\",\"x\":[1,2,3,4,5,6,7,8,9,10,11,12,13,14,15],\"xaxis\":\"x8\",\"y\":[11.1,17.6,3.6,5.1,2.9,16.8,null,2.0,2.5,null,2.4,1.0,12.7,15.8,3.6],\"yaxis\":\"y8\"},{\"hovertemplate\":\"Player=Minnesota Vikings<br>Week=%{x}<br>pts_half_ppr=%{y}<extra></extra>\",\"legendgroup\":\"\",\"line\":{\"color\":\"#636efa\",\"dash\":\"solid\"},\"marker\":{\"symbol\":\"circle\"},\"mode\":\"lines\",\"name\":\"\",\"orientation\":\"v\",\"showlegend\":false,\"type\":\"scatter\",\"x\":[1,2,3,4,5,6,7,8,9,10,11,12,13,14,15],\"xaxis\":\"x\",\"y\":[5.0,13.0,2.0,3.0,9.0,11.0,null,9.0,12.0,4.0,2.0,9.0,8.0,7.0,17.0],\"yaxis\":\"y\"}],                        {\"annotations\":[{\"font\":{},\"showarrow\":false,\"text\":\"Player=Minnesota Vikings\",\"x\":0.1175,\"xanchor\":\"center\",\"xref\":\"paper\",\"y\":0.144,\"yanchor\":\"bottom\",\"yref\":\"paper\"},{\"font\":{},\"showarrow\":false,\"text\":\"Player=Jalen Guyton\",\"x\":0.1175,\"xanchor\":\"center\",\"xref\":\"paper\",\"y\":0.358,\"yanchor\":\"bottom\",\"yref\":\"paper\"},{\"font\":{},\"showarrow\":false,\"text\":\"Player=Jerry Jeudy\",\"x\":0.3725,\"xanchor\":\"center\",\"xref\":\"paper\",\"y\":0.358,\"yanchor\":\"bottom\",\"yref\":\"paper\"},{\"font\":{},\"showarrow\":false,\"text\":\"Player=Laviska Shenault\",\"x\":0.6275,\"xanchor\":\"center\",\"xref\":\"paper\",\"y\":0.358,\"yanchor\":\"bottom\",\"yref\":\"paper\"},{\"font\":{},\"showarrow\":false,\"text\":\"Player=K.J. Osborn\",\"x\":0.8824999999999998,\"xanchor\":\"center\",\"xref\":\"paper\",\"y\":0.358,\"yanchor\":\"bottom\",\"yref\":\"paper\"},{\"font\":{},\"showarrow\":false,\"text\":\"Player=A.J. Brown\",\"x\":0.1175,\"xanchor\":\"center\",\"xref\":\"paper\",\"y\":0.572,\"yanchor\":\"bottom\",\"yref\":\"paper\"},{\"font\":{},\"showarrow\":false,\"text\":\"Player=Dawson Knox\",\"x\":0.3725,\"xanchor\":\"center\",\"xref\":\"paper\",\"y\":0.572,\"yanchor\":\"bottom\",\"yref\":\"paper\"},{\"font\":{},\"showarrow\":false,\"text\":\"Player=Darrell Henderson\",\"x\":0.6275,\"xanchor\":\"center\",\"xref\":\"paper\",\"y\":0.572,\"yanchor\":\"bottom\",\"yref\":\"paper\"},{\"font\":{},\"showarrow\":false,\"text\":\"Player=Diontae Johnson\",\"x\":0.8824999999999998,\"xanchor\":\"center\",\"xref\":\"paper\",\"y\":0.572,\"yanchor\":\"bottom\",\"yref\":\"paper\"},{\"font\":{},\"showarrow\":false,\"text\":\"Player=Saquon Barkley\",\"x\":0.1175,\"xanchor\":\"center\",\"xref\":\"paper\",\"y\":0.7859999999999999,\"yanchor\":\"bottom\",\"yref\":\"paper\"},{\"font\":{},\"showarrow\":false,\"text\":\"Player=Marquez Valdes-Scantling\",\"x\":0.3725,\"xanchor\":\"center\",\"xref\":\"paper\",\"y\":0.7859999999999999,\"yanchor\":\"bottom\",\"yref\":\"paper\"},{\"font\":{},\"showarrow\":false,\"text\":\"Player=Russell Gage\",\"x\":0.6275,\"xanchor\":\"center\",\"xref\":\"paper\",\"y\":0.7859999999999999,\"yanchor\":\"bottom\",\"yref\":\"paper\"},{\"font\":{},\"showarrow\":false,\"text\":\"Player=Godwin Igwebuike\",\"x\":0.8824999999999998,\"xanchor\":\"center\",\"xref\":\"paper\",\"y\":0.7859999999999999,\"yanchor\":\"bottom\",\"yref\":\"paper\"},{\"font\":{},\"showarrow\":false,\"text\":\"Player=Kirk Cousins\",\"x\":0.1175,\"xanchor\":\"center\",\"xref\":\"paper\",\"y\":1.0,\"yanchor\":\"bottom\",\"yref\":\"paper\"},{\"font\":{},\"showarrow\":false,\"text\":\"Player=Jason Myers\",\"x\":0.3725,\"xanchor\":\"center\",\"xref\":\"paper\",\"y\":1.0,\"yanchor\":\"bottom\",\"yref\":\"paper\"},{\"font\":{},\"showarrow\":false,\"text\":\"Player=Sterling Shepard\",\"x\":0.6275,\"xanchor\":\"center\",\"xref\":\"paper\",\"y\":1.0,\"yanchor\":\"bottom\",\"yref\":\"paper\"},{\"font\":{},\"showarrow\":false,\"text\":\"Player=Devontae Booker\",\"x\":0.8824999999999998,\"xanchor\":\"center\",\"xref\":\"paper\",\"y\":1.0,\"yanchor\":\"bottom\",\"yref\":\"paper\"}],\"height\":800,\"legend\":{\"tracegroupgap\":0},\"margin\":{\"t\":60},\"template\":{\"data\":{\"bar\":[{\"error_x\":{\"color\":\"#2a3f5f\"},\"error_y\":{\"color\":\"#2a3f5f\"},\"marker\":{\"line\":{\"color\":\"#E5ECF6\",\"width\":0.5},\"pattern\":{\"fillmode\":\"overlay\",\"size\":10,\"solidity\":0.2}},\"type\":\"bar\"}],\"barpolar\":[{\"marker\":{\"line\":{\"color\":\"#E5ECF6\",\"width\":0.5},\"pattern\":{\"fillmode\":\"overlay\",\"size\":10,\"solidity\":0.2}},\"type\":\"barpolar\"}],\"carpet\":[{\"aaxis\":{\"endlinecolor\":\"#2a3f5f\",\"gridcolor\":\"white\",\"linecolor\":\"white\",\"minorgridcolor\":\"white\",\"startlinecolor\":\"#2a3f5f\"},\"baxis\":{\"endlinecolor\":\"#2a3f5f\",\"gridcolor\":\"white\",\"linecolor\":\"white\",\"minorgridcolor\":\"white\",\"startlinecolor\":\"#2a3f5f\"},\"type\":\"carpet\"}],\"choropleth\":[{\"colorbar\":{\"outlinewidth\":0,\"ticks\":\"\"},\"type\":\"choropleth\"}],\"contour\":[{\"colorbar\":{\"outlinewidth\":0,\"ticks\":\"\"},\"colorscale\":[[0.0,\"#0d0887\"],[0.1111111111111111,\"#46039f\"],[0.2222222222222222,\"#7201a8\"],[0.3333333333333333,\"#9c179e\"],[0.4444444444444444,\"#bd3786\"],[0.5555555555555556,\"#d8576b\"],[0.6666666666666666,\"#ed7953\"],[0.7777777777777778,\"#fb9f3a\"],[0.8888888888888888,\"#fdca26\"],[1.0,\"#f0f921\"]],\"type\":\"contour\"}],\"contourcarpet\":[{\"colorbar\":{\"outlinewidth\":0,\"ticks\":\"\"},\"type\":\"contourcarpet\"}],\"heatmap\":[{\"colorbar\":{\"outlinewidth\":0,\"ticks\":\"\"},\"colorscale\":[[0.0,\"#0d0887\"],[0.1111111111111111,\"#46039f\"],[0.2222222222222222,\"#7201a8\"],[0.3333333333333333,\"#9c179e\"],[0.4444444444444444,\"#bd3786\"],[0.5555555555555556,\"#d8576b\"],[0.6666666666666666,\"#ed7953\"],[0.7777777777777778,\"#fb9f3a\"],[0.8888888888888888,\"#fdca26\"],[1.0,\"#f0f921\"]],\"type\":\"heatmap\"}],\"heatmapgl\":[{\"colorbar\":{\"outlinewidth\":0,\"ticks\":\"\"},\"colorscale\":[[0.0,\"#0d0887\"],[0.1111111111111111,\"#46039f\"],[0.2222222222222222,\"#7201a8\"],[0.3333333333333333,\"#9c179e\"],[0.4444444444444444,\"#bd3786\"],[0.5555555555555556,\"#d8576b\"],[0.6666666666666666,\"#ed7953\"],[0.7777777777777778,\"#fb9f3a\"],[0.8888888888888888,\"#fdca26\"],[1.0,\"#f0f921\"]],\"type\":\"heatmapgl\"}],\"histogram\":[{\"marker\":{\"pattern\":{\"fillmode\":\"overlay\",\"size\":10,\"solidity\":0.2}},\"type\":\"histogram\"}],\"histogram2d\":[{\"colorbar\":{\"outlinewidth\":0,\"ticks\":\"\"},\"colorscale\":[[0.0,\"#0d0887\"],[0.1111111111111111,\"#46039f\"],[0.2222222222222222,\"#7201a8\"],[0.3333333333333333,\"#9c179e\"],[0.4444444444444444,\"#bd3786\"],[0.5555555555555556,\"#d8576b\"],[0.6666666666666666,\"#ed7953\"],[0.7777777777777778,\"#fb9f3a\"],[0.8888888888888888,\"#fdca26\"],[1.0,\"#f0f921\"]],\"type\":\"histogram2d\"}],\"histogram2dcontour\":[{\"colorbar\":{\"outlinewidth\":0,\"ticks\":\"\"},\"colorscale\":[[0.0,\"#0d0887\"],[0.1111111111111111,\"#46039f\"],[0.2222222222222222,\"#7201a8\"],[0.3333333333333333,\"#9c179e\"],[0.4444444444444444,\"#bd3786\"],[0.5555555555555556,\"#d8576b\"],[0.6666666666666666,\"#ed7953\"],[0.7777777777777778,\"#fb9f3a\"],[0.8888888888888888,\"#fdca26\"],[1.0,\"#f0f921\"]],\"type\":\"histogram2dcontour\"}],\"mesh3d\":[{\"colorbar\":{\"outlinewidth\":0,\"ticks\":\"\"},\"type\":\"mesh3d\"}],\"parcoords\":[{\"line\":{\"colorbar\":{\"outlinewidth\":0,\"ticks\":\"\"}},\"type\":\"parcoords\"}],\"pie\":[{\"automargin\":true,\"type\":\"pie\"}],\"scatter\":[{\"marker\":{\"colorbar\":{\"outlinewidth\":0,\"ticks\":\"\"}},\"type\":\"scatter\"}],\"scatter3d\":[{\"line\":{\"colorbar\":{\"outlinewidth\":0,\"ticks\":\"\"}},\"marker\":{\"colorbar\":{\"outlinewidth\":0,\"ticks\":\"\"}},\"type\":\"scatter3d\"}],\"scattercarpet\":[{\"marker\":{\"colorbar\":{\"outlinewidth\":0,\"ticks\":\"\"}},\"type\":\"scattercarpet\"}],\"scattergeo\":[{\"marker\":{\"colorbar\":{\"outlinewidth\":0,\"ticks\":\"\"}},\"type\":\"scattergeo\"}],\"scattergl\":[{\"marker\":{\"colorbar\":{\"outlinewidth\":0,\"ticks\":\"\"}},\"type\":\"scattergl\"}],\"scattermapbox\":[{\"marker\":{\"colorbar\":{\"outlinewidth\":0,\"ticks\":\"\"}},\"type\":\"scattermapbox\"}],\"scatterpolar\":[{\"marker\":{\"colorbar\":{\"outlinewidth\":0,\"ticks\":\"\"}},\"type\":\"scatterpolar\"}],\"scatterpolargl\":[{\"marker\":{\"colorbar\":{\"outlinewidth\":0,\"ticks\":\"\"}},\"type\":\"scatterpolargl\"}],\"scatterternary\":[{\"marker\":{\"colorbar\":{\"outlinewidth\":0,\"ticks\":\"\"}},\"type\":\"scatterternary\"}],\"surface\":[{\"colorbar\":{\"outlinewidth\":0,\"ticks\":\"\"},\"colorscale\":[[0.0,\"#0d0887\"],[0.1111111111111111,\"#46039f\"],[0.2222222222222222,\"#7201a8\"],[0.3333333333333333,\"#9c179e\"],[0.4444444444444444,\"#bd3786\"],[0.5555555555555556,\"#d8576b\"],[0.6666666666666666,\"#ed7953\"],[0.7777777777777778,\"#fb9f3a\"],[0.8888888888888888,\"#fdca26\"],[1.0,\"#f0f921\"]],\"type\":\"surface\"}],\"table\":[{\"cells\":{\"fill\":{\"color\":\"#EBF0F8\"},\"line\":{\"color\":\"white\"}},\"header\":{\"fill\":{\"color\":\"#C8D4E3\"},\"line\":{\"color\":\"white\"}},\"type\":\"table\"}]},\"layout\":{\"annotationdefaults\":{\"arrowcolor\":\"#2a3f5f\",\"arrowhead\":0,\"arrowwidth\":1},\"autotypenumbers\":\"strict\",\"coloraxis\":{\"colorbar\":{\"outlinewidth\":0,\"ticks\":\"\"}},\"colorscale\":{\"diverging\":[[0,\"#8e0152\"],[0.1,\"#c51b7d\"],[0.2,\"#de77ae\"],[0.3,\"#f1b6da\"],[0.4,\"#fde0ef\"],[0.5,\"#f7f7f7\"],[0.6,\"#e6f5d0\"],[0.7,\"#b8e186\"],[0.8,\"#7fbc41\"],[0.9,\"#4d9221\"],[1,\"#276419\"]],\"sequential\":[[0.0,\"#0d0887\"],[0.1111111111111111,\"#46039f\"],[0.2222222222222222,\"#7201a8\"],[0.3333333333333333,\"#9c179e\"],[0.4444444444444444,\"#bd3786\"],[0.5555555555555556,\"#d8576b\"],[0.6666666666666666,\"#ed7953\"],[0.7777777777777778,\"#fb9f3a\"],[0.8888888888888888,\"#fdca26\"],[1.0,\"#f0f921\"]],\"sequentialminus\":[[0.0,\"#0d0887\"],[0.1111111111111111,\"#46039f\"],[0.2222222222222222,\"#7201a8\"],[0.3333333333333333,\"#9c179e\"],[0.4444444444444444,\"#bd3786\"],[0.5555555555555556,\"#d8576b\"],[0.6666666666666666,\"#ed7953\"],[0.7777777777777778,\"#fb9f3a\"],[0.8888888888888888,\"#fdca26\"],[1.0,\"#f0f921\"]]},\"colorway\":[\"#636efa\",\"#EF553B\",\"#00cc96\",\"#ab63fa\",\"#FFA15A\",\"#19d3f3\",\"#FF6692\",\"#B6E880\",\"#FF97FF\",\"#FECB52\"],\"font\":{\"color\":\"#2a3f5f\"},\"geo\":{\"bgcolor\":\"white\",\"lakecolor\":\"white\",\"landcolor\":\"#E5ECF6\",\"showlakes\":true,\"showland\":true,\"subunitcolor\":\"white\"},\"hoverlabel\":{\"align\":\"left\"},\"hovermode\":\"closest\",\"mapbox\":{\"style\":\"light\"},\"paper_bgcolor\":\"white\",\"plot_bgcolor\":\"#E5ECF6\",\"polar\":{\"angularaxis\":{\"gridcolor\":\"white\",\"linecolor\":\"white\",\"ticks\":\"\"},\"bgcolor\":\"#E5ECF6\",\"radialaxis\":{\"gridcolor\":\"white\",\"linecolor\":\"white\",\"ticks\":\"\"}},\"scene\":{\"xaxis\":{\"backgroundcolor\":\"#E5ECF6\",\"gridcolor\":\"white\",\"gridwidth\":2,\"linecolor\":\"white\",\"showbackground\":true,\"ticks\":\"\",\"zerolinecolor\":\"white\"},\"yaxis\":{\"backgroundcolor\":\"#E5ECF6\",\"gridcolor\":\"white\",\"gridwidth\":2,\"linecolor\":\"white\",\"showbackground\":true,\"ticks\":\"\",\"zerolinecolor\":\"white\"},\"zaxis\":{\"backgroundcolor\":\"#E5ECF6\",\"gridcolor\":\"white\",\"gridwidth\":2,\"linecolor\":\"white\",\"showbackground\":true,\"ticks\":\"\",\"zerolinecolor\":\"white\"}},\"shapedefaults\":{\"line\":{\"color\":\"#2a3f5f\"}},\"ternary\":{\"aaxis\":{\"gridcolor\":\"white\",\"linecolor\":\"white\",\"ticks\":\"\"},\"baxis\":{\"gridcolor\":\"white\",\"linecolor\":\"white\",\"ticks\":\"\"},\"bgcolor\":\"#E5ECF6\",\"caxis\":{\"gridcolor\":\"white\",\"linecolor\":\"white\",\"ticks\":\"\"}},\"title\":{\"x\":0.05},\"xaxis\":{\"automargin\":true,\"gridcolor\":\"white\",\"linecolor\":\"white\",\"ticks\":\"\",\"title\":{\"standoff\":15},\"zerolinecolor\":\"white\",\"zerolinewidth\":2},\"yaxis\":{\"automargin\":true,\"gridcolor\":\"white\",\"linecolor\":\"white\",\"ticks\":\"\",\"title\":{\"standoff\":15},\"zerolinecolor\":\"white\",\"zerolinewidth\":2}}},\"width\":1000,\"xaxis\":{\"anchor\":\"y\",\"domain\":[0.0,0.235],\"title\":{\"text\":\"Week\"}},\"xaxis10\":{\"anchor\":\"y10\",\"domain\":[0.255,0.49],\"matches\":\"x\",\"showticklabels\":false},\"xaxis11\":{\"anchor\":\"y11\",\"domain\":[0.51,0.745],\"matches\":\"x\",\"showticklabels\":false},\"xaxis12\":{\"anchor\":\"y12\",\"domain\":[0.7649999999999999,0.9999999999999999],\"matches\":\"x\",\"showticklabels\":false},\"xaxis13\":{\"anchor\":\"y13\",\"domain\":[0.0,0.235],\"matches\":\"x\",\"showticklabels\":false},\"xaxis14\":{\"anchor\":\"y14\",\"domain\":[0.255,0.49],\"matches\":\"x\",\"showticklabels\":false},\"xaxis15\":{\"anchor\":\"y15\",\"domain\":[0.51,0.745],\"matches\":\"x\",\"showticklabels\":false},\"xaxis16\":{\"anchor\":\"y16\",\"domain\":[0.7649999999999999,0.9999999999999999],\"matches\":\"x\",\"showticklabels\":false},\"xaxis17\":{\"anchor\":\"y17\",\"domain\":[0.0,0.235],\"matches\":\"x\",\"showticklabels\":false},\"xaxis18\":{\"anchor\":\"y18\",\"domain\":[0.255,0.49],\"matches\":\"x\",\"showticklabels\":false},\"xaxis19\":{\"anchor\":\"y19\",\"domain\":[0.51,0.745],\"matches\":\"x\",\"showticklabels\":false},\"xaxis2\":{\"anchor\":\"y2\",\"domain\":[0.255,0.49],\"matches\":\"x\",\"title\":{\"text\":\"Week\"}},\"xaxis20\":{\"anchor\":\"y20\",\"domain\":[0.7649999999999999,0.9999999999999999],\"matches\":\"x\",\"showticklabels\":false},\"xaxis3\":{\"anchor\":\"y3\",\"domain\":[0.51,0.745],\"matches\":\"x\",\"title\":{\"text\":\"Week\"}},\"xaxis4\":{\"anchor\":\"y4\",\"domain\":[0.7649999999999999,0.9999999999999999],\"matches\":\"x\",\"title\":{\"text\":\"Week\"}},\"xaxis5\":{\"anchor\":\"y5\",\"domain\":[0.0,0.235],\"matches\":\"x\",\"showticklabels\":false},\"xaxis6\":{\"anchor\":\"y6\",\"domain\":[0.255,0.49],\"matches\":\"x\",\"showticklabels\":false},\"xaxis7\":{\"anchor\":\"y7\",\"domain\":[0.51,0.745],\"matches\":\"x\",\"showticklabels\":false},\"xaxis8\":{\"anchor\":\"y8\",\"domain\":[0.7649999999999999,0.9999999999999999],\"matches\":\"x\",\"showticklabels\":false},\"xaxis9\":{\"anchor\":\"y9\",\"domain\":[0.0,0.235],\"matches\":\"x\",\"showticklabels\":false},\"yaxis\":{\"anchor\":\"x\",\"domain\":[0.0,0.144],\"title\":{\"text\":\"pts_half_ppr\"}},\"yaxis10\":{\"anchor\":\"x10\",\"domain\":[0.428,0.572],\"matches\":\"y\",\"showticklabels\":false},\"yaxis11\":{\"anchor\":\"x11\",\"domain\":[0.428,0.572],\"matches\":\"y\",\"showticklabels\":false},\"yaxis12\":{\"anchor\":\"x12\",\"domain\":[0.428,0.572],\"matches\":\"y\",\"showticklabels\":false},\"yaxis13\":{\"anchor\":\"x13\",\"domain\":[0.6419999999999999,0.7859999999999999],\"matches\":\"y\",\"title\":{\"text\":\"pts_half_ppr\"}},\"yaxis14\":{\"anchor\":\"x14\",\"domain\":[0.6419999999999999,0.7859999999999999],\"matches\":\"y\",\"showticklabels\":false},\"yaxis15\":{\"anchor\":\"x15\",\"domain\":[0.6419999999999999,0.7859999999999999],\"matches\":\"y\",\"showticklabels\":false},\"yaxis16\":{\"anchor\":\"x16\",\"domain\":[0.6419999999999999,0.7859999999999999],\"matches\":\"y\",\"showticklabels\":false},\"yaxis17\":{\"anchor\":\"x17\",\"domain\":[0.856,1.0],\"matches\":\"y\",\"title\":{\"text\":\"pts_half_ppr\"}},\"yaxis18\":{\"anchor\":\"x18\",\"domain\":[0.856,1.0],\"matches\":\"y\",\"showticklabels\":false},\"yaxis19\":{\"anchor\":\"x19\",\"domain\":[0.856,1.0],\"matches\":\"y\",\"showticklabels\":false},\"yaxis2\":{\"anchor\":\"x2\",\"domain\":[0.0,0.144],\"matches\":\"y\",\"showticklabels\":false},\"yaxis20\":{\"anchor\":\"x20\",\"domain\":[0.856,1.0],\"matches\":\"y\",\"showticklabels\":false},\"yaxis3\":{\"anchor\":\"x3\",\"domain\":[0.0,0.144],\"matches\":\"y\",\"showticklabels\":false},\"yaxis4\":{\"anchor\":\"x4\",\"domain\":[0.0,0.144],\"matches\":\"y\",\"showticklabels\":false},\"yaxis5\":{\"anchor\":\"x5\",\"domain\":[0.214,0.358],\"matches\":\"y\",\"title\":{\"text\":\"pts_half_ppr\"}},\"yaxis6\":{\"anchor\":\"x6\",\"domain\":[0.214,0.358],\"matches\":\"y\",\"showticklabels\":false},\"yaxis7\":{\"anchor\":\"x7\",\"domain\":[0.214,0.358],\"matches\":\"y\",\"showticklabels\":false},\"yaxis8\":{\"anchor\":\"x8\",\"domain\":[0.214,0.358],\"matches\":\"y\",\"showticklabels\":false},\"yaxis9\":{\"anchor\":\"x9\",\"domain\":[0.428,0.572],\"matches\":\"y\",\"title\":{\"text\":\"pts_half_ppr\"}}},                        {\"responsive\": true}                    ).then(function(){\n",
       "                            \n",
       "var gd = document.getElementById('454fb4d8-c431-4381-b401-64f9df8a398c');\n",
       "var x = new MutationObserver(function (mutations, observer) {{\n",
       "        var display = window.getComputedStyle(gd).display;\n",
       "        if (!display || display === 'none') {{\n",
       "            console.log([gd, 'removed!']);\n",
       "            Plotly.purge(gd);\n",
       "            observer.disconnect();\n",
       "        }}\n",
       "}});\n",
       "\n",
       "// Listen for the removal of the full notebook cells\n",
       "var notebookContainer = gd.closest('#notebook-container');\n",
       "if (notebookContainer) {{\n",
       "    x.observe(notebookContainer, {childList: true});\n",
       "}}\n",
       "\n",
       "// Listen for the clearing of the current output cell\n",
       "var outputEl = gd.closest('.output');\n",
       "if (outputEl) {{\n",
       "    x.observe(outputEl, {childList: true});\n",
       "}}\n",
       "\n",
       "                        })                };                });            </script>        </div>"
      ]
     },
     "metadata": {},
     "output_type": "display_data"
    }
   ],
   "source": [
    "fig = px.line(users_wkly_stats, x = \"Week\", y = \"pts_half_ppr\", facet_col = \"Player\", facet_col_wrap=4,\n",
    "              width=1000, height=800)\n",
    "fig.show()"
   ]
  },
  {
   "cell_type": "code",
   "execution_count": 29,
   "metadata": {},
   "outputs": [
    {
     "data": {
      "application/vnd.plotly.v1+json": {
       "config": {
        "plotlyServerURL": "https://plot.ly"
       },
       "data": [
        {
         "alignmentgroup": "True",
         "hovertemplate": "position=QB<br>Week=%{x}<br>pts_half_ppr=%{y}<extra></extra>",
         "legendgroup": "QB",
         "marker": {
          "color": "#636efa",
          "pattern": {
           "shape": ""
          }
         },
         "name": "QB",
         "offsetgroup": "QB",
         "orientation": "v",
         "showlegend": true,
         "textposition": "auto",
         "type": "bar",
         "x": [
          1,
          2,
          3,
          4,
          5,
          6,
          7,
          8,
          9,
          10,
          11,
          12,
          13,
          14,
          15
         ],
         "xaxis": "x",
         "y": [
          22.04,
          24.26,
          24.12,
          11.12,
          14.4,
          27.52,
          null,
          12.16,
          21.58,
          16.46,
          24.24,
          16.52,
          19.2,
          16.04,
          10.48
         ],
         "yaxis": "y"
        },
        {
         "alignmentgroup": "True",
         "hovertemplate": "position=K<br>Week=%{x}<br>pts_half_ppr=%{y}<extra></extra>",
         "legendgroup": "K",
         "marker": {
          "color": "#EF553B",
          "pattern": {
           "shape": ""
          }
         },
         "name": "K",
         "offsetgroup": "K",
         "orientation": "v",
         "showlegend": true,
         "textposition": "auto",
         "type": "bar",
         "x": [
          1,
          2,
          3,
          4,
          5,
          6,
          7,
          8,
          9,
          10,
          11,
          12,
          13,
          14,
          15
         ],
         "xaxis": "x",
         "y": [
          4,
          5,
          6,
          4,
          4,
          10,
          4,
          7,
          null,
          null,
          7,
          1,
          3,
          5,
          4
         ],
         "yaxis": "y"
        },
        {
         "alignmentgroup": "True",
         "hovertemplate": "position=WR<br>Week=%{x}<br>pts_half_ppr=%{y}<extra></extra>",
         "legendgroup": "WR",
         "marker": {
          "color": "#00cc96",
          "pattern": {
           "shape": ""
          }
         },
         "name": "WR",
         "offsetgroup": "WR",
         "orientation": "v",
         "showlegend": true,
         "textposition": "auto",
         "type": "bar",
         "x": [
          1,
          1,
          1,
          1,
          1,
          1,
          1,
          1,
          1,
          2,
          2,
          2,
          2,
          2,
          2,
          2,
          2,
          2,
          3,
          3,
          3,
          3,
          3,
          3,
          3,
          3,
          3,
          4,
          4,
          4,
          4,
          4,
          4,
          4,
          4,
          4,
          5,
          5,
          5,
          5,
          5,
          5,
          5,
          5,
          5,
          6,
          6,
          6,
          6,
          6,
          6,
          6,
          6,
          6,
          7,
          7,
          7,
          7,
          7,
          7,
          7,
          7,
          7,
          8,
          8,
          8,
          8,
          8,
          8,
          8,
          8,
          8,
          9,
          9,
          9,
          9,
          9,
          9,
          9,
          9,
          9,
          10,
          10,
          10,
          10,
          10,
          10,
          10,
          10,
          10,
          11,
          11,
          11,
          11,
          11,
          11,
          11,
          11,
          11,
          12,
          12,
          12,
          12,
          12,
          12,
          12,
          12,
          12,
          13,
          13,
          13,
          13,
          13,
          13,
          13,
          13,
          13,
          14,
          14,
          14,
          14,
          14,
          14,
          14,
          14,
          14,
          15,
          15,
          15,
          15,
          15,
          15,
          15,
          15,
          15
         ],
         "xaxis": "x",
         "y": [
          20.8,
          3.2,
          null,
          12.9,
          12.1,
          6.4,
          10.2,
          9.4,
          11.1,
          13,
          null,
          5.3,
          5.8,
          15,
          3.2,
          null,
          0.7,
          17.6,
          2.6,
          13.4,
          null,
          0.3,
          null,
          -0.7,
          null,
          6.8,
          3.6,
          null,
          null,
          null,
          null,
          19.7,
          3.4,
          null,
          14,
          5.1,
          null,
          null,
          null,
          5.3,
          14.2,
          4.5,
          null,
          6.3,
          2.9,
          12.6,
          null,
          null,
          12.6,
          14.1,
          2,
          null,
          8.4,
          16.8,
          null,
          null,
          14.7,
          23.3,
          null,
          null,
          null,
          null,
          null,
          4.5,
          null,
          null,
          26.5,
          12.8,
          2.3,
          5.9,
          3.1,
          2,
          null,
          2.9,
          9.9,
          6.7,
          9.2,
          2.4,
          9.9,
          4,
          2.5,
          null,
          4.6,
          null,
          2.8,
          8.8,
          null,
          7.1,
          3.6,
          null,
          null,
          20.3,
          7.4,
          7.3,
          19.6,
          2.5,
          null,
          4.5,
          2.4,
          null,
          7,
          15.2,
          null,
          14,
          3.3,
          3.5,
          5.8,
          1,
          null,
          null,
          15.5,
          null,
          26.5,
          16.9,
          9.7,
          4.6,
          12.7,
          3.7,
          3.5,
          8.4,
          null,
          12.8,
          16.2,
          7.2,
          5.4,
          15.8,
          2.5,
          18.3,
          19.1,
          null,
          7.3,
          8,
          null,
          6.9,
          3.6
         ],
         "yaxis": "y"
        },
        {
         "alignmentgroup": "True",
         "hovertemplate": "position=RB<br>Week=%{x}<br>pts_half_ppr=%{y}<extra></extra>",
         "legendgroup": "RB",
         "marker": {
          "color": "#ab63fa",
          "pattern": {
           "shape": ""
          }
         },
         "name": "RB",
         "offsetgroup": "RB",
         "orientation": "v",
         "showlegend": true,
         "textposition": "auto",
         "type": "bar",
         "x": [
          1,
          1,
          1,
          1,
          2,
          2,
          2,
          2,
          3,
          3,
          3,
          3,
          4,
          4,
          4,
          4,
          5,
          5,
          5,
          5,
          6,
          6,
          6,
          6,
          7,
          7,
          7,
          7,
          8,
          8,
          8,
          8,
          9,
          9,
          9,
          9,
          10,
          10,
          10,
          10,
          11,
          11,
          11,
          11,
          12,
          12,
          12,
          12,
          13,
          13,
          13,
          13,
          14,
          14,
          14,
          14,
          15,
          15,
          15,
          15
         ],
         "xaxis": "x",
         "y": [
          1.8,
          3.2,
          null,
          15.2,
          1.6,
          7.9,
          null,
          15.7,
          null,
          18.4,
          null,
          null,
          1.7,
          26.1,
          null,
          14.1,
          19.3,
          0.9,
          null,
          16.4,
          8.9,
          null,
          null,
          23.7,
          13.6,
          null,
          null,
          7.9,
          15,
          null,
          7.3,
          21.8,
          13.7,
          null,
          null,
          7.3,
          null,
          null,
          11.6,
          6.1,
          2.5,
          8.6,
          0.1,
          null,
          3.2,
          7.3,
          1.1,
          15.3,
          7.4,
          10.4,
          2.6,
          null,
          10.4,
          17,
          -0.5,
          null,
          9.2,
          6.4,
          -0.9,
          3.7
         ],
         "yaxis": "y"
        },
        {
         "alignmentgroup": "True",
         "hovertemplate": "position=TE<br>Week=%{x}<br>pts_half_ppr=%{y}<extra></extra>",
         "legendgroup": "TE",
         "marker": {
          "color": "#FFA15A",
          "pattern": {
           "shape": ""
          }
         },
         "name": "TE",
         "offsetgroup": "TE",
         "orientation": "v",
         "showlegend": true,
         "textposition": "auto",
         "type": "bar",
         "x": [
          1,
          2,
          3,
          4,
          5,
          6,
          7,
          8,
          9,
          10,
          11,
          12,
          13,
          14,
          15
         ],
         "xaxis": "x",
         "y": [
          6.1,
          9.7,
          12.9,
          18.2,
          19.2,
          6,
          null,
          null,
          null,
          2.2,
          11,
          16.7,
          2.4,
          15.5,
          5.8
         ],
         "yaxis": "y"
        },
        {
         "alignmentgroup": "True",
         "hovertemplate": "position=DEF<br>Week=%{x}<br>pts_half_ppr=%{y}<extra></extra>",
         "legendgroup": "DEF",
         "marker": {
          "color": "#19d3f3",
          "pattern": {
           "shape": ""
          }
         },
         "name": "DEF",
         "offsetgroup": "DEF",
         "orientation": "v",
         "showlegend": true,
         "textposition": "auto",
         "type": "bar",
         "x": [
          1,
          2,
          3,
          4,
          5,
          6,
          7,
          8,
          9,
          10,
          11,
          12,
          13,
          14,
          15
         ],
         "xaxis": "x",
         "y": [
          5,
          13,
          2,
          3,
          9,
          11,
          null,
          9,
          12,
          4,
          2,
          9,
          8,
          7,
          17
         ],
         "yaxis": "y"
        }
       ],
       "layout": {
        "barmode": "relative",
        "legend": {
         "title": {
          "text": "position"
         },
         "tracegroupgap": 0
        },
        "margin": {
         "t": 60
        },
        "template": {
         "data": {
          "bar": [
           {
            "error_x": {
             "color": "#2a3f5f"
            },
            "error_y": {
             "color": "#2a3f5f"
            },
            "marker": {
             "line": {
              "color": "#E5ECF6",
              "width": 0.5
             },
             "pattern": {
              "fillmode": "overlay",
              "size": 10,
              "solidity": 0.2
             }
            },
            "type": "bar"
           }
          ],
          "barpolar": [
           {
            "marker": {
             "line": {
              "color": "#E5ECF6",
              "width": 0.5
             },
             "pattern": {
              "fillmode": "overlay",
              "size": 10,
              "solidity": 0.2
             }
            },
            "type": "barpolar"
           }
          ],
          "carpet": [
           {
            "aaxis": {
             "endlinecolor": "#2a3f5f",
             "gridcolor": "white",
             "linecolor": "white",
             "minorgridcolor": "white",
             "startlinecolor": "#2a3f5f"
            },
            "baxis": {
             "endlinecolor": "#2a3f5f",
             "gridcolor": "white",
             "linecolor": "white",
             "minorgridcolor": "white",
             "startlinecolor": "#2a3f5f"
            },
            "type": "carpet"
           }
          ],
          "choropleth": [
           {
            "colorbar": {
             "outlinewidth": 0,
             "ticks": ""
            },
            "type": "choropleth"
           }
          ],
          "contour": [
           {
            "colorbar": {
             "outlinewidth": 0,
             "ticks": ""
            },
            "colorscale": [
             [
              0,
              "#0d0887"
             ],
             [
              0.1111111111111111,
              "#46039f"
             ],
             [
              0.2222222222222222,
              "#7201a8"
             ],
             [
              0.3333333333333333,
              "#9c179e"
             ],
             [
              0.4444444444444444,
              "#bd3786"
             ],
             [
              0.5555555555555556,
              "#d8576b"
             ],
             [
              0.6666666666666666,
              "#ed7953"
             ],
             [
              0.7777777777777778,
              "#fb9f3a"
             ],
             [
              0.8888888888888888,
              "#fdca26"
             ],
             [
              1,
              "#f0f921"
             ]
            ],
            "type": "contour"
           }
          ],
          "contourcarpet": [
           {
            "colorbar": {
             "outlinewidth": 0,
             "ticks": ""
            },
            "type": "contourcarpet"
           }
          ],
          "heatmap": [
           {
            "colorbar": {
             "outlinewidth": 0,
             "ticks": ""
            },
            "colorscale": [
             [
              0,
              "#0d0887"
             ],
             [
              0.1111111111111111,
              "#46039f"
             ],
             [
              0.2222222222222222,
              "#7201a8"
             ],
             [
              0.3333333333333333,
              "#9c179e"
             ],
             [
              0.4444444444444444,
              "#bd3786"
             ],
             [
              0.5555555555555556,
              "#d8576b"
             ],
             [
              0.6666666666666666,
              "#ed7953"
             ],
             [
              0.7777777777777778,
              "#fb9f3a"
             ],
             [
              0.8888888888888888,
              "#fdca26"
             ],
             [
              1,
              "#f0f921"
             ]
            ],
            "type": "heatmap"
           }
          ],
          "heatmapgl": [
           {
            "colorbar": {
             "outlinewidth": 0,
             "ticks": ""
            },
            "colorscale": [
             [
              0,
              "#0d0887"
             ],
             [
              0.1111111111111111,
              "#46039f"
             ],
             [
              0.2222222222222222,
              "#7201a8"
             ],
             [
              0.3333333333333333,
              "#9c179e"
             ],
             [
              0.4444444444444444,
              "#bd3786"
             ],
             [
              0.5555555555555556,
              "#d8576b"
             ],
             [
              0.6666666666666666,
              "#ed7953"
             ],
             [
              0.7777777777777778,
              "#fb9f3a"
             ],
             [
              0.8888888888888888,
              "#fdca26"
             ],
             [
              1,
              "#f0f921"
             ]
            ],
            "type": "heatmapgl"
           }
          ],
          "histogram": [
           {
            "marker": {
             "pattern": {
              "fillmode": "overlay",
              "size": 10,
              "solidity": 0.2
             }
            },
            "type": "histogram"
           }
          ],
          "histogram2d": [
           {
            "colorbar": {
             "outlinewidth": 0,
             "ticks": ""
            },
            "colorscale": [
             [
              0,
              "#0d0887"
             ],
             [
              0.1111111111111111,
              "#46039f"
             ],
             [
              0.2222222222222222,
              "#7201a8"
             ],
             [
              0.3333333333333333,
              "#9c179e"
             ],
             [
              0.4444444444444444,
              "#bd3786"
             ],
             [
              0.5555555555555556,
              "#d8576b"
             ],
             [
              0.6666666666666666,
              "#ed7953"
             ],
             [
              0.7777777777777778,
              "#fb9f3a"
             ],
             [
              0.8888888888888888,
              "#fdca26"
             ],
             [
              1,
              "#f0f921"
             ]
            ],
            "type": "histogram2d"
           }
          ],
          "histogram2dcontour": [
           {
            "colorbar": {
             "outlinewidth": 0,
             "ticks": ""
            },
            "colorscale": [
             [
              0,
              "#0d0887"
             ],
             [
              0.1111111111111111,
              "#46039f"
             ],
             [
              0.2222222222222222,
              "#7201a8"
             ],
             [
              0.3333333333333333,
              "#9c179e"
             ],
             [
              0.4444444444444444,
              "#bd3786"
             ],
             [
              0.5555555555555556,
              "#d8576b"
             ],
             [
              0.6666666666666666,
              "#ed7953"
             ],
             [
              0.7777777777777778,
              "#fb9f3a"
             ],
             [
              0.8888888888888888,
              "#fdca26"
             ],
             [
              1,
              "#f0f921"
             ]
            ],
            "type": "histogram2dcontour"
           }
          ],
          "mesh3d": [
           {
            "colorbar": {
             "outlinewidth": 0,
             "ticks": ""
            },
            "type": "mesh3d"
           }
          ],
          "parcoords": [
           {
            "line": {
             "colorbar": {
              "outlinewidth": 0,
              "ticks": ""
             }
            },
            "type": "parcoords"
           }
          ],
          "pie": [
           {
            "automargin": true,
            "type": "pie"
           }
          ],
          "scatter": [
           {
            "marker": {
             "colorbar": {
              "outlinewidth": 0,
              "ticks": ""
             }
            },
            "type": "scatter"
           }
          ],
          "scatter3d": [
           {
            "line": {
             "colorbar": {
              "outlinewidth": 0,
              "ticks": ""
             }
            },
            "marker": {
             "colorbar": {
              "outlinewidth": 0,
              "ticks": ""
             }
            },
            "type": "scatter3d"
           }
          ],
          "scattercarpet": [
           {
            "marker": {
             "colorbar": {
              "outlinewidth": 0,
              "ticks": ""
             }
            },
            "type": "scattercarpet"
           }
          ],
          "scattergeo": [
           {
            "marker": {
             "colorbar": {
              "outlinewidth": 0,
              "ticks": ""
             }
            },
            "type": "scattergeo"
           }
          ],
          "scattergl": [
           {
            "marker": {
             "colorbar": {
              "outlinewidth": 0,
              "ticks": ""
             }
            },
            "type": "scattergl"
           }
          ],
          "scattermapbox": [
           {
            "marker": {
             "colorbar": {
              "outlinewidth": 0,
              "ticks": ""
             }
            },
            "type": "scattermapbox"
           }
          ],
          "scatterpolar": [
           {
            "marker": {
             "colorbar": {
              "outlinewidth": 0,
              "ticks": ""
             }
            },
            "type": "scatterpolar"
           }
          ],
          "scatterpolargl": [
           {
            "marker": {
             "colorbar": {
              "outlinewidth": 0,
              "ticks": ""
             }
            },
            "type": "scatterpolargl"
           }
          ],
          "scatterternary": [
           {
            "marker": {
             "colorbar": {
              "outlinewidth": 0,
              "ticks": ""
             }
            },
            "type": "scatterternary"
           }
          ],
          "surface": [
           {
            "colorbar": {
             "outlinewidth": 0,
             "ticks": ""
            },
            "colorscale": [
             [
              0,
              "#0d0887"
             ],
             [
              0.1111111111111111,
              "#46039f"
             ],
             [
              0.2222222222222222,
              "#7201a8"
             ],
             [
              0.3333333333333333,
              "#9c179e"
             ],
             [
              0.4444444444444444,
              "#bd3786"
             ],
             [
              0.5555555555555556,
              "#d8576b"
             ],
             [
              0.6666666666666666,
              "#ed7953"
             ],
             [
              0.7777777777777778,
              "#fb9f3a"
             ],
             [
              0.8888888888888888,
              "#fdca26"
             ],
             [
              1,
              "#f0f921"
             ]
            ],
            "type": "surface"
           }
          ],
          "table": [
           {
            "cells": {
             "fill": {
              "color": "#EBF0F8"
             },
             "line": {
              "color": "white"
             }
            },
            "header": {
             "fill": {
              "color": "#C8D4E3"
             },
             "line": {
              "color": "white"
             }
            },
            "type": "table"
           }
          ]
         },
         "layout": {
          "annotationdefaults": {
           "arrowcolor": "#2a3f5f",
           "arrowhead": 0,
           "arrowwidth": 1
          },
          "autotypenumbers": "strict",
          "coloraxis": {
           "colorbar": {
            "outlinewidth": 0,
            "ticks": ""
           }
          },
          "colorscale": {
           "diverging": [
            [
             0,
             "#8e0152"
            ],
            [
             0.1,
             "#c51b7d"
            ],
            [
             0.2,
             "#de77ae"
            ],
            [
             0.3,
             "#f1b6da"
            ],
            [
             0.4,
             "#fde0ef"
            ],
            [
             0.5,
             "#f7f7f7"
            ],
            [
             0.6,
             "#e6f5d0"
            ],
            [
             0.7,
             "#b8e186"
            ],
            [
             0.8,
             "#7fbc41"
            ],
            [
             0.9,
             "#4d9221"
            ],
            [
             1,
             "#276419"
            ]
           ],
           "sequential": [
            [
             0,
             "#0d0887"
            ],
            [
             0.1111111111111111,
             "#46039f"
            ],
            [
             0.2222222222222222,
             "#7201a8"
            ],
            [
             0.3333333333333333,
             "#9c179e"
            ],
            [
             0.4444444444444444,
             "#bd3786"
            ],
            [
             0.5555555555555556,
             "#d8576b"
            ],
            [
             0.6666666666666666,
             "#ed7953"
            ],
            [
             0.7777777777777778,
             "#fb9f3a"
            ],
            [
             0.8888888888888888,
             "#fdca26"
            ],
            [
             1,
             "#f0f921"
            ]
           ],
           "sequentialminus": [
            [
             0,
             "#0d0887"
            ],
            [
             0.1111111111111111,
             "#46039f"
            ],
            [
             0.2222222222222222,
             "#7201a8"
            ],
            [
             0.3333333333333333,
             "#9c179e"
            ],
            [
             0.4444444444444444,
             "#bd3786"
            ],
            [
             0.5555555555555556,
             "#d8576b"
            ],
            [
             0.6666666666666666,
             "#ed7953"
            ],
            [
             0.7777777777777778,
             "#fb9f3a"
            ],
            [
             0.8888888888888888,
             "#fdca26"
            ],
            [
             1,
             "#f0f921"
            ]
           ]
          },
          "colorway": [
           "#636efa",
           "#EF553B",
           "#00cc96",
           "#ab63fa",
           "#FFA15A",
           "#19d3f3",
           "#FF6692",
           "#B6E880",
           "#FF97FF",
           "#FECB52"
          ],
          "font": {
           "color": "#2a3f5f"
          },
          "geo": {
           "bgcolor": "white",
           "lakecolor": "white",
           "landcolor": "#E5ECF6",
           "showlakes": true,
           "showland": true,
           "subunitcolor": "white"
          },
          "hoverlabel": {
           "align": "left"
          },
          "hovermode": "closest",
          "mapbox": {
           "style": "light"
          },
          "paper_bgcolor": "white",
          "plot_bgcolor": "#E5ECF6",
          "polar": {
           "angularaxis": {
            "gridcolor": "white",
            "linecolor": "white",
            "ticks": ""
           },
           "bgcolor": "#E5ECF6",
           "radialaxis": {
            "gridcolor": "white",
            "linecolor": "white",
            "ticks": ""
           }
          },
          "scene": {
           "xaxis": {
            "backgroundcolor": "#E5ECF6",
            "gridcolor": "white",
            "gridwidth": 2,
            "linecolor": "white",
            "showbackground": true,
            "ticks": "",
            "zerolinecolor": "white"
           },
           "yaxis": {
            "backgroundcolor": "#E5ECF6",
            "gridcolor": "white",
            "gridwidth": 2,
            "linecolor": "white",
            "showbackground": true,
            "ticks": "",
            "zerolinecolor": "white"
           },
           "zaxis": {
            "backgroundcolor": "#E5ECF6",
            "gridcolor": "white",
            "gridwidth": 2,
            "linecolor": "white",
            "showbackground": true,
            "ticks": "",
            "zerolinecolor": "white"
           }
          },
          "shapedefaults": {
           "line": {
            "color": "#2a3f5f"
           }
          },
          "ternary": {
           "aaxis": {
            "gridcolor": "white",
            "linecolor": "white",
            "ticks": ""
           },
           "baxis": {
            "gridcolor": "white",
            "linecolor": "white",
            "ticks": ""
           },
           "bgcolor": "#E5ECF6",
           "caxis": {
            "gridcolor": "white",
            "linecolor": "white",
            "ticks": ""
           }
          },
          "title": {
           "x": 0.05
          },
          "xaxis": {
           "automargin": true,
           "gridcolor": "white",
           "linecolor": "white",
           "ticks": "",
           "title": {
            "standoff": 15
           },
           "zerolinecolor": "white",
           "zerolinewidth": 2
          },
          "yaxis": {
           "automargin": true,
           "gridcolor": "white",
           "linecolor": "white",
           "ticks": "",
           "title": {
            "standoff": 15
           },
           "zerolinecolor": "white",
           "zerolinewidth": 2
          }
         }
        },
        "xaxis": {
         "anchor": "y",
         "domain": [
          0,
          1
         ],
         "title": {
          "text": "Week"
         }
        },
        "yaxis": {
         "anchor": "x",
         "domain": [
          0,
          1
         ],
         "title": {
          "text": "pts_half_ppr"
         }
        }
       }
      },
      "text/html": [
       "<div>                            <div id=\"4a52fd09-301e-4b25-8f73-9441d68bcc0c\" class=\"plotly-graph-div\" style=\"height:525px; width:100%;\"></div>            <script type=\"text/javascript\">                require([\"plotly\"], function(Plotly) {                    window.PLOTLYENV=window.PLOTLYENV || {};                                    if (document.getElementById(\"4a52fd09-301e-4b25-8f73-9441d68bcc0c\")) {                    Plotly.newPlot(                        \"4a52fd09-301e-4b25-8f73-9441d68bcc0c\",                        [{\"alignmentgroup\":\"True\",\"hovertemplate\":\"position=QB<br>Week=%{x}<br>pts_half_ppr=%{y}<extra></extra>\",\"legendgroup\":\"QB\",\"marker\":{\"color\":\"#636efa\",\"pattern\":{\"shape\":\"\"}},\"name\":\"QB\",\"offsetgroup\":\"QB\",\"orientation\":\"v\",\"showlegend\":true,\"textposition\":\"auto\",\"type\":\"bar\",\"x\":[1,2,3,4,5,6,7,8,9,10,11,12,13,14,15],\"xaxis\":\"x\",\"y\":[22.04,24.26,24.12,11.12,14.4,27.52,null,12.16,21.58,16.46,24.24,16.52,19.2,16.04,10.48],\"yaxis\":\"y\"},{\"alignmentgroup\":\"True\",\"hovertemplate\":\"position=K<br>Week=%{x}<br>pts_half_ppr=%{y}<extra></extra>\",\"legendgroup\":\"K\",\"marker\":{\"color\":\"#EF553B\",\"pattern\":{\"shape\":\"\"}},\"name\":\"K\",\"offsetgroup\":\"K\",\"orientation\":\"v\",\"showlegend\":true,\"textposition\":\"auto\",\"type\":\"bar\",\"x\":[1,2,3,4,5,6,7,8,9,10,11,12,13,14,15],\"xaxis\":\"x\",\"y\":[4.0,5.0,6.0,4.0,4.0,10.0,4.0,7.0,null,null,7.0,1.0,3.0,5.0,4.0],\"yaxis\":\"y\"},{\"alignmentgroup\":\"True\",\"hovertemplate\":\"position=WR<br>Week=%{x}<br>pts_half_ppr=%{y}<extra></extra>\",\"legendgroup\":\"WR\",\"marker\":{\"color\":\"#00cc96\",\"pattern\":{\"shape\":\"\"}},\"name\":\"WR\",\"offsetgroup\":\"WR\",\"orientation\":\"v\",\"showlegend\":true,\"textposition\":\"auto\",\"type\":\"bar\",\"x\":[1,1,1,1,1,1,1,1,1,2,2,2,2,2,2,2,2,2,3,3,3,3,3,3,3,3,3,4,4,4,4,4,4,4,4,4,5,5,5,5,5,5,5,5,5,6,6,6,6,6,6,6,6,6,7,7,7,7,7,7,7,7,7,8,8,8,8,8,8,8,8,8,9,9,9,9,9,9,9,9,9,10,10,10,10,10,10,10,10,10,11,11,11,11,11,11,11,11,11,12,12,12,12,12,12,12,12,12,13,13,13,13,13,13,13,13,13,14,14,14,14,14,14,14,14,14,15,15,15,15,15,15,15,15,15],\"xaxis\":\"x\",\"y\":[20.8,3.2,null,12.9,12.1,6.4,10.2,9.4,11.1,13.0,null,5.3,5.8,15.0,3.2,null,0.7,17.6,2.6,13.4,null,0.3,null,-0.7,null,6.8,3.6,null,null,null,null,19.7,3.4,null,14.0,5.1,null,null,null,5.3,14.2,4.5,null,6.3,2.9,12.6,null,null,12.6,14.1,2.0,null,8.4,16.8,null,null,14.7,23.3,null,null,null,null,null,4.5,null,null,26.5,12.8,2.3,5.9,3.1,2.0,null,2.9,9.9,6.7,9.2,2.4,9.9,4.0,2.5,null,4.6,null,2.8,8.8,null,7.1,3.6,null,null,20.3,7.4,7.3,19.6,2.5,null,4.5,2.4,null,7.0,15.2,null,14.0,3.3,3.5,5.8,1.0,null,null,15.5,null,26.5,16.9,9.7,4.6,12.7,3.7,3.5,8.4,null,12.8,16.2,7.2,5.4,15.8,2.5,18.3,19.1,null,7.3,8.0,null,6.9,3.6],\"yaxis\":\"y\"},{\"alignmentgroup\":\"True\",\"hovertemplate\":\"position=RB<br>Week=%{x}<br>pts_half_ppr=%{y}<extra></extra>\",\"legendgroup\":\"RB\",\"marker\":{\"color\":\"#ab63fa\",\"pattern\":{\"shape\":\"\"}},\"name\":\"RB\",\"offsetgroup\":\"RB\",\"orientation\":\"v\",\"showlegend\":true,\"textposition\":\"auto\",\"type\":\"bar\",\"x\":[1,1,1,1,2,2,2,2,3,3,3,3,4,4,4,4,5,5,5,5,6,6,6,6,7,7,7,7,8,8,8,8,9,9,9,9,10,10,10,10,11,11,11,11,12,12,12,12,13,13,13,13,14,14,14,14,15,15,15,15],\"xaxis\":\"x\",\"y\":[1.8,3.2,null,15.2,1.6,7.9,null,15.7,null,18.4,null,null,1.7,26.1,null,14.1,19.3,0.9,null,16.4,8.9,null,null,23.7,13.6,null,null,7.9,15.0,null,7.3,21.8,13.7,null,null,7.3,null,null,11.6,6.1,2.5,8.6,0.1,null,3.2,7.3,1.1,15.3,7.4,10.4,2.6,null,10.4,17.0,-0.5,null,9.2,6.4,-0.9,3.7],\"yaxis\":\"y\"},{\"alignmentgroup\":\"True\",\"hovertemplate\":\"position=TE<br>Week=%{x}<br>pts_half_ppr=%{y}<extra></extra>\",\"legendgroup\":\"TE\",\"marker\":{\"color\":\"#FFA15A\",\"pattern\":{\"shape\":\"\"}},\"name\":\"TE\",\"offsetgroup\":\"TE\",\"orientation\":\"v\",\"showlegend\":true,\"textposition\":\"auto\",\"type\":\"bar\",\"x\":[1,2,3,4,5,6,7,8,9,10,11,12,13,14,15],\"xaxis\":\"x\",\"y\":[6.1,9.7,12.9,18.2,19.2,6.0,null,null,null,2.2,11.0,16.7,2.4,15.5,5.8],\"yaxis\":\"y\"},{\"alignmentgroup\":\"True\",\"hovertemplate\":\"position=DEF<br>Week=%{x}<br>pts_half_ppr=%{y}<extra></extra>\",\"legendgroup\":\"DEF\",\"marker\":{\"color\":\"#19d3f3\",\"pattern\":{\"shape\":\"\"}},\"name\":\"DEF\",\"offsetgroup\":\"DEF\",\"orientation\":\"v\",\"showlegend\":true,\"textposition\":\"auto\",\"type\":\"bar\",\"x\":[1,2,3,4,5,6,7,8,9,10,11,12,13,14,15],\"xaxis\":\"x\",\"y\":[5.0,13.0,2.0,3.0,9.0,11.0,null,9.0,12.0,4.0,2.0,9.0,8.0,7.0,17.0],\"yaxis\":\"y\"}],                        {\"barmode\":\"relative\",\"legend\":{\"title\":{\"text\":\"position\"},\"tracegroupgap\":0},\"margin\":{\"t\":60},\"template\":{\"data\":{\"bar\":[{\"error_x\":{\"color\":\"#2a3f5f\"},\"error_y\":{\"color\":\"#2a3f5f\"},\"marker\":{\"line\":{\"color\":\"#E5ECF6\",\"width\":0.5},\"pattern\":{\"fillmode\":\"overlay\",\"size\":10,\"solidity\":0.2}},\"type\":\"bar\"}],\"barpolar\":[{\"marker\":{\"line\":{\"color\":\"#E5ECF6\",\"width\":0.5},\"pattern\":{\"fillmode\":\"overlay\",\"size\":10,\"solidity\":0.2}},\"type\":\"barpolar\"}],\"carpet\":[{\"aaxis\":{\"endlinecolor\":\"#2a3f5f\",\"gridcolor\":\"white\",\"linecolor\":\"white\",\"minorgridcolor\":\"white\",\"startlinecolor\":\"#2a3f5f\"},\"baxis\":{\"endlinecolor\":\"#2a3f5f\",\"gridcolor\":\"white\",\"linecolor\":\"white\",\"minorgridcolor\":\"white\",\"startlinecolor\":\"#2a3f5f\"},\"type\":\"carpet\"}],\"choropleth\":[{\"colorbar\":{\"outlinewidth\":0,\"ticks\":\"\"},\"type\":\"choropleth\"}],\"contour\":[{\"colorbar\":{\"outlinewidth\":0,\"ticks\":\"\"},\"colorscale\":[[0.0,\"#0d0887\"],[0.1111111111111111,\"#46039f\"],[0.2222222222222222,\"#7201a8\"],[0.3333333333333333,\"#9c179e\"],[0.4444444444444444,\"#bd3786\"],[0.5555555555555556,\"#d8576b\"],[0.6666666666666666,\"#ed7953\"],[0.7777777777777778,\"#fb9f3a\"],[0.8888888888888888,\"#fdca26\"],[1.0,\"#f0f921\"]],\"type\":\"contour\"}],\"contourcarpet\":[{\"colorbar\":{\"outlinewidth\":0,\"ticks\":\"\"},\"type\":\"contourcarpet\"}],\"heatmap\":[{\"colorbar\":{\"outlinewidth\":0,\"ticks\":\"\"},\"colorscale\":[[0.0,\"#0d0887\"],[0.1111111111111111,\"#46039f\"],[0.2222222222222222,\"#7201a8\"],[0.3333333333333333,\"#9c179e\"],[0.4444444444444444,\"#bd3786\"],[0.5555555555555556,\"#d8576b\"],[0.6666666666666666,\"#ed7953\"],[0.7777777777777778,\"#fb9f3a\"],[0.8888888888888888,\"#fdca26\"],[1.0,\"#f0f921\"]],\"type\":\"heatmap\"}],\"heatmapgl\":[{\"colorbar\":{\"outlinewidth\":0,\"ticks\":\"\"},\"colorscale\":[[0.0,\"#0d0887\"],[0.1111111111111111,\"#46039f\"],[0.2222222222222222,\"#7201a8\"],[0.3333333333333333,\"#9c179e\"],[0.4444444444444444,\"#bd3786\"],[0.5555555555555556,\"#d8576b\"],[0.6666666666666666,\"#ed7953\"],[0.7777777777777778,\"#fb9f3a\"],[0.8888888888888888,\"#fdca26\"],[1.0,\"#f0f921\"]],\"type\":\"heatmapgl\"}],\"histogram\":[{\"marker\":{\"pattern\":{\"fillmode\":\"overlay\",\"size\":10,\"solidity\":0.2}},\"type\":\"histogram\"}],\"histogram2d\":[{\"colorbar\":{\"outlinewidth\":0,\"ticks\":\"\"},\"colorscale\":[[0.0,\"#0d0887\"],[0.1111111111111111,\"#46039f\"],[0.2222222222222222,\"#7201a8\"],[0.3333333333333333,\"#9c179e\"],[0.4444444444444444,\"#bd3786\"],[0.5555555555555556,\"#d8576b\"],[0.6666666666666666,\"#ed7953\"],[0.7777777777777778,\"#fb9f3a\"],[0.8888888888888888,\"#fdca26\"],[1.0,\"#f0f921\"]],\"type\":\"histogram2d\"}],\"histogram2dcontour\":[{\"colorbar\":{\"outlinewidth\":0,\"ticks\":\"\"},\"colorscale\":[[0.0,\"#0d0887\"],[0.1111111111111111,\"#46039f\"],[0.2222222222222222,\"#7201a8\"],[0.3333333333333333,\"#9c179e\"],[0.4444444444444444,\"#bd3786\"],[0.5555555555555556,\"#d8576b\"],[0.6666666666666666,\"#ed7953\"],[0.7777777777777778,\"#fb9f3a\"],[0.8888888888888888,\"#fdca26\"],[1.0,\"#f0f921\"]],\"type\":\"histogram2dcontour\"}],\"mesh3d\":[{\"colorbar\":{\"outlinewidth\":0,\"ticks\":\"\"},\"type\":\"mesh3d\"}],\"parcoords\":[{\"line\":{\"colorbar\":{\"outlinewidth\":0,\"ticks\":\"\"}},\"type\":\"parcoords\"}],\"pie\":[{\"automargin\":true,\"type\":\"pie\"}],\"scatter\":[{\"marker\":{\"colorbar\":{\"outlinewidth\":0,\"ticks\":\"\"}},\"type\":\"scatter\"}],\"scatter3d\":[{\"line\":{\"colorbar\":{\"outlinewidth\":0,\"ticks\":\"\"}},\"marker\":{\"colorbar\":{\"outlinewidth\":0,\"ticks\":\"\"}},\"type\":\"scatter3d\"}],\"scattercarpet\":[{\"marker\":{\"colorbar\":{\"outlinewidth\":0,\"ticks\":\"\"}},\"type\":\"scattercarpet\"}],\"scattergeo\":[{\"marker\":{\"colorbar\":{\"outlinewidth\":0,\"ticks\":\"\"}},\"type\":\"scattergeo\"}],\"scattergl\":[{\"marker\":{\"colorbar\":{\"outlinewidth\":0,\"ticks\":\"\"}},\"type\":\"scattergl\"}],\"scattermapbox\":[{\"marker\":{\"colorbar\":{\"outlinewidth\":0,\"ticks\":\"\"}},\"type\":\"scattermapbox\"}],\"scatterpolar\":[{\"marker\":{\"colorbar\":{\"outlinewidth\":0,\"ticks\":\"\"}},\"type\":\"scatterpolar\"}],\"scatterpolargl\":[{\"marker\":{\"colorbar\":{\"outlinewidth\":0,\"ticks\":\"\"}},\"type\":\"scatterpolargl\"}],\"scatterternary\":[{\"marker\":{\"colorbar\":{\"outlinewidth\":0,\"ticks\":\"\"}},\"type\":\"scatterternary\"}],\"surface\":[{\"colorbar\":{\"outlinewidth\":0,\"ticks\":\"\"},\"colorscale\":[[0.0,\"#0d0887\"],[0.1111111111111111,\"#46039f\"],[0.2222222222222222,\"#7201a8\"],[0.3333333333333333,\"#9c179e\"],[0.4444444444444444,\"#bd3786\"],[0.5555555555555556,\"#d8576b\"],[0.6666666666666666,\"#ed7953\"],[0.7777777777777778,\"#fb9f3a\"],[0.8888888888888888,\"#fdca26\"],[1.0,\"#f0f921\"]],\"type\":\"surface\"}],\"table\":[{\"cells\":{\"fill\":{\"color\":\"#EBF0F8\"},\"line\":{\"color\":\"white\"}},\"header\":{\"fill\":{\"color\":\"#C8D4E3\"},\"line\":{\"color\":\"white\"}},\"type\":\"table\"}]},\"layout\":{\"annotationdefaults\":{\"arrowcolor\":\"#2a3f5f\",\"arrowhead\":0,\"arrowwidth\":1},\"autotypenumbers\":\"strict\",\"coloraxis\":{\"colorbar\":{\"outlinewidth\":0,\"ticks\":\"\"}},\"colorscale\":{\"diverging\":[[0,\"#8e0152\"],[0.1,\"#c51b7d\"],[0.2,\"#de77ae\"],[0.3,\"#f1b6da\"],[0.4,\"#fde0ef\"],[0.5,\"#f7f7f7\"],[0.6,\"#e6f5d0\"],[0.7,\"#b8e186\"],[0.8,\"#7fbc41\"],[0.9,\"#4d9221\"],[1,\"#276419\"]],\"sequential\":[[0.0,\"#0d0887\"],[0.1111111111111111,\"#46039f\"],[0.2222222222222222,\"#7201a8\"],[0.3333333333333333,\"#9c179e\"],[0.4444444444444444,\"#bd3786\"],[0.5555555555555556,\"#d8576b\"],[0.6666666666666666,\"#ed7953\"],[0.7777777777777778,\"#fb9f3a\"],[0.8888888888888888,\"#fdca26\"],[1.0,\"#f0f921\"]],\"sequentialminus\":[[0.0,\"#0d0887\"],[0.1111111111111111,\"#46039f\"],[0.2222222222222222,\"#7201a8\"],[0.3333333333333333,\"#9c179e\"],[0.4444444444444444,\"#bd3786\"],[0.5555555555555556,\"#d8576b\"],[0.6666666666666666,\"#ed7953\"],[0.7777777777777778,\"#fb9f3a\"],[0.8888888888888888,\"#fdca26\"],[1.0,\"#f0f921\"]]},\"colorway\":[\"#636efa\",\"#EF553B\",\"#00cc96\",\"#ab63fa\",\"#FFA15A\",\"#19d3f3\",\"#FF6692\",\"#B6E880\",\"#FF97FF\",\"#FECB52\"],\"font\":{\"color\":\"#2a3f5f\"},\"geo\":{\"bgcolor\":\"white\",\"lakecolor\":\"white\",\"landcolor\":\"#E5ECF6\",\"showlakes\":true,\"showland\":true,\"subunitcolor\":\"white\"},\"hoverlabel\":{\"align\":\"left\"},\"hovermode\":\"closest\",\"mapbox\":{\"style\":\"light\"},\"paper_bgcolor\":\"white\",\"plot_bgcolor\":\"#E5ECF6\",\"polar\":{\"angularaxis\":{\"gridcolor\":\"white\",\"linecolor\":\"white\",\"ticks\":\"\"},\"bgcolor\":\"#E5ECF6\",\"radialaxis\":{\"gridcolor\":\"white\",\"linecolor\":\"white\",\"ticks\":\"\"}},\"scene\":{\"xaxis\":{\"backgroundcolor\":\"#E5ECF6\",\"gridcolor\":\"white\",\"gridwidth\":2,\"linecolor\":\"white\",\"showbackground\":true,\"ticks\":\"\",\"zerolinecolor\":\"white\"},\"yaxis\":{\"backgroundcolor\":\"#E5ECF6\",\"gridcolor\":\"white\",\"gridwidth\":2,\"linecolor\":\"white\",\"showbackground\":true,\"ticks\":\"\",\"zerolinecolor\":\"white\"},\"zaxis\":{\"backgroundcolor\":\"#E5ECF6\",\"gridcolor\":\"white\",\"gridwidth\":2,\"linecolor\":\"white\",\"showbackground\":true,\"ticks\":\"\",\"zerolinecolor\":\"white\"}},\"shapedefaults\":{\"line\":{\"color\":\"#2a3f5f\"}},\"ternary\":{\"aaxis\":{\"gridcolor\":\"white\",\"linecolor\":\"white\",\"ticks\":\"\"},\"baxis\":{\"gridcolor\":\"white\",\"linecolor\":\"white\",\"ticks\":\"\"},\"bgcolor\":\"#E5ECF6\",\"caxis\":{\"gridcolor\":\"white\",\"linecolor\":\"white\",\"ticks\":\"\"}},\"title\":{\"x\":0.05},\"xaxis\":{\"automargin\":true,\"gridcolor\":\"white\",\"linecolor\":\"white\",\"ticks\":\"\",\"title\":{\"standoff\":15},\"zerolinecolor\":\"white\",\"zerolinewidth\":2},\"yaxis\":{\"automargin\":true,\"gridcolor\":\"white\",\"linecolor\":\"white\",\"ticks\":\"\",\"title\":{\"standoff\":15},\"zerolinecolor\":\"white\",\"zerolinewidth\":2}}},\"xaxis\":{\"anchor\":\"y\",\"domain\":[0.0,1.0],\"title\":{\"text\":\"Week\"}},\"yaxis\":{\"anchor\":\"x\",\"domain\":[0.0,1.0],\"title\":{\"text\":\"pts_half_ppr\"}}},                        {\"responsive\": true}                    ).then(function(){\n",
       "                            \n",
       "var gd = document.getElementById('4a52fd09-301e-4b25-8f73-9441d68bcc0c');\n",
       "var x = new MutationObserver(function (mutations, observer) {{\n",
       "        var display = window.getComputedStyle(gd).display;\n",
       "        if (!display || display === 'none') {{\n",
       "            console.log([gd, 'removed!']);\n",
       "            Plotly.purge(gd);\n",
       "            observer.disconnect();\n",
       "        }}\n",
       "}});\n",
       "\n",
       "// Listen for the removal of the full notebook cells\n",
       "var notebookContainer = gd.closest('#notebook-container');\n",
       "if (notebookContainer) {{\n",
       "    x.observe(notebookContainer, {childList: true});\n",
       "}}\n",
       "\n",
       "// Listen for the clearing of the current output cell\n",
       "var outputEl = gd.closest('.output');\n",
       "if (outputEl) {{\n",
       "    x.observe(outputEl, {childList: true});\n",
       "}}\n",
       "\n",
       "                        })                };                });            </script>        </div>"
      ]
     },
     "metadata": {},
     "output_type": "display_data"
    }
   ],
   "source": [
    "fig = px.bar(users_wkly_stats, x = \"Week\", y = \"pts_half_ppr\", color = \"position\")\n",
    "fig.show()"
   ]
  },
  {
   "cell_type": "code",
   "execution_count": 36,
   "metadata": {},
   "outputs": [
    {
     "name": "stdout",
     "output_type": "stream",
     "text": [
      "172     22.04\n",
      "173      4.00\n",
      "174     20.80\n",
      "175      1.80\n",
      "176      3.20\n",
      "        ...  \n",
      "3054     8.00\n",
      "3055      NaN\n",
      "3056     6.90\n",
      "3057     3.60\n",
      "3058    17.00\n",
      "Name: pts_half_ppr, Length: 255, dtype: float64\n",
      "172     22.04\n",
      "173      4.00\n",
      "174     20.80\n",
      "175      1.80\n",
      "176      3.20\n",
      "        ...  \n",
      "3054     8.00\n",
      "3055      NaN\n",
      "3056     6.90\n",
      "3057     3.60\n",
      "3058    17.00\n",
      "Name: pts_half_ppr, Length: 255, dtype: float64\n",
      "172     22.04\n",
      "173      4.00\n",
      "174     20.80\n",
      "175      1.80\n",
      "176      3.20\n",
      "        ...  \n",
      "3054     8.00\n",
      "3055      NaN\n",
      "3056     6.90\n",
      "3057     3.60\n",
      "3058    17.00\n",
      "Name: pts_half_ppr, Length: 255, dtype: float64\n",
      "172     22.04\n",
      "173      4.00\n",
      "174     20.80\n",
      "175      1.80\n",
      "176      3.20\n",
      "        ...  \n",
      "3054     8.00\n",
      "3055      NaN\n",
      "3056     6.90\n",
      "3057     3.60\n",
      "3058    17.00\n",
      "Name: pts_half_ppr, Length: 255, dtype: float64\n",
      "172     22.04\n",
      "173      4.00\n",
      "174     20.80\n",
      "175      1.80\n",
      "176      3.20\n",
      "        ...  \n",
      "3054     8.00\n",
      "3055      NaN\n",
      "3056     6.90\n",
      "3057     3.60\n",
      "3058    17.00\n",
      "Name: pts_half_ppr, Length: 255, dtype: float64\n",
      "172     22.04\n",
      "173      4.00\n",
      "174     20.80\n",
      "175      1.80\n",
      "176      3.20\n",
      "        ...  \n",
      "3054     8.00\n",
      "3055      NaN\n",
      "3056     6.90\n",
      "3057     3.60\n",
      "3058    17.00\n",
      "Name: pts_half_ppr, Length: 255, dtype: float64\n",
      "172     22.04\n",
      "173      4.00\n",
      "174     20.80\n",
      "175      1.80\n",
      "176      3.20\n",
      "        ...  \n",
      "3054     8.00\n",
      "3055      NaN\n",
      "3056     6.90\n",
      "3057     3.60\n",
      "3058    17.00\n",
      "Name: pts_half_ppr, Length: 255, dtype: float64\n",
      "172     22.04\n",
      "173      4.00\n",
      "174     20.80\n",
      "175      1.80\n",
      "176      3.20\n",
      "        ...  \n",
      "3054     8.00\n",
      "3055      NaN\n",
      "3056     6.90\n",
      "3057     3.60\n",
      "3058    17.00\n",
      "Name: pts_half_ppr, Length: 255, dtype: float64\n",
      "172     22.04\n",
      "173      4.00\n",
      "174     20.80\n",
      "175      1.80\n",
      "176      3.20\n",
      "        ...  \n",
      "3054     8.00\n",
      "3055      NaN\n",
      "3056     6.90\n",
      "3057     3.60\n",
      "3058    17.00\n",
      "Name: pts_half_ppr, Length: 255, dtype: float64\n",
      "172     22.04\n",
      "173      4.00\n",
      "174     20.80\n",
      "175      1.80\n",
      "176      3.20\n",
      "        ...  \n",
      "3054     8.00\n",
      "3055      NaN\n",
      "3056     6.90\n",
      "3057     3.60\n",
      "3058    17.00\n",
      "Name: pts_half_ppr, Length: 255, dtype: float64\n",
      "172     22.04\n",
      "173      4.00\n",
      "174     20.80\n",
      "175      1.80\n",
      "176      3.20\n",
      "        ...  \n",
      "3054     8.00\n",
      "3055      NaN\n",
      "3056     6.90\n",
      "3057     3.60\n",
      "3058    17.00\n",
      "Name: pts_half_ppr, Length: 255, dtype: float64\n",
      "172     22.04\n",
      "173      4.00\n",
      "174     20.80\n",
      "175      1.80\n",
      "176      3.20\n",
      "        ...  \n",
      "3054     8.00\n",
      "3055      NaN\n",
      "3056     6.90\n",
      "3057     3.60\n",
      "3058    17.00\n",
      "Name: pts_half_ppr, Length: 255, dtype: float64\n",
      "172     22.04\n",
      "173      4.00\n",
      "174     20.80\n",
      "175      1.80\n",
      "176      3.20\n",
      "        ...  \n",
      "3054     8.00\n",
      "3055      NaN\n",
      "3056     6.90\n",
      "3057     3.60\n",
      "3058    17.00\n",
      "Name: pts_half_ppr, Length: 255, dtype: float64\n",
      "172     22.04\n",
      "173      4.00\n",
      "174     20.80\n",
      "175      1.80\n",
      "176      3.20\n",
      "        ...  \n",
      "3054     8.00\n",
      "3055      NaN\n",
      "3056     6.90\n",
      "3057     3.60\n",
      "3058    17.00\n",
      "Name: pts_half_ppr, Length: 255, dtype: float64\n",
      "172     22.04\n",
      "173      4.00\n",
      "174     20.80\n",
      "175      1.80\n",
      "176      3.20\n",
      "        ...  \n",
      "3054     8.00\n",
      "3055      NaN\n",
      "3056     6.90\n",
      "3057     3.60\n",
      "3058    17.00\n",
      "Name: pts_half_ppr, Length: 255, dtype: float64\n",
      "172     22.04\n",
      "173      4.00\n",
      "174     20.80\n",
      "175      1.80\n",
      "176      3.20\n",
      "        ...  \n",
      "3054     8.00\n",
      "3055      NaN\n",
      "3056     6.90\n",
      "3057     3.60\n",
      "3058    17.00\n",
      "Name: pts_half_ppr, Length: 255, dtype: float64\n",
      "172     22.04\n",
      "173      4.00\n",
      "174     20.80\n",
      "175      1.80\n",
      "176      3.20\n",
      "        ...  \n",
      "3054     8.00\n",
      "3055      NaN\n",
      "3056     6.90\n",
      "3057     3.60\n",
      "3058    17.00\n",
      "Name: pts_half_ppr, Length: 255, dtype: float64\n",
      "172     22.04\n",
      "173      4.00\n",
      "174     20.80\n",
      "175      1.80\n",
      "176      3.20\n",
      "        ...  \n",
      "3054     8.00\n",
      "3055      NaN\n",
      "3056     6.90\n",
      "3057     3.60\n",
      "3058    17.00\n",
      "Name: pts_half_ppr, Length: 255, dtype: float64\n",
      "172     22.04\n",
      "173      4.00\n",
      "174     20.80\n",
      "175      1.80\n",
      "176      3.20\n",
      "        ...  \n",
      "3054     8.00\n",
      "3055      NaN\n",
      "3056     6.90\n",
      "3057     3.60\n",
      "3058    17.00\n",
      "Name: pts_half_ppr, Length: 255, dtype: float64\n",
      "172     22.04\n",
      "173      4.00\n",
      "174     20.80\n",
      "175      1.80\n",
      "176      3.20\n",
      "        ...  \n",
      "3054     8.00\n",
      "3055      NaN\n",
      "3056     6.90\n",
      "3057     3.60\n",
      "3058    17.00\n",
      "Name: pts_half_ppr, Length: 255, dtype: float64\n",
      "172     22.04\n",
      "173      4.00\n",
      "174     20.80\n",
      "175      1.80\n",
      "176      3.20\n",
      "        ...  \n",
      "3054     8.00\n",
      "3055      NaN\n",
      "3056     6.90\n",
      "3057     3.60\n",
      "3058    17.00\n",
      "Name: pts_half_ppr, Length: 255, dtype: float64\n",
      "172     22.04\n",
      "173      4.00\n",
      "174     20.80\n",
      "175      1.80\n",
      "176      3.20\n",
      "        ...  \n",
      "3054     8.00\n",
      "3055      NaN\n",
      "3056     6.90\n",
      "3057     3.60\n",
      "3058    17.00\n",
      "Name: pts_half_ppr, Length: 255, dtype: float64\n",
      "172     22.04\n",
      "173      4.00\n",
      "174     20.80\n",
      "175      1.80\n",
      "176      3.20\n",
      "        ...  \n",
      "3054     8.00\n",
      "3055      NaN\n",
      "3056     6.90\n",
      "3057     3.60\n",
      "3058    17.00\n",
      "Name: pts_half_ppr, Length: 255, dtype: float64\n",
      "172     22.04\n",
      "173      4.00\n",
      "174     20.80\n",
      "175      1.80\n",
      "176      3.20\n",
      "        ...  \n",
      "3054     8.00\n",
      "3055      NaN\n",
      "3056     6.90\n",
      "3057     3.60\n",
      "3058    17.00\n",
      "Name: pts_half_ppr, Length: 255, dtype: float64\n",
      "172     22.04\n",
      "173      4.00\n",
      "174     20.80\n",
      "175      1.80\n",
      "176      3.20\n",
      "        ...  \n",
      "3054     8.00\n",
      "3055      NaN\n",
      "3056     6.90\n",
      "3057     3.60\n",
      "3058    17.00\n",
      "Name: pts_half_ppr, Length: 255, dtype: float64\n",
      "172     22.04\n",
      "173      4.00\n",
      "174     20.80\n",
      "175      1.80\n",
      "176      3.20\n",
      "        ...  \n",
      "3054     8.00\n",
      "3055      NaN\n",
      "3056     6.90\n",
      "3057     3.60\n",
      "3058    17.00\n",
      "Name: pts_half_ppr, Length: 255, dtype: float64\n",
      "172     22.04\n",
      "173      4.00\n",
      "174     20.80\n",
      "175      1.80\n",
      "176      3.20\n",
      "        ...  \n",
      "3054     8.00\n",
      "3055      NaN\n",
      "3056     6.90\n",
      "3057     3.60\n",
      "3058    17.00\n",
      "Name: pts_half_ppr, Length: 255, dtype: float64\n",
      "172     22.04\n",
      "173      4.00\n",
      "174     20.80\n",
      "175      1.80\n",
      "176      3.20\n",
      "        ...  \n",
      "3054     8.00\n",
      "3055      NaN\n",
      "3056     6.90\n",
      "3057     3.60\n",
      "3058    17.00\n",
      "Name: pts_half_ppr, Length: 255, dtype: float64\n",
      "172     22.04\n",
      "173      4.00\n",
      "174     20.80\n",
      "175      1.80\n",
      "176      3.20\n",
      "        ...  \n",
      "3054     8.00\n",
      "3055      NaN\n",
      "3056     6.90\n",
      "3057     3.60\n",
      "3058    17.00\n",
      "Name: pts_half_ppr, Length: 255, dtype: float64\n",
      "172     22.04\n",
      "173      4.00\n",
      "174     20.80\n",
      "175      1.80\n",
      "176      3.20\n",
      "        ...  \n",
      "3054     8.00\n",
      "3055      NaN\n",
      "3056     6.90\n",
      "3057     3.60\n",
      "3058    17.00\n",
      "Name: pts_half_ppr, Length: 255, dtype: float64\n",
      "didn't play\n",
      "172     22.04\n",
      "173      4.00\n",
      "174     20.80\n",
      "175      1.80\n",
      "176      3.20\n",
      "        ...  \n",
      "3054     8.00\n",
      "3055      NaN\n",
      "3056     6.90\n",
      "3057     3.60\n",
      "3058    17.00\n",
      "Name: pts_half_ppr, Length: 255, dtype: float64\n",
      "172     22.04\n",
      "173      4.00\n",
      "174     20.80\n",
      "175      1.80\n",
      "176      3.20\n",
      "        ...  \n",
      "3054     8.00\n",
      "3055      NaN\n",
      "3056     6.90\n",
      "3057     3.60\n",
      "3058    17.00\n",
      "Name: pts_half_ppr, Length: 255, dtype: float64\n",
      "172     22.04\n",
      "173      4.00\n",
      "174     20.80\n",
      "175      1.80\n",
      "176      3.20\n",
      "        ...  \n",
      "3054     8.00\n",
      "3055      NaN\n",
      "3056     6.90\n",
      "3057     3.60\n",
      "3058    17.00\n",
      "Name: pts_half_ppr, Length: 255, dtype: float64\n",
      "172     22.04\n",
      "173      4.00\n",
      "174     20.80\n",
      "175      1.80\n",
      "176      3.20\n",
      "        ...  \n",
      "3054     8.00\n",
      "3055      NaN\n",
      "3056     6.90\n",
      "3057     3.60\n",
      "3058    17.00\n",
      "Name: pts_half_ppr, Length: 255, dtype: float64\n",
      "172     22.04\n",
      "173      4.00\n",
      "174     20.80\n",
      "175      1.80\n",
      "176      3.20\n",
      "        ...  \n",
      "3054     8.00\n",
      "3055      NaN\n",
      "3056     6.90\n",
      "3057     3.60\n",
      "3058    17.00\n",
      "Name: pts_half_ppr, Length: 255, dtype: float64\n",
      "172     22.04\n",
      "173      4.00\n",
      "174     20.80\n",
      "175      1.80\n",
      "176      3.20\n",
      "        ...  \n",
      "3054     8.00\n",
      "3055      NaN\n",
      "3056     6.90\n",
      "3057     3.60\n",
      "3058    17.00\n",
      "Name: pts_half_ppr, Length: 255, dtype: float64\n",
      "didn't play\n",
      "172     22.04\n",
      "173      4.00\n",
      "174     20.80\n",
      "175      1.80\n",
      "176      3.20\n",
      "        ...  \n",
      "3054     8.00\n",
      "3055      NaN\n",
      "3056     6.90\n",
      "3057     3.60\n",
      "3058    17.00\n",
      "Name: pts_half_ppr, Length: 255, dtype: float64\n",
      "172     22.04\n",
      "173      4.00\n",
      "174     20.80\n",
      "175      1.80\n",
      "176      3.20\n",
      "        ...  \n",
      "3054     8.00\n",
      "3055      NaN\n",
      "3056     6.90\n",
      "3057     3.60\n",
      "3058    17.00\n",
      "Name: pts_half_ppr, Length: 255, dtype: float64\n",
      "didn't play\n",
      "172     22.04\n",
      "173      4.00\n",
      "174     20.80\n",
      "175      1.80\n",
      "176      3.20\n",
      "        ...  \n",
      "3054     8.00\n",
      "3055      NaN\n",
      "3056     6.90\n",
      "3057     3.60\n",
      "3058    17.00\n",
      "Name: pts_half_ppr, Length: 255, dtype: float64\n",
      "172     22.04\n",
      "173      4.00\n",
      "174     20.80\n",
      "175      1.80\n",
      "176      3.20\n",
      "        ...  \n",
      "3054     8.00\n",
      "3055      NaN\n",
      "3056     6.90\n",
      "3057     3.60\n",
      "3058    17.00\n",
      "Name: pts_half_ppr, Length: 255, dtype: float64\n",
      "172     22.04\n",
      "173      4.00\n",
      "174     20.80\n",
      "175      1.80\n",
      "176      3.20\n",
      "        ...  \n",
      "3054     8.00\n",
      "3055      NaN\n",
      "3056     6.90\n",
      "3057     3.60\n",
      "3058    17.00\n",
      "Name: pts_half_ppr, Length: 255, dtype: float64\n",
      "didn't play\n",
      "didn't play\n",
      "172     22.04\n",
      "173      4.00\n",
      "174     20.80\n",
      "175      1.80\n",
      "176      3.20\n",
      "        ...  \n",
      "3054     8.00\n",
      "3055      NaN\n",
      "3056     6.90\n",
      "3057     3.60\n",
      "3058    17.00\n",
      "Name: pts_half_ppr, Length: 255, dtype: float64\n",
      "didn't play\n",
      "172     22.04\n",
      "173      4.00\n",
      "174     20.80\n",
      "175      1.80\n",
      "176      3.20\n",
      "        ...  \n",
      "3054     8.00\n",
      "3055      NaN\n",
      "3056     6.90\n",
      "3057     3.60\n",
      "3058    17.00\n",
      "Name: pts_half_ppr, Length: 255, dtype: float64\n",
      "172     22.04\n",
      "173      4.00\n",
      "174     20.80\n",
      "175      1.80\n",
      "176      3.20\n",
      "        ...  \n",
      "3054     8.00\n",
      "3055      NaN\n",
      "3056     6.90\n",
      "3057     3.60\n",
      "3058    17.00\n",
      "Name: pts_half_ppr, Length: 255, dtype: float64\n",
      "172     22.04\n",
      "173      4.00\n",
      "174     20.80\n",
      "175      1.80\n",
      "176      3.20\n",
      "        ...  \n",
      "3054     8.00\n",
      "3055      NaN\n",
      "3056     6.90\n",
      "3057     3.60\n",
      "3058    17.00\n",
      "Name: pts_half_ppr, Length: 255, dtype: float64\n",
      "172     22.04\n",
      "173      4.00\n",
      "174     20.80\n",
      "175      1.80\n",
      "176      3.20\n",
      "        ...  \n",
      "3054     8.00\n",
      "3055      NaN\n",
      "3056     6.90\n",
      "3057     3.60\n",
      "3058    17.00\n",
      "Name: pts_half_ppr, Length: 255, dtype: float64\n",
      "172     22.04\n",
      "173      4.00\n",
      "174     20.80\n",
      "175      1.80\n",
      "176      3.20\n",
      "        ...  \n",
      "3054     8.00\n",
      "3055      NaN\n",
      "3056     6.90\n",
      "3057     3.60\n",
      "3058    17.00\n",
      "Name: pts_half_ppr, Length: 255, dtype: float64\n",
      "didn't play\n",
      "172     22.04\n",
      "173      4.00\n",
      "174     20.80\n",
      "175      1.80\n",
      "176      3.20\n",
      "        ...  \n",
      "3054     8.00\n",
      "3055      NaN\n",
      "3056     6.90\n",
      "3057     3.60\n",
      "3058    17.00\n",
      "Name: pts_half_ppr, Length: 255, dtype: float64\n",
      "172     22.04\n",
      "173      4.00\n",
      "174     20.80\n",
      "175      1.80\n",
      "176      3.20\n",
      "        ...  \n",
      "3054     8.00\n",
      "3055      NaN\n",
      "3056     6.90\n",
      "3057     3.60\n",
      "3058    17.00\n",
      "Name: pts_half_ppr, Length: 255, dtype: float64\n",
      "didn't play\n",
      "didn't play\n",
      "172     22.04\n",
      "173      4.00\n",
      "174     20.80\n",
      "175      1.80\n",
      "176      3.20\n",
      "        ...  \n",
      "3054     8.00\n",
      "3055      NaN\n",
      "3056     6.90\n",
      "3057     3.60\n",
      "3058    17.00\n",
      "Name: pts_half_ppr, Length: 255, dtype: float64\n",
      "didn't play\n",
      "172     22.04\n",
      "173      4.00\n",
      "174     20.80\n",
      "175      1.80\n",
      "176      3.20\n",
      "        ...  \n",
      "3054     8.00\n",
      "3055      NaN\n",
      "3056     6.90\n",
      "3057     3.60\n",
      "3058    17.00\n",
      "Name: pts_half_ppr, Length: 255, dtype: float64\n",
      "172     22.04\n",
      "173      4.00\n",
      "174     20.80\n",
      "175      1.80\n",
      "176      3.20\n",
      "        ...  \n",
      "3054     8.00\n",
      "3055      NaN\n",
      "3056     6.90\n",
      "3057     3.60\n",
      "3058    17.00\n",
      "Name: pts_half_ppr, Length: 255, dtype: float64\n",
      "172     22.04\n",
      "173      4.00\n",
      "174     20.80\n",
      "175      1.80\n",
      "176      3.20\n",
      "        ...  \n",
      "3054     8.00\n",
      "3055      NaN\n",
      "3056     6.90\n",
      "3057     3.60\n",
      "3058    17.00\n",
      "Name: pts_half_ppr, Length: 255, dtype: float64\n",
      "172     22.04\n",
      "173      4.00\n",
      "174     20.80\n",
      "175      1.80\n",
      "176      3.20\n",
      "        ...  \n",
      "3054     8.00\n",
      "3055      NaN\n",
      "3056     6.90\n",
      "3057     3.60\n",
      "3058    17.00\n",
      "Name: pts_half_ppr, Length: 255, dtype: float64\n",
      "didn't play\n",
      "172     22.04\n",
      "173      4.00\n",
      "174     20.80\n",
      "175      1.80\n",
      "176      3.20\n",
      "        ...  \n",
      "3054     8.00\n",
      "3055      NaN\n",
      "3056     6.90\n",
      "3057     3.60\n",
      "3058    17.00\n",
      "Name: pts_half_ppr, Length: 255, dtype: float64\n",
      "172     22.04\n",
      "173      4.00\n",
      "174     20.80\n",
      "175      1.80\n",
      "176      3.20\n",
      "        ...  \n",
      "3054     8.00\n",
      "3055      NaN\n",
      "3056     6.90\n",
      "3057     3.60\n",
      "3058    17.00\n",
      "Name: pts_half_ppr, Length: 255, dtype: float64\n",
      "172     22.04\n",
      "173      4.00\n",
      "174     20.80\n",
      "175      1.80\n",
      "176      3.20\n",
      "        ...  \n",
      "3054     8.00\n",
      "3055      NaN\n",
      "3056     6.90\n",
      "3057     3.60\n",
      "3058    17.00\n",
      "Name: pts_half_ppr, Length: 255, dtype: float64\n",
      "172     22.04\n",
      "173      4.00\n",
      "174     20.80\n",
      "175      1.80\n",
      "176      3.20\n",
      "        ...  \n",
      "3054     8.00\n",
      "3055      NaN\n",
      "3056     6.90\n",
      "3057     3.60\n",
      "3058    17.00\n",
      "Name: pts_half_ppr, Length: 255, dtype: float64\n",
      "172     22.04\n",
      "173      4.00\n",
      "174     20.80\n",
      "175      1.80\n",
      "176      3.20\n",
      "        ...  \n",
      "3054     8.00\n",
      "3055      NaN\n",
      "3056     6.90\n",
      "3057     3.60\n",
      "3058    17.00\n",
      "Name: pts_half_ppr, Length: 255, dtype: float64\n",
      "didn't play\n",
      "172     22.04\n",
      "173      4.00\n",
      "174     20.80\n",
      "175      1.80\n",
      "176      3.20\n",
      "        ...  \n",
      "3054     8.00\n",
      "3055      NaN\n",
      "3056     6.90\n",
      "3057     3.60\n",
      "3058    17.00\n",
      "Name: pts_half_ppr, Length: 255, dtype: float64\n",
      "172     22.04\n",
      "173      4.00\n",
      "174     20.80\n",
      "175      1.80\n",
      "176      3.20\n",
      "        ...  \n",
      "3054     8.00\n",
      "3055      NaN\n",
      "3056     6.90\n",
      "3057     3.60\n",
      "3058    17.00\n",
      "Name: pts_half_ppr, Length: 255, dtype: float64\n",
      "didn't play\n",
      "didn't play\n",
      "172     22.04\n",
      "173      4.00\n",
      "174     20.80\n",
      "175      1.80\n",
      "176      3.20\n",
      "        ...  \n",
      "3054     8.00\n",
      "3055      NaN\n",
      "3056     6.90\n",
      "3057     3.60\n",
      "3058    17.00\n",
      "Name: pts_half_ppr, Length: 255, dtype: float64\n",
      "172     22.04\n",
      "173      4.00\n",
      "174     20.80\n",
      "175      1.80\n",
      "176      3.20\n",
      "        ...  \n",
      "3054     8.00\n",
      "3055      NaN\n",
      "3056     6.90\n",
      "3057     3.60\n",
      "3058    17.00\n",
      "Name: pts_half_ppr, Length: 255, dtype: float64\n",
      "172     22.04\n",
      "173      4.00\n",
      "174     20.80\n",
      "175      1.80\n",
      "176      3.20\n",
      "        ...  \n",
      "3054     8.00\n",
      "3055      NaN\n",
      "3056     6.90\n",
      "3057     3.60\n",
      "3058    17.00\n",
      "Name: pts_half_ppr, Length: 255, dtype: float64\n",
      "172     22.04\n",
      "173      4.00\n",
      "174     20.80\n",
      "175      1.80\n",
      "176      3.20\n",
      "        ...  \n",
      "3054     8.00\n",
      "3055      NaN\n",
      "3056     6.90\n",
      "3057     3.60\n",
      "3058    17.00\n",
      "Name: pts_half_ppr, Length: 255, dtype: float64\n",
      "172     22.04\n",
      "173      4.00\n",
      "174     20.80\n",
      "175      1.80\n",
      "176      3.20\n",
      "        ...  \n",
      "3054     8.00\n",
      "3055      NaN\n",
      "3056     6.90\n",
      "3057     3.60\n",
      "3058    17.00\n",
      "Name: pts_half_ppr, Length: 255, dtype: float64\n",
      "172     22.04\n",
      "173      4.00\n",
      "174     20.80\n",
      "175      1.80\n",
      "176      3.20\n",
      "        ...  \n",
      "3054     8.00\n",
      "3055      NaN\n",
      "3056     6.90\n",
      "3057     3.60\n",
      "3058    17.00\n",
      "Name: pts_half_ppr, Length: 255, dtype: float64\n",
      "didn't play\n",
      "172     22.04\n",
      "173      4.00\n",
      "174     20.80\n",
      "175      1.80\n",
      "176      3.20\n",
      "        ...  \n",
      "3054     8.00\n",
      "3055      NaN\n",
      "3056     6.90\n",
      "3057     3.60\n",
      "3058    17.00\n",
      "Name: pts_half_ppr, Length: 255, dtype: float64\n",
      "172     22.04\n",
      "173      4.00\n",
      "174     20.80\n",
      "175      1.80\n",
      "176      3.20\n",
      "        ...  \n",
      "3054     8.00\n",
      "3055      NaN\n",
      "3056     6.90\n",
      "3057     3.60\n",
      "3058    17.00\n",
      "Name: pts_half_ppr, Length: 255, dtype: float64\n",
      "172     22.04\n",
      "173      4.00\n",
      "174     20.80\n",
      "175      1.80\n",
      "176      3.20\n",
      "        ...  \n",
      "3054     8.00\n",
      "3055      NaN\n",
      "3056     6.90\n",
      "3057     3.60\n",
      "3058    17.00\n",
      "Name: pts_half_ppr, Length: 255, dtype: float64\n",
      "172     22.04\n",
      "173      4.00\n",
      "174     20.80\n",
      "175      1.80\n",
      "176      3.20\n",
      "        ...  \n",
      "3054     8.00\n",
      "3055      NaN\n",
      "3056     6.90\n",
      "3057     3.60\n",
      "3058    17.00\n",
      "Name: pts_half_ppr, Length: 255, dtype: float64\n",
      "172     22.04\n",
      "173      4.00\n",
      "174     20.80\n",
      "175      1.80\n",
      "176      3.20\n",
      "        ...  \n",
      "3054     8.00\n",
      "3055      NaN\n",
      "3056     6.90\n",
      "3057     3.60\n",
      "3058    17.00\n",
      "Name: pts_half_ppr, Length: 255, dtype: float64\n",
      "172     22.04\n",
      "173      4.00\n",
      "174     20.80\n",
      "175      1.80\n",
      "176      3.20\n",
      "        ...  \n",
      "3054     8.00\n",
      "3055      NaN\n",
      "3056     6.90\n",
      "3057     3.60\n",
      "3058    17.00\n",
      "Name: pts_half_ppr, Length: 255, dtype: float64\n",
      "172     22.04\n",
      "173      4.00\n",
      "174     20.80\n",
      "175      1.80\n",
      "176      3.20\n",
      "        ...  \n",
      "3054     8.00\n",
      "3055      NaN\n",
      "3056     6.90\n",
      "3057     3.60\n",
      "3058    17.00\n",
      "Name: pts_half_ppr, Length: 255, dtype: float64\n",
      "didn't play\n",
      "didn't play\n",
      "didn't play\n",
      "172     22.04\n",
      "173      4.00\n",
      "174     20.80\n",
      "175      1.80\n",
      "176      3.20\n",
      "        ...  \n",
      "3054     8.00\n",
      "3055      NaN\n",
      "3056     6.90\n",
      "3057     3.60\n",
      "3058    17.00\n",
      "Name: pts_half_ppr, Length: 255, dtype: float64\n",
      "172     22.04\n",
      "173      4.00\n",
      "174     20.80\n",
      "175      1.80\n",
      "176      3.20\n",
      "        ...  \n",
      "3054     8.00\n",
      "3055      NaN\n",
      "3056     6.90\n",
      "3057     3.60\n",
      "3058    17.00\n",
      "Name: pts_half_ppr, Length: 255, dtype: float64\n",
      "172     22.04\n",
      "173      4.00\n",
      "174     20.80\n",
      "175      1.80\n",
      "176      3.20\n",
      "        ...  \n",
      "3054     8.00\n",
      "3055      NaN\n",
      "3056     6.90\n",
      "3057     3.60\n",
      "3058    17.00\n",
      "Name: pts_half_ppr, Length: 255, dtype: float64\n",
      "172     22.04\n",
      "173      4.00\n",
      "174     20.80\n",
      "175      1.80\n",
      "176      3.20\n",
      "        ...  \n",
      "3054     8.00\n",
      "3055      NaN\n",
      "3056     6.90\n",
      "3057     3.60\n",
      "3058    17.00\n",
      "Name: pts_half_ppr, Length: 255, dtype: float64\n",
      "172     22.04\n",
      "173      4.00\n",
      "174     20.80\n",
      "175      1.80\n",
      "176      3.20\n",
      "        ...  \n",
      "3054     8.00\n",
      "3055      NaN\n",
      "3056     6.90\n",
      "3057     3.60\n",
      "3058    17.00\n",
      "Name: pts_half_ppr, Length: 255, dtype: float64\n",
      "172     22.04\n",
      "173      4.00\n",
      "174     20.80\n",
      "175      1.80\n",
      "176      3.20\n",
      "        ...  \n",
      "3054     8.00\n",
      "3055      NaN\n",
      "3056     6.90\n",
      "3057     3.60\n",
      "3058    17.00\n",
      "Name: pts_half_ppr, Length: 255, dtype: float64\n",
      "didn't play\n",
      "172     22.04\n",
      "173      4.00\n",
      "174     20.80\n",
      "175      1.80\n",
      "176      3.20\n",
      "        ...  \n",
      "3054     8.00\n",
      "3055      NaN\n",
      "3056     6.90\n",
      "3057     3.60\n",
      "3058    17.00\n",
      "Name: pts_half_ppr, Length: 255, dtype: float64\n",
      "172     22.04\n",
      "173      4.00\n",
      "174     20.80\n",
      "175      1.80\n",
      "176      3.20\n",
      "        ...  \n",
      "3054     8.00\n",
      "3055      NaN\n",
      "3056     6.90\n",
      "3057     3.60\n",
      "3058    17.00\n",
      "Name: pts_half_ppr, Length: 255, dtype: float64\n",
      "172     22.04\n",
      "173      4.00\n",
      "174     20.80\n",
      "175      1.80\n",
      "176      3.20\n",
      "        ...  \n",
      "3054     8.00\n",
      "3055      NaN\n",
      "3056     6.90\n",
      "3057     3.60\n",
      "3058    17.00\n",
      "Name: pts_half_ppr, Length: 255, dtype: float64\n",
      "didn't play\n",
      "172     22.04\n",
      "173      4.00\n",
      "174     20.80\n",
      "175      1.80\n",
      "176      3.20\n",
      "        ...  \n",
      "3054     8.00\n",
      "3055      NaN\n",
      "3056     6.90\n",
      "3057     3.60\n",
      "3058    17.00\n",
      "Name: pts_half_ppr, Length: 255, dtype: float64\n",
      "didn't play\n",
      "172     22.04\n",
      "173      4.00\n",
      "174     20.80\n",
      "175      1.80\n",
      "176      3.20\n",
      "        ...  \n",
      "3054     8.00\n",
      "3055      NaN\n",
      "3056     6.90\n",
      "3057     3.60\n",
      "3058    17.00\n",
      "Name: pts_half_ppr, Length: 255, dtype: float64\n",
      "didn't play\n",
      "didn't play\n",
      "172     22.04\n",
      "173      4.00\n",
      "174     20.80\n",
      "175      1.80\n",
      "176      3.20\n",
      "        ...  \n",
      "3054     8.00\n",
      "3055      NaN\n",
      "3056     6.90\n",
      "3057     3.60\n",
      "3058    17.00\n",
      "Name: pts_half_ppr, Length: 255, dtype: float64\n",
      "172     22.04\n",
      "173      4.00\n",
      "174     20.80\n",
      "175      1.80\n",
      "176      3.20\n",
      "        ...  \n",
      "3054     8.00\n",
      "3055      NaN\n",
      "3056     6.90\n",
      "3057     3.60\n",
      "3058    17.00\n",
      "Name: pts_half_ppr, Length: 255, dtype: float64\n",
      "172     22.04\n",
      "173      4.00\n",
      "174     20.80\n",
      "175      1.80\n",
      "176      3.20\n",
      "        ...  \n",
      "3054     8.00\n",
      "3055      NaN\n",
      "3056     6.90\n",
      "3057     3.60\n",
      "3058    17.00\n",
      "Name: pts_half_ppr, Length: 255, dtype: float64\n",
      "didn't play\n",
      "172     22.04\n",
      "173      4.00\n",
      "174     20.80\n",
      "175      1.80\n",
      "176      3.20\n",
      "        ...  \n",
      "3054     8.00\n",
      "3055      NaN\n",
      "3056     6.90\n",
      "3057     3.60\n",
      "3058    17.00\n",
      "Name: pts_half_ppr, Length: 255, dtype: float64\n",
      "didn't play\n",
      "didn't play\n",
      "didn't play\n",
      "didn't play\n",
      "didn't play\n",
      "didn't play\n",
      "172     22.04\n",
      "173      4.00\n",
      "174     20.80\n",
      "175      1.80\n",
      "176      3.20\n",
      "        ...  \n",
      "3054     8.00\n",
      "3055      NaN\n",
      "3056     6.90\n",
      "3057     3.60\n",
      "3058    17.00\n",
      "Name: pts_half_ppr, Length: 255, dtype: float64\n",
      "172     22.04\n",
      "173      4.00\n",
      "174     20.80\n",
      "175      1.80\n",
      "176      3.20\n",
      "        ...  \n",
      "3054     8.00\n",
      "3055      NaN\n",
      "3056     6.90\n",
      "3057     3.60\n",
      "3058    17.00\n",
      "Name: pts_half_ppr, Length: 255, dtype: float64\n",
      "172     22.04\n",
      "173      4.00\n",
      "174     20.80\n",
      "175      1.80\n",
      "176      3.20\n",
      "        ...  \n",
      "3054     8.00\n",
      "3055      NaN\n",
      "3056     6.90\n",
      "3057     3.60\n",
      "3058    17.00\n",
      "Name: pts_half_ppr, Length: 255, dtype: float64\n",
      "172     22.04\n",
      "173      4.00\n",
      "174     20.80\n",
      "175      1.80\n",
      "176      3.20\n",
      "        ...  \n",
      "3054     8.00\n",
      "3055      NaN\n",
      "3056     6.90\n",
      "3057     3.60\n",
      "3058    17.00\n",
      "Name: pts_half_ppr, Length: 255, dtype: float64\n",
      "didn't play\n",
      "didn't play\n",
      "172     22.04\n",
      "173      4.00\n",
      "174     20.80\n",
      "175      1.80\n",
      "176      3.20\n",
      "        ...  \n",
      "3054     8.00\n",
      "3055      NaN\n",
      "3056     6.90\n",
      "3057     3.60\n",
      "3058    17.00\n",
      "Name: pts_half_ppr, Length: 255, dtype: float64\n",
      "172     22.04\n",
      "173      4.00\n",
      "174     20.80\n",
      "175      1.80\n",
      "176      3.20\n",
      "        ...  \n",
      "3054     8.00\n",
      "3055      NaN\n",
      "3056     6.90\n",
      "3057     3.60\n",
      "3058    17.00\n",
      "Name: pts_half_ppr, Length: 255, dtype: float64\n",
      "172     22.04\n",
      "173      4.00\n",
      "174     20.80\n",
      "175      1.80\n",
      "176      3.20\n",
      "        ...  \n",
      "3054     8.00\n",
      "3055      NaN\n",
      "3056     6.90\n",
      "3057     3.60\n",
      "3058    17.00\n",
      "Name: pts_half_ppr, Length: 255, dtype: float64\n",
      "didn't play\n",
      "172     22.04\n",
      "173      4.00\n",
      "174     20.80\n",
      "175      1.80\n",
      "176      3.20\n",
      "        ...  \n",
      "3054     8.00\n",
      "3055      NaN\n",
      "3056     6.90\n",
      "3057     3.60\n",
      "3058    17.00\n",
      "Name: pts_half_ppr, Length: 255, dtype: float64\n",
      "172     22.04\n",
      "173      4.00\n",
      "174     20.80\n",
      "175      1.80\n",
      "176      3.20\n",
      "        ...  \n",
      "3054     8.00\n",
      "3055      NaN\n",
      "3056     6.90\n",
      "3057     3.60\n",
      "3058    17.00\n",
      "Name: pts_half_ppr, Length: 255, dtype: float64\n",
      "172     22.04\n",
      "173      4.00\n",
      "174     20.80\n",
      "175      1.80\n",
      "176      3.20\n",
      "        ...  \n",
      "3054     8.00\n",
      "3055      NaN\n",
      "3056     6.90\n",
      "3057     3.60\n",
      "3058    17.00\n",
      "Name: pts_half_ppr, Length: 255, dtype: float64\n",
      "172     22.04\n",
      "173      4.00\n",
      "174     20.80\n",
      "175      1.80\n",
      "176      3.20\n",
      "        ...  \n",
      "3054     8.00\n",
      "3055      NaN\n",
      "3056     6.90\n",
      "3057     3.60\n",
      "3058    17.00\n",
      "Name: pts_half_ppr, Length: 255, dtype: float64\n",
      "172     22.04\n",
      "173      4.00\n",
      "174     20.80\n",
      "175      1.80\n",
      "176      3.20\n",
      "        ...  \n",
      "3054     8.00\n",
      "3055      NaN\n",
      "3056     6.90\n",
      "3057     3.60\n",
      "3058    17.00\n",
      "Name: pts_half_ppr, Length: 255, dtype: float64\n",
      "172     22.04\n",
      "173      4.00\n",
      "174     20.80\n",
      "175      1.80\n",
      "176      3.20\n",
      "        ...  \n",
      "3054     8.00\n",
      "3055      NaN\n",
      "3056     6.90\n",
      "3057     3.60\n",
      "3058    17.00\n",
      "Name: pts_half_ppr, Length: 255, dtype: float64\n",
      "172     22.04\n",
      "173      4.00\n",
      "174     20.80\n",
      "175      1.80\n",
      "176      3.20\n",
      "        ...  \n",
      "3054     8.00\n",
      "3055      NaN\n",
      "3056     6.90\n",
      "3057     3.60\n",
      "3058    17.00\n",
      "Name: pts_half_ppr, Length: 255, dtype: float64\n",
      "172     22.04\n",
      "173      4.00\n",
      "174     20.80\n",
      "175      1.80\n",
      "176      3.20\n",
      "        ...  \n",
      "3054     8.00\n",
      "3055      NaN\n",
      "3056     6.90\n",
      "3057     3.60\n",
      "3058    17.00\n",
      "Name: pts_half_ppr, Length: 255, dtype: float64\n",
      "didn't play\n",
      "didn't play\n",
      "172     22.04\n",
      "173      4.00\n",
      "174     20.80\n",
      "175      1.80\n",
      "176      3.20\n",
      "        ...  \n",
      "3054     8.00\n",
      "3055      NaN\n",
      "3056     6.90\n",
      "3057     3.60\n",
      "3058    17.00\n",
      "Name: pts_half_ppr, Length: 255, dtype: float64\n",
      "didn't play\n",
      "172     22.04\n",
      "173      4.00\n",
      "174     20.80\n",
      "175      1.80\n",
      "176      3.20\n",
      "        ...  \n",
      "3054     8.00\n",
      "3055      NaN\n",
      "3056     6.90\n",
      "3057     3.60\n",
      "3058    17.00\n",
      "Name: pts_half_ppr, Length: 255, dtype: float64\n",
      "172     22.04\n",
      "173      4.00\n",
      "174     20.80\n",
      "175      1.80\n",
      "176      3.20\n",
      "        ...  \n",
      "3054     8.00\n",
      "3055      NaN\n",
      "3056     6.90\n",
      "3057     3.60\n",
      "3058    17.00\n",
      "Name: pts_half_ppr, Length: 255, dtype: float64\n",
      "didn't play\n",
      "172     22.04\n",
      "173      4.00\n",
      "174     20.80\n",
      "175      1.80\n",
      "176      3.20\n",
      "        ...  \n",
      "3054     8.00\n",
      "3055      NaN\n",
      "3056     6.90\n",
      "3057     3.60\n",
      "3058    17.00\n",
      "Name: pts_half_ppr, Length: 255, dtype: float64\n",
      "didn't play\n",
      "172     22.04\n",
      "173      4.00\n",
      "174     20.80\n",
      "175      1.80\n",
      "176      3.20\n",
      "        ...  \n",
      "3054     8.00\n",
      "3055      NaN\n",
      "3056     6.90\n",
      "3057     3.60\n",
      "3058    17.00\n",
      "Name: pts_half_ppr, Length: 255, dtype: float64\n",
      "172     22.04\n",
      "173      4.00\n",
      "174     20.80\n",
      "175      1.80\n",
      "176      3.20\n",
      "        ...  \n",
      "3054     8.00\n",
      "3055      NaN\n",
      "3056     6.90\n",
      "3057     3.60\n",
      "3058    17.00\n",
      "Name: pts_half_ppr, Length: 255, dtype: float64\n",
      "172     22.04\n",
      "173      4.00\n",
      "174     20.80\n",
      "175      1.80\n",
      "176      3.20\n",
      "        ...  \n",
      "3054     8.00\n",
      "3055      NaN\n",
      "3056     6.90\n",
      "3057     3.60\n",
      "3058    17.00\n",
      "Name: pts_half_ppr, Length: 255, dtype: float64\n",
      "172     22.04\n",
      "173      4.00\n",
      "174     20.80\n",
      "175      1.80\n",
      "176      3.20\n",
      "        ...  \n",
      "3054     8.00\n",
      "3055      NaN\n",
      "3056     6.90\n",
      "3057     3.60\n",
      "3058    17.00\n",
      "Name: pts_half_ppr, Length: 255, dtype: float64\n",
      "172     22.04\n",
      "173      4.00\n",
      "174     20.80\n",
      "175      1.80\n",
      "176      3.20\n",
      "        ...  \n",
      "3054     8.00\n",
      "3055      NaN\n",
      "3056     6.90\n",
      "3057     3.60\n",
      "3058    17.00\n",
      "Name: pts_half_ppr, Length: 255, dtype: float64\n",
      "172     22.04\n",
      "173      4.00\n",
      "174     20.80\n",
      "175      1.80\n",
      "176      3.20\n",
      "        ...  \n",
      "3054     8.00\n",
      "3055      NaN\n",
      "3056     6.90\n",
      "3057     3.60\n",
      "3058    17.00\n",
      "Name: pts_half_ppr, Length: 255, dtype: float64\n",
      "172     22.04\n",
      "173      4.00\n",
      "174     20.80\n",
      "175      1.80\n",
      "176      3.20\n",
      "        ...  \n",
      "3054     8.00\n",
      "3055      NaN\n",
      "3056     6.90\n",
      "3057     3.60\n",
      "3058    17.00\n",
      "Name: pts_half_ppr, Length: 255, dtype: float64\n",
      "172     22.04\n",
      "173      4.00\n",
      "174     20.80\n",
      "175      1.80\n",
      "176      3.20\n",
      "        ...  \n",
      "3054     8.00\n",
      "3055      NaN\n",
      "3056     6.90\n",
      "3057     3.60\n",
      "3058    17.00\n",
      "Name: pts_half_ppr, Length: 255, dtype: float64\n",
      "172     22.04\n",
      "173      4.00\n",
      "174     20.80\n",
      "175      1.80\n",
      "176      3.20\n",
      "        ...  \n",
      "3054     8.00\n",
      "3055      NaN\n",
      "3056     6.90\n",
      "3057     3.60\n",
      "3058    17.00\n",
      "Name: pts_half_ppr, Length: 255, dtype: float64\n",
      "didn't play\n",
      "didn't play\n",
      "didn't play\n",
      "172     22.04\n",
      "173      4.00\n",
      "174     20.80\n",
      "175      1.80\n",
      "176      3.20\n",
      "        ...  \n",
      "3054     8.00\n",
      "3055      NaN\n",
      "3056     6.90\n",
      "3057     3.60\n",
      "3058    17.00\n",
      "Name: pts_half_ppr, Length: 255, dtype: float64\n",
      "172     22.04\n",
      "173      4.00\n",
      "174     20.80\n",
      "175      1.80\n",
      "176      3.20\n",
      "        ...  \n",
      "3054     8.00\n",
      "3055      NaN\n",
      "3056     6.90\n",
      "3057     3.60\n",
      "3058    17.00\n",
      "Name: pts_half_ppr, Length: 255, dtype: float64\n",
      "172     22.04\n",
      "173      4.00\n",
      "174     20.80\n",
      "175      1.80\n",
      "176      3.20\n",
      "        ...  \n",
      "3054     8.00\n",
      "3055      NaN\n",
      "3056     6.90\n",
      "3057     3.60\n",
      "3058    17.00\n",
      "Name: pts_half_ppr, Length: 255, dtype: float64\n",
      "172     22.04\n",
      "173      4.00\n",
      "174     20.80\n",
      "175      1.80\n",
      "176      3.20\n",
      "        ...  \n",
      "3054     8.00\n",
      "3055      NaN\n",
      "3056     6.90\n",
      "3057     3.60\n",
      "3058    17.00\n",
      "Name: pts_half_ppr, Length: 255, dtype: float64\n",
      "172     22.04\n",
      "173      4.00\n",
      "174     20.80\n",
      "175      1.80\n",
      "176      3.20\n",
      "        ...  \n",
      "3054     8.00\n",
      "3055      NaN\n",
      "3056     6.90\n",
      "3057     3.60\n",
      "3058    17.00\n",
      "Name: pts_half_ppr, Length: 255, dtype: float64\n",
      "172     22.04\n",
      "173      4.00\n",
      "174     20.80\n",
      "175      1.80\n",
      "176      3.20\n",
      "        ...  \n",
      "3054     8.00\n",
      "3055      NaN\n",
      "3056     6.90\n",
      "3057     3.60\n",
      "3058    17.00\n",
      "Name: pts_half_ppr, Length: 255, dtype: float64\n",
      "172     22.04\n",
      "173      4.00\n",
      "174     20.80\n",
      "175      1.80\n",
      "176      3.20\n",
      "        ...  \n",
      "3054     8.00\n",
      "3055      NaN\n",
      "3056     6.90\n",
      "3057     3.60\n",
      "3058    17.00\n",
      "Name: pts_half_ppr, Length: 255, dtype: float64\n",
      "172     22.04\n",
      "173      4.00\n",
      "174     20.80\n",
      "175      1.80\n",
      "176      3.20\n",
      "        ...  \n",
      "3054     8.00\n",
      "3055      NaN\n",
      "3056     6.90\n",
      "3057     3.60\n",
      "3058    17.00\n",
      "Name: pts_half_ppr, Length: 255, dtype: float64\n",
      "172     22.04\n",
      "173      4.00\n",
      "174     20.80\n",
      "175      1.80\n",
      "176      3.20\n",
      "        ...  \n",
      "3054     8.00\n",
      "3055      NaN\n",
      "3056     6.90\n",
      "3057     3.60\n",
      "3058    17.00\n",
      "Name: pts_half_ppr, Length: 255, dtype: float64\n",
      "172     22.04\n",
      "173      4.00\n",
      "174     20.80\n",
      "175      1.80\n",
      "176      3.20\n",
      "        ...  \n",
      "3054     8.00\n",
      "3055      NaN\n",
      "3056     6.90\n",
      "3057     3.60\n",
      "3058    17.00\n",
      "Name: pts_half_ppr, Length: 255, dtype: float64\n",
      "172     22.04\n",
      "173      4.00\n",
      "174     20.80\n",
      "175      1.80\n",
      "176      3.20\n",
      "        ...  \n",
      "3054     8.00\n",
      "3055      NaN\n",
      "3056     6.90\n",
      "3057     3.60\n",
      "3058    17.00\n",
      "Name: pts_half_ppr, Length: 255, dtype: float64\n",
      "172     22.04\n",
      "173      4.00\n",
      "174     20.80\n",
      "175      1.80\n",
      "176      3.20\n",
      "        ...  \n",
      "3054     8.00\n",
      "3055      NaN\n",
      "3056     6.90\n",
      "3057     3.60\n",
      "3058    17.00\n",
      "Name: pts_half_ppr, Length: 255, dtype: float64\n",
      "172     22.04\n",
      "173      4.00\n",
      "174     20.80\n",
      "175      1.80\n",
      "176      3.20\n",
      "        ...  \n",
      "3054     8.00\n",
      "3055      NaN\n",
      "3056     6.90\n",
      "3057     3.60\n",
      "3058    17.00\n",
      "Name: pts_half_ppr, Length: 255, dtype: float64\n",
      "172     22.04\n",
      "173      4.00\n",
      "174     20.80\n",
      "175      1.80\n",
      "176      3.20\n",
      "        ...  \n",
      "3054     8.00\n",
      "3055      NaN\n",
      "3056     6.90\n",
      "3057     3.60\n",
      "3058    17.00\n",
      "Name: pts_half_ppr, Length: 255, dtype: float64\n",
      "didn't play\n",
      "172     22.04\n",
      "173      4.00\n",
      "174     20.80\n",
      "175      1.80\n",
      "176      3.20\n",
      "        ...  \n",
      "3054     8.00\n",
      "3055      NaN\n",
      "3056     6.90\n",
      "3057     3.60\n",
      "3058    17.00\n",
      "Name: pts_half_ppr, Length: 255, dtype: float64\n",
      "172     22.04\n",
      "173      4.00\n",
      "174     20.80\n",
      "175      1.80\n",
      "176      3.20\n",
      "        ...  \n",
      "3054     8.00\n",
      "3055      NaN\n",
      "3056     6.90\n",
      "3057     3.60\n",
      "3058    17.00\n",
      "Name: pts_half_ppr, Length: 255, dtype: float64\n",
      "172     22.04\n",
      "173      4.00\n",
      "174     20.80\n",
      "175      1.80\n",
      "176      3.20\n",
      "        ...  \n",
      "3054     8.00\n",
      "3055      NaN\n",
      "3056     6.90\n",
      "3057     3.60\n",
      "3058    17.00\n",
      "Name: pts_half_ppr, Length: 255, dtype: float64\n",
      "172     22.04\n",
      "173      4.00\n",
      "174     20.80\n",
      "175      1.80\n",
      "176      3.20\n",
      "        ...  \n",
      "3054     8.00\n",
      "3055      NaN\n",
      "3056     6.90\n",
      "3057     3.60\n",
      "3058    17.00\n",
      "Name: pts_half_ppr, Length: 255, dtype: float64\n",
      "172     22.04\n",
      "173      4.00\n",
      "174     20.80\n",
      "175      1.80\n",
      "176      3.20\n",
      "        ...  \n",
      "3054     8.00\n",
      "3055      NaN\n",
      "3056     6.90\n",
      "3057     3.60\n",
      "3058    17.00\n",
      "Name: pts_half_ppr, Length: 255, dtype: float64\n",
      "172     22.04\n",
      "173      4.00\n",
      "174     20.80\n",
      "175      1.80\n",
      "176      3.20\n",
      "        ...  \n",
      "3054     8.00\n",
      "3055      NaN\n",
      "3056     6.90\n",
      "3057     3.60\n",
      "3058    17.00\n",
      "Name: pts_half_ppr, Length: 255, dtype: float64\n",
      "172     22.04\n",
      "173      4.00\n",
      "174     20.80\n",
      "175      1.80\n",
      "176      3.20\n",
      "        ...  \n",
      "3054     8.00\n",
      "3055      NaN\n",
      "3056     6.90\n",
      "3057     3.60\n",
      "3058    17.00\n",
      "Name: pts_half_ppr, Length: 255, dtype: float64\n",
      "didn't play\n",
      "172     22.04\n",
      "173      4.00\n",
      "174     20.80\n",
      "175      1.80\n",
      "176      3.20\n",
      "        ...  \n",
      "3054     8.00\n",
      "3055      NaN\n",
      "3056     6.90\n",
      "3057     3.60\n",
      "3058    17.00\n",
      "Name: pts_half_ppr, Length: 255, dtype: float64\n",
      "172     22.04\n",
      "173      4.00\n",
      "174     20.80\n",
      "175      1.80\n",
      "176      3.20\n",
      "        ...  \n",
      "3054     8.00\n",
      "3055      NaN\n",
      "3056     6.90\n",
      "3057     3.60\n",
      "3058    17.00\n",
      "Name: pts_half_ppr, Length: 255, dtype: float64\n",
      "didn't play\n",
      "172     22.04\n",
      "173      4.00\n",
      "174     20.80\n",
      "175      1.80\n",
      "176      3.20\n",
      "        ...  \n",
      "3054     8.00\n",
      "3055      NaN\n",
      "3056     6.90\n",
      "3057     3.60\n",
      "3058    17.00\n",
      "Name: pts_half_ppr, Length: 255, dtype: float64\n",
      "172     22.04\n",
      "173      4.00\n",
      "174     20.80\n",
      "175      1.80\n",
      "176      3.20\n",
      "        ...  \n",
      "3054     8.00\n",
      "3055      NaN\n",
      "3056     6.90\n",
      "3057     3.60\n",
      "3058    17.00\n",
      "Name: pts_half_ppr, Length: 255, dtype: float64\n",
      "172     22.04\n",
      "173      4.00\n",
      "174     20.80\n",
      "175      1.80\n",
      "176      3.20\n",
      "        ...  \n",
      "3054     8.00\n",
      "3055      NaN\n",
      "3056     6.90\n",
      "3057     3.60\n",
      "3058    17.00\n",
      "Name: pts_half_ppr, Length: 255, dtype: float64\n",
      "172     22.04\n",
      "173      4.00\n",
      "174     20.80\n",
      "175      1.80\n",
      "176      3.20\n",
      "        ...  \n",
      "3054     8.00\n",
      "3055      NaN\n",
      "3056     6.90\n",
      "3057     3.60\n",
      "3058    17.00\n",
      "Name: pts_half_ppr, Length: 255, dtype: float64\n",
      "172     22.04\n",
      "173      4.00\n",
      "174     20.80\n",
      "175      1.80\n",
      "176      3.20\n",
      "        ...  \n",
      "3054     8.00\n",
      "3055      NaN\n",
      "3056     6.90\n",
      "3057     3.60\n",
      "3058    17.00\n",
      "Name: pts_half_ppr, Length: 255, dtype: float64\n",
      "didn't play\n",
      "172     22.04\n",
      "173      4.00\n",
      "174     20.80\n",
      "175      1.80\n",
      "176      3.20\n",
      "        ...  \n",
      "3054     8.00\n",
      "3055      NaN\n",
      "3056     6.90\n",
      "3057     3.60\n",
      "3058    17.00\n",
      "Name: pts_half_ppr, Length: 255, dtype: float64\n",
      "172     22.04\n",
      "173      4.00\n",
      "174     20.80\n",
      "175      1.80\n",
      "176      3.20\n",
      "        ...  \n",
      "3054     8.00\n",
      "3055      NaN\n",
      "3056     6.90\n",
      "3057     3.60\n",
      "3058    17.00\n",
      "Name: pts_half_ppr, Length: 255, dtype: float64\n",
      "172     22.04\n",
      "173      4.00\n",
      "174     20.80\n",
      "175      1.80\n",
      "176      3.20\n",
      "        ...  \n",
      "3054     8.00\n",
      "3055      NaN\n",
      "3056     6.90\n",
      "3057     3.60\n",
      "3058    17.00\n",
      "Name: pts_half_ppr, Length: 255, dtype: float64\n",
      "172     22.04\n",
      "173      4.00\n",
      "174     20.80\n",
      "175      1.80\n",
      "176      3.20\n",
      "        ...  \n",
      "3054     8.00\n",
      "3055      NaN\n",
      "3056     6.90\n",
      "3057     3.60\n",
      "3058    17.00\n",
      "Name: pts_half_ppr, Length: 255, dtype: float64\n",
      "172     22.04\n",
      "173      4.00\n",
      "174     20.80\n",
      "175      1.80\n",
      "176      3.20\n",
      "        ...  \n",
      "3054     8.00\n",
      "3055      NaN\n",
      "3056     6.90\n",
      "3057     3.60\n",
      "3058    17.00\n",
      "Name: pts_half_ppr, Length: 255, dtype: float64\n",
      "didn't play\n",
      "172     22.04\n",
      "173      4.00\n",
      "174     20.80\n",
      "175      1.80\n",
      "176      3.20\n",
      "        ...  \n",
      "3054     8.00\n",
      "3055      NaN\n",
      "3056     6.90\n",
      "3057     3.60\n",
      "3058    17.00\n",
      "Name: pts_half_ppr, Length: 255, dtype: float64\n",
      "172     22.04\n",
      "173      4.00\n",
      "174     20.80\n",
      "175      1.80\n",
      "176      3.20\n",
      "        ...  \n",
      "3054     8.00\n",
      "3055      NaN\n",
      "3056     6.90\n",
      "3057     3.60\n",
      "3058    17.00\n",
      "Name: pts_half_ppr, Length: 255, dtype: float64\n",
      "172     22.04\n",
      "173      4.00\n",
      "174     20.80\n",
      "175      1.80\n",
      "176      3.20\n",
      "        ...  \n",
      "3054     8.00\n",
      "3055      NaN\n",
      "3056     6.90\n",
      "3057     3.60\n",
      "3058    17.00\n",
      "Name: pts_half_ppr, Length: 255, dtype: float64\n",
      "172     22.04\n",
      "173      4.00\n",
      "174     20.80\n",
      "175      1.80\n",
      "176      3.20\n",
      "        ...  \n",
      "3054     8.00\n",
      "3055      NaN\n",
      "3056     6.90\n",
      "3057     3.60\n",
      "3058    17.00\n",
      "Name: pts_half_ppr, Length: 255, dtype: float64\n",
      "172     22.04\n",
      "173      4.00\n",
      "174     20.80\n",
      "175      1.80\n",
      "176      3.20\n",
      "        ...  \n",
      "3054     8.00\n",
      "3055      NaN\n",
      "3056     6.90\n",
      "3057     3.60\n",
      "3058    17.00\n",
      "Name: pts_half_ppr, Length: 255, dtype: float64\n",
      "172     22.04\n",
      "173      4.00\n",
      "174     20.80\n",
      "175      1.80\n",
      "176      3.20\n",
      "        ...  \n",
      "3054     8.00\n",
      "3055      NaN\n",
      "3056     6.90\n",
      "3057     3.60\n",
      "3058    17.00\n",
      "Name: pts_half_ppr, Length: 255, dtype: float64\n",
      "172     22.04\n",
      "173      4.00\n",
      "174     20.80\n",
      "175      1.80\n",
      "176      3.20\n",
      "        ...  \n",
      "3054     8.00\n",
      "3055      NaN\n",
      "3056     6.90\n",
      "3057     3.60\n",
      "3058    17.00\n",
      "Name: pts_half_ppr, Length: 255, dtype: float64\n",
      "172     22.04\n",
      "173      4.00\n",
      "174     20.80\n",
      "175      1.80\n",
      "176      3.20\n",
      "        ...  \n",
      "3054     8.00\n",
      "3055      NaN\n",
      "3056     6.90\n",
      "3057     3.60\n",
      "3058    17.00\n",
      "Name: pts_half_ppr, Length: 255, dtype: float64\n",
      "172     22.04\n",
      "173      4.00\n",
      "174     20.80\n",
      "175      1.80\n",
      "176      3.20\n",
      "        ...  \n",
      "3054     8.00\n",
      "3055      NaN\n",
      "3056     6.90\n",
      "3057     3.60\n",
      "3058    17.00\n",
      "Name: pts_half_ppr, Length: 255, dtype: float64\n",
      "172     22.04\n",
      "173      4.00\n",
      "174     20.80\n",
      "175      1.80\n",
      "176      3.20\n",
      "        ...  \n",
      "3054     8.00\n",
      "3055      NaN\n",
      "3056     6.90\n",
      "3057     3.60\n",
      "3058    17.00\n",
      "Name: pts_half_ppr, Length: 255, dtype: float64\n",
      "didn't play\n",
      "172     22.04\n",
      "173      4.00\n",
      "174     20.80\n",
      "175      1.80\n",
      "176      3.20\n",
      "        ...  \n",
      "3054     8.00\n",
      "3055      NaN\n",
      "3056     6.90\n",
      "3057     3.60\n",
      "3058    17.00\n",
      "Name: pts_half_ppr, Length: 255, dtype: float64\n",
      "172     22.04\n",
      "173      4.00\n",
      "174     20.80\n",
      "175      1.80\n",
      "176      3.20\n",
      "        ...  \n",
      "3054     8.00\n",
      "3055      NaN\n",
      "3056     6.90\n",
      "3057     3.60\n",
      "3058    17.00\n",
      "Name: pts_half_ppr, Length: 255, dtype: float64\n",
      "didn't play\n",
      "172     22.04\n",
      "173      4.00\n",
      "174     20.80\n",
      "175      1.80\n",
      "176      3.20\n",
      "        ...  \n",
      "3054     8.00\n",
      "3055      NaN\n",
      "3056     6.90\n",
      "3057     3.60\n",
      "3058    17.00\n",
      "Name: pts_half_ppr, Length: 255, dtype: float64\n",
      "172     22.04\n",
      "173      4.00\n",
      "174     20.80\n",
      "175      1.80\n",
      "176      3.20\n",
      "        ...  \n",
      "3054     8.00\n",
      "3055      NaN\n",
      "3056     6.90\n",
      "3057     3.60\n",
      "3058    17.00\n",
      "Name: pts_half_ppr, Length: 255, dtype: float64\n",
      "didn't play\n",
      "172     22.04\n",
      "173      4.00\n",
      "174     20.80\n",
      "175      1.80\n",
      "176      3.20\n",
      "        ...  \n",
      "3054     8.00\n",
      "3055      NaN\n",
      "3056     6.90\n",
      "3057     3.60\n",
      "3058    17.00\n",
      "Name: pts_half_ppr, Length: 255, dtype: float64\n",
      "didn't play\n",
      "172     22.04\n",
      "173      4.00\n",
      "174     20.80\n",
      "175      1.80\n",
      "176      3.20\n",
      "        ...  \n",
      "3054     8.00\n",
      "3055      NaN\n",
      "3056     6.90\n",
      "3057     3.60\n",
      "3058    17.00\n",
      "Name: pts_half_ppr, Length: 255, dtype: float64\n",
      "172     22.04\n",
      "173      4.00\n",
      "174     20.80\n",
      "175      1.80\n",
      "176      3.20\n",
      "        ...  \n",
      "3054     8.00\n",
      "3055      NaN\n",
      "3056     6.90\n",
      "3057     3.60\n",
      "3058    17.00\n",
      "Name: pts_half_ppr, Length: 255, dtype: float64\n",
      "172     22.04\n",
      "173      4.00\n",
      "174     20.80\n",
      "175      1.80\n",
      "176      3.20\n",
      "        ...  \n",
      "3054     8.00\n",
      "3055      NaN\n",
      "3056     6.90\n",
      "3057     3.60\n",
      "3058    17.00\n",
      "Name: pts_half_ppr, Length: 255, dtype: float64\n",
      "172     22.04\n",
      "173      4.00\n",
      "174     20.80\n",
      "175      1.80\n",
      "176      3.20\n",
      "        ...  \n",
      "3054     8.00\n",
      "3055      NaN\n",
      "3056     6.90\n",
      "3057     3.60\n",
      "3058    17.00\n",
      "Name: pts_half_ppr, Length: 255, dtype: float64\n",
      "172     22.04\n",
      "173      4.00\n",
      "174     20.80\n",
      "175      1.80\n",
      "176      3.20\n",
      "        ...  \n",
      "3054     8.00\n",
      "3055      NaN\n",
      "3056     6.90\n",
      "3057     3.60\n",
      "3058    17.00\n",
      "Name: pts_half_ppr, Length: 255, dtype: float64\n",
      "172     22.04\n",
      "173      4.00\n",
      "174     20.80\n",
      "175      1.80\n",
      "176      3.20\n",
      "        ...  \n",
      "3054     8.00\n",
      "3055      NaN\n",
      "3056     6.90\n",
      "3057     3.60\n",
      "3058    17.00\n",
      "Name: pts_half_ppr, Length: 255, dtype: float64\n",
      "172     22.04\n",
      "173      4.00\n",
      "174     20.80\n",
      "175      1.80\n",
      "176      3.20\n",
      "        ...  \n",
      "3054     8.00\n",
      "3055      NaN\n",
      "3056     6.90\n",
      "3057     3.60\n",
      "3058    17.00\n",
      "Name: pts_half_ppr, Length: 255, dtype: float64\n",
      "172     22.04\n",
      "173      4.00\n",
      "174     20.80\n",
      "175      1.80\n",
      "176      3.20\n",
      "        ...  \n",
      "3054     8.00\n",
      "3055      NaN\n",
      "3056     6.90\n",
      "3057     3.60\n",
      "3058    17.00\n",
      "Name: pts_half_ppr, Length: 255, dtype: float64\n",
      "172     22.04\n",
      "173      4.00\n",
      "174     20.80\n",
      "175      1.80\n",
      "176      3.20\n",
      "        ...  \n",
      "3054     8.00\n",
      "3055      NaN\n",
      "3056     6.90\n",
      "3057     3.60\n",
      "3058    17.00\n",
      "Name: pts_half_ppr, Length: 255, dtype: float64\n",
      "172     22.04\n",
      "173      4.00\n",
      "174     20.80\n",
      "175      1.80\n",
      "176      3.20\n",
      "        ...  \n",
      "3054     8.00\n",
      "3055      NaN\n",
      "3056     6.90\n",
      "3057     3.60\n",
      "3058    17.00\n",
      "Name: pts_half_ppr, Length: 255, dtype: float64\n",
      "172     22.04\n",
      "173      4.00\n",
      "174     20.80\n",
      "175      1.80\n",
      "176      3.20\n",
      "        ...  \n",
      "3054     8.00\n",
      "3055      NaN\n",
      "3056     6.90\n",
      "3057     3.60\n",
      "3058    17.00\n",
      "Name: pts_half_ppr, Length: 255, dtype: float64\n",
      "172     22.04\n",
      "173      4.00\n",
      "174     20.80\n",
      "175      1.80\n",
      "176      3.20\n",
      "        ...  \n",
      "3054     8.00\n",
      "3055      NaN\n",
      "3056     6.90\n",
      "3057     3.60\n",
      "3058    17.00\n",
      "Name: pts_half_ppr, Length: 255, dtype: float64\n",
      "172     22.04\n",
      "173      4.00\n",
      "174     20.80\n",
      "175      1.80\n",
      "176      3.20\n",
      "        ...  \n",
      "3054     8.00\n",
      "3055      NaN\n",
      "3056     6.90\n",
      "3057     3.60\n",
      "3058    17.00\n",
      "Name: pts_half_ppr, Length: 255, dtype: float64\n",
      "172     22.04\n",
      "173      4.00\n",
      "174     20.80\n",
      "175      1.80\n",
      "176      3.20\n",
      "        ...  \n",
      "3054     8.00\n",
      "3055      NaN\n",
      "3056     6.90\n",
      "3057     3.60\n",
      "3058    17.00\n",
      "Name: pts_half_ppr, Length: 255, dtype: float64\n",
      "didn't play\n",
      "172     22.04\n",
      "173      4.00\n",
      "174     20.80\n",
      "175      1.80\n",
      "176      3.20\n",
      "        ...  \n",
      "3054     8.00\n",
      "3055      NaN\n",
      "3056     6.90\n",
      "3057     3.60\n",
      "3058    17.00\n",
      "Name: pts_half_ppr, Length: 255, dtype: float64\n",
      "didn't play\n",
      "172     22.04\n",
      "173      4.00\n",
      "174     20.80\n",
      "175      1.80\n",
      "176      3.20\n",
      "        ...  \n",
      "3054     8.00\n",
      "3055      NaN\n",
      "3056     6.90\n",
      "3057     3.60\n",
      "3058    17.00\n",
      "Name: pts_half_ppr, Length: 255, dtype: float64\n",
      "172     22.04\n",
      "173      4.00\n",
      "174     20.80\n",
      "175      1.80\n",
      "176      3.20\n",
      "        ...  \n",
      "3054     8.00\n",
      "3055      NaN\n",
      "3056     6.90\n",
      "3057     3.60\n",
      "3058    17.00\n",
      "Name: pts_half_ppr, Length: 255, dtype: float64\n",
      "172     22.04\n",
      "173      4.00\n",
      "174     20.80\n",
      "175      1.80\n",
      "176      3.20\n",
      "        ...  \n",
      "3054     8.00\n",
      "3055      NaN\n",
      "3056     6.90\n",
      "3057     3.60\n",
      "3058    17.00\n",
      "Name: pts_half_ppr, Length: 255, dtype: float64\n",
      "172     22.04\n",
      "173      4.00\n",
      "174     20.80\n",
      "175      1.80\n",
      "176      3.20\n",
      "        ...  \n",
      "3054     8.00\n",
      "3055      NaN\n",
      "3056     6.90\n",
      "3057     3.60\n",
      "3058    17.00\n",
      "Name: pts_half_ppr, Length: 255, dtype: float64\n",
      "172     22.04\n",
      "173      4.00\n",
      "174     20.80\n",
      "175      1.80\n",
      "176      3.20\n",
      "        ...  \n",
      "3054     8.00\n",
      "3055      NaN\n",
      "3056     6.90\n",
      "3057     3.60\n",
      "3058    17.00\n",
      "Name: pts_half_ppr, Length: 255, dtype: float64\n",
      "172     22.04\n",
      "173      4.00\n",
      "174     20.80\n",
      "175      1.80\n",
      "176      3.20\n",
      "        ...  \n",
      "3054     8.00\n",
      "3055      NaN\n",
      "3056     6.90\n",
      "3057     3.60\n",
      "3058    17.00\n",
      "Name: pts_half_ppr, Length: 255, dtype: float64\n",
      "172     22.04\n",
      "173      4.00\n",
      "174     20.80\n",
      "175      1.80\n",
      "176      3.20\n",
      "        ...  \n",
      "3054     8.00\n",
      "3055      NaN\n",
      "3056     6.90\n",
      "3057     3.60\n",
      "3058    17.00\n",
      "Name: pts_half_ppr, Length: 255, dtype: float64\n",
      "172     22.04\n",
      "173      4.00\n",
      "174     20.80\n",
      "175      1.80\n",
      "176      3.20\n",
      "        ...  \n",
      "3054     8.00\n",
      "3055      NaN\n",
      "3056     6.90\n",
      "3057     3.60\n",
      "3058    17.00\n",
      "Name: pts_half_ppr, Length: 255, dtype: float64\n",
      "172     22.04\n",
      "173      4.00\n",
      "174     20.80\n",
      "175      1.80\n",
      "176      3.20\n",
      "        ...  \n",
      "3054     8.00\n",
      "3055      NaN\n",
      "3056     6.90\n",
      "3057     3.60\n",
      "3058    17.00\n",
      "Name: pts_half_ppr, Length: 255, dtype: float64\n",
      "172     22.04\n",
      "173      4.00\n",
      "174     20.80\n",
      "175      1.80\n",
      "176      3.20\n",
      "        ...  \n",
      "3054     8.00\n",
      "3055      NaN\n",
      "3056     6.90\n",
      "3057     3.60\n",
      "3058    17.00\n",
      "Name: pts_half_ppr, Length: 255, dtype: float64\n",
      "172     22.04\n",
      "173      4.00\n",
      "174     20.80\n",
      "175      1.80\n",
      "176      3.20\n",
      "        ...  \n",
      "3054     8.00\n",
      "3055      NaN\n",
      "3056     6.90\n",
      "3057     3.60\n",
      "3058    17.00\n",
      "Name: pts_half_ppr, Length: 255, dtype: float64\n",
      "172     22.04\n",
      "173      4.00\n",
      "174     20.80\n",
      "175      1.80\n",
      "176      3.20\n",
      "        ...  \n",
      "3054     8.00\n",
      "3055      NaN\n",
      "3056     6.90\n",
      "3057     3.60\n",
      "3058    17.00\n",
      "Name: pts_half_ppr, Length: 255, dtype: float64\n",
      "172     22.04\n",
      "173      4.00\n",
      "174     20.80\n",
      "175      1.80\n",
      "176      3.20\n",
      "        ...  \n",
      "3054     8.00\n",
      "3055      NaN\n",
      "3056     6.90\n",
      "3057     3.60\n",
      "3058    17.00\n",
      "Name: pts_half_ppr, Length: 255, dtype: float64\n",
      "172     22.04\n",
      "173      4.00\n",
      "174     20.80\n",
      "175      1.80\n",
      "176      3.20\n",
      "        ...  \n",
      "3054     8.00\n",
      "3055      NaN\n",
      "3056     6.90\n",
      "3057     3.60\n",
      "3058    17.00\n",
      "Name: pts_half_ppr, Length: 255, dtype: float64\n",
      "didn't play\n",
      "172     22.04\n",
      "173      4.00\n",
      "174     20.80\n",
      "175      1.80\n",
      "176      3.20\n",
      "        ...  \n",
      "3054     8.00\n",
      "3055      NaN\n",
      "3056     6.90\n",
      "3057     3.60\n",
      "3058    17.00\n",
      "Name: pts_half_ppr, Length: 255, dtype: float64\n",
      "172     22.04\n",
      "173      4.00\n",
      "174     20.80\n",
      "175      1.80\n",
      "176      3.20\n",
      "        ...  \n",
      "3054     8.00\n",
      "3055      NaN\n",
      "3056     6.90\n",
      "3057     3.60\n",
      "3058    17.00\n",
      "Name: pts_half_ppr, Length: 255, dtype: float64\n",
      "172     22.04\n",
      "173      4.00\n",
      "174     20.80\n",
      "175      1.80\n",
      "176      3.20\n",
      "        ...  \n",
      "3054     8.00\n",
      "3055      NaN\n",
      "3056     6.90\n",
      "3057     3.60\n",
      "3058    17.00\n",
      "Name: pts_half_ppr, Length: 255, dtype: float64\n",
      "172     22.04\n",
      "173      4.00\n",
      "174     20.80\n",
      "175      1.80\n",
      "176      3.20\n",
      "        ...  \n",
      "3054     8.00\n",
      "3055      NaN\n",
      "3056     6.90\n",
      "3057     3.60\n",
      "3058    17.00\n",
      "Name: pts_half_ppr, Length: 255, dtype: float64\n",
      "172     22.04\n",
      "173      4.00\n",
      "174     20.80\n",
      "175      1.80\n",
      "176      3.20\n",
      "        ...  \n",
      "3054     8.00\n",
      "3055      NaN\n",
      "3056     6.90\n",
      "3057     3.60\n",
      "3058    17.00\n",
      "Name: pts_half_ppr, Length: 255, dtype: float64\n",
      "172     22.04\n",
      "173      4.00\n",
      "174     20.80\n",
      "175      1.80\n",
      "176      3.20\n",
      "        ...  \n",
      "3054     8.00\n",
      "3055      NaN\n",
      "3056     6.90\n",
      "3057     3.60\n",
      "3058    17.00\n",
      "Name: pts_half_ppr, Length: 255, dtype: float64\n",
      "172     22.04\n",
      "173      4.00\n",
      "174     20.80\n",
      "175      1.80\n",
      "176      3.20\n",
      "        ...  \n",
      "3054     8.00\n",
      "3055      NaN\n",
      "3056     6.90\n",
      "3057     3.60\n",
      "3058    17.00\n",
      "Name: pts_half_ppr, Length: 255, dtype: float64\n",
      "172     22.04\n",
      "173      4.00\n",
      "174     20.80\n",
      "175      1.80\n",
      "176      3.20\n",
      "        ...  \n",
      "3054     8.00\n",
      "3055      NaN\n",
      "3056     6.90\n",
      "3057     3.60\n",
      "3058    17.00\n",
      "Name: pts_half_ppr, Length: 255, dtype: float64\n"
     ]
    }
   ],
   "source": [
    "df = []\n",
    "\n",
    "for player in range(len(users_wkly_stats)):\n",
    "    if users_wkly_stats.iloc[player]['gp'] == 1.0:\n",
    "        points = users_wkly_stats[\"pts_half_ppr\"]\n",
    "        position = users_wkly_stats['position']\n",
    "        gp += 1\n",
    "        row = [points, ]\n",
    "    else:\n",
    "        print(\"didn't play\")"
   ]
  },
  {
   "cell_type": "code",
   "execution_count": 12,
   "metadata": {},
   "outputs": [],
   "source": [
    "columns = [\"pts\", \"Week\", \"Owner\", \"games_played\"]"
   ]
  },
  {
   "cell_type": "code",
   "execution_count": 17,
   "metadata": {},
   "outputs": [
    {
     "ename": "ValueError",
     "evalue": "The truth value of a Series is ambiguous. Use a.empty, a.bool(), a.item(), a.any() or a.all().",
     "output_type": "error",
     "traceback": [
      "\u001b[1;31m---------------------------------------------------------------------------\u001b[0m",
      "\u001b[1;31mValueError\u001b[0m                                Traceback (most recent call last)",
      "\u001b[1;32m<ipython-input-17-04cfa6fe58b6>\u001b[0m in \u001b[0;36m<module>\u001b[1;34m\u001b[0m\n\u001b[0;32m      2\u001b[0m \u001b[0mpoints\u001b[0m \u001b[1;33m=\u001b[0m \u001b[1;33m[\u001b[0m\u001b[1;33m]\u001b[0m\u001b[1;33m\u001b[0m\u001b[1;33m\u001b[0m\u001b[0m\n\u001b[0;32m      3\u001b[0m \u001b[1;32mfor\u001b[0m \u001b[0mi\u001b[0m \u001b[1;32min\u001b[0m \u001b[0mrange\u001b[0m\u001b[1;33m(\u001b[0m\u001b[0mlen\u001b[0m\u001b[1;33m(\u001b[0m\u001b[0musers_stats\u001b[0m\u001b[1;33m)\u001b[0m\u001b[1;33m)\u001b[0m\u001b[1;33m:\u001b[0m\u001b[1;33m\u001b[0m\u001b[1;33m\u001b[0m\u001b[0m\n\u001b[1;32m----> 4\u001b[1;33m     \u001b[1;32mif\u001b[0m \u001b[0musers_stats\u001b[0m\u001b[1;33m[\u001b[0m\u001b[1;34m\"Week\"\u001b[0m\u001b[1;33m]\u001b[0m \u001b[1;33m!=\u001b[0m \u001b[1;34m\"Season\"\u001b[0m\u001b[1;33m:\u001b[0m \u001b[1;31m# collect weekly stats for all weeks\u001b[0m\u001b[1;33m\u001b[0m\u001b[1;33m\u001b[0m\u001b[0m\n\u001b[0m\u001b[0;32m      5\u001b[0m         \u001b[1;32mif\u001b[0m \u001b[0muser_stats\u001b[0m\u001b[1;33m[\u001b[0m\u001b[1;34m\"gp\"\u001b[0m\u001b[1;33m]\u001b[0m \u001b[1;33m==\u001b[0m \u001b[1;36m1\u001b[0m\u001b[1;33m:\u001b[0m \u001b[1;31m#make sure the played that week\u001b[0m\u001b[1;33m\u001b[0m\u001b[1;33m\u001b[0m\u001b[0m\n\u001b[0;32m      6\u001b[0m             \u001b[0mpoints\u001b[0m \u001b[1;33m=\u001b[0m \u001b[0muser_stats\u001b[0m\u001b[1;33m[\u001b[0m\u001b[1;34m\"pts_half_ppr\"\u001b[0m\u001b[1;33m]\u001b[0m \u001b[1;31m#make this an option for user to select scoring type\u001b[0m\u001b[1;33m\u001b[0m\u001b[1;33m\u001b[0m\u001b[0m\n",
      "\u001b[1;32mC:\\ProgramData\\Anaconda3\\lib\\site-packages\\pandas\\core\\generic.py\u001b[0m in \u001b[0;36m__nonzero__\u001b[1;34m(self)\u001b[0m\n\u001b[0;32m   1476\u001b[0m \u001b[1;33m\u001b[0m\u001b[0m\n\u001b[0;32m   1477\u001b[0m     \u001b[1;32mdef\u001b[0m \u001b[0m__nonzero__\u001b[0m\u001b[1;33m(\u001b[0m\u001b[0mself\u001b[0m\u001b[1;33m)\u001b[0m\u001b[1;33m:\u001b[0m\u001b[1;33m\u001b[0m\u001b[1;33m\u001b[0m\u001b[0m\n\u001b[1;32m-> 1478\u001b[1;33m         raise ValueError(\n\u001b[0m\u001b[0;32m   1479\u001b[0m             \u001b[1;34mf\"The truth value of a {type(self).__name__} is ambiguous. \"\u001b[0m\u001b[1;33m\u001b[0m\u001b[1;33m\u001b[0m\u001b[0m\n\u001b[0;32m   1480\u001b[0m             \u001b[1;34m\"Use a.empty, a.bool(), a.item(), a.any() or a.all().\"\u001b[0m\u001b[1;33m\u001b[0m\u001b[1;33m\u001b[0m\u001b[0m\n",
      "\u001b[1;31mValueError\u001b[0m: The truth value of a Series is ambiguous. Use a.empty, a.bool(), a.item(), a.any() or a.all()."
     ]
    }
   ],
   "source": [
    "#create df for weekly stats/points\n",
    "points = []\n",
    "for i in range(len(users_stats)):\n",
    "    if users_stats[\"Week\"] != \"Season\": # collect weekly stats for all weeks\n",
    "        if user_stats[\"gp\"] == 1: #make sure the played that week\n",
    "            points = user_stats[\"pts_half_ppr\"] #make this an option for user to select scoring type\n",
    "            week = user_stats[\"Week\"]\n",
    "            owner = user_stats[\"Owner\"]\n",
    "            games_played += 1\n",
    "        else:\n",
    "            points = np.nan\n",
    "            week = user_stats[\"Week\"]\n",
    "            owner = user_stats[\"Owner\"]\n",
    "            games_played = 0\n",
    "        \n",
    "        row = [points, week, owner, games_played]\n",
    "        points.append(row)"
   ]
  },
  {
   "cell_type": "code",
   "execution_count": 4,
   "metadata": {},
   "outputs": [
    {
     "data": {
      "text/plain": [
       "3280"
      ]
     },
     "execution_count": 4,
     "metadata": {},
     "output_type": "execute_result"
    }
   ],
   "source": [
    "len(stats)"
   ]
  },
  {
   "cell_type": "code",
   "execution_count": 82,
   "metadata": {},
   "outputs": [
    {
     "ename": "ValueError",
     "evalue": "Value of 'x' is not the name of a column in 'data_frame'. Expected one of ['pts_half_ppr'] but received: Owner",
     "output_type": "error",
     "traceback": [
      "\u001b[1;31m---------------------------------------------------------------------------\u001b[0m",
      "\u001b[1;31mValueError\u001b[0m                                Traceback (most recent call last)",
      "\u001b[1;32m<ipython-input-82-d77a05996c99>\u001b[0m in \u001b[0;36m<module>\u001b[1;34m\u001b[0m\n\u001b[1;32m----> 1\u001b[1;33m \u001b[0mfig\u001b[0m \u001b[1;33m=\u001b[0m \u001b[0mpx\u001b[0m\u001b[1;33m.\u001b[0m\u001b[0mline\u001b[0m\u001b[1;33m(\u001b[0m\u001b[0mpts\u001b[0m\u001b[1;33m,\u001b[0m \u001b[0mx\u001b[0m \u001b[1;33m=\u001b[0m \u001b[1;34m\"Owner\"\u001b[0m\u001b[1;33m,\u001b[0m \u001b[0my\u001b[0m \u001b[1;33m=\u001b[0m \u001b[1;34m\"pts_half_ppr\"\u001b[0m\u001b[1;33m)\u001b[0m\u001b[1;33m\u001b[0m\u001b[1;33m\u001b[0m\u001b[0m\n\u001b[0m\u001b[0;32m      2\u001b[0m \u001b[0mfig\u001b[0m\u001b[1;33m.\u001b[0m\u001b[0mshow\u001b[0m\u001b[1;33m(\u001b[0m\u001b[1;33m)\u001b[0m\u001b[1;33m\u001b[0m\u001b[1;33m\u001b[0m\u001b[0m\n",
      "\u001b[1;32mC:\\ProgramData\\Anaconda3\\lib\\site-packages\\plotly\\express\\_chart_types.py\u001b[0m in \u001b[0;36mline\u001b[1;34m(data_frame, x, y, line_group, color, line_dash, symbol, hover_name, hover_data, custom_data, text, facet_row, facet_col, facet_col_wrap, facet_row_spacing, facet_col_spacing, error_x, error_x_minus, error_y, error_y_minus, animation_frame, animation_group, category_orders, labels, orientation, color_discrete_sequence, color_discrete_map, line_dash_sequence, line_dash_map, symbol_sequence, symbol_map, markers, log_x, log_y, range_x, range_y, line_shape, render_mode, title, template, width, height)\u001b[0m\n\u001b[0;32m    260\u001b[0m     \u001b[0ma\u001b[0m \u001b[0mpolyline\u001b[0m \u001b[0mmark\u001b[0m \u001b[1;32min\u001b[0m \u001b[1;36m2\u001b[0m\u001b[0mD\u001b[0m \u001b[0mspace\u001b[0m\u001b[1;33m.\u001b[0m\u001b[1;33m\u001b[0m\u001b[1;33m\u001b[0m\u001b[0m\n\u001b[0;32m    261\u001b[0m     \"\"\"\n\u001b[1;32m--> 262\u001b[1;33m     \u001b[1;32mreturn\u001b[0m \u001b[0mmake_figure\u001b[0m\u001b[1;33m(\u001b[0m\u001b[0margs\u001b[0m\u001b[1;33m=\u001b[0m\u001b[0mlocals\u001b[0m\u001b[1;33m(\u001b[0m\u001b[1;33m)\u001b[0m\u001b[1;33m,\u001b[0m \u001b[0mconstructor\u001b[0m\u001b[1;33m=\u001b[0m\u001b[0mgo\u001b[0m\u001b[1;33m.\u001b[0m\u001b[0mScatter\u001b[0m\u001b[1;33m)\u001b[0m\u001b[1;33m\u001b[0m\u001b[1;33m\u001b[0m\u001b[0m\n\u001b[0m\u001b[0;32m    263\u001b[0m \u001b[1;33m\u001b[0m\u001b[0m\n\u001b[0;32m    264\u001b[0m \u001b[1;33m\u001b[0m\u001b[0m\n",
      "\u001b[1;32mC:\\ProgramData\\Anaconda3\\lib\\site-packages\\plotly\\express\\_core.py\u001b[0m in \u001b[0;36mmake_figure\u001b[1;34m(args, constructor, trace_patch, layout_patch)\u001b[0m\n\u001b[0;32m   1943\u001b[0m     \u001b[0mapply_default_cascade\u001b[0m\u001b[1;33m(\u001b[0m\u001b[0margs\u001b[0m\u001b[1;33m)\u001b[0m\u001b[1;33m\u001b[0m\u001b[1;33m\u001b[0m\u001b[0m\n\u001b[0;32m   1944\u001b[0m \u001b[1;33m\u001b[0m\u001b[0m\n\u001b[1;32m-> 1945\u001b[1;33m     \u001b[0margs\u001b[0m \u001b[1;33m=\u001b[0m \u001b[0mbuild_dataframe\u001b[0m\u001b[1;33m(\u001b[0m\u001b[0margs\u001b[0m\u001b[1;33m,\u001b[0m \u001b[0mconstructor\u001b[0m\u001b[1;33m)\u001b[0m\u001b[1;33m\u001b[0m\u001b[1;33m\u001b[0m\u001b[0m\n\u001b[0m\u001b[0;32m   1946\u001b[0m     \u001b[1;32mif\u001b[0m \u001b[0mconstructor\u001b[0m \u001b[1;32min\u001b[0m \u001b[1;33m[\u001b[0m\u001b[0mgo\u001b[0m\u001b[1;33m.\u001b[0m\u001b[0mTreemap\u001b[0m\u001b[1;33m,\u001b[0m \u001b[0mgo\u001b[0m\u001b[1;33m.\u001b[0m\u001b[0mSunburst\u001b[0m\u001b[1;33m,\u001b[0m \u001b[0mgo\u001b[0m\u001b[1;33m.\u001b[0m\u001b[0mIcicle\u001b[0m\u001b[1;33m]\u001b[0m \u001b[1;32mand\u001b[0m \u001b[0margs\u001b[0m\u001b[1;33m[\u001b[0m\u001b[1;34m\"path\"\u001b[0m\u001b[1;33m]\u001b[0m \u001b[1;32mis\u001b[0m \u001b[1;32mnot\u001b[0m \u001b[1;32mNone\u001b[0m\u001b[1;33m:\u001b[0m\u001b[1;33m\u001b[0m\u001b[1;33m\u001b[0m\u001b[0m\n\u001b[0;32m   1947\u001b[0m         \u001b[0margs\u001b[0m \u001b[1;33m=\u001b[0m \u001b[0mprocess_dataframe_hierarchy\u001b[0m\u001b[1;33m(\u001b[0m\u001b[0margs\u001b[0m\u001b[1;33m)\u001b[0m\u001b[1;33m\u001b[0m\u001b[1;33m\u001b[0m\u001b[0m\n",
      "\u001b[1;32mC:\\ProgramData\\Anaconda3\\lib\\site-packages\\plotly\\express\\_core.py\u001b[0m in \u001b[0;36mbuild_dataframe\u001b[1;34m(args, constructor)\u001b[0m\n\u001b[0;32m   1403\u001b[0m     \u001b[1;31m# now that things have been prepped, we do the systematic rewriting of `args`\u001b[0m\u001b[1;33m\u001b[0m\u001b[1;33m\u001b[0m\u001b[1;33m\u001b[0m\u001b[0m\n\u001b[0;32m   1404\u001b[0m \u001b[1;33m\u001b[0m\u001b[0m\n\u001b[1;32m-> 1405\u001b[1;33m     df_output, wide_id_vars = process_args_into_dataframe(\n\u001b[0m\u001b[0;32m   1406\u001b[0m         \u001b[0margs\u001b[0m\u001b[1;33m,\u001b[0m \u001b[0mwide_mode\u001b[0m\u001b[1;33m,\u001b[0m \u001b[0mvar_name\u001b[0m\u001b[1;33m,\u001b[0m \u001b[0mvalue_name\u001b[0m\u001b[1;33m\u001b[0m\u001b[1;33m\u001b[0m\u001b[0m\n\u001b[0;32m   1407\u001b[0m     )\n",
      "\u001b[1;32mC:\\ProgramData\\Anaconda3\\lib\\site-packages\\plotly\\express\\_core.py\u001b[0m in \u001b[0;36mprocess_args_into_dataframe\u001b[1;34m(args, wide_mode, var_name, value_name)\u001b[0m\n\u001b[0;32m   1205\u001b[0m                         \u001b[1;32mif\u001b[0m \u001b[0margument\u001b[0m \u001b[1;33m==\u001b[0m \u001b[1;34m\"index\"\u001b[0m\u001b[1;33m:\u001b[0m\u001b[1;33m\u001b[0m\u001b[1;33m\u001b[0m\u001b[0m\n\u001b[0;32m   1206\u001b[0m                             \u001b[0merr_msg\u001b[0m \u001b[1;33m+=\u001b[0m \u001b[1;34m\"\\n To use the index, pass it in directly as `df.index`.\"\u001b[0m\u001b[1;33m\u001b[0m\u001b[1;33m\u001b[0m\u001b[0m\n\u001b[1;32m-> 1207\u001b[1;33m                         \u001b[1;32mraise\u001b[0m \u001b[0mValueError\u001b[0m\u001b[1;33m(\u001b[0m\u001b[0merr_msg\u001b[0m\u001b[1;33m)\u001b[0m\u001b[1;33m\u001b[0m\u001b[1;33m\u001b[0m\u001b[0m\n\u001b[0m\u001b[0;32m   1208\u001b[0m                 \u001b[1;32melif\u001b[0m \u001b[0mlength\u001b[0m \u001b[1;32mand\u001b[0m \u001b[0mlen\u001b[0m\u001b[1;33m(\u001b[0m\u001b[0mdf_input\u001b[0m\u001b[1;33m[\u001b[0m\u001b[0margument\u001b[0m\u001b[1;33m]\u001b[0m\u001b[1;33m)\u001b[0m \u001b[1;33m!=\u001b[0m \u001b[0mlength\u001b[0m\u001b[1;33m:\u001b[0m\u001b[1;33m\u001b[0m\u001b[1;33m\u001b[0m\u001b[0m\n\u001b[0;32m   1209\u001b[0m                     raise ValueError(\n",
      "\u001b[1;31mValueError\u001b[0m: Value of 'x' is not the name of a column in 'data_frame'. Expected one of ['pts_half_ppr'] but received: Owner"
     ]
    }
   ],
   "source": [
    "fig = px.line(pts, x = \"Owner\", y = \"pts_half_ppr\")\n",
    "fig.show()"
   ]
  },
  {
   "cell_type": "code",
   "execution_count": 39,
   "metadata": {},
   "outputs": [
    {
     "ename": "ValueError",
     "evalue": "Value of 'facet_row' is not the name of a column in 'data_frame'. Expected one of ['pts_half_ppr'] but received: Owner",
     "output_type": "error",
     "traceback": [
      "\u001b[1;31m---------------------------------------------------------------------------\u001b[0m",
      "\u001b[1;31mValueError\u001b[0m                                Traceback (most recent call last)",
      "\u001b[1;32m<ipython-input-39-983bd6668e88>\u001b[0m in \u001b[0;36m<module>\u001b[1;34m\u001b[0m\n\u001b[1;32m----> 1\u001b[1;33m \u001b[0mfig\u001b[0m \u001b[1;33m=\u001b[0m \u001b[0mpx\u001b[0m\u001b[1;33m.\u001b[0m\u001b[0mline\u001b[0m\u001b[1;33m(\u001b[0m\u001b[0mpts\u001b[0m\u001b[1;33m,\u001b[0m \u001b[0my\u001b[0m \u001b[1;33m=\u001b[0m \u001b[1;34m\"pts_half_ppr\"\u001b[0m\u001b[1;33m,\u001b[0m \u001b[0mfacet_row\u001b[0m \u001b[1;33m=\u001b[0m \u001b[1;34m'Owner'\u001b[0m\u001b[1;33m)\u001b[0m\u001b[1;33m\u001b[0m\u001b[1;33m\u001b[0m\u001b[0m\n\u001b[0m\u001b[0;32m      2\u001b[0m \u001b[0mfig\u001b[0m\u001b[1;33m.\u001b[0m\u001b[0mshow\u001b[0m\u001b[1;33m(\u001b[0m\u001b[1;33m)\u001b[0m\u001b[1;33m\u001b[0m\u001b[1;33m\u001b[0m\u001b[0m\n",
      "\u001b[1;32mC:\\ProgramData\\Anaconda3\\lib\\site-packages\\plotly\\express\\_chart_types.py\u001b[0m in \u001b[0;36mline\u001b[1;34m(data_frame, x, y, line_group, color, line_dash, symbol, hover_name, hover_data, custom_data, text, facet_row, facet_col, facet_col_wrap, facet_row_spacing, facet_col_spacing, error_x, error_x_minus, error_y, error_y_minus, animation_frame, animation_group, category_orders, labels, orientation, color_discrete_sequence, color_discrete_map, line_dash_sequence, line_dash_map, symbol_sequence, symbol_map, markers, log_x, log_y, range_x, range_y, line_shape, render_mode, title, template, width, height)\u001b[0m\n\u001b[0;32m    260\u001b[0m     \u001b[0ma\u001b[0m \u001b[0mpolyline\u001b[0m \u001b[0mmark\u001b[0m \u001b[1;32min\u001b[0m \u001b[1;36m2\u001b[0m\u001b[0mD\u001b[0m \u001b[0mspace\u001b[0m\u001b[1;33m.\u001b[0m\u001b[1;33m\u001b[0m\u001b[1;33m\u001b[0m\u001b[0m\n\u001b[0;32m    261\u001b[0m     \"\"\"\n\u001b[1;32m--> 262\u001b[1;33m     \u001b[1;32mreturn\u001b[0m \u001b[0mmake_figure\u001b[0m\u001b[1;33m(\u001b[0m\u001b[0margs\u001b[0m\u001b[1;33m=\u001b[0m\u001b[0mlocals\u001b[0m\u001b[1;33m(\u001b[0m\u001b[1;33m)\u001b[0m\u001b[1;33m,\u001b[0m \u001b[0mconstructor\u001b[0m\u001b[1;33m=\u001b[0m\u001b[0mgo\u001b[0m\u001b[1;33m.\u001b[0m\u001b[0mScatter\u001b[0m\u001b[1;33m)\u001b[0m\u001b[1;33m\u001b[0m\u001b[1;33m\u001b[0m\u001b[0m\n\u001b[0m\u001b[0;32m    263\u001b[0m \u001b[1;33m\u001b[0m\u001b[0m\n\u001b[0;32m    264\u001b[0m \u001b[1;33m\u001b[0m\u001b[0m\n",
      "\u001b[1;32mC:\\ProgramData\\Anaconda3\\lib\\site-packages\\plotly\\express\\_core.py\u001b[0m in \u001b[0;36mmake_figure\u001b[1;34m(args, constructor, trace_patch, layout_patch)\u001b[0m\n\u001b[0;32m   1943\u001b[0m     \u001b[0mapply_default_cascade\u001b[0m\u001b[1;33m(\u001b[0m\u001b[0margs\u001b[0m\u001b[1;33m)\u001b[0m\u001b[1;33m\u001b[0m\u001b[1;33m\u001b[0m\u001b[0m\n\u001b[0;32m   1944\u001b[0m \u001b[1;33m\u001b[0m\u001b[0m\n\u001b[1;32m-> 1945\u001b[1;33m     \u001b[0margs\u001b[0m \u001b[1;33m=\u001b[0m \u001b[0mbuild_dataframe\u001b[0m\u001b[1;33m(\u001b[0m\u001b[0margs\u001b[0m\u001b[1;33m,\u001b[0m \u001b[0mconstructor\u001b[0m\u001b[1;33m)\u001b[0m\u001b[1;33m\u001b[0m\u001b[1;33m\u001b[0m\u001b[0m\n\u001b[0m\u001b[0;32m   1946\u001b[0m     \u001b[1;32mif\u001b[0m \u001b[0mconstructor\u001b[0m \u001b[1;32min\u001b[0m \u001b[1;33m[\u001b[0m\u001b[0mgo\u001b[0m\u001b[1;33m.\u001b[0m\u001b[0mTreemap\u001b[0m\u001b[1;33m,\u001b[0m \u001b[0mgo\u001b[0m\u001b[1;33m.\u001b[0m\u001b[0mSunburst\u001b[0m\u001b[1;33m,\u001b[0m \u001b[0mgo\u001b[0m\u001b[1;33m.\u001b[0m\u001b[0mIcicle\u001b[0m\u001b[1;33m]\u001b[0m \u001b[1;32mand\u001b[0m \u001b[0margs\u001b[0m\u001b[1;33m[\u001b[0m\u001b[1;34m\"path\"\u001b[0m\u001b[1;33m]\u001b[0m \u001b[1;32mis\u001b[0m \u001b[1;32mnot\u001b[0m \u001b[1;32mNone\u001b[0m\u001b[1;33m:\u001b[0m\u001b[1;33m\u001b[0m\u001b[1;33m\u001b[0m\u001b[0m\n\u001b[0;32m   1947\u001b[0m         \u001b[0margs\u001b[0m \u001b[1;33m=\u001b[0m \u001b[0mprocess_dataframe_hierarchy\u001b[0m\u001b[1;33m(\u001b[0m\u001b[0margs\u001b[0m\u001b[1;33m)\u001b[0m\u001b[1;33m\u001b[0m\u001b[1;33m\u001b[0m\u001b[0m\n",
      "\u001b[1;32mC:\\ProgramData\\Anaconda3\\lib\\site-packages\\plotly\\express\\_core.py\u001b[0m in \u001b[0;36mbuild_dataframe\u001b[1;34m(args, constructor)\u001b[0m\n\u001b[0;32m   1403\u001b[0m     \u001b[1;31m# now that things have been prepped, we do the systematic rewriting of `args`\u001b[0m\u001b[1;33m\u001b[0m\u001b[1;33m\u001b[0m\u001b[1;33m\u001b[0m\u001b[0m\n\u001b[0;32m   1404\u001b[0m \u001b[1;33m\u001b[0m\u001b[0m\n\u001b[1;32m-> 1405\u001b[1;33m     df_output, wide_id_vars = process_args_into_dataframe(\n\u001b[0m\u001b[0;32m   1406\u001b[0m         \u001b[0margs\u001b[0m\u001b[1;33m,\u001b[0m \u001b[0mwide_mode\u001b[0m\u001b[1;33m,\u001b[0m \u001b[0mvar_name\u001b[0m\u001b[1;33m,\u001b[0m \u001b[0mvalue_name\u001b[0m\u001b[1;33m\u001b[0m\u001b[1;33m\u001b[0m\u001b[0m\n\u001b[0;32m   1407\u001b[0m     )\n",
      "\u001b[1;32mC:\\ProgramData\\Anaconda3\\lib\\site-packages\\plotly\\express\\_core.py\u001b[0m in \u001b[0;36mprocess_args_into_dataframe\u001b[1;34m(args, wide_mode, var_name, value_name)\u001b[0m\n\u001b[0;32m   1205\u001b[0m                         \u001b[1;32mif\u001b[0m \u001b[0margument\u001b[0m \u001b[1;33m==\u001b[0m \u001b[1;34m\"index\"\u001b[0m\u001b[1;33m:\u001b[0m\u001b[1;33m\u001b[0m\u001b[1;33m\u001b[0m\u001b[0m\n\u001b[0;32m   1206\u001b[0m                             \u001b[0merr_msg\u001b[0m \u001b[1;33m+=\u001b[0m \u001b[1;34m\"\\n To use the index, pass it in directly as `df.index`.\"\u001b[0m\u001b[1;33m\u001b[0m\u001b[1;33m\u001b[0m\u001b[0m\n\u001b[1;32m-> 1207\u001b[1;33m                         \u001b[1;32mraise\u001b[0m \u001b[0mValueError\u001b[0m\u001b[1;33m(\u001b[0m\u001b[0merr_msg\u001b[0m\u001b[1;33m)\u001b[0m\u001b[1;33m\u001b[0m\u001b[1;33m\u001b[0m\u001b[0m\n\u001b[0m\u001b[0;32m   1208\u001b[0m                 \u001b[1;32melif\u001b[0m \u001b[0mlength\u001b[0m \u001b[1;32mand\u001b[0m \u001b[0mlen\u001b[0m\u001b[1;33m(\u001b[0m\u001b[0mdf_input\u001b[0m\u001b[1;33m[\u001b[0m\u001b[0margument\u001b[0m\u001b[1;33m]\u001b[0m\u001b[1;33m)\u001b[0m \u001b[1;33m!=\u001b[0m \u001b[0mlength\u001b[0m\u001b[1;33m:\u001b[0m\u001b[1;33m\u001b[0m\u001b[1;33m\u001b[0m\u001b[0m\n\u001b[0;32m   1209\u001b[0m                     raise ValueError(\n",
      "\u001b[1;31mValueError\u001b[0m: Value of 'facet_row' is not the name of a column in 'data_frame'. Expected one of ['pts_half_ppr'] but received: Owner"
     ]
    }
   ],
   "source": [
    "fig = px.line(pts, y = \"pts_half_ppr\", facet_row = 'Owner')\n",
    "fig.show()"
   ]
  },
  {
   "cell_type": "code",
   "execution_count": 84,
   "metadata": {},
   "outputs": [
    {
     "data": {
      "text/html": [
       "<div>\n",
       "<style scoped>\n",
       "    .dataframe tbody tr th:only-of-type {\n",
       "        vertical-align: middle;\n",
       "    }\n",
       "\n",
       "    .dataframe tbody tr th {\n",
       "        vertical-align: top;\n",
       "    }\n",
       "\n",
       "    .dataframe thead th {\n",
       "        text-align: right;\n",
       "    }\n",
       "</style>\n",
       "<table border=\"1\" class=\"dataframe\">\n",
       "  <thead>\n",
       "    <tr style=\"text-align: right;\">\n",
       "      <th></th>\n",
       "      <th>pts_half_ppr</th>\n",
       "    </tr>\n",
       "    <tr>\n",
       "      <th>Owner</th>\n",
       "      <th></th>\n",
       "    </tr>\n",
       "  </thead>\n",
       "  <tbody>\n",
       "    <tr>\n",
       "      <th>Conner123</th>\n",
       "      <td>9.724151</td>\n",
       "    </tr>\n",
       "    <tr>\n",
       "      <th>KingDarsh</th>\n",
       "      <td>11.019027</td>\n",
       "    </tr>\n",
       "    <tr>\n",
       "      <th>Placejt</th>\n",
       "      <td>9.678435</td>\n",
       "    </tr>\n",
       "    <tr>\n",
       "      <th>adambloom</th>\n",
       "      <td>10.664404</td>\n",
       "    </tr>\n",
       "    <tr>\n",
       "      <th>chapelf</th>\n",
       "      <td>10.391373</td>\n",
       "    </tr>\n",
       "    <tr>\n",
       "      <th>ikei</th>\n",
       "      <td>9.445668</td>\n",
       "    </tr>\n",
       "    <tr>\n",
       "      <th>jfortkort5</th>\n",
       "      <td>11.829538</td>\n",
       "    </tr>\n",
       "    <tr>\n",
       "      <th>johale</th>\n",
       "      <td>10.897500</td>\n",
       "    </tr>\n",
       "    <tr>\n",
       "      <th>keaton22</th>\n",
       "      <td>11.085445</td>\n",
       "    </tr>\n",
       "    <tr>\n",
       "      <th>mullismc</th>\n",
       "      <td>10.657925</td>\n",
       "    </tr>\n",
       "    <tr>\n",
       "      <th>sammeroney</th>\n",
       "      <td>10.655735</td>\n",
       "    </tr>\n",
       "    <tr>\n",
       "      <th>vunosh</th>\n",
       "      <td>10.043333</td>\n",
       "    </tr>\n",
       "  </tbody>\n",
       "</table>\n",
       "</div>"
      ],
      "text/plain": [
       "            pts_half_ppr\n",
       "Owner                   \n",
       "Conner123       9.724151\n",
       "KingDarsh      11.019027\n",
       "Placejt         9.678435\n",
       "adambloom      10.664404\n",
       "chapelf        10.391373\n",
       "ikei            9.445668\n",
       "jfortkort5     11.829538\n",
       "johale         10.897500\n",
       "keaton22       11.085445\n",
       "mullismc       10.657925\n",
       "sammeroney     10.655735\n",
       "vunosh         10.043333"
      ]
     },
     "execution_count": 84,
     "metadata": {},
     "output_type": "execute_result"
    }
   ],
   "source": [
    "pts = pd.DataFrame(stats[stats[\"Week\"] != \"Season\"].groupby(\"Owner\").agg({\"pts_half_ppr\": np.mean}))\n",
    "pts"
   ]
  },
  {
   "cell_type": "code",
   "execution_count": 93,
   "metadata": {},
   "outputs": [
    {
     "ename": "KeyError",
     "evalue": "(nan, '', '', '', '', '', '')",
     "output_type": "error",
     "traceback": [
      "\u001b[1;31m---------------------------------------------------------------------------\u001b[0m",
      "\u001b[1;31mKeyError\u001b[0m                                  Traceback (most recent call last)",
      "\u001b[1;32m<ipython-input-93-a32e7b8a73b1>\u001b[0m in \u001b[0;36m<module>\u001b[1;34m\u001b[0m\n\u001b[1;32m----> 1\u001b[1;33m \u001b[0mfig\u001b[0m \u001b[1;33m=\u001b[0m \u001b[0mpx\u001b[0m\u001b[1;33m.\u001b[0m\u001b[0mline\u001b[0m\u001b[1;33m(\u001b[0m\u001b[0mstats\u001b[0m\u001b[1;33m,\u001b[0m \u001b[0mx\u001b[0m \u001b[1;33m=\u001b[0m \u001b[1;34m\"Week\"\u001b[0m\u001b[1;33m,\u001b[0m \u001b[0my\u001b[0m \u001b[1;33m=\u001b[0m \u001b[1;34m\"Owner\"\u001b[0m\u001b[1;33m,\u001b[0m \u001b[0mcolor\u001b[0m \u001b[1;33m=\u001b[0m \u001b[1;34m\"pts_half_ppr\"\u001b[0m\u001b[1;33m)\u001b[0m\u001b[1;33m\u001b[0m\u001b[1;33m\u001b[0m\u001b[0m\n\u001b[0m\u001b[0;32m      2\u001b[0m \u001b[0mfig\u001b[0m\u001b[1;33m.\u001b[0m\u001b[0mshow\u001b[0m\u001b[1;33m(\u001b[0m\u001b[1;33m)\u001b[0m\u001b[1;33m\u001b[0m\u001b[1;33m\u001b[0m\u001b[0m\n",
      "\u001b[1;32mC:\\ProgramData\\Anaconda3\\lib\\site-packages\\plotly\\express\\_chart_types.py\u001b[0m in \u001b[0;36mline\u001b[1;34m(data_frame, x, y, line_group, color, line_dash, symbol, hover_name, hover_data, custom_data, text, facet_row, facet_col, facet_col_wrap, facet_row_spacing, facet_col_spacing, error_x, error_x_minus, error_y, error_y_minus, animation_frame, animation_group, category_orders, labels, orientation, color_discrete_sequence, color_discrete_map, line_dash_sequence, line_dash_map, symbol_sequence, symbol_map, markers, log_x, log_y, range_x, range_y, line_shape, render_mode, title, template, width, height)\u001b[0m\n\u001b[0;32m    260\u001b[0m     \u001b[0ma\u001b[0m \u001b[0mpolyline\u001b[0m \u001b[0mmark\u001b[0m \u001b[1;32min\u001b[0m \u001b[1;36m2\u001b[0m\u001b[0mD\u001b[0m \u001b[0mspace\u001b[0m\u001b[1;33m.\u001b[0m\u001b[1;33m\u001b[0m\u001b[1;33m\u001b[0m\u001b[0m\n\u001b[0;32m    261\u001b[0m     \"\"\"\n\u001b[1;32m--> 262\u001b[1;33m     \u001b[1;32mreturn\u001b[0m \u001b[0mmake_figure\u001b[0m\u001b[1;33m(\u001b[0m\u001b[0margs\u001b[0m\u001b[1;33m=\u001b[0m\u001b[0mlocals\u001b[0m\u001b[1;33m(\u001b[0m\u001b[1;33m)\u001b[0m\u001b[1;33m,\u001b[0m \u001b[0mconstructor\u001b[0m\u001b[1;33m=\u001b[0m\u001b[0mgo\u001b[0m\u001b[1;33m.\u001b[0m\u001b[0mScatter\u001b[0m\u001b[1;33m)\u001b[0m\u001b[1;33m\u001b[0m\u001b[1;33m\u001b[0m\u001b[0m\n\u001b[0m\u001b[0;32m    263\u001b[0m \u001b[1;33m\u001b[0m\u001b[0m\n\u001b[0;32m    264\u001b[0m \u001b[1;33m\u001b[0m\u001b[0m\n",
      "\u001b[1;32mC:\\ProgramData\\Anaconda3\\lib\\site-packages\\plotly\\express\\_core.py\u001b[0m in \u001b[0;36mmake_figure\u001b[1;34m(args, constructor, trace_patch, layout_patch)\u001b[0m\n\u001b[0;32m   1986\u001b[0m     \u001b[0mfacet_col_wrap\u001b[0m \u001b[1;33m=\u001b[0m \u001b[0margs\u001b[0m\u001b[1;33m.\u001b[0m\u001b[0mget\u001b[0m\u001b[1;33m(\u001b[0m\u001b[1;34m\"facet_col_wrap\"\u001b[0m\u001b[1;33m,\u001b[0m \u001b[1;36m0\u001b[0m\u001b[1;33m)\u001b[0m\u001b[1;33m\u001b[0m\u001b[1;33m\u001b[0m\u001b[0m\n\u001b[0;32m   1987\u001b[0m     \u001b[1;32mfor\u001b[0m \u001b[0mgroup_name\u001b[0m \u001b[1;32min\u001b[0m \u001b[0msorted_group_names\u001b[0m\u001b[1;33m:\u001b[0m\u001b[1;33m\u001b[0m\u001b[1;33m\u001b[0m\u001b[0m\n\u001b[1;32m-> 1988\u001b[1;33m         \u001b[0mgroup\u001b[0m \u001b[1;33m=\u001b[0m \u001b[0mgrouped\u001b[0m\u001b[1;33m.\u001b[0m\u001b[0mget_group\u001b[0m\u001b[1;33m(\u001b[0m\u001b[0mgroup_name\u001b[0m \u001b[1;32mif\u001b[0m \u001b[0mlen\u001b[0m\u001b[1;33m(\u001b[0m\u001b[0mgroup_name\u001b[0m\u001b[1;33m)\u001b[0m \u001b[1;33m>\u001b[0m \u001b[1;36m1\u001b[0m \u001b[1;32melse\u001b[0m \u001b[0mgroup_name\u001b[0m\u001b[1;33m[\u001b[0m\u001b[1;36m0\u001b[0m\u001b[1;33m]\u001b[0m\u001b[1;33m)\u001b[0m\u001b[1;33m\u001b[0m\u001b[1;33m\u001b[0m\u001b[0m\n\u001b[0m\u001b[0;32m   1989\u001b[0m         \u001b[0mmapping_labels\u001b[0m \u001b[1;33m=\u001b[0m \u001b[0mOrderedDict\u001b[0m\u001b[1;33m(\u001b[0m\u001b[1;33m)\u001b[0m\u001b[1;33m\u001b[0m\u001b[1;33m\u001b[0m\u001b[0m\n\u001b[0;32m   1990\u001b[0m         \u001b[0mtrace_name_labels\u001b[0m \u001b[1;33m=\u001b[0m \u001b[0mOrderedDict\u001b[0m\u001b[1;33m(\u001b[0m\u001b[1;33m)\u001b[0m\u001b[1;33m\u001b[0m\u001b[1;33m\u001b[0m\u001b[0m\n",
      "\u001b[1;32mC:\\ProgramData\\Anaconda3\\lib\\site-packages\\pandas\\core\\groupby\\groupby.py\u001b[0m in \u001b[0;36mget_group\u001b[1;34m(self, name, obj)\u001b[0m\n\u001b[0;32m    685\u001b[0m         \u001b[0minds\u001b[0m \u001b[1;33m=\u001b[0m \u001b[0mself\u001b[0m\u001b[1;33m.\u001b[0m\u001b[0m_get_index\u001b[0m\u001b[1;33m(\u001b[0m\u001b[0mname\u001b[0m\u001b[1;33m)\u001b[0m\u001b[1;33m\u001b[0m\u001b[1;33m\u001b[0m\u001b[0m\n\u001b[0;32m    686\u001b[0m         \u001b[1;32mif\u001b[0m \u001b[1;32mnot\u001b[0m \u001b[0mlen\u001b[0m\u001b[1;33m(\u001b[0m\u001b[0minds\u001b[0m\u001b[1;33m)\u001b[0m\u001b[1;33m:\u001b[0m\u001b[1;33m\u001b[0m\u001b[1;33m\u001b[0m\u001b[0m\n\u001b[1;32m--> 687\u001b[1;33m             \u001b[1;32mraise\u001b[0m \u001b[0mKeyError\u001b[0m\u001b[1;33m(\u001b[0m\u001b[0mname\u001b[0m\u001b[1;33m)\u001b[0m\u001b[1;33m\u001b[0m\u001b[1;33m\u001b[0m\u001b[0m\n\u001b[0m\u001b[0;32m    688\u001b[0m \u001b[1;33m\u001b[0m\u001b[0m\n\u001b[0;32m    689\u001b[0m         \u001b[1;32mreturn\u001b[0m \u001b[0mobj\u001b[0m\u001b[1;33m.\u001b[0m\u001b[0m_take_with_is_copy\u001b[0m\u001b[1;33m(\u001b[0m\u001b[0minds\u001b[0m\u001b[1;33m,\u001b[0m \u001b[0maxis\u001b[0m\u001b[1;33m=\u001b[0m\u001b[0mself\u001b[0m\u001b[1;33m.\u001b[0m\u001b[0maxis\u001b[0m\u001b[1;33m)\u001b[0m\u001b[1;33m\u001b[0m\u001b[1;33m\u001b[0m\u001b[0m\n",
      "\u001b[1;31mKeyError\u001b[0m: (nan, '', '', '', '', '', '')"
     ]
    }
   ],
   "source": [
    "fig = px.line(stats, x = \"Week\", y = \"Owner\", color = \"pts_half_ppr\")\n",
    "fig.show()"
   ]
  }
 ],
 "metadata": {
  "kernelspec": {
   "display_name": "Python 3",
   "language": "python",
   "name": "python3"
  },
  "language_info": {
   "codemirror_mode": {
    "name": "ipython",
    "version": 3
   },
   "file_extension": ".py",
   "mimetype": "text/x-python",
   "name": "python",
   "nbconvert_exporter": "python",
   "pygments_lexer": "ipython3",
   "version": "3.8.5"
  }
 },
 "nbformat": 4,
 "nbformat_minor": 4
}
