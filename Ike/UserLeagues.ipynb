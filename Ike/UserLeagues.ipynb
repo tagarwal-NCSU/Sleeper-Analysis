{
 "cells": [
  {
   "cell_type": "code",
   "execution_count": 88,
   "metadata": {},
   "outputs": [],
   "source": [
    "import requests\n",
    "import pandas as pd"
   ]
  },
  {
   "cell_type": "code",
   "execution_count": 28,
   "metadata": {},
   "outputs": [],
   "source": [
    "# find user's sleeper username\n",
    "username = 'ikei'\n",
    "URL = f\"https://api.sleeper.app/v1/user/{username}\""
   ]
  },
  {
   "cell_type": "code",
   "execution_count": 29,
   "metadata": {},
   "outputs": [],
   "source": [
    "# find their corresponding sleeper user id\n",
    "response = requests.get(URL)\n",
    "user_id = response.json()\n",
    "user_id = user_id['user_id']"
   ]
  },
  {
   "cell_type": "code",
   "execution_count": 30,
   "metadata": {},
   "outputs": [],
   "source": [
    "# set season to 2021 to look at last year's response\n",
    "season = '2021'\n",
    "sport = 'nfl' #only sport currently possible for this API\n",
    "URL = f\"https://api.sleeper.app/v1/user/{user_id}/leagues/{sport}/{season}\""
   ]
  },
  {
   "cell_type": "code",
   "execution_count": 110,
   "metadata": {},
   "outputs": [],
   "source": [
    "# create json object of all their leagues\n",
    "response = requests.get(URL)\n",
    "leagues = response.json()"
   ]
  },
  {
   "cell_type": "code",
   "execution_count": 114,
   "metadata": {},
   "outputs": [],
   "source": [
    "# create loop to pull out just their league names\n",
    "df = []\n",
    "i = 0\n",
    "while i < length:\n",
    "    league_name = leagues[i]['name']\n",
    "    df.append(league_name)\n",
    "    i += 1    "
   ]
  },
  {
   "cell_type": "code",
   "execution_count": null,
   "metadata": {},
   "outputs": [],
   "source": []
  }
 ],
 "metadata": {
  "kernelspec": {
   "display_name": "Python 3",
   "language": "python",
   "name": "python3"
  },
  "language_info": {
   "codemirror_mode": {
    "name": "ipython",
    "version": 3
   },
   "file_extension": ".py",
   "mimetype": "text/x-python",
   "name": "python",
   "nbconvert_exporter": "python",
   "pygments_lexer": "ipython3",
   "version": "3.8.3"
  }
 },
 "nbformat": 4,
 "nbformat_minor": 4
}
